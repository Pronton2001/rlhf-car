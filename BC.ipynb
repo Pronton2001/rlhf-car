{
 "cells": [
  {
   "cell_type": "code",
   "execution_count": 1,
   "id": "1c2721a9",
   "metadata": {
    "tags": []
   },
   "outputs": [
    {
     "name": "stderr",
     "output_type": "stream",
     "text": [
      "\n"
     ]
    }
   ],
   "source": [
    "import matplotlib.pyplot as plt\n",
    "import numpy as np\n",
    "import torch\n",
    "from prettytable import PrettyTable\n",
    "\n",
    "from l5kit.configs import load_config_data\n",
    "from l5kit.data import LocalDataManager, ChunkedDataset\n",
    "\n",
    "from l5kit.dataset import EgoDatasetVectorized, EgoDataset\n",
    "from l5kit.vectorization.vectorizer_builder import build_vectorizer\n",
    "from l5kit.rasterization.rasterizer_builder import build_rasterizer\n",
    "\n",
    "from l5kit.simulation.dataset import SimulationConfig\n",
    "from l5kit.simulation.unroll import ClosedLoopSimulator\n",
    "from l5kit.cle.closed_loop_evaluator import ClosedLoopEvaluator, EvaluationPlan\n",
    "from l5kit.cle.metrics import (CollisionFrontMetric, CollisionRearMetric, CollisionSideMetric,\n",
    "                               DisplacementErrorL2Metric, DistanceToRefTrajectoryMetric)\n",
    "from l5kit.cle.validators import RangeValidator, ValidationCountingAggregator\n",
    "\n",
    "from l5kit.visualization.visualizer.zarr_utils import simulation_out_to_visualizer_scene\n",
    "from l5kit.visualization.visualizer.visualizer import visualize\n",
    "from bokeh.io import output_notebook, show\n",
    "from l5kit.data import MapAPI\n",
    "from l5kit.visualization.visualizer.zarr_utils import simulation_out_to_visualizer_scene\n",
    "\n",
    "from collections import defaultdict\n",
    "import os\n"
   ]
  },
  {
   "cell_type": "code",
   "execution_count": 2,
   "id": "e7cf6820",
   "metadata": {
    "tags": []
   },
   "outputs": [
    {
     "name": "stderr",
     "output_type": "stream",
     "text": [
      "/root/.local/share/virtualenvs/l5kit-ZbMednhg/lib/python3.8/site-packages/torch/serialization.py:779: UserWarning: 'torch.load' received a zip file that looks like a TorchScript archive dispatching to 'torch.jit.load' (call 'torch.jit.load' directly to silence this warning)\n",
      "  warnings.warn(\"'torch.load' received a zip file that looks like a TorchScript archive\"\n"
     ]
    },
    {
     "data": {
      "text/plain": [
       "<torch.autograd.grad_mode.set_grad_enabled at 0x7f9084425f70>"
      ]
     },
     "execution_count": 2,
     "metadata": {},
     "output_type": "execute_result"
    }
   ],
   "source": [
    "# set env variable for data\n",
    "from src.constant import SRC_PATH\n",
    "\n",
    "\n",
    "os.environ[\"L5KIT_DATA_FOLDER\"] = \"/workspace/datasets/\"\n",
    "dm = LocalDataManager(None)\n",
    "# get config\n",
    "cfg = load_config_data(f\"{SRC_PATH}src/configs/rasternet.yaml\")\n",
    "model_path = f\"{SRC_PATH}src/model/planning_model_20201208.pt\"\n",
    "# model_path = \"./BPTT.pt\"\n",
    "# device = torch.device(\"cuda:0\" if torch.cuda.is_available() else \"cpu\")\n",
    "device = 'cpu'\n",
    "model = torch.load(model_path)\n",
    "# model = SAC.load(\"/home/pronton/rl/l5kit/examples/RL/gg colabs/logs/SAC_640000_steps.zip\")\n",
    "model = model.eval()\n",
    "torch.set_grad_enabled(False)"
   ]
  },
  {
   "cell_type": "code",
   "execution_count": 3,
   "id": "1f77cbec",
   "metadata": {
    "tags": []
   },
   "outputs": [
    {
     "name": "stdout",
     "output_type": "stream",
     "text": [
      "+------------+------------+------------+---------------+-----------------+----------------------+----------------------+----------------------+---------------------+\n",
      "| Num Scenes | Num Frames | Num Agents | Num TR lights | Total Time (hr) | Avg Frames per Scene | Avg Agents per Frame | Avg Scene Time (sec) | Avg Frame frequency |\n",
      "+------------+------------+------------+---------------+-----------------+----------------------+----------------------+----------------------+---------------------+\n",
      "|   16220    |  4030296   | 312617887  |    29277930   |      111.97     |        248.48        |        77.57         |        24.85         |        10.00        |\n",
      "+------------+------------+------------+---------------+-----------------+----------------------+----------------------+----------------------+---------------------+\n"
     ]
    }
   ],
   "source": [
    "eval_cfg = cfg[\"val_data_loader\"]\n",
    "eval_zarr = ChunkedDataset(dm.require(eval_cfg[\"key\"])).open()\n",
    "# vectorizer = build_vectorizer(cfg, dm)\n",
    "# eval_dataset = EgoDatasetVectorized(cfg, eval_zarr, vectorizer)\n",
    "vectorizer = build_rasterizer(cfg, dm)\n",
    "eval_dataset = EgoDataset(cfg, eval_zarr, vectorizer)\n",
    "print(eval_dataset)\n",
    "num_scenes_to_unroll = 100\n",
    "num_simulation_steps = None"
   ]
  },
  {
   "cell_type": "code",
   "execution_count": 4,
   "id": "0d0bce86",
   "metadata": {
    "tags": []
   },
   "outputs": [],
   "source": [
    "# ==== DEFINE CLOSED-LOOP SIMULATION\n",
    "sim_cfg = SimulationConfig(use_ego_gt=False, use_agents_gt=True, disable_new_agents=True,\n",
    "                           distance_th_far=500, distance_th_close=50, num_simulation_steps=num_simulation_steps,\n",
    "                           start_frame_index=0, show_info=True)\n",
    "\n",
    "sim_loop = ClosedLoopSimulator(sim_cfg, eval_dataset, device, model_ego=model, model_agents=None)"
   ]
  },
  {
   "cell_type": "code",
   "execution_count": 5,
   "id": "e4ed6bf5",
   "metadata": {
    "tags": []
   },
   "outputs": [
    {
     "name": "stderr",
     "output_type": "stream",
     "text": [
      "/workspace/source/l5kit2/l5kit/l5kit/data/zarr_dataset.py:213: RuntimeWarning: zarr dataset path should end with .zarr (for now). Open will fail for this dataset!\n",
      "  dataset = ChunkedDataset(\"\")\n",
      "/workspace/source/l5kit2/l5kit/l5kit/simulation/utils.py:107: RuntimeWarning: zarr dataset path should end with .zarr (for now). Open will fail for this dataset!\n",
      "  new_dataset = ChunkedDataset(\"\")\n"
     ]
    },
    {
     "data": {
      "application/vnd.jupyter.widget-view+json": {
       "model_id": "2569b64a8daf49aeac58e9afae5dc395",
       "version_major": 2,
       "version_minor": 0
      },
      "text/plain": [
       "  0%|          | 0/248 [00:00<?, ?it/s]"
      ]
     },
     "metadata": {},
     "output_type": "display_data"
    },
    {
     "name": "stderr",
     "output_type": "stream",
     "text": [
      "/root/.local/share/virtualenvs/l5kit-ZbMednhg/lib/python3.8/site-packages/torch/nn/modules/module.py:1190: UserWarning: operator() profile_node %2261 : int[] = prim::profile_ivalue(%2259)\n",
      " does not have profile information (Triggered internally at ../torch/csrc/jit/codegen/cuda/graph_fuser.cpp:105.)\n",
      "  return forward_call(*input, **kwargs)\n"
     ]
    }
   ],
   "source": [
    "# ==== UNROLL\n",
    "# sample 100 scenes at equally part of the whole 16220 scenes\n",
    "scenes_to_unroll = list(range(0, len(eval_zarr.scenes), len(eval_zarr.scenes)//num_scenes_to_unroll))\n",
    "sim_outs = sim_loop.unroll(scenes_to_unroll)"
   ]
  },
  {
   "cell_type": "code",
   "execution_count": 6,
   "id": "13912ba0",
   "metadata": {
    "tags": []
   },
   "outputs": [
    {
     "name": "stdout",
     "output_type": "stream",
     "text": [
      "+----------+----------+----------+----------+-----+-----+--------+----------+\n",
      "| scene_id |   FDE    |   ADE    |   DRT    |  CF |  CR |   CS   |   PEGO   |\n",
      "+----------+----------+----------+----------+-----+-----+--------+----------+\n",
      "|    0     | 42.6998  |  9.4956  |  0.4624  | 0.0 | 0.0 |  0.0   |  1.9035  |\n",
      "|   162    |  5.6234  |  0.8245  |  0.2388  | 0.0 | 0.0 |  0.0   |  1.3318  |\n",
      "|   324    | 14.4699  |  2.7124  |  0.1969  | 0.0 | 0.0 |  0.0   |  2.3136  |\n",
      "|   486    |  5.9491  |  3.3278  |  0.4966  | 0.0 | 0.0 |  0.0   |  1.0293  |\n",
      "|   648    |  0.0006  |  0.0006  |  0.0005  | 0.0 | 0.0 |  0.0   |   0.0    |\n",
      "|   810    |  1.314   |  1.9947  |  0.0548  | 0.0 | 0.0 |  0.0   |  1.131   |\n",
      "|   972    |  3.5016  |  2.6971  |  0.2042  | 0.0 | 0.0 |  0.0   |  0.1866  |\n",
      "|   1134   | 24.0281  | 10.0546  |  0.308   | 0.0 | 0.0 |  1.0   | -2.0106  |\n",
      "|   1296   |   0.0    |   0.0    |   0.0    | 0.0 | 0.0 |  0.0   |   0.0    |\n",
      "|   1458   | 20.3496  |  2.2075  |  0.0406  | 0.0 | 0.0 |  0.0   |  3.6366  |\n",
      "|   1620   |  9.0164  |   2.62   |  0.1868  | 0.0 | 0.0 |  0.0   |  0.1194  |\n",
      "|   1782   | 11.3568  |  6.0343  |  0.3636  | 0.0 | 0.0 |  0.0   | -0.0788  |\n",
      "|   1944   |  0.0013  |  0.0006  |  0.0008  | 0.0 | 0.0 |  0.0   |   0.0    |\n",
      "|   2106   |  0.1628  |  0.3111  |  0.4028  | 0.0 | 0.0 |  0.0   |  0.0726  |\n",
      "|   2268   | 36.8247  |  5.4093  |  0.3389  | 0.0 | 0.0 |  0.0   |  6.3627  |\n",
      "|   2430   | 33.5318  |  5.0087  |  0.0443  | 0.0 | 0.0 |  0.0   | -4.8685  |\n",
      "|   2592   |  0.0009  |  0.0003  |  0.0004  | 0.0 | 0.0 |  0.0   |   0.0    |\n",
      "|   2754   | 128.564  | 50.3604  | 71.9607  | 0.0 | 0.0 |  0.0   |  3.7925  |\n",
      "|   2916   |  1.558   |  0.8573  |  0.335   | 0.0 | 0.0 |  0.0   |  0.0198  |\n",
      "|   3078   |  1.7256  |  0.4561  |  0.6038  | 0.0 | 0.0 |  0.0   |  0.7781  |\n",
      "|   3240   |  1.9932  |  0.9722  |  0.3669  | 0.0 | 0.0 |  0.0   | -0.0511  |\n",
      "|   3402   | 19.1868  |  3.0503  |  0.5806  | 0.0 | 0.0 |  0.0   |  3.6859  |\n",
      "|   3564   | 113.2045 | 57.2583  | 104.2477 | 0.0 | 0.0 |  0.0   |  0.0027  |\n",
      "|   3726   | 94.1063  | 22.1709  |  0.1326  | 0.0 | 0.0 |  0.0   | -8.1698  |\n",
      "|   3888   |  2.3145  |  1.2306  |  0.5061  | 0.0 | 0.0 |  0.0   |  0.029   |\n",
      "|   4050   | 15.4866  | 11.2246  |  0.211   | 0.0 | 0.0 |  0.0   |  3.6414  |\n",
      "|   4212   | 47.7666  | 12.9105  |  0.3252  | 0.0 | 0.0 |  0.0   | -1.6445  |\n",
      "|   4374   |  1.2624  |  1.3155  |  0.2414  | 0.0 | 0.0 |  0.0   |  0.1382  |\n",
      "|   4536   | 35.3527  |  5.5232  |  0.1334  | 0.0 | 0.0 |  1.0   |  -6.966  |\n",
      "|   4698   |  4.635   |  3.3423  |  0.6043  | 0.0 | 0.0 |  0.0   | -0.1189  |\n",
      "|   4860   |  1.0822  |  0.9436  |  0.0518  | 0.0 | 0.0 |  0.0   |  0.0127  |\n",
      "|   5022   |  5.2007  |  2.4885  |  0.1055  | 0.0 | 0.0 |  0.0   | -1.1999  |\n",
      "|   5184   | 288.1634 | 135.3838 | 228.5072 | 0.0 | 0.0 |  0.0   | 13.3099  |\n",
      "|   5346   |  40.094  | 18.0411  |  0.5627  | 0.0 | 0.0 |  0.0   | -1.8566  |\n",
      "|   5508   | 50.4932  | 27.0661  |  0.3838  | 0.0 | 0.0 |  0.0   |  0.4262  |\n",
      "|   5670   |  0.5103  |  0.4714  |  0.617   | 0.0 | 0.0 |  0.0   |  0.0119  |\n",
      "|   5832   |  4.6253  |  2.1029  |  0.5006  | 0.0 | 0.0 |  0.0   | -0.2747  |\n",
      "|   5994   |  4.7545  |  3.1999  |  0.167   | 0.0 | 0.0 |  0.0   |  -0.339  |\n",
      "|   6156   |  4.8873  |  2.2322  |  0.5673  | 0.0 | 0.0 |  0.0   |  3.1207  |\n",
      "|   6318   |   0.0    |   0.0    |   0.0    | 0.0 | 0.0 |  0.0   |   0.0    |\n",
      "|   6480   |  4.3805  |  3.025   |  0.4265  | 0.0 | 0.0 |  0.0   |   0.06   |\n",
      "|   6642   |  0.3751  |  0.4823  |  0.0793  | 0.0 | 0.0 |  0.0   |  0.0024  |\n",
      "|   6804   |   0.0    |   0.0    |   0.0    | 0.0 | 0.0 |  0.0   |   0.0    |\n",
      "|   6966   |  0.0039  |  0.0018  |  0.0034  | 0.0 | 0.0 |  0.0   |   0.0    |\n",
      "|   7128   |  0.0217  |  0.0194  |  0.008   | 0.0 | 0.0 |  0.0   |   0.0    |\n",
      "|   7290   |  3.0649  |  2.2193  |  0.4364  | 0.0 | 0.0 |  0.0   |  0.9024  |\n",
      "|   7452   |  0.3293  |  0.4024  |  0.5698  | 0.0 | 0.0 |  0.0   | -0.0745  |\n",
      "|   7614   | 29.5779  | 19.2087  |  0.4094  | 0.0 | 0.0 |  0.0   | -0.5725  |\n",
      "|   7776   |  1.9506  |  1.1164  |  0.2356  | 0.0 | 0.0 |  0.0   | -0.0442  |\n",
      "|   7938   |  8.3378  |  4.6543  |  8.2882  | 0.0 | 0.0 |  0.0   |   0.0    |\n",
      "|   8100   | 18.2701  |  9.4775  |  0.1555  | 0.0 | 0.0 |  0.0   |  0.1011  |\n",
      "|   8262   |  2.7036  |  1.7923  |  0.5436  | 0.0 | 0.0 |  0.0   |  0.1465  |\n",
      "|   8424   | 17.8167  |  3.1545  |  0.1007  | 0.0 | 0.0 |  0.0   |  0.5345  |\n",
      "|   8586   | 87.6647  | 44.8172  | 34.7675  | 0.0 | 0.0 |  0.0   |  3.2743  |\n",
      "|   8748   |  5.2218  |  2.1406  |  0.3206  | 0.0 | 0.0 |  0.0   | -0.4717  |\n",
      "|   8910   |  0.4798  |  0.2086  |  0.2385  | 0.0 | 0.0 |  0.0   | -0.1053  |\n",
      "|   9072   |  0.0196  |  0.6976  |  0.0618  | 0.0 | 0.0 |  0.0   | -0.6114  |\n",
      "|   9234   |   0.0    |   0.0    |   0.0    | 0.0 | 0.0 |  0.0   |   0.0    |\n",
      "|   9396   |  0.2652  |  0.2578  |  0.0343  | 0.0 | 0.0 |  0.0   |   0.0    |\n",
      "|   9558   |   0.0    |   0.0    |   0.0    | 0.0 | 0.0 |  0.0   |   0.0    |\n",
      "|   9720   |   0.0    |   0.0    |   0.0    | 0.0 | 0.0 |  0.0   |   0.0    |\n",
      "|   9882   |  1.556   |  1.0414  |  0.0422  | 0.0 | 0.0 |  0.0   | -0.2794  |\n",
      "|  10044   | 85.2827  | 49.3871  | 20.7974  | 0.0 | 0.0 |  0.0   |  1.095   |\n",
      "|  10206   |  2.4078  |  1.6026  |  0.4625  | 0.0 | 0.0 |  0.0   |  0.0266  |\n",
      "|  10368   |  0.2518  |  0.3373  |  0.0555  | 0.0 | 0.0 |  0.0   |   0.0    |\n",
      "|  10530   |  3.1102  |  0.8369  |  0.0688  | 0.0 | 0.0 |  0.0   | -0.4697  |\n",
      "|  10692   |   0.0    |   0.0    |   0.0    | 0.0 | 0.0 |  0.0   |   0.0    |\n",
      "|  10854   |  0.4084  |  1.2655  |  0.3327  | 0.0 | 0.0 |  0.0   |  0.0223  |\n",
      "|  11016   |  0.261   |  0.2459  |  0.0644  | 0.0 | 0.0 |  0.0   |   0.0    |\n",
      "|  11178   |  5.3078  |  5.154   |  0.3585  | 0.0 | 0.0 |  0.0   |  -0.147  |\n",
      "|  11340   |  1.6624  |  1.0358  |  0.1062  | 0.0 | 0.0 |  0.0   | -0.2517  |\n",
      "|  11502   | 20.6896  |  10.871  |  0.5777  | 0.0 | 0.0 |  0.0   | -0.4327  |\n",
      "|  11664   | 11.6139  |  9.9201  |  0.285   | 0.0 | 0.0 |  0.0   | -0.1771  |\n",
      "|  11826   |  1.4815  |  0.6355  |  0.2691  | 0.0 | 0.0 |  0.0   |  -0.085  |\n",
      "|  11988   |  0.0063  |  0.0003  |  0.0006  | 0.0 | 0.0 |  0.0   |  0.0598  |\n",
      "|  12150   |  9.6438  |  7.6286  |  0.4268  | 0.0 | 0.0 |  0.0   | -0.3266  |\n",
      "|  12312   | 44.7485  |  23.579  |  0.5013  | 0.0 | 0.0 |  0.0   |  1.5777  |\n",
      "|  12474   |  0.028   |  0.034   |  0.0257  | 0.0 | 0.0 |  0.0   |   0.0    |\n",
      "|  12636   |  9.2951  |  1.368   |  0.0349  | 0.0 | 0.0 |  1.0   | -2.9585  |\n",
      "|  12798   |  0.1938  |  4.3931  |  0.1933  | 0.0 | 0.0 |  0.0   |   0.0    |\n",
      "|  12960   |  0.094   |  0.0016  |  0.0002  | 0.0 | 0.0 |  0.0   | -0.2498  |\n",
      "|  13122   |  0.869   |  0.4391  |  0.2335  | 0.0 | 0.0 |  0.0   | -0.2708  |\n",
      "|  13284   |  5.5158  |  6.2129  |  0.2429  | 0.0 | 0.0 |  0.0   |  0.0123  |\n",
      "|  13446   |  0.0299  |  0.057   |  0.0299  | 0.0 | 0.0 |  0.0   |   0.0    |\n",
      "|  13608   | 95.5442  |  39.816  |  0.3778  | 0.0 | 0.0 |  0.0   | -1.0716  |\n",
      "|  13770   |  0.1299  |  2.105   |  0.3034  | 0.0 | 0.0 |  0.0   |  0.1645  |\n",
      "|  13932   |  6.2909  |  4.1816  |  0.3567  | 0.0 | 0.0 |  0.0   | -0.8822  |\n",
      "|  14094   | 24.5858  |  3.699   |  0.0313  | 0.0 | 0.0 |  0.0   | -4.2556  |\n",
      "|  14256   | 15.5931  |  6.2796  |  0.221   | 0.0 | 0.0 |  0.0   | -1.7586  |\n",
      "|  14418   |  2.5192  |  2.5991  |  0.2807  | 0.0 | 0.0 |  0.0   |  1.4077  |\n",
      "|  14580   | 30.1031  |  12.941  |  0.7468  | 0.0 | 0.0 |  0.0   |  1.7484  |\n",
      "|  14742   | 118.6692 | 66.8706  |  0.2819  | 0.0 | 0.0 |  0.0   |  3.727   |\n",
      "|  14904   |  1.7249  |  0.7062  |  0.2084  | 0.0 | 0.0 |  0.0   | -0.3144  |\n",
      "|  15066   |  3.8317  |  3.2053  |  0.0586  | 0.0 | 0.0 |  0.0   |  0.0328  |\n",
      "|  15228   | 90.9071  | 14.6571  |  0.0299  | 0.0 | 0.0 |  0.0   | -13.2001 |\n",
      "|  15390   |  0.0064  |  0.0045  |  0.0064  | 0.0 | 0.0 |  0.0   |   0.0    |\n",
      "|  15552   |  65.508  | 24.9805  |  0.3152  | 0.0 | 0.0 |  0.0   |  0.424   |\n",
      "|  15714   |  0.9415  |  0.4053  |  0.6637  | 0.0 | 0.0 |  0.0   | -0.1363  |\n",
      "|  15876   |  0.0006  |  0.0006  |  0.0006  | 0.0 | 0.0 |  0.0   |   0.0    |\n",
      "|  16038   |  1.1761  |  0.545   |  0.5312  | 0.0 | 0.0 |  0.0   | -0.0916  |\n",
      "|  16200   | 19.2004  |  3.0359  |  0.3884  | 0.0 | 0.0 |  1.0   |  -2.013  |\n",
      "| Overall  | 19.1829  |  8.1293  |  4.8677  | 0.0 | 0.0 | 0.0396 |  0.0351  |\n",
      "+----------+----------+----------+----------+-----+-----+--------+----------+\n"
     ]
    }
   ],
   "source": [
    "from src.validate.validator import compute_ade_fde, quantify_outputs\n",
    "ades, fdes = compute_ade_fde(sim_outs)\n",
    "quantify_outputs(sim_outs)"
   ]
  },
  {
   "cell_type": "code",
   "execution_count": 7,
   "id": "fb73b586",
   "metadata": {
    "tags": []
   },
   "outputs": [
    {
     "name": "stdout",
     "output_type": "stream",
     "text": [
      "8.13 18.01 67.69\n",
      "19.18 39.26 144.08\n",
      "Top worst scence based on ade:[32, 91, 22, 17, 62, 53, 84, 34, 96, 76]\n",
      "Top best scence based on ade:[66, 60, 59, 57, 42, 39, 8, 16, 74]\n",
      "Top worst scence based on fde:[32, 17, 91, 22, 84, 23, 94, 53, 62, 96]\n",
      "Top best scence based on fde:[66, 60, 59, 57, 42, 39, 8, 98, 4]\n"
     ]
    }
   ],
   "source": [
    "import numpy as np\n",
    "print(round(np.mean(ades),2), round((np.std(ades)),2) ,round((np.max(ades) - np.min(ades))/2,2))\n",
    "print(round(np.mean(fdes),2), round((np.std(fdes)),2) ,round((np.max(fdes) - np.min(fdes))/2,2))\n",
    "sorted_ades_idx = sorted(range(len(ades)), key=lambda i: ades[i], reverse=True)\n",
    "sorted_fdes_idx = sorted(range(len(fdes)), key=lambda i: fdes[i], reverse=True)\n",
    "# sorted(range(len(ades)), key=lambda i: ades[i])[-10:]\n",
    "print(f'Top worst scence based on ade:{sorted_ades_idx[:10]}')\n",
    "print(f'Top best scence based on ade:{sorted_ades_idx[:-10:-1]}')\n",
    "print(f'Top worst scence based on fde:{sorted_fdes_idx[:10]}')\n",
    "print(f'Top best scence based on fde:{sorted_fdes_idx[:-10:-1]}')"
   ]
  },
  {
   "cell_type": "code",
   "execution_count": 8,
   "id": "2fe9545f",
   "metadata": {
    "tags": []
   },
   "outputs": [
    {
     "name": "stdout",
     "output_type": "stream",
     "text": [
      "+-------------------------+-------+\n",
      "|          metric         | value |\n",
      "+-------------------------+-------+\n",
      "|  displacement_error_l2  |   12  |\n",
      "| distance_ref_trajectory |   3   |\n",
      "|     collision_front     |   0   |\n",
      "|      collision_rear     |   10  |\n",
      "|      collision_side     |   1   |\n",
      "+-------------------------+-------+\n"
     ]
    },
    {
     "data": {
      "image/png": "[encoded data removed]",
      "text/plain": [
       "<Figure size 432x288 with 1 Axes>"
      ]
     },
     "metadata": {
      "needs_background": "light"
     },
     "output_type": "display_data"
    }
   ],
   "source": [
    "from src.validate.validator import CLEValidator\n",
    "import matplotlib.pyplot as plt\n",
    "import numpy as np\n",
    "\n",
    "agg = CLEValidator(sim_outs)\n",
    "fields = [\"metric\", \"value\"]\n",
    "table = PrettyTable(field_names=fields)\n",
    "\n",
    "values = []\n",
    "names = []\n",
    "\n",
    "for metric_name in agg:\n",
    "    table.add_row([metric_name, agg[metric_name].item()])\n",
    "    values.append(agg[metric_name].item())\n",
    "    names.append(metric_name)\n",
    "\n",
    "print(table)\n",
    "\n",
    "plt.bar(np.arange(len(names)), values)\n",
    "plt.xticks(np.arange(len(names)), names, rotation=60, ha='right')\n",
    "plt.show()"
   ]
  },
  {
   "cell_type": "code",
   "execution_count": null,
   "metadata": {
    "tags": []
   },
   "outputs": [],
   "source": [
    "# might change with different rasterizer\n",
    "mapAPI = MapAPI.from_cfg(dm, cfg)\n",
    "\n",
    "def visualize_outputs(sim_outs, map_API):\n",
    "    for sim_out in sim_outs: # for each scene\n",
    "        vis_in = simulation_out_to_visualizer_scene(sim_out, map_API)\n",
    "        # print(vis_in)\n",
    "        # break\n",
    "        show(visualize(sim_out.scene_id, vis_in))\n",
    "\n",
    "output_notebook()"
   ]
  },
  {
   "cell_type": "markdown",
   "metadata": {},
   "source": [
    "### Best ade"
   ]
  },
  {
   "cell_type": "code",
   "execution_count": null,
   "metadata": {
    "tags": []
   },
   "outputs": [],
   "source": [
    "# might change with different rasterizer\n",
    "\n",
    "mapAPI = MapAPI.from_cfg(dm, cfg)\n",
    "sim_outs_selected = [sim_outs[i] for i in sorted_ades_idx[-3:-1]]\n",
    "visualize_outputs(sim_outs_selected, mapAPI)"
   ]
  },
  {
   "cell_type": "markdown",
   "metadata": {},
   "source": [
    "### Worst ade"
   ]
  },
  {
   "cell_type": "code",
   "execution_count": null,
   "metadata": {
    "tags": []
   },
   "outputs": [],
   "source": [
    "# might change with different rasterizer\n",
    "mapAPI = MapAPI.from_cfg(dm, cfg)\n",
    "sim_outs_selected = [sim_outs[i] for i in sorted_ades_idx[:3]]\n",
    "visualize_outputs(sim_outs_selected, mapAPI)"
   ]
  }
 ],
 "metadata": {
  "kernelspec": {
   "display_name": "Python 3",
   "language": "python",
   "name": "python3"
  },
  "language_info": {
   "codemirror_mode": {
    "name": "ipython",
    "version": 3
   },
   "file_extension": ".py",
   "mimetype": "text/x-python",
   "name": "python",
   "nbconvert_exporter": "python",
   "pygments_lexer": "ipython3",
   "version": "3.7.7"
  }
 },
 "nbformat": 4,
 "nbformat_minor": 5
}
