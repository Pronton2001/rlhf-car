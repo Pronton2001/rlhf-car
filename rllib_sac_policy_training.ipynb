{
 "cells": [
  {
   "cell_type": "markdown",
   "id": "430d5435",
   "metadata": {
    "id": "f7f64953"
   },
   "source": [
    "### Training RL Policies using L5Kit Closed-Loop Environment\n",
    "\n",
    "This notebook describes how to train RL policies for self-driving using our gym-compatible closed-loop environment.\n",
    "\n",
    "We will be using [Proximal Policy Optimization (PPO)](https://arxiv.org/abs/1707.06347) algorithm as our reinforcement learning algorithm, as it not only demonstrates remarkable performance but it is also empirically easy to tune.\n",
    "\n",
    "The PPO implementation in this notebook is based on [Stable Baselines3](https://github.com/DLR-RM/stable-baselines3) framework, a popular framework for training RL policies. Note that our environment is also compatible with [RLlib](https://docs.ray.io/en/latest/rllib.html), another popular frameworks for the same."
   ]
  },
  {
   "cell_type": "markdown",
   "id": "fd5501b1",
   "metadata": {
    "id": "ulK_RDB4e_gx"
   },
   "source": [
    "ref: \n",
    "([rllib] Best workflow to train, save, and test agent #9123\n",
    ")[https://github.com/ray-project/ray/issues/9123]"
   ]
  },
  {
   "cell_type": "code",
   "execution_count": 1,
   "id": "f1bbc82f",
   "metadata": {
    "colab": {
     "base_uri": "https://localhost:8080/"
    },
    "id": "smZ0MKsHE2_s",
    "outputId": "631f2d2d-38ee-45ba-f658-b7d11c59139b",
    "tags": []
   },
   "outputs": [],
   "source": [
    "import os\n",
    "os.environ[\"L5KIT_DATA_FOLDER\"] = '/workspace/datasets'\n",
    "# os.environ['CUDA_VISIBLE_DEVICES']= '1'"
   ]
  },
  {
   "cell_type": "code",
   "execution_count": 2,
   "id": "521ffe0e",
   "metadata": {
    "id": "585b1fe7",
    "tags": []
   },
   "outputs": [
    {
     "name": "stderr",
     "output_type": "stream",
     "text": [
      "\n"
     ]
    }
   ],
   "source": [
    "import gym\n",
    "\n",
    "# from stable_baselines3 import PPO\n",
    "# from stable_baselines3.common.callbacks import CheckpointCallback\n",
    "# from stable_baselines3.common.env_util import make_vec_env\n",
    "# from stable_baselines3.common.utils import get_linear_fn\n",
    "# from stable_baselines3.common.vec_env import SubprocVecEnv\n",
    "\n",
    "from l5kit.configs import load_config_data\n",
    "# from l5kit.environment.feature_extractor import CustomFeatureExtractor\n",
    "# from l5kit.environment.callbacks import L5KitEvalCallback\n",
    "from l5kit.environment.envs.l5_env import SimulationConfigGym, GymStepOutput, L5Env\n",
    "\n",
    "from l5kit.visualization.visualizer.zarr_utils import episode_out_to_visualizer_scene_gym_cle\n",
    "from l5kit.visualization.visualizer.visualizer import visualize\n",
    "from bokeh.io import output_notebook, show\n",
    "from l5kit.environment.gym_metric_set import L2DisplacementYawMetricSet, CLEMetricSet\n",
    "from prettytable import PrettyTable\n",
    "import datetime\n",
    "from ray.rllib.models import ModelCatalog\n",
    "from ray.rllib.models.torch.torch_modelv2 import TorchModelV2\n",
    "import torch.nn as nn\n",
    "import numpy as np\n",
    "import gym\n",
    "from typing import Dict\n",
    "import numpy as np\n",
    "import ray\n",
    "import pytz\n"
   ]
  },
  {
   "cell_type": "markdown",
   "id": "9dd8e8a2",
   "metadata": {
    "id": "xHfH5HGWoTD7",
    "tags": []
   },
   "source": [
    "## Init ray and env"
   ]
  },
  {
   "cell_type": "code",
   "execution_count": 3,
   "id": "f36f70ad",
   "metadata": {
    "id": "2ea81f77",
    "tags": []
   },
   "outputs": [],
   "source": [
    "# Dataset is assumed to be on the folder specified\n",
    "# in the L5KIT_DATA_FOLDER environment variable\n",
    "from l5kit.configs import load_config_data\n",
    "\n",
    "# get environment config\n",
    "env_config_path = 'src/configs/gym_config84.yaml'\n",
    "cfg = load_config_data(env_config_path)\n"
   ]
  },
  {
   "cell_type": "code",
   "execution_count": 4,
   "id": "f58e7093-60b8-40d4-be53-6f2091437d0e",
   "metadata": {
    "tags": []
   },
   "outputs": [
    {
     "name": "stderr",
     "output_type": "stream",
     "text": [
      "2023-04-24 01:23:57,053\tWARNING services.py:1732 -- WARNING: The object store is using /tmp instead of /dev/shm because /dev/shm has only 67092480 bytes available. This will harm performance! You may be able to free up space by deleting files in /dev/shm. If you are inside a Docker container, you can increase /dev/shm size by passing '--shm-size=10.24gb' to 'docker run' (or add it to the run_options list in a Ray cluster config). Make sure to set this to more than 30% of available RAM.\n",
      "2023-04-24 01:23:58,106\tINFO worker.py:1538 -- Started a local Ray instance.\n"
     ]
    },
    {
     "data": {
      "text/html": [
       "<div>\n",
       "    <div style=\"margin-left: 50px;display: flex;flex-direction: row;align-items: center\">\n",
       "        <h3 style=\"color: var(--jp-ui-font-color0)\">Ray</h3>\n",
       "        <svg version=\"1.1\" id=\"ray\" width=\"3em\" viewBox=\"0 0 144.5 144.6\" style=\"margin-left: 3em;margin-right: 3em\">\n",
       "            <g id=\"layer-1\">\n",
       "                <path fill=\"#00a2e9\" class=\"st0\" d=\"M97.3,77.2c-3.8-1.1-6.2,0.9-8.3,5.1c-3.5,6.8-9.9,9.9-17.4,9.6S58,88.1,54.8,81.2c-1.4-3-3-4-6.3-4.1\n",
       "                    c-5.6-0.1-9.9,0.1-13.1,6.4c-3.8,7.6-13.6,10.2-21.8,7.6C5.2,88.4-0.4,80.5,0,71.7c0.1-8.4,5.7-15.8,13.8-18.2\n",
       "                    c8.4-2.6,17.5,0.7,22.3,8c1.3,1.9,1.3,5.2,3.6,5.6c3.9,0.6,8,0.2,12,0.2c1.8,0,1.9-1.6,2.4-2.8c3.5-7.8,9.7-11.8,18-11.9\n",
       "                    c8.2-0.1,14.4,3.9,17.8,11.4c1.3,2.8,2.9,3.6,5.7,3.3c1-0.1,2,0.1,3,0c2.8-0.5,6.4,1.7,8.1-2.7s-2.3-5.5-4.1-7.5\n",
       "                    c-5.1-5.7-10.9-10.8-16.1-16.3C84,38,81.9,37.1,78,38.3C66.7,42,56.2,35.7,53,24.1C50.3,14,57.3,2.8,67.7,0.5\n",
       "                    C78.4-2,89,4.7,91.5,15.3c0.1,0.3,0.1,0.5,0.2,0.8c0.7,3.4,0.7,6.9-0.8,9.8c-1.7,3.2-0.8,5,1.5,7.2c6.7,6.5,13.3,13,19.8,19.7\n",
       "                    c1.8,1.8,3,2.1,5.5,1.2c9.1-3.4,17.9-0.6,23.4,7c4.8,6.9,4.6,16.1-0.4,22.9c-5.4,7.2-14.2,9.9-23.1,6.5c-2.3-0.9-3.5-0.6-5.1,1.1\n",
       "                    c-6.7,6.9-13.6,13.7-20.5,20.4c-1.8,1.8-2.5,3.2-1.4,5.9c3.5,8.7,0.3,18.6-7.7,23.6c-7.9,5-18.2,3.8-24.8-2.9\n",
       "                    c-6.4-6.4-7.4-16.2-2.5-24.3c4.9-7.8,14.5-11,23.1-7.8c3,1.1,4.7,0.5,6.9-1.7C91.7,98.4,98,92.3,104.2,86c1.6-1.6,4.1-2.7,2.6-6.2\n",
       "                    c-1.4-3.3-3.8-2.5-6.2-2.6C99.8,77.2,98.9,77.2,97.3,77.2z M72.1,29.7c5.5,0.1,9.9-4.3,10-9.8c0-0.1,0-0.2,0-0.3\n",
       "                    C81.8,14,77,9.8,71.5,10.2c-5,0.3-9,4.2-9.3,9.2c-0.2,5.5,4,10.1,9.5,10.3C71.8,29.7,72,29.7,72.1,29.7z M72.3,62.3\n",
       "                    c-5.4-0.1-9.9,4.2-10.1,9.7c0,0.2,0,0.3,0,0.5c0.2,5.4,4.5,9.7,9.9,10c5.1,0.1,9.9-4.7,10.1-9.8c0.2-5.5-4-10-9.5-10.3\n",
       "                    C72.6,62.3,72.4,62.3,72.3,62.3z M115,72.5c0.1,5.4,4.5,9.7,9.8,9.9c5.6-0.2,10-4.8,10-10.4c-0.2-5.4-4.6-9.7-10-9.7\n",
       "                    c-5.3-0.1-9.8,4.2-9.9,9.5C115,72.1,115,72.3,115,72.5z M19.5,62.3c-5.4,0.1-9.8,4.4-10,9.8c-0.1,5.1,5.2,10.4,10.2,10.3\n",
       "                    c5.6-0.2,10-4.9,9.8-10.5c-0.1-5.4-4.5-9.7-9.9-9.6C19.6,62.3,19.5,62.3,19.5,62.3z M71.8,134.6c5.9,0.2,10.3-3.9,10.4-9.6\n",
       "                    c0.5-5.5-3.6-10.4-9.1-10.8c-5.5-0.5-10.4,3.6-10.8,9.1c0,0.5,0,0.9,0,1.4c-0.2,5.3,4,9.8,9.3,10\n",
       "                    C71.6,134.6,71.7,134.6,71.8,134.6z\"/>\n",
       "            </g>\n",
       "        </svg>\n",
       "        <table>\n",
       "            <tr>\n",
       "                <td style=\"text-align: left\"><b>Python version:</b></td>\n",
       "                <td style=\"text-align: left\"><b>3.8.10</b></td>\n",
       "            </tr>\n",
       "            <tr>\n",
       "                <td style=\"text-align: left\"><b>Ray version:</b></td>\n",
       "                <td style=\"text-align: left\"><b> 2.2.0</b></td>\n",
       "            </tr>\n",
       "            \n",
       "        </table>\n",
       "    </div>\n",
       "</div>\n"
      ],
      "text/plain": [
       "RayContext(dashboard_url='', python_version='3.8.10', ray_version='2.2.0', ray_commit='b6af0887ee5f2e460202133791ad941a41f15beb', address_info={'node_ip_address': '172.17.0.2', 'raylet_ip_address': '172.17.0.2', 'redis_address': None, 'object_store_address': '/tmp/ray/session_2023-04-24_01-23-55_279848_3563683/sockets/plasma_store', 'raylet_socket_name': '/tmp/ray/session_2023-04-24_01-23-55_279848_3563683/sockets/raylet', 'webui_url': '', 'session_dir': '/tmp/ray/session_2023-04-24_01-23-55_279848_3563683', 'metrics_export_port': 63309, 'gcs_address': '172.17.0.2:62115', 'address': '172.17.0.2:62115', 'dashboard_agent_listen_port': 52365, 'node_id': '7554ece9c4524c5b7caa8259562ed35adda50d5fcd4af419e0efadc6'})"
      ]
     },
     "execution_count": 4,
     "metadata": {},
     "output_type": "execute_result"
    }
   ],
   "source": [
    "\n",
    "\n",
    "ray.init(num_cpus=5, ignore_reinit_error=True, log_to_driver=False)"
   ]
  },
  {
   "cell_type": "markdown",
   "id": "5f59594b",
   "metadata": {
    "id": "eBwt9neMoj9h",
    "tags": []
   },
   "source": [
    "## Customize my model\n",
    "SAC: https://github.com/ray-project/ray/blob/dfb9689701361cfd18f383e0a3edeed6baf81abb/rllib/agents/sac/sac_torch_model.py"
   ]
  },
  {
   "cell_type": "markdown",
   "id": "862fdd05",
   "metadata": {
    "id": "2cead394"
   },
   "source": [
    "## Define Training and Evaluation Environments\n",
    "\n",
    "**Training**: We will be training the PPO policy on episodes of length 32 time-steps. We will have 4 sub-processes (training environments) that will help to parallelize and speeden up episode rollouts. The *SimConfig* dataclass will define the parameters of the episode rollout: like length of episode rollout, whether to use log-replayed agents or simulated agents etc.\n",
    "\n",
    "**Evaluation**: We will evaluate the performance of the PPO policy on the *entire* scene (~248 time-steps)."
   ]
  },
  {
   "cell_type": "markdown",
   "id": "d80c4a2f",
   "metadata": {
    "id": "0CAZm9UDo1C0",
    "tags": []
   },
   "source": [
    "## Customize gym env"
   ]
  },
  {
   "cell_type": "code",
   "execution_count": null,
   "id": "b29286e2",
   "metadata": {
    "id": "IJC1ix47g1Y4",
    "tags": []
   },
   "outputs": [],
   "source": [
    "# class L5EnvWrapper(gym.Wrapper):\n",
    "#     def __init__(self, env, raster_size = 112, n_channels = 7):\n",
    "#         super().__init__(env)\n",
    "#         self.env = env\n",
    "#         self.n_channels = n_channels\n",
    "#         self.raster_size = raster_size\n",
    "#         obs_shape = (self.raster_size, self.raster_size, self.n_channels)\n",
    "#         self.observation_space =gym.spaces.Box(low=0, high=1, shape=obs_shape, dtype=np.float32)\n",
    "\n",
    "#     def step(self, action:  np.ndarray) -> GymStepOutput:\n",
    "#         # return GymStepOutput(obs, reward[\"total\"], done, info)\n",
    "#         output =  self.env.step(action)\n",
    "#         onlyImageState = output.obs['image'].reshape(self.raster_size, self.raster_size, self.n_channels)\n",
    "#         return GymStepOutput(onlyImageState, output.reward, output.done, output.info)\n",
    "\n",
    "#     def reset(self) -> Dict[str, np.ndarray]:\n",
    "#         return self.env.reset()['image'].reshape(self.raster_size, self.raster_size, self.n_channels)\n"
   ]
  },
  {
   "cell_type": "code",
   "execution_count": 5,
   "id": "0a536b3f",
   "metadata": {
    "id": "XfXbbfjCg3aw",
    "tags": []
   },
   "outputs": [],
   "source": [
    "from src.customEnv.wrapper import L5EnvWrapper, L5EnvWrapperTorch\n",
    "from ray import tune\n",
    "train_eps_length = 32\n",
    "train_sim_cfg = SimulationConfigGym()\n",
    "train_sim_cfg.num_simulation_steps = train_eps_length + 1\n",
    "# Register , how your env should be constructed (always with 5, or you can take values from the `config` EnvContext object):\n",
    "env_kwargs = {'env_config_path': env_config_path, 'use_kinematic': True, 'sim_cfg': train_sim_cfg}\n",
    "\n",
    "tune.register_env(\"L5-CLE-V0\", lambda config: L5Env(**env_kwargs))\n",
    "tune.register_env(\"L5-CLE-V1\", lambda config: L5EnvWrapperTorch(env = L5Env(**env_kwargs), \\\n",
    "                                                           raster_size= cfg['raster_params']['raster_size'][0], \\\n",
    "                                                           n_channels = 7))"
   ]
  },
  {
   "cell_type": "markdown",
   "id": "8fa56982",
   "metadata": {
    "id": "rg8sxEnanVxL",
    "jp-MarkdownHeadingCollapsed": true,
    "tags": []
   },
   "source": [
    "## Train"
   ]
  },
  {
   "cell_type": "markdown",
   "id": "62938d37",
   "metadata": {
    "id": "LlFBhHgZfx5f",
    "tags": []
   },
   "source": [
    "import numpy as np\n",
    "\n",
    "import ray\n",
    "from ray import air, tune\n",
    "from ray.air import session\n",
    "from ray.air.integrations.wandb import setup_wandb\n",
    "from ray.air.integrations.wandb import WandbLoggerCallback\n",
    "os.environ['WANDB_NOTEBOOK_NAME'] = '/DATA/rllib_ppo_policy_training.ipynb'!wandb login 083592c84134c040dcca598c644c348d32540a08\n",
    "import wandb ## ref\n",
    "\n",
    "Resume stop tune: https://docs.ray.io/en/latest/tune/tutorials/tune-stopping.html\n",
    "\n",
    "tune.Tuner analysis: https://docs.ray.io/en/latest/rllib/rllib-training.html#basic-python-api\n",
    "\n",
    "get best result, load from dir: https://docs.ray.io/en/master/tune/examples/tune_analyze_results.html#trial-level-analysis-working-with-an-individual-result"
   ]
  },
  {
   "cell_type": "code",
   "execution_count": null,
   "id": "b4d153be-1e42-4a57-8463-d50ce0dfcf5d",
   "metadata": {},
   "outputs": [],
   "source": [
    "!wandb login 083592c84134c040dcca598c644c348d32540a08"
   ]
  },
  {
   "cell_type": "code",
   "execution_count": null,
   "id": "f725e0e9-778f-4a31-a1e3-245f2d4f83af",
   "metadata": {},
   "outputs": [],
   "source": [
    "import numpy as np\n",
    "\n",
    "import ray\n",
    "from ray import air, tune\n",
    "from ray.air import session\n",
    "from ray.air.integrations.wandb import setup_wandb\n",
    "from ray.air.integrations.wandb import WandbLoggerCallback\n",
    "os.environ['WANDB_NOTEBOOK_NAME'] = '/DATA/rllib_sac_policy_training.ipynb'"
   ]
  },
  {
   "cell_type": "code",
   "execution_count": null,
   "id": "d8a62fa8-70dd-453d-b3da-ae2b045fde2c",
   "metadata": {},
   "outputs": [],
   "source": [
    "import wandb\n",
    "wandb.init(project=\"l5kit2\", reinit = True)"
   ]
  },
  {
   "cell_type": "code",
   "execution_count": 4,
   "id": "c55b7218",
   "metadata": {
    "colab": {
     "base_uri": "https://localhost:8080/",
     "height": 1000
    },
    "id": "gbfV227Jct2l",
    "outputId": "fd5c0af4-ad87-4a5d-a526-58dfad3b8646"
   },
   "outputs": [
    {
     "name": "stderr",
     "output_type": "stream",
     "text": [
      "2023-04-16 03:08:03,892\tWARNING utils.py:636 -- Detecting docker specified CPUs. In previous versions of Ray, CPU detection in containers was incorrect. Please ensure that Ray has enough CPUs allocated. As a temporary workaround to revert to the prior behavior, set `RAY_USE_MULTIPROCESSING_CPU_COUNT=1` as an env var before starting Ray. Set the env var: `RAY_DISABLE_DOCKER_CPU_WARNING=1` to mute this warning.\n",
      "2023-04-16 03:08:03,981\tINFO worker.py:1538 -- Started a local Ray instance.\n"
     ]
    },
    {
     "ename": "KeyboardInterrupt",
     "evalue": "",
     "output_type": "error",
     "traceback": [
      "\u001b[0;31m---------------------------------------------------------------------------\u001b[0m",
      "\u001b[0;31mKeyboardInterrupt\u001b[0m                         Traceback (most recent call last)",
      "\u001b[0;32m/tmp/ipykernel_3886629/4256440596.py\u001b[0m in \u001b[0;36m<module>\u001b[0;34m\u001b[0m\n\u001b[1;32m     62\u001b[0m }\n\u001b[1;32m     63\u001b[0m \u001b[0;34m\u001b[0m\u001b[0m\n\u001b[0;32m---> 64\u001b[0;31m result_grid = tune.Tuner(\n\u001b[0m\u001b[1;32m     65\u001b[0m     \u001b[0;34m\"SAC\"\u001b[0m\u001b[0;34m,\u001b[0m\u001b[0;34m\u001b[0m\u001b[0;34m\u001b[0m\u001b[0m\n\u001b[1;32m     66\u001b[0m     run_config=air.RunConfig(\n",
      "\u001b[0;32m~/rlhf-car/l5kit2/l5kit/.venv/lib/python3.8/site-packages/ray/tune/tuner.py\u001b[0m in \u001b[0;36mfit\u001b[0;34m(self)\u001b[0m\n\u001b[1;32m    270\u001b[0m         \u001b[0;32mif\u001b[0m \u001b[0;32mnot\u001b[0m \u001b[0mself\u001b[0m\u001b[0;34m.\u001b[0m\u001b[0m_is_ray_client\u001b[0m\u001b[0;34m:\u001b[0m\u001b[0;34m\u001b[0m\u001b[0;34m\u001b[0m\u001b[0m\n\u001b[1;32m    271\u001b[0m             \u001b[0;32mtry\u001b[0m\u001b[0;34m:\u001b[0m\u001b[0;34m\u001b[0m\u001b[0;34m\u001b[0m\u001b[0m\n\u001b[0;32m--> 272\u001b[0;31m                 \u001b[0;32mreturn\u001b[0m \u001b[0mself\u001b[0m\u001b[0;34m.\u001b[0m\u001b[0m_local_tuner\u001b[0m\u001b[0;34m.\u001b[0m\u001b[0mfit\u001b[0m\u001b[0;34m(\u001b[0m\u001b[0;34m)\u001b[0m\u001b[0;34m\u001b[0m\u001b[0;34m\u001b[0m\u001b[0m\n\u001b[0m\u001b[1;32m    273\u001b[0m             \u001b[0;32mexcept\u001b[0m \u001b[0mException\u001b[0m \u001b[0;32mas\u001b[0m \u001b[0me\u001b[0m\u001b[0;34m:\u001b[0m\u001b[0;34m\u001b[0m\u001b[0;34m\u001b[0m\u001b[0m\n\u001b[1;32m    274\u001b[0m                 raise TuneError(\n",
      "\u001b[0;32m~/rlhf-car/l5kit2/l5kit/.venv/lib/python3.8/site-packages/ray/tune/impl/tuner_internal.py\u001b[0m in \u001b[0;36mfit\u001b[0;34m(self)\u001b[0m\n\u001b[1;32m    418\u001b[0m         \u001b[0;32mif\u001b[0m \u001b[0;32mnot\u001b[0m \u001b[0mself\u001b[0m\u001b[0;34m.\u001b[0m\u001b[0m_is_restored\u001b[0m\u001b[0;34m:\u001b[0m\u001b[0;34m\u001b[0m\u001b[0;34m\u001b[0m\u001b[0m\n\u001b[1;32m    419\u001b[0m             \u001b[0mparam_space\u001b[0m \u001b[0;34m=\u001b[0m \u001b[0mcopy\u001b[0m\u001b[0;34m.\u001b[0m\u001b[0mdeepcopy\u001b[0m\u001b[0;34m(\u001b[0m\u001b[0mself\u001b[0m\u001b[0;34m.\u001b[0m\u001b[0m_param_space\u001b[0m\u001b[0;34m)\u001b[0m\u001b[0;34m\u001b[0m\u001b[0;34m\u001b[0m\u001b[0m\n\u001b[0;32m--> 420\u001b[0;31m             \u001b[0manalysis\u001b[0m \u001b[0;34m=\u001b[0m \u001b[0mself\u001b[0m\u001b[0;34m.\u001b[0m\u001b[0m_fit_internal\u001b[0m\u001b[0;34m(\u001b[0m\u001b[0mtrainable\u001b[0m\u001b[0;34m,\u001b[0m \u001b[0mparam_space\u001b[0m\u001b[0;34m)\u001b[0m\u001b[0;34m\u001b[0m\u001b[0;34m\u001b[0m\u001b[0m\n\u001b[0m\u001b[1;32m    421\u001b[0m         \u001b[0;32melse\u001b[0m\u001b[0;34m:\u001b[0m\u001b[0;34m\u001b[0m\u001b[0;34m\u001b[0m\u001b[0m\n\u001b[1;32m    422\u001b[0m             \u001b[0manalysis\u001b[0m \u001b[0;34m=\u001b[0m \u001b[0mself\u001b[0m\u001b[0;34m.\u001b[0m\u001b[0m_fit_resume\u001b[0m\u001b[0;34m(\u001b[0m\u001b[0mtrainable\u001b[0m\u001b[0;34m)\u001b[0m\u001b[0;34m\u001b[0m\u001b[0;34m\u001b[0m\u001b[0m\n",
      "\u001b[0;32m~/rlhf-car/l5kit2/l5kit/.venv/lib/python3.8/site-packages/ray/tune/impl/tuner_internal.py\u001b[0m in \u001b[0;36m_fit_internal\u001b[0;34m(self, trainable, param_space)\u001b[0m\n\u001b[1;32m    530\u001b[0m             \u001b[0;34m**\u001b[0m\u001b[0mself\u001b[0m\u001b[0;34m.\u001b[0m\u001b[0m_tuner_kwargs\u001b[0m\u001b[0;34m,\u001b[0m\u001b[0;34m\u001b[0m\u001b[0;34m\u001b[0m\u001b[0m\n\u001b[1;32m    531\u001b[0m         }\n\u001b[0;32m--> 532\u001b[0;31m         analysis = run(\n\u001b[0m\u001b[1;32m    533\u001b[0m             \u001b[0;34m**\u001b[0m\u001b[0margs\u001b[0m\u001b[0;34m,\u001b[0m\u001b[0;34m\u001b[0m\u001b[0;34m\u001b[0m\u001b[0m\n\u001b[1;32m    534\u001b[0m         )\n",
      "\u001b[0;32m~/rlhf-car/l5kit2/l5kit/.venv/lib/python3.8/site-packages/ray/tune/tune.py\u001b[0m in \u001b[0;36mrun\u001b[0;34m(run_or_experiment, name, metric, mode, stop, time_budget_s, config, resources_per_trial, num_samples, local_dir, search_alg, scheduler, keep_checkpoints_num, checkpoint_score_attr, checkpoint_freq, checkpoint_at_end, verbose, progress_reporter, log_to_file, trial_name_creator, trial_dirname_creator, chdir_to_trial_dir, sync_config, export_formats, max_failures, fail_fast, restore, server_port, resume, reuse_actors, trial_executor, raise_on_failed_trial, callbacks, max_concurrent_trials, _experiment_checkpoint_dir, _remote, _remote_string_queue)\u001b[0m\n\u001b[1;32m    386\u001b[0m \u001b[0;34m\u001b[0m\u001b[0m\n\u001b[1;32m    387\u001b[0m     \u001b[0;32mif\u001b[0m \u001b[0;32mnot\u001b[0m \u001b[0mtrial_executor\u001b[0m \u001b[0;32mor\u001b[0m \u001b[0misinstance\u001b[0m\u001b[0;34m(\u001b[0m\u001b[0mtrial_executor\u001b[0m\u001b[0;34m,\u001b[0m \u001b[0mRayTrialExecutor\u001b[0m\u001b[0;34m)\u001b[0m\u001b[0;34m:\u001b[0m\u001b[0;34m\u001b[0m\u001b[0;34m\u001b[0m\u001b[0m\n\u001b[0;32m--> 388\u001b[0;31m         \u001b[0m_ray_auto_init\u001b[0m\u001b[0;34m(\u001b[0m\u001b[0;34m)\u001b[0m\u001b[0;34m\u001b[0m\u001b[0;34m\u001b[0m\u001b[0m\n\u001b[0m\u001b[1;32m    389\u001b[0m \u001b[0;34m\u001b[0m\u001b[0m\n\u001b[1;32m    390\u001b[0m     \u001b[0;32mif\u001b[0m \u001b[0m_remote\u001b[0m\u001b[0;34m:\u001b[0m\u001b[0;34m\u001b[0m\u001b[0;34m\u001b[0m\u001b[0m\n",
      "\u001b[0;32m~/rlhf-car/l5kit2/l5kit/.venv/lib/python3.8/site-packages/ray/tune/tune.py\u001b[0m in \u001b[0;36m_ray_auto_init\u001b[0;34m()\u001b[0m\n\u001b[1;32m    890\u001b[0m             \u001b[0;34m\"call `ray.init(...)` before `tune.run`.\"\u001b[0m\u001b[0;34m\u001b[0m\u001b[0;34m\u001b[0m\u001b[0m\n\u001b[1;32m    891\u001b[0m         )\n\u001b[0;32m--> 892\u001b[0;31m         \u001b[0mray\u001b[0m\u001b[0;34m.\u001b[0m\u001b[0minit\u001b[0m\u001b[0;34m(\u001b[0m\u001b[0;34m)\u001b[0m\u001b[0;34m\u001b[0m\u001b[0;34m\u001b[0m\u001b[0m\n\u001b[0m",
      "\u001b[0;32m~/rlhf-car/l5kit2/l5kit/.venv/lib/python3.8/site-packages/ray/_private/client_mode_hook.py\u001b[0m in \u001b[0;36mwrapper\u001b[0;34m(*args, **kwargs)\u001b[0m\n\u001b[1;32m    103\u001b[0m             \u001b[0;32mif\u001b[0m \u001b[0mfunc\u001b[0m\u001b[0;34m.\u001b[0m\u001b[0m__name__\u001b[0m \u001b[0;34m!=\u001b[0m \u001b[0;34m\"init\"\u001b[0m \u001b[0;32mor\u001b[0m \u001b[0mis_client_mode_enabled_by_default\u001b[0m\u001b[0;34m:\u001b[0m\u001b[0;34m\u001b[0m\u001b[0;34m\u001b[0m\u001b[0m\n\u001b[1;32m    104\u001b[0m                 \u001b[0;32mreturn\u001b[0m \u001b[0mgetattr\u001b[0m\u001b[0;34m(\u001b[0m\u001b[0mray\u001b[0m\u001b[0;34m,\u001b[0m \u001b[0mfunc\u001b[0m\u001b[0;34m.\u001b[0m\u001b[0m__name__\u001b[0m\u001b[0;34m)\u001b[0m\u001b[0;34m(\u001b[0m\u001b[0;34m*\u001b[0m\u001b[0margs\u001b[0m\u001b[0;34m,\u001b[0m \u001b[0;34m**\u001b[0m\u001b[0mkwargs\u001b[0m\u001b[0;34m)\u001b[0m\u001b[0;34m\u001b[0m\u001b[0;34m\u001b[0m\u001b[0m\n\u001b[0;32m--> 105\u001b[0;31m         \u001b[0;32mreturn\u001b[0m \u001b[0mfunc\u001b[0m\u001b[0;34m(\u001b[0m\u001b[0;34m*\u001b[0m\u001b[0margs\u001b[0m\u001b[0;34m,\u001b[0m \u001b[0;34m**\u001b[0m\u001b[0mkwargs\u001b[0m\u001b[0;34m)\u001b[0m\u001b[0;34m\u001b[0m\u001b[0;34m\u001b[0m\u001b[0m\n\u001b[0m\u001b[1;32m    106\u001b[0m \u001b[0;34m\u001b[0m\u001b[0m\n\u001b[1;32m    107\u001b[0m     \u001b[0;32mreturn\u001b[0m \u001b[0mwrapper\u001b[0m\u001b[0;34m\u001b[0m\u001b[0;34m\u001b[0m\u001b[0m\n",
      "\u001b[0;32m~/rlhf-car/l5kit2/l5kit/.venv/lib/python3.8/site-packages/ray/_private/worker.py\u001b[0m in \u001b[0;36minit\u001b[0;34m(address, num_cpus, num_gpus, resources, object_store_memory, local_mode, ignore_reinit_error, include_dashboard, dashboard_host, dashboard_port, job_config, configure_logging, logging_level, logging_format, log_to_driver, namespace, runtime_env, storage, **kwargs)\u001b[0m\n\u001b[1;32m   1538\u001b[0m         \u001b[0mlogger\u001b[0m\u001b[0;34m.\u001b[0m\u001b[0minfo\u001b[0m\u001b[0;34m(\u001b[0m\u001b[0minfo_str\u001b[0m\u001b[0;34m)\u001b[0m\u001b[0;34m\u001b[0m\u001b[0;34m\u001b[0m\u001b[0m\n\u001b[1;32m   1539\u001b[0m \u001b[0;34m\u001b[0m\u001b[0m\n\u001b[0;32m-> 1540\u001b[0;31m     connect(\n\u001b[0m\u001b[1;32m   1541\u001b[0m         \u001b[0m_global_node\u001b[0m\u001b[0;34m,\u001b[0m\u001b[0;34m\u001b[0m\u001b[0;34m\u001b[0m\u001b[0m\n\u001b[1;32m   1542\u001b[0m         \u001b[0m_global_node\u001b[0m\u001b[0;34m.\u001b[0m\u001b[0msession_name\u001b[0m\u001b[0;34m,\u001b[0m\u001b[0;34m\u001b[0m\u001b[0;34m\u001b[0m\u001b[0m\n",
      "\u001b[0;32m~/rlhf-car/l5kit2/l5kit/.venv/lib/python3.8/site-packages/ray/_private/worker.py\u001b[0m in \u001b[0;36mconnect\u001b[0;34m(node, session_name, mode, log_to_driver, worker, driver_object_store_memory, job_id, namespace, job_config, runtime_env_hash, startup_token, ray_debugger_external, entrypoint)\u001b[0m\n\u001b[1;32m   2026\u001b[0m     \u001b[0;32melse\u001b[0m\u001b[0;34m:\u001b[0m\u001b[0;34m\u001b[0m\u001b[0;34m\u001b[0m\u001b[0m\n\u001b[1;32m   2027\u001b[0m         \u001b[0mlogs_dir\u001b[0m \u001b[0;34m=\u001b[0m \u001b[0mnode\u001b[0m\u001b[0;34m.\u001b[0m\u001b[0mget_logs_dir_path\u001b[0m\u001b[0;34m(\u001b[0m\u001b[0;34m)\u001b[0m\u001b[0;34m\u001b[0m\u001b[0;34m\u001b[0m\u001b[0m\n\u001b[0;32m-> 2028\u001b[0;31m     worker.core_worker = ray._raylet.CoreWorker(\n\u001b[0m\u001b[1;32m   2029\u001b[0m         \u001b[0mmode\u001b[0m\u001b[0;34m,\u001b[0m\u001b[0;34m\u001b[0m\u001b[0;34m\u001b[0m\u001b[0m\n\u001b[1;32m   2030\u001b[0m         \u001b[0mnode\u001b[0m\u001b[0;34m.\u001b[0m\u001b[0mplasma_store_socket_name\u001b[0m\u001b[0;34m,\u001b[0m\u001b[0;34m\u001b[0m\u001b[0;34m\u001b[0m\u001b[0m\n",
      "\u001b[0;31mKeyboardInterrupt\u001b[0m: "
     ]
    }
   ],
   "source": [
    "import ray\n",
    "from ray import air, tune\n",
    "train_envs = 4\n",
    "newYorkTz = pytz.timezone(\"Asia/Ho_Chi_Minh\") \n",
    "date = datetime.datetime.now(newYorkTz).strftime(\"%d-%m-%Y_%H-%M-%S\")\n",
    "ray_result_logdir = '/workspace/datasets/ray_results/debug_' + date\n",
    "\n",
    "lr = 3e-3\n",
    "lr_start = 3e-4\n",
    "lr_end = 3e-5\n",
    "config_param_space = {\n",
    "    \"env\": \"L5-CLE-V1\",\n",
    "    \"framework\": \"torch\",\n",
    "    \"num_gpus\": 1,\n",
    "    \"num_workers\": 8, # 63\n",
    "    \"num_envs_per_worker\": train_envs,\n",
    "    'q_model_config' : {\n",
    "            # \"dim\": 112,\n",
    "            # \"conv_filters\" : [[64, [7,7], 3], [32, [11,11], 3], [32, [11,11], 3]],\n",
    "            # \"conv_activation\": \"relu\",\n",
    "            \"post_fcnet_hiddens\": [256],\n",
    "            \"post_fcnet_activation\": \"relu\",\n",
    "        },\n",
    "    'policy_model_config' : {\n",
    "            # \"dim\": 112,\n",
    "            # \"conv_filters\" : [[64, [7,7], 3], [32, [11,11], 3], [32, [11,11], 3]],\n",
    "            # \"conv_activation\": \"relu\",\n",
    "            \"post_fcnet_hiddens\": [256],\n",
    "            \"post_fcnet_activation\": \"relu\",\n",
    "        },\n",
    "    'tau': 0.005,\n",
    "    'target_network_update_freq': 1,\n",
    "    'replay_buffer_config':{\n",
    "        'type': 'MultiAgentPrioritizedReplayBuffer',\n",
    "        'capacity': int(1e4), #int(1e5)\n",
    "        \"worker_side_prioritization\": True,\n",
    "    },\n",
    "    'num_steps_sampled_before_learning_starts': 2048, # 8000,\n",
    "    \n",
    "    'target_entropy': 'auto',\n",
    "#     \"model\": {\n",
    "#         \"custom_model\": \"GN_CNN_torch_model\",\n",
    "#         \"custom_model_config\": {'feature_dim':128},\n",
    "#     },\n",
    "    '_disable_preprocessor_api': True,\n",
    "     \"eager_tracing\": True,\n",
    "     \"restart_failed_sub_environments\": True,\n",
    " \n",
    "    # 'train_batch_size': 4000,\n",
    "    # 'sgd_minibatch_size': 256,\n",
    "    # 'num_sgd_iter': 16,\n",
    "    # 'store_buffer_in_checkpoints' : False,\n",
    "    'seed': 42,\n",
    "    'batch_mode': 'truncate_episodes',\n",
    "    \"rollout_fragment_length\": 1,\n",
    "    'train_batch_size': 256, # 2048\n",
    "    'training_intensity' : 32, # (4x 'natural' value = 8) 'natural value = train_batch_size / (rollout_fragment_length x num_workers x num_envs_per_worker) = 256 / 1x 8 x 4 = 8\n",
    "    'gamma': 0.8,\n",
    "    'twin_q' : True,\n",
    "    \"lr\": 3e-4,\n",
    "    \"min_sample_timesteps_per_iteration\": 2048, # 8000\n",
    "}\n",
    "\n",
    "result_grid = tune.Tuner(\n",
    "    \"SAC\",\n",
    "    run_config=air.RunConfig(\n",
    "        stop={\"episode_reward_mean\": 0, 'timesteps_total': int(6e6)},\n",
    "        local_dir=ray_result_logdir,\n",
    "        checkpoint_config=air.CheckpointConfig(num_to_keep=2, checkpoint_frequency = 10, checkpoint_score_attribute = 'episode_reward_mean')\n",
    "        ),\n",
    "    param_space=config_param_space).fit()"
   ]
  },
  {
   "cell_type": "code",
   "execution_count": null,
   "id": "1164ab57-b068-4b75-ab94-24cdbff83d9c",
   "metadata": {},
   "outputs": [],
   "source": [
    "import ray\n",
    "from ray import air, tune\n",
    "train_envs = 4\n",
    "\n",
    "hcmTz = pytz.timezone(\"Asia/Ho_Chi_Minh\") \n",
    "date = datetime.datetime.now(hcmTz).strftime(\"%d-%m-%Y_%H-%M-%S\")\n",
    "ray_result_logdir = '/DATA/l5kit/ray_results/' + date\n",
    "\n",
    "lr = 3e-3\n",
    "lr_start = 3e-4\n",
    "lr_end = 3e-5\n",
    "config_param_space = {\n",
    "    \"env\": \"L5-CLE-V1\",\n",
    "    \"framework\": \"torch\",\n",
    "    \"num_gpus\": 1,\n",
    "    \"num_workers\": 63,\n",
    "    \"num_envs_per_worker\": train_envs,\n",
    "    'q_model_config' : {\n",
    "            # \"dim\": 112,\n",
    "            # \"conv_filters\" : [[64, [7,7], 3], [32, [11,11], 3], [32, [11,11], 3]],\n",
    "            # \"conv_activation\": \"relu\",\n",
    "            \"post_fcnet_hiddens\": [256],\n",
    "            \"post_fcnet_activation\": \"relu\",\n",
    "        },\n",
    "    'policy_model_config' : {\n",
    "            # \"dim\": 112,\n",
    "            # \"conv_filters\" : [[64, [7,7], 3], [32, [11,11], 3], [32, [11,11], 3]],\n",
    "            # \"conv_activation\": \"relu\",\n",
    "            \"post_fcnet_hiddens\": [256],\n",
    "            \"post_fcnet_activation\": \"relu\",\n",
    "        },\n",
    "    'tau': 0.005,\n",
    "    'target_network_update_freq': 1,\n",
    "    'replay_buffer_config':{\n",
    "        'type': 'MultiAgentPrioritizedReplayBuffer',\n",
    "        'capacity': int(1e5),\n",
    "        \"worker_side_prioritization\": True,\n",
    "    },\n",
    "    'num_steps_sampled_before_learning_starts': 8000,\n",
    "    \n",
    "    'target_entropy': 'auto',\n",
    "#     \"model\": {\n",
    "#         \"custom_model\": \"GN_CNN_torch_model\",\n",
    "#         \"custom_model_config\": {'feature_dim':128},\n",
    "#     },\n",
    "    '_disable_preprocessor_api': True,\n",
    "     \"eager_tracing\": True,\n",
    "     \"restart_failed_sub_environments\": True,\n",
    " \n",
    "    # 'train_batch_size': 4000,\n",
    "    # 'sgd_minibatch_size': 256,\n",
    "    # 'num_sgd_iter': 16,\n",
    "    # 'store_buffer_in_checkpoints' : False,\n",
    "    'seed': 42,\n",
    "    'batch_mode': 'truncate_episodes',\n",
    "    \"rollout_fragment_length\": 1,\n",
    "    'train_batch_size': 2048,\n",
    "    'training_intensity' : 32, # (4x 'natural' value = 8)\n",
    "    'gamma': 0.8,\n",
    "    'twin_q' : True,\n",
    "    \"lr\": 3e-4,\n",
    "    \"min_sample_timesteps_per_iteration\": 8000,\n",
    "}\n",
    "\n",
    "result_grid = tune.Tuner(\n",
    "    \"SAC\",\n",
    "    run_config=air.RunConfig(\n",
    "        stop={\"episode_reward_mean\": 0, 'timesteps_total': int(4e6)},\n",
    "        local_dir=ray_result_logdir,\n",
    "        checkpoint_config=air.CheckpointConfig(num_to_keep=2, checkpoint_frequency = 10, checkpoint_score_attribute = 'episode_reward_mean'),\n",
    "        callbacks=[WandbLoggerCallback(project=\"l5kit2\", \n",
    "\t\t\t\t\t\tsave_checkpoints=True),],\n",
    "        ),\n",
    "        \n",
    "    param_space=config_param_space).fit()"
   ]
  },
  {
   "cell_type": "code",
   "execution_count": null,
   "id": "054bd96b-13ef-416c-8113-499ebce65ab5",
   "metadata": {},
   "outputs": [],
   "source": [
    "import ray\n",
    "from ray import air, tune\n",
    "train_envs = 4\n",
    "\n",
    "hcmTz = pytz.timezone(\"Asia/Ho_Chi_Minh\") \n",
    "date = datetime.datetime.now(hcmTz).strftime(\"%d-%m-%Y_%H-%M-%S\")\n",
    "ray_result_logdir = '/DATA/l5kit/ray_results/' + date\n",
    "\n",
    "lr = 3e-3\n",
    "lr_start = 3e-4\n",
    "lr_end = 3e-5\n",
    "config_param_space = {\n",
    "    \"env\": \"L5-CLE-V1\",\n",
    "    \"framework\": \"torch\",\n",
    "    \"num_gpus\": 1,\n",
    "    \"num_workers\": 63,\n",
    "    \"num_envs_per_worker\": train_envs,\n",
    "    'q_model_config' : {\n",
    "            # \"dim\": 112,\n",
    "            # \"conv_filters\" : [[64, [7,7], 3], [32, [11,11], 3], [32, [11,11], 3]],\n",
    "            # \"conv_activation\": \"relu\",\n",
    "            \"post_fcnet_hiddens\": [256],\n",
    "            \"post_fcnet_activation\": \"relu\",\n",
    "        },\n",
    "    'policy_model_config' : {\n",
    "            # \"dim\": 112,\n",
    "            # \"conv_filters\" : [[64, [7,7], 3], [32, [11,11], 3], [32, [11,11], 3]],\n",
    "            # \"conv_activation\": \"relu\",\n",
    "            \"post_fcnet_hiddens\": [256],\n",
    "            \"post_fcnet_activation\": \"relu\",\n",
    "        },\n",
    "    'tau': 0.005,\n",
    "    'target_network_update_freq': 1,\n",
    "    'replay_buffer_config':{\n",
    "        'type': 'MultiAgentPrioritizedReplayBuffer',\n",
    "        'capacity': int(1e5),\n",
    "        \"worker_side_prioritization\": True,\n",
    "    },\n",
    "    'num_steps_sampled_before_learning_starts': 8000,\n",
    "    \n",
    "    'target_entropy': 'auto',\n",
    "#     \"model\": {\n",
    "#         \"custom_model\": \"GN_CNN_torch_model\",\n",
    "#         \"custom_model_config\": {'feature_dim':128},\n",
    "#     },\n",
    "    '_disable_preprocessor_api': True,\n",
    "     \"eager_tracing\": True,\n",
    "     \"restart_failed_sub_environments\": True,\n",
    " \n",
    "    # 'train_batch_size': 4000,\n",
    "    # 'sgd_minibatch_size': 256,\n",
    "    # 'num_sgd_iter': 16,\n",
    "    # 'store_buffer_in_checkpoints' : False,\n",
    "    'seed': 42,\n",
    "    'batch_mode': 'truncate_episodes',\n",
    "    \"rollout_fragment_length\": 1,\n",
    "    'train_batch_size': 2048,\n",
    "    # 'training_intensity' : 1000,\n",
    "    'gamma': 0.8,\n",
    "    'twin_q' : True,\n",
    "    \"lr\": 3e-4,\n",
    "    \"min_sample_timesteps_per_iteration\": 8000,\n",
    "}\n",
    "\n",
    "result_grid = tune.Tuner(\n",
    "    \"SAC\",\n",
    "    run_config=air.RunConfig(\n",
    "        stop={\"episode_reward_mean\": 0, 'timesteps_total': int(2e6)},\n",
    "        local_dir=ray_result_logdir,\n",
    "        checkpoint_config=air.CheckpointConfig(num_to_keep=2, checkpoint_frequency = 10, checkpoint_score_attribute = 'episode_reward_mean')\n",
    "        ),\n",
    "    param_space=config_param_space).fit()"
   ]
  },
  {
   "cell_type": "code",
   "execution_count": null,
   "id": "a8bf4329-c187-46e8-8658-bb867e5fc90d",
   "metadata": {},
   "outputs": [],
   "source": [
    "config_param_space = {\n",
    "    \"env\": \"L5-CLE-V1\",\n",
    "    \"framework\": \"torch\",\n",
    "    \"num_gpus\": 1,\n",
    "    \"num_workers\": 63,\n",
    "    \"num_envs_per_worker\": train_envs,\n",
    "    'q_model_config' : {\n",
    "            # \"dim\": 112,\n",
    "            # \"conv_filters\" : [[64, [7,7], 3], [32, [11,11], 3], [32, [11,11], 3]],\n",
    "            # \"conv_activation\": \"relu\",\n",
    "            \"post_fcnet_hiddens\": [256],\n",
    "            \"post_fcnet_activation\": \"relu\",\n",
    "        },\n",
    "    'policy_model_config' : {\n",
    "            # \"dim\": 112,\n",
    "            # \"conv_filters\" : [[64, [7,7], 3], [32, [11,11], 3], [32, [11,11], 3]],\n",
    "            # \"conv_activation\": \"relu\",\n",
    "            \"post_fcnet_hiddens\": [256],\n",
    "            \"post_fcnet_activation\": \"relu\",\n",
    "        },\n",
    "    'tau': 0.005,\n",
    "    'target_network_update_freq': 1,\n",
    "    'replay_buffer_config':{\n",
    "        'type': 'MultiAgentPrioritizedReplayBuffer',\n",
    "        'capacity': int(1e5),\n",
    "        \"worker_side_prioritization\": True,\n",
    "    },\n",
    "    'num_steps_sampled_before_learning_starts': 8000,\n",
    "    \n",
    "    'target_entropy': 'auto',\n",
    "#     \"model\": {\n",
    "#         \"custom_model\": \"GN_CNN_torch_model\",\n",
    "#         \"custom_model_config\": {'feature_dim':128},\n",
    "#     },\n",
    "    '_disable_preprocessor_api': True,\n",
    "     \"eager_tracing\": True,\n",
    "     \"restart_failed_sub_environments\": True,\n",
    " \n",
    "    # 'train_batch_size': 4000,\n",
    "    # 'sgd_minibatch_size': 256,\n",
    "    # 'num_sgd_iter': 16,\n",
    "    # 'store_buffer_in_checkpoints' : False,\n",
    "    'seed': 42,\n",
    "    'batch_mode': 'truncate_episodes',\n",
    "    \"rollout_fragment_length\": 1,\n",
    "    'train_batch_size': 2048,\n",
    "    # 'training_intensity' : 1000,\n",
    "    'gamma': 0.8,\n",
    "    'twin_q' : True,\n",
    "    \"lr\": 3e-4,\n",
    "    \"min_sample_timesteps_per_iteration\": 8000,\n",
    "}"
   ]
  },
  {
   "cell_type": "code",
   "execution_count": null,
   "id": "87b2897c-ecd0-4402-be62-655d7f194e8e",
   "metadata": {},
   "outputs": [],
   "source": [
    "# config_param_space['stop']['timesteps_total'] = 3e-5\n",
    "path_to_trained_agent_checkpoint = 'l5kit/ray_results/29-12-2022_07-47-22/SAC/SAC_L5-CLE-V1_5af7a_00000_0_2022-12-29_00-47-23/checkpoint_000249'\n",
    "from ray.rllib.algorithms.sac import SAC\n",
    "ray.tune.run(SAC, config=config_param_space, restore=path_to_trained_agent_checkpoint)"
   ]
  },
  {
   "cell_type": "code",
   "execution_count": null,
   "id": "7cae5452-4d9c-47a7-bc98-1056a9d927c7",
   "metadata": {},
   "outputs": [],
   "source": [
    "import ray\n",
    "from ray import air, tune\n",
    "train_envs = 4\n",
    "ray_result_logdir = '/DATA/l5kit/ray_results/' + date\n",
    "lr = 3e-3\n",
    "lr_start = 3e-4\n",
    "lr_end = 3e-5\n",
    "\n",
    "config_param_space = {\n",
    "    \"env\": \"L5-CLE-V1\",\n",
    "    \"framework\": \"torch\",\n",
    "    \"num_gpus\": 1,\n",
    "    \"num_workers\": 63,\n",
    "    \"num_envs_per_worker\": train_envs,\n",
    "    'q_model_config' : {\n",
    "            # \"dim\": 112,\n",
    "            # \"conv_filters\" : [[64, [7,7], 3], [32, [11,11], 3], [32, [11,11], 3]],\n",
    "            # \"conv_activation\": \"relu\",\n",
    "            \"post_fcnet_hiddens\": [256],\n",
    "            \"post_fcnet_activation\": \"relu\",\n",
    "        },\n",
    "    'policy_model_config' : {\n",
    "            # \"dim\": 112,\n",
    "            # \"conv_filters\" : [[64, [7,7], 3], [32, [11,11], 3], [32, [11,11], 3]],\n",
    "            # \"conv_activation\": \"relu\",\n",
    "            \"post_fcnet_hiddens\": [256],\n",
    "            \"post_fcnet_activation\": \"relu\",\n",
    "        },\n",
    "    'tau': 0.005,\n",
    "    'n_step': 1\n",
    "    'target_network_update_freq': 5,\n",
    "    'replay_buffer_config':{\n",
    "        'type': 'MultiAgentPrioritizedReplayBuffer',\n",
    "        'capacity': int(3e5),\n",
    "    },\n",
    "    'num_steps_sampled_before_learning_starts': 256,\n",
    "    \n",
    "    'target_entropy': 'auto',\n",
    "#     \"model\": {\n",
    "#         \"custom_model\": \"GN_CNN_torch_model\",\n",
    "#         \"custom_model_config\": {'feature_dim':128},\n",
    "#     },\n",
    "    '_disable_preprocessor_api': True,\n",
    "     \"eager_tracing\": True,\n",
    "     \"restart_failed_sub_environments\": True,\n",
    "    # 'train_batch_size': 4000,\n",
    "    # 'sgd_minibatch_size': 256,\n",
    "    # 'num_sgd_iter': 16,\n",
    "    'seed': 42,\n",
    "    'batch_mode': 'truncate_episodes',\n",
    "    \"rollout_fragment_length\": 32,\n",
    "    'gamma': 0.8,\n",
    "    \"lr_schedule\": [\n",
    "        [1e6, lr_start],\n",
    "        [2e6, lr_end],\n",
    "    ],\n",
    "    \"lr\": lr,\n",
    "}\n",
    "\n",
    "result_grid = tune.Tuner(\n",
    "    \"SAC\",\n",
    "    run_config=air.RunConfig(\n",
    "        stop={\"episode_reward_mean\": 0, 'timesteps_total': int(3e6)},\n",
    "        local_dir=ray_result_logdir,\n",
    "        checkpoint_config=air.CheckpointConfig(num_to_keep=2, checkpoint_frequency = 10, checkpoint_score_attribute = 'episode_reward_mean')\n",
    "        ),\n",
    "    param_space=config_param_space).fit()"
   ]
  },
  {
   "cell_type": "code",
   "execution_count": null,
   "id": "f28fe783",
   "metadata": {
    "colab": {
     "base_uri": "https://localhost:8080/",
     "height": 1000
    },
    "id": "RTK45EUeonWl",
    "outputId": "1a0ff185-7c8c-4cfb-8d1c-4dcb71cd7fb4"
   },
   "outputs": [],
   "source": [
    "import ray\n",
    "from ray import air, tune\n",
    "train_envs = 4\n",
    "ray_result_logdir = '/DATA/l5kit/ray_results/29-12-2022_07-47-22'\n",
    "\n",
    "tuner = tune.Tuner.restore(\n",
    "    path=ray_result_logdir + '/SAC'\n",
    ")\n",
    "result = tuner.fit()"
   ]
  },
  {
   "cell_type": "code",
   "execution_count": null,
   "id": "70f20c94-38cb-44a7-96ce-48ba11b430fd",
   "metadata": {},
   "outputs": [],
   "source": [
    "best_result = result.get_best_result(metric=\"episode_reward_mean\", mode = 'max')\n",
    "best_checkpoint = best_result.checkpoint\n",
    "best_checkpoint"
   ]
  },
  {
   "cell_type": "code",
   "execution_count": null,
   "id": "eb196340-7ec2-471a-9857-1cd540a96a85",
   "metadata": {},
   "outputs": [],
   "source": [
    "num_results = len(result)\n",
    "print(\"Number of results:\", num_results)"
   ]
  },
  {
   "cell_type": "code",
   "execution_count": null,
   "id": "55ce9e89-8641-4897-97f8-7b90baf82edf",
   "metadata": {},
   "outputs": [],
   "source": [
    "result.get_best_result()"
   ]
  },
  {
   "cell_type": "code",
   "execution_count": null,
   "id": "3625c4c7-cc99-47ae-9a19-f70d10ca91fc",
   "metadata": {},
   "outputs": [],
   "source": [
    "result.get_dataframe()"
   ]
  },
  {
   "cell_type": "code",
   "execution_count": null,
   "id": "77798ffb-abfd-4021-888d-a66d51a03481",
   "metadata": {},
   "outputs": [],
   "source": [
    "type(best_result)"
   ]
  },
  {
   "cell_type": "code",
   "execution_count": null,
   "id": "e5da07f5",
   "metadata": {
    "tags": []
   },
   "outputs": [],
   "source": [
    "result_df = best_result.metrics_dataframe() \n",
    "result_df[['episode_reward_mean']]"
   ]
  },
  {
   "cell_type": "markdown",
   "id": "bd8618e3",
   "metadata": {
    "id": "4fipqZymhM1l"
   },
   "source": [
    "NOTE: Experiment has been interrupted, but the most recent state was saved. You can continue running this experiment by passing `resume=True` to `tune.run()`\n",
    "\n",
    "2022-12-04 05:50:38,570\tINFO experiment_analysis.py:795 -- No `self.trials`. Drawing logdirs from checkpoint file. This may result in some information that is out of sync, as checkpointing is periodic.\n",
    "\n",
    "2022-12-04 05:50:39,684\tINFO trial_runner.py:601 -- A local experiment checkpoint was found and will be used to restore the previous experiment state.\n",
    "2022-12-04 05:50:39,687\tINFO trial_runner.py:738 -- Using following checkpoint to resume: /content/drive/MyDrive/Colab Notebooks/l5kit/ray_results/PPO/experiment_state-2022-12-04_05-28-55.json\n",
    "\n",
    "2022-12-04 05:50:39,710\tWARNING trial_runner.py:743 -- Attempting to resume experiment from /content/drive/MyDrive/Colab Notebooks/l5kit/ray_results/PPO. This will ignore any new changes to the specification.\n",
    "\n",
    "2022-12-04 05:50:40,703\tINFO tune.py:668 -- TrialRunner resumed, ignoring new add_experiment but updating trial resources."
   ]
  },
  {
   "cell_type": "code",
   "execution_count": null,
   "id": "566fed29",
   "metadata": {
    "colab": {
     "base_uri": "https://localhost:8080/"
    },
    "id": "4p68J7JqSddH",
    "outputId": "c10e3423-caa6-48b5-caea-31fe9893fde5"
   },
   "outputs": [],
   "source": [
    "# train_envs=2\n",
    "# ray_result_logdir = '/content/drive/MyDrive/Colab Notebooks/l5kit/ray_results'\n",
    "# # Create the Trainer.\n",
    "# algo = ppo.PPO(\n",
    "#         env=\"L5-CLE-V1\",\n",
    "#         config={\n",
    "#             \"framework\": \"torch\",\n",
    "#             \"num_gpus\": 1,\n",
    "#             \"num_workers\": 2,\n",
    "#             \"num_envs_per_worker\": train_envs,\n",
    "#             'num_sgd_iter': 5,\n",
    "#             'sgd_minibatch_size': 256,\n",
    "#             'num_cpus_per_worker': 0,  # This avoids running out of resources in the notebook environment when this cell is re-executed\n",
    "#             \"model\": {\n",
    "#                 \"custom_model\": \"GN_CNN_torch_model\",\n",
    "#                 \"custom_model_config\": {'feature_dim':128},\n",
    "#             },\n",
    "#             '_disable_preprocessor_api': True,\n",
    "#         },\n",
    "#         logger_creator=custom_log_creator(os.path.expanduser(ray_result_logdir), 'L5_PPO')\n",
    "#     )"
   ]
  },
  {
   "cell_type": "code",
   "execution_count": null,
   "id": "c5b16aee",
   "metadata": {
    "colab": {
     "base_uri": "https://localhost:8080/",
     "height": 585
    },
    "id": "OyKfMUNfpTfq",
    "outputId": "a6ff9bc8-f0b8-4e3b-c2aa-80d251494529"
   },
   "outputs": [],
   "source": [
    "checkpoint_path =  '/content/drive/MyDrive/Colab Notebooks/l5kit/rllib_logs/'+ str(datetime.date.today())\n",
    "for i in range(1, 1000):\n",
    "   # Perform one iteration of training the policy with PPO\n",
    "   result = algo.train()\n",
    "   print(pretty_print(result))\n",
    "\n",
    "   if i % 10 == 0:\n",
    "       checkpoint = algo.save(checkpoint_dir= checkpoint_path)\n",
    "       print(\"checkpoint saved at\", checkpoint)"
   ]
  },
  {
   "cell_type": "code",
   "execution_count": null,
   "id": "84ff44cf",
   "metadata": {
    "colab": {
     "base_uri": "https://localhost:8080/"
    },
    "id": "zvbCuZHCwh44",
    "outputId": "d9246d10-3c7f-4fc1-f17b-645061412323"
   },
   "outputs": [],
   "source": [
    "checkpoint_path = '/content/drive/MyDrive/Colab Notebooks/l5kit/rllib_logs/2022-12-02/checkpoint_000130'\n",
    "config={\n",
    "            \"framework\": \"torch\",\n",
    "            \"num_gpus\": 1,\n",
    "            \"num_workers\": 2,\n",
    "            \"num_envs_per_worker\": train_envs,\n",
    "            'num_sgd_iter': 15,\n",
    "            'sgd_minibatch_size': 128,\n",
    "            'num_cpus_per_worker': 0,  # This avoids running out of resources in the notebook environment when this cell is re-executed\n",
    "            \"model\": {\n",
    "                \"custom_model\": \"GN_CNN_torch_model\",\n",
    "                \"custom_model_config\": {'feature_dim':128},\n",
    "            },\n",
    "            '_disable_preprocessor_api': True,\n",
    "        }\n",
    "algo = ppo.PPO(config=config, env='L5-CLE-V1')\n",
    "algo.restore(checkpoint_path)"
   ]
  },
  {
   "cell_type": "code",
   "execution_count": null,
   "id": "2c13a811",
   "metadata": {
    "colab": {
     "base_uri": "https://localhost:8080/",
     "height": 1000
    },
    "id": "eR892sUGybQR",
    "outputId": "4a39bb59-2025-4cca-b3ee-a031312eb0c3"
   },
   "outputs": [],
   "source": [
    "checkpoint_path =  '/content/drive/MyDrive/Colab Notebooks/l5kit/rllib_logs/'+ str(datetime.date.today())\n",
    "for i in range(1, 1000):\n",
    "   # Perform one iteration of training the policy with PPO\n",
    "   result = algo.train()\n",
    "   print(pretty_print(result))\n",
    "\n",
    "   if i % 10 == 0:\n",
    "       checkpoint = algo.save(checkpoint_dir= checkpoint_path)\n",
    "       print(\"checkpoint saved at\", checkpoint)"
   ]
  },
  {
   "cell_type": "code",
   "execution_count": null,
   "id": "bf9cefd1",
   "metadata": {
    "id": "GnXlEIp3xktb"
   },
   "outputs": [],
   "source": [
    "checkpoint_path =  '/content/drive/MyDrive/Colab Notebooks/l5kit/rllib_logs/'+ str(datetime.date.today())\n",
    "for i in range(1, 1000):\n",
    "   # Perform one iteration of training the policy with PPO\n",
    "   result = algo.train()\n",
    "   print(pretty_print(result))\n",
    "\n",
    "   if i % 1 == 0:\n",
    "       checkpoint = algo.save(checkpoint_dir= checkpoint_path)\n",
    "       print(\"checkpoint saved at\", checkpoint)"
   ]
  },
  {
   "cell_type": "code",
   "execution_count": null,
   "id": "54ea4f53",
   "metadata": {
    "colab": {
     "base_uri": "https://localhost:8080/"
    },
    "id": "EvrD01hihER4",
    "outputId": "40bfcbc9-a62c-49ba-f914-a3dbe934a2ea"
   },
   "outputs": [],
   "source": [
    "train_envs = 2\n",
    "config = ppo.DEFAULT_CONFIG.copy()\n",
    "config[\"num_gpus\"] = 1\n",
    "# config[\"framework\"] = 'tf2'\n",
    "config[\"num_workers\"] = 2\n",
    "config[\"num_envs_per_worker\"] = train_envs\n",
    "config['_disable_preprocessor_api'] = True,\n",
    "config[\"model\"][\"dim\"] = 112\n",
    "config[\"model\"][\"conv_filters\"] = [[64, 7, 3], [32, 11, 3], [32, 11, 3]]\n",
    "config['num_sgd_iter'] = 1\n",
    "config['sgd_minibatch_size'] = 256\n",
    "# config['model']['fcnet_hiddens'] = [100, 100]\n",
    "config['num_cpus_per_worker'] = 0  # This avoids running out of resources in the notebook environment when this cell is re-executed\n",
    "# config['env_config'] = env_kwargs \n",
    "# config[\"log_level\"] = 1\n",
    "# config[\"evaluation_interval\"] = 1 # change to 10000\n",
    "# config[\"evaluation_duration\"] = \"auto\"\n",
    "# config[\"evaluation_parallel_to_training\"] = True,\n",
    "# config[\"evaluation_duration_unit\"] = \"timesteps\"\n",
    "# config[\"evaluation_num_workers\"] = 3\n",
    "# config[\"enable_async_evaluation\"] = True,\n",
    "\n",
    "config[\"model\"][\"conv_activation\"] = 'relu'\n",
    "config[\"model\"][\"post_fcnet_hiddens\"] =  [256]\n",
    "config[\"model\"][\"post_fcnet_activation\"] = 'relu'\n",
    "# config[\"train_batch_size\"] = 200\n",
    "algo = ppo.PPO(config=config, env=\"L5-CLE-V1\")"
   ]
  },
  {
   "cell_type": "code",
   "execution_count": null,
   "id": "b234eeb9",
   "metadata": {
    "colab": {
     "base_uri": "https://localhost:8080/",
     "height": 1000
    },
    "id": "ErrnMkgMFowP",
    "outputId": "70c40c5a-1b39-4324-fcfc-6bcc57464ec0"
   },
   "outputs": [],
   "source": [
    "checkpoint_path =  '/content/drive/MyDrive/Colab Notebooks/l5kit/rllib_logs/'+ str(datetime.date.today())\n",
    "for i in range(1, 1000):\n",
    "   # Perform one iteration of training the policy with PPO\n",
    "   result = algo.train()\n",
    "   print(pretty_print(result))\n",
    "\n",
    "   if i % 10 == 0:\n",
    "       checkpoint = algo.save(checkpoint_dir= checkpoint_path)\n",
    "       print(\"checkpoint saved at\", checkpoint)"
   ]
  },
  {
   "cell_type": "markdown",
   "id": "85d5b7dc",
   "metadata": {
    "id": "d24f956c",
    "tags": []
   },
   "source": [
    "## Visualize the episode from the environment\n",
    "\n",
    "We can easily visualize the outputs obtained by rolling out episodes in the L5Kit using the Bokeh visualizer."
   ]
  },
  {
   "cell_type": "code",
   "execution_count": 8,
   "id": "933cd644-8532-4763-beb0-d3e598aa75c7",
   "metadata": {
    "tags": []
   },
   "outputs": [],
   "source": [
    "train_envs = 4\n",
    "lr = 3e-3\n",
    "lr_start = 3e-4\n",
    "lr_end = 3e-5\n",
    "config_param_space = {\n",
    "    \"env\": \"L5-CLE-V1\",\n",
    "    \"framework\": \"torch\",\n",
    "    \"num_gpus\": 0,\n",
    "    # \"num_workers\": 63,\n",
    "    \"num_envs_per_worker\": train_envs,\n",
    "    'q_model_config' : {\n",
    "            # \"dim\": 112,\n",
    "            # \"conv_filters\" : [[64, [7,7], 3], [32, [11,11], 3], [32, [11,11], 3]],\n",
    "            # \"conv_activation\": \"relu\",\n",
    "            \"post_fcnet_hiddens\": [256],\n",
    "            \"post_fcnet_activation\": \"relu\",\n",
    "        },\n",
    "    'policy_model_config' : {\n",
    "            # \"dim\": 112,\n",
    "            # \"conv_filters\" : [[64, [7,7], 3], [32, [11,11], 3], [32, [11,11], 3]],\n",
    "            # \"conv_activation\": \"relu\",\n",
    "            \"post_fcnet_hiddens\": [256],\n",
    "            \"post_fcnet_activation\": \"relu\",\n",
    "        },\n",
    "    'tau': 0.005,\n",
    "    'target_network_update_freq': 1,\n",
    "    'replay_buffer_config':{\n",
    "        'type': 'MultiAgentPrioritizedReplayBuffer',\n",
    "        'capacity': int(1e5),\n",
    "        \"worker_side_prioritization\": True,\n",
    "    },\n",
    "    'num_steps_sampled_before_learning_starts': 8000,\n",
    "    \n",
    "    'target_entropy': 'auto',\n",
    "#     \"model\": {\n",
    "#         \"custom_model\": \"GN_CNN_torch_model\",\n",
    "#         \"custom_model_config\": {'feature_dim':128},\n",
    "#     },\n",
    "    '_disable_preprocessor_api': True,\n",
    "     \"eager_tracing\": True,\n",
    "     \"restart_failed_sub_environments\": True,\n",
    " \n",
    "    # 'train_batch_size': 4000,\n",
    "    # 'sgd_minibatch_size': 256,\n",
    "    # 'num_sgd_iter': 16,\n",
    "    # 'store_buffer_in_checkpoints' : False,\n",
    "    'seed': 42,\n",
    "    'batch_mode': 'truncate_episodes',\n",
    "    \"rollout_fragment_length\": 1,\n",
    "    'train_batch_size': 2048,\n",
    "    'training_intensity' : 32, # (4x 'natural' value = 8)\n",
    "    'gamma': 0.8,\n",
    "    'twin_q' : True,\n",
    "    \"lr\": 3e-4,\n",
    "    \"min_sample_timesteps_per_iteration\": 8000,\n",
    "}\n"
   ]
  },
  {
   "attachments": {},
   "cell_type": "markdown",
   "id": "eed8b68c",
   "metadata": {},
   "source": [
    "#### Old version (use reshape)"
   ]
  },
  {
   "cell_type": "code",
   "execution_count": 6,
   "id": "d1ee5f30",
   "metadata": {},
   "outputs": [],
   "source": [
    "from src.customEnv.wrapper import  L5EnvWrapper\n",
    "from ray import tune\n",
    "rollout_sim_cfg = SimulationConfigGym()\n",
    "rollout_sim_cfg.num_simulation_steps = None\n",
    "\n",
    "env_kwargs = {'env_config_path': env_config_path, \n",
    "              'use_kinematic': True, \n",
    "              'sim_cfg': rollout_sim_cfg,  \n",
    "              'train': False, \n",
    "              'return_info': True}\n",
    "\n",
    "rollout_env = L5EnvWrapper(env = L5Env(**env_kwargs), \\\n",
    "                           raster_size= cfg['raster_params']['raster_size'][0], \\\n",
    "                           n_channels = 7,)\n",
    "tune.register_env(\"L5-CLE-EVAL-V1\", \n",
    "                  lambda config: L5EnvWrapper(env = L5Env(**env_kwargs), \\\n",
    "                                              raster_size= cfg['raster_params']['raster_size'][0], \\\n",
    "                                              n_channels = 7))"
   ]
  },
  {
   "cell_type": "code",
   "execution_count": 9,
   "metadata": {},
   "outputs": [
    {
     "name": "stderr",
     "output_type": "stream",
     "text": [
      "2023-04-24 01:24:34,298\tWARNING deprecation.py:47 -- DeprecationWarning: `algo = Algorithm(env='L5-CLE-EVAL-V1', ...)` has been deprecated. Use `algo = AlgorithmConfig().environment('L5-CLE-EVAL-V1').build()` instead. This will raise an error in the future!\n",
      "2023-04-24 01:24:34,318\tINFO algorithm.py:501 -- Current log_level is WARN. For more information, set 'log_level': 'INFO' / 'DEBUG' or use the -v and -vv flags.\n",
      "2023-04-24 01:24:38,057\tWARNING env.py:147 -- Your env doesn't have a .spec.max_episode_steps attribute. This is fine if you have set 'horizon' in your config dictionary, or `soft_horizon`. However, if you haven't, 'horizon' will default to infinity, and your environment will not be reset.\n",
      "/home/pronton/rlhf-car/l5kit2/l5kit/l5kit/data/zarr_dataset.py:213: RuntimeWarning: zarr dataset path should end with .zarr (for now). Open will fail for this dataset!\n",
      "  dataset = ChunkedDataset(\"\")\n",
      "/home/pronton/rlhf-car/l5kit2/l5kit/l5kit/simulation/utils.py:107: RuntimeWarning: zarr dataset path should end with .zarr (for now). Open will fail for this dataset!\n",
      "  new_dataset = ChunkedDataset(\"\")\n",
      "2023-04-24 01:24:50,640\tINFO trainable.py:172 -- Trainable.setup took 16.326 seconds. If your trainable is slow to initialize, consider setting reuse_actors=True to reduce actor creation overheads.\n",
      "2023-04-24 01:24:50,642\tWARNING util.py:66 -- Install gputil for GPU system monitoring.\n",
      "2023-04-24 01:24:50,651\tWARNING algorithm_config.py:488 -- Cannot create SACConfig from given `config_dict`! Property __stdout_file__ not supported.\n",
      "2023-04-24 01:24:50,783\tINFO trainable.py:790 -- Restored on 172.17.0.2 from checkpoint: /home/pronton/ray_results/31-12-2022_07-53-04(SAC ~-30)/SAC/SAC_L5-CLE-V1_7bae1_00000_0_2022-12-31_00-53-04/checkpoint_000360\n",
      "2023-04-24 01:24:50,784\tINFO trainable.py:799 -- Current state after restoring: {'_iteration': 360, '_timesteps_total': None, '_time_total': 42411.00874257088, '_episodes_total': 93492}\n"
     ]
    }
   ],
   "source": [
    "from ray.rllib.algorithms.sac import SAC\n",
    "# checkpoint_path = 'l5kit/ray_results/01-01-2023_15-53-49/SAC/SAC_L5-CLE-V1_cf7bb_00000_0_2023-01-01_08-53-50/checkpoint_000170'\n",
    "checkpoint_path = '/home/pronton/ray_results/31-12-2022_07-53-04(SAC ~-30)/SAC/SAC_L5-CLE-V1_7bae1_00000_0_2022-12-31_00-53-04/checkpoint_000360'\n",
    "# checkpoint_path = '~/ray_results/30-03-2023_18-30-15/SAC/SAC_L5-CLE-V1_3de88_00000_0_2023-03-30_11-30-15/checkpoint_000100'\n",
    "model = SAC(config=config_param_space, env='L5-CLE-EVAL-V1')\n",
    "model.restore(checkpoint_path)"
   ]
  },
  {
   "cell_type": "code",
   "execution_count": null,
   "id": "7fd1531d",
   "metadata": {},
   "outputs": [],
   "source": []
  },
  {
   "cell_type": "code",
   "execution_count": 10,
   "id": "95267639",
   "metadata": {},
   "outputs": [
    {
     "name": "stdout",
     "output_type": "stream",
     "text": [
      "('extra_python_environs_for_driver', {})\n",
      "('extra_python_environs_for_worker', {})\n",
      "('num_gpus', 0)\n",
      "('num_cpus_per_worker', 1)\n",
      "('num_gpus_per_worker', 0)\n",
      "('_fake_gpus', False)\n",
      "('custom_resources_per_worker', {})\n",
      "('placement_strategy', 'PACK')\n",
      "('eager_tracing', True)\n",
      "('eager_max_retraces', 20)\n",
      "('tf_session_args', {'intra_op_parallelism_threads': 2, 'inter_op_parallelism_threads': 2, 'gpu_options': {'allow_growth': True}, 'log_device_placement': False, 'device_count': {'CPU': 1}, 'allow_soft_placement': True})\n",
      "('local_tf_session_args', {'intra_op_parallelism_threads': 8, 'inter_op_parallelism_threads': 8})\n",
      "('env', 'L5-CLE-EVAL-V1')\n",
      "('env_config', {})\n",
      "('observation_space', None)\n",
      "('action_space', None)\n",
      "('env_task_fn', None)\n",
      "('render_env', False)\n",
      "('clip_rewards', None)\n",
      "('normalize_actions', True)\n",
      "('clip_actions', False)\n",
      "('disable_env_checking', False)\n",
      "('num_envs_per_worker', 4)\n",
      "('sample_collector', <class 'ray.rllib.evaluation.collectors.simple_list_collector.SimpleListCollector'>)\n",
      "('sample_async', False)\n",
      "('enable_connectors', False)\n",
      "('rollout_fragment_length', 1)\n",
      "('batch_mode', 'truncate_episodes')\n",
      "('remote_worker_envs', False)\n",
      "('remote_env_batch_wait_ms', 0)\n",
      "('validate_workers_after_construction', True)\n",
      "('ignore_worker_failures', False)\n",
      "('recreate_failed_workers', False)\n",
      "('restart_failed_sub_environments', True)\n",
      "('num_consecutive_worker_failures_tolerance', 100)\n",
      "('horizon', None)\n",
      "('soft_horizon', False)\n",
      "('no_done_at_end', False)\n",
      "('preprocessor_pref', 'deepmind')\n",
      "('observation_filter', 'NoFilter')\n",
      "('synchronize_filters', True)\n",
      "('compress_observations', False)\n",
      "('enable_tf1_exec_eagerly', False)\n",
      "('sampler_perf_stats_ema_coef', None)\n",
      "('gamma', 0.8)\n",
      "('lr', 0.0003)\n",
      "('train_batch_size', 2048)\n",
      "('model', {'_use_default_native_models': False, '_disable_preprocessor_api': True, '_disable_action_flattening': False, 'fcnet_hiddens': [256, 256], 'fcnet_activation': 'tanh', 'conv_filters': None, 'conv_activation': 'relu', 'post_fcnet_hiddens': [], 'post_fcnet_activation': 'relu', 'free_log_std': False, 'no_final_linear': False, 'vf_share_layers': True, 'use_lstm': False, 'max_seq_len': 20, 'lstm_cell_size': 256, 'lstm_use_prev_action': False, 'lstm_use_prev_reward': False, '_time_major': False, 'use_attention': False, 'attention_num_transformer_units': 1, 'attention_dim': 64, 'attention_num_heads': 1, 'attention_head_dim': 32, 'attention_memory_inference': 50, 'attention_memory_training': 50, 'attention_position_wise_mlp_dim': 32, 'attention_init_gru_gate_bias': 2.0, 'attention_use_n_prev_actions': 0, 'attention_use_n_prev_rewards': 0, 'framestack': True, 'dim': 84, 'grayscale': False, 'zero_mean': True, 'custom_model': None, 'custom_model_config': {}, 'custom_action_dist': None, 'custom_preprocessor': None, 'lstm_use_prev_action_reward': -1})\n",
      "('optimizer', {})\n",
      "('max_requests_in_flight_per_sampler_worker', 2)\n",
      "('explore', True)\n",
      "('exploration_config', {'type': 'StochasticSampling'})\n",
      "('input_config', {})\n",
      "('actions_in_input_normalized', False)\n",
      "('postprocess_inputs', False)\n",
      "('shuffle_buffer_size', 0)\n",
      "('output', None)\n",
      "('output_config', {})\n",
      "('output_compress_columns', ['obs', 'new_obs'])\n",
      "('output_max_file_size', 67108864)\n",
      "('offline_sampling', False)\n",
      "('evaluation_interval', None)\n",
      "('evaluation_duration', 10)\n",
      "('evaluation_duration_unit', 'episodes')\n",
      "('evaluation_sample_timeout_s', 180.0)\n",
      "('evaluation_parallel_to_training', False)\n",
      "('evaluation_config', None)\n",
      "('off_policy_estimation_methods', {})\n",
      "('ope_split_batch_by_episode', True)\n",
      "('evaluation_num_workers', 0)\n",
      "('always_attach_evaluation_results', False)\n",
      "('enable_async_evaluation', False)\n",
      "('in_evaluation', False)\n",
      "('sync_filters_on_rollout_workers_timeout_s', 60.0)\n",
      "('keep_per_episode_custom_metrics', False)\n",
      "('metrics_episode_collection_timeout_s', 60.0)\n",
      "('metrics_num_episodes_for_smoothing', 100)\n",
      "('min_time_s_per_iteration', 1)\n",
      "('min_train_timesteps_per_iteration', 0)\n",
      "('min_sample_timesteps_per_iteration', 8000)\n",
      "('export_native_model_files', False)\n",
      "('logger_creator', None)\n",
      "('logger_config', None)\n",
      "('log_level', 'WARN')\n",
      "('log_sys_usage', True)\n",
      "('fake_sampler', False)\n",
      "('seed', 42)\n",
      "('worker_cls', None)\n",
      "('_tf_policy_handles_more_than_one_loss', False)\n",
      "('_disable_preprocessor_api', True)\n",
      "('_disable_action_flattening', False)\n",
      "('_disable_execution_plan_api', True)\n",
      "('simple_optimizer', False)\n",
      "('replay_sequence_length', None)\n",
      "('twin_q', True)\n",
      "('q_model_config', {'post_fcnet_hiddens': [256], 'post_fcnet_activation': 'relu'})\n",
      "('policy_model_config', {'post_fcnet_hiddens': [256], 'post_fcnet_activation': 'relu'})\n",
      "('tau', 0.005)\n",
      "('initial_alpha', 1.0)\n",
      "('target_entropy', 'auto')\n",
      "('n_step', 1)\n",
      "('replay_buffer_config', {'_enable_replay_buffer_api': True, 'type': 'MultiAgentPrioritizedReplayBuffer', 'capacity': 100000, 'prioritized_replay': False, 'prioritized_replay_alpha': 0.6, 'prioritized_replay_beta': 0.4, 'prioritized_replay_eps': 1e-06, 'worker_side_prioritization': True})\n",
      "('store_buffer_in_checkpoints', False)\n",
      "('training_intensity', 32)\n",
      "('optimization', {'actor_learning_rate': 0.0003, 'critic_learning_rate': 0.0003, 'entropy_learning_rate': 0.0003})\n",
      "('grad_clip', None)\n",
      "('target_network_update_freq', 1)\n",
      "('num_steps_sampled_before_learning_starts', 8000)\n",
      "('_deterministic_loss', False)\n",
      "('_use_beta_distribution', False)\n",
      "('use_state_preprocessor', -1)\n",
      "('worker_side_prioritization', -1)\n",
      "('input', 'sampler')\n",
      "('multiagent', {'policies': {'default_policy': <ray.rllib.policy.policy.PolicySpec object at 0x7f4497bf79d0>}, 'policy_mapping_fn': <function AlgorithmConfig.__init__.<locals>.<lambda> at 0x7f47b401b9d0>, 'policies_to_train': None, 'policy_map_capacity': 100, 'policy_map_cache': None, 'count_steps_by': 'env_steps', 'observation_fn': None})\n",
      "('callbacks', <class 'ray.rllib.algorithms.callbacks.DefaultCallbacks'>)\n",
      "('create_env_on_driver', False)\n",
      "('custom_eval_function', None)\n",
      "('framework', 'torch')\n",
      "('num_cpus_for_driver', 1)\n",
      "('num_workers', 0)\n"
     ]
    }
   ],
   "source": [
    "for v in model.get_config().items():\n",
    "    print(v)"
   ]
  },
  {
   "cell_type": "code",
   "execution_count": 20,
   "id": "c76eaf98",
   "metadata": {},
   "outputs": [
    {
     "ename": "AttributeError",
     "evalue": "'SACTorchPolicy' object has no attribute 'get_model'",
     "output_type": "error",
     "traceback": [
      "\u001b[0;31m---------------------------------------------------------------------------\u001b[0m",
      "\u001b[0;31mAttributeError\u001b[0m                            Traceback (most recent call last)",
      "\u001b[0;32m/tmp/ipykernel_3563683/2920539675.py\u001b[0m in \u001b[0;36m<module>\u001b[0;34m\u001b[0m\n\u001b[1;32m      1\u001b[0m \u001b[0mSACModel\u001b[0m \u001b[0;34m=\u001b[0m \u001b[0mmodel\u001b[0m\u001b[0;34m.\u001b[0m\u001b[0mget_policy\u001b[0m\u001b[0;34m(\u001b[0m\u001b[0;34m)\u001b[0m\u001b[0;34m\u001b[0m\u001b[0;34m\u001b[0m\u001b[0m\n\u001b[0;32m----> 2\u001b[0;31m \u001b[0mprint\u001b[0m\u001b[0;34m(\u001b[0m\u001b[0mSACModel\u001b[0m\u001b[0;34m.\u001b[0m\u001b[0mget_model\u001b[0m\u001b[0;34m(\u001b[0m\u001b[0;34m)\u001b[0m\u001b[0;34m.\u001b[0m\u001b[0meval\u001b[0m\u001b[0;34m(\u001b[0m\u001b[0;34m)\u001b[0m\u001b[0;34m)\u001b[0m\u001b[0;34m\u001b[0m\u001b[0;34m\u001b[0m\u001b[0m\n\u001b[0m\u001b[1;32m      3\u001b[0m \u001b[0;32mfor\u001b[0m \u001b[0mparam_tensor\u001b[0m \u001b[0;32min\u001b[0m \u001b[0mSACModel\u001b[0m\u001b[0;34m.\u001b[0m\u001b[0mstate_dict\u001b[0m\u001b[0;34m(\u001b[0m\u001b[0;34m)\u001b[0m\u001b[0;34m:\u001b[0m\u001b[0;34m\u001b[0m\u001b[0;34m\u001b[0m\u001b[0m\n\u001b[1;32m      4\u001b[0m     \u001b[0mprint\u001b[0m\u001b[0;34m(\u001b[0m\u001b[0mparam_tensor\u001b[0m\u001b[0;34m,\u001b[0m \u001b[0;34m\"\\t\"\u001b[0m\u001b[0;34m,\u001b[0m \u001b[0mSACModel\u001b[0m\u001b[0;34m.\u001b[0m\u001b[0mstate_dict\u001b[0m\u001b[0;34m(\u001b[0m\u001b[0;34m)\u001b[0m\u001b[0;34m[\u001b[0m\u001b[0mparam_tensor\u001b[0m\u001b[0;34m]\u001b[0m\u001b[0;34m.\u001b[0m\u001b[0msize\u001b[0m\u001b[0;34m(\u001b[0m\u001b[0;34m)\u001b[0m\u001b[0;34m)\u001b[0m\u001b[0;34m\u001b[0m\u001b[0;34m\u001b[0m\u001b[0m\n",
      "\u001b[0;31mAttributeError\u001b[0m: 'SACTorchPolicy' object has no attribute 'get_model'"
     ]
    }
   ],
   "source": [
    "SACModel = model.get_policy()\n",
    "print(SACModel.get_model().eval())\n",
    "for param_tensor in SACModel.state_dict():\n",
    "    print(param_tensor, \"\\t\", SACModel.state_dict()[param_tensor].size())\n"
   ]
  },
  {
   "cell_type": "code",
   "execution_count": null,
   "id": "d5d95f98",
   "metadata": {},
   "outputs": [],
   "source": [
    "model.get_policy().get_weights()"
   ]
  },
  {
   "cell_type": "code",
   "execution_count": 7,
   "id": "6f838d68",
   "metadata": {},
   "outputs": [],
   "source": [
    "obs = []\n",
    "obs.append([rollout_env.reset() for _ in range(5)])\n",
    "obs = np.asarray(obs)"
   ]
  },
  {
   "cell_type": "code",
   "execution_count": 8,
   "id": "16b9f5b4",
   "metadata": {},
   "outputs": [
    {
     "data": {
      "text/plain": [
       "ray.rllib.models.torch.torch_action_dist.TorchSquashedGaussian"
      ]
     },
     "execution_count": 8,
     "metadata": {},
     "output_type": "execute_result"
    }
   ],
   "source": [
    "model.get_policy().dist_class"
   ]
  },
  {
   "cell_type": "code",
   "execution_count": 9,
   "id": "542686dd",
   "metadata": {},
   "outputs": [],
   "source": [
    "policy = model.get_policy()"
   ]
  },
  {
   "cell_type": "code",
   "execution_count": 18,
   "id": "5f6e0e74",
   "metadata": {},
   "outputs": [
    {
     "name": "stdout",
     "output_type": "stream",
     "text": [
      "(array([[-0.376823  , -0.4629351 , -0.8709158 ],\n",
      "       [ 0.64602387, -0.44254756,  0.50492704],\n",
      "       [-0.39276624, -0.09396899, -0.8310334 ],\n",
      "       [-0.39290464,  0.3709277 ,  0.08626091],\n",
      "       [ 0.6211262 ,  0.26121807,  0.5105128 ]], dtype=float32), [], {'action_dist_inputs': array([[-0.19472158, -0.63937277,  0.27803427, -1.65331   , -1.2777526 ,\n",
      "        -0.50760555],\n",
      "       [ 0.8625838 , -0.88055015,  0.16022171, -1.5165588 , -1.1601075 ,\n",
      "        -0.5807057 ],\n",
      "       [-0.61988044,  0.27909648,  0.22031376, -1.6260062 , -1.6626368 ,\n",
      "        -0.42910782],\n",
      "       [-0.34147814, -0.6313651 ,  0.2227588 , -1.4798933 , -1.0846953 ,\n",
      "        -0.52789146],\n",
      "       [ 0.30668092,  0.46159586,  0.21474728, -1.3609861 , -1.1368455 ,\n",
      "        -0.07608083]], dtype=float32), 'action_prob': array([0.16867828, 1.4558302 , 0.0804387 , 0.01866076, 0.39878413],\n",
      "      dtype=float32), 'action_logp': array([-1.779762  ,  0.37557632, -2.5202599 , -3.9813323 , -0.919335  ],\n",
      "      dtype=float32)})\n",
      "[[-0.19472158 -0.63937277  0.27803427 -1.65331    -1.2777526  -0.50760555]\n",
      " [ 0.8625838  -0.88055015  0.16022171 -1.5165588  -1.1601075  -0.5807057 ]\n",
      " [-0.61988044  0.27909648  0.22031376 -1.6260062  -1.6626368  -0.42910782]\n",
      " [-0.34147814 -0.6313651   0.2227588  -1.4798933  -1.0846953  -0.52789146]\n",
      " [ 0.30668092  0.46159586  0.21474728 -1.3609861  -1.1368455  -0.07608083]]\n"
     ]
    }
   ],
   "source": [
    "# model.compute_single_action(obs.reshape(-1,84,84,7))\n",
    "actions = model.get_policy().compute_actions_from_input_dict({'obs':obs.reshape(-1,84,84,7)})\n",
    "print(actions)\n",
    "action_dist = actions[2]['action_dist_inputs']\n",
    "print(action_dist)"
   ]
  },
  {
   "cell_type": "code",
   "execution_count": 19,
   "id": "13787f48",
   "metadata": {},
   "outputs": [],
   "source": [
    "import torch\n",
    "device = torch.device('cpu')\n",
    "dist = policy.dist_class(torch.as_tensor(action_dist).to(device), policy.model).sample()\n"
   ]
  },
  {
   "cell_type": "code",
   "execution_count": 22,
   "id": "668f631f",
   "metadata": {},
   "outputs": [
    {
     "ename": "NotImplementedError",
     "evalue": "No KL(p || q) is implemented for p type builtin_function_or_method and q type Tensor",
     "output_type": "error",
     "traceback": [
      "\u001b[0;31m---------------------------------------------------------------------------\u001b[0m",
      "\u001b[0;31mNotImplementedError\u001b[0m                       Traceback (most recent call last)",
      "\u001b[0;32m/tmp/ipykernel_3674323/2635682607.py\u001b[0m in \u001b[0;36m<module>\u001b[0;34m\u001b[0m\n\u001b[1;32m      1\u001b[0m \u001b[0;32mimport\u001b[0m \u001b[0mtorch\u001b[0m \u001b[0;32mas\u001b[0m \u001b[0mth\u001b[0m\u001b[0;34m\u001b[0m\u001b[0;34m\u001b[0m\u001b[0m\n\u001b[1;32m      2\u001b[0m \u001b[0;34m\u001b[0m\u001b[0m\n\u001b[0;32m----> 3\u001b[0;31m \u001b[0mth\u001b[0m\u001b[0;34m.\u001b[0m\u001b[0mdistributions\u001b[0m\u001b[0;34m.\u001b[0m\u001b[0mkl_divergence\u001b[0m\u001b[0;34m(\u001b[0m\u001b[0mdist\u001b[0m\u001b[0;34m.\u001b[0m\u001b[0mtanh\u001b[0m\u001b[0;34m,\u001b[0m \u001b[0mdist\u001b[0m\u001b[0;34m)\u001b[0m\u001b[0;34m\u001b[0m\u001b[0;34m\u001b[0m\u001b[0m\n\u001b[0m",
      "\u001b[0;32m~/rlhf-car/l5kit2/l5kit/.venv/lib/python3.8/site-packages/torch/distributions/kl.py\u001b[0m in \u001b[0;36mkl_divergence\u001b[0;34m(p, q)\u001b[0m\n\u001b[1;32m    168\u001b[0m         \u001b[0m_KL_MEMOIZE\u001b[0m\u001b[0;34m[\u001b[0m\u001b[0mtype\u001b[0m\u001b[0;34m(\u001b[0m\u001b[0mp\u001b[0m\u001b[0;34m)\u001b[0m\u001b[0;34m,\u001b[0m \u001b[0mtype\u001b[0m\u001b[0;34m(\u001b[0m\u001b[0mq\u001b[0m\u001b[0;34m)\u001b[0m\u001b[0;34m]\u001b[0m \u001b[0;34m=\u001b[0m \u001b[0mfun\u001b[0m\u001b[0;34m\u001b[0m\u001b[0;34m\u001b[0m\u001b[0m\n\u001b[1;32m    169\u001b[0m     \u001b[0;32mif\u001b[0m \u001b[0mfun\u001b[0m \u001b[0;32mis\u001b[0m \u001b[0mNotImplemented\u001b[0m\u001b[0;34m:\u001b[0m\u001b[0;34m\u001b[0m\u001b[0;34m\u001b[0m\u001b[0m\n\u001b[0;32m--> 170\u001b[0;31m         raise NotImplementedError(\"No KL(p || q) is implemented for p type {} and q type {}\"\n\u001b[0m\u001b[1;32m    171\u001b[0m                                   .format(p.__class__.__name__, q.__class__.__name__))\n\u001b[1;32m    172\u001b[0m     \u001b[0;32mreturn\u001b[0m \u001b[0mfun\u001b[0m\u001b[0;34m(\u001b[0m\u001b[0mp\u001b[0m\u001b[0;34m,\u001b[0m \u001b[0mq\u001b[0m\u001b[0;34m)\u001b[0m\u001b[0;34m\u001b[0m\u001b[0;34m\u001b[0m\u001b[0m\n",
      "\u001b[0;31mNotImplementedError\u001b[0m: No KL(p || q) is implemented for p type builtin_function_or_method and q type Tensor"
     ]
    }
   ],
   "source": [
    "import torch as th\n",
    "\n",
    "th.distributions.kl_divergence(dist, dist)"
   ]
  },
  {
   "cell_type": "code",
   "execution_count": 47,
   "metadata": {},
   "outputs": [
    {
     "ename": "AttributeError",
     "evalue": "'L5Env' object has no attribute 'get_unwrapped'",
     "output_type": "error",
     "traceback": [
      "\u001b[0;31m---------------------------------------------------------------------------\u001b[0m",
      "\u001b[0;31mAttributeError\u001b[0m                            Traceback (most recent call last)",
      "\u001b[0;32m/tmp/ipykernel_2685239/2618371551.py\u001b[0m in \u001b[0;36m<module>\u001b[0;34m\u001b[0m\n\u001b[1;32m      7\u001b[0m \u001b[0;31m# # Note that [0] is used to extract the action from the output dictionary.\u001b[0m\u001b[0;34m\u001b[0m\u001b[0;34m\u001b[0m\u001b[0;34m\u001b[0m\u001b[0m\n\u001b[1;32m      8\u001b[0m \u001b[0;34m\u001b[0m\u001b[0m\n\u001b[0;32m----> 9\u001b[0;31m \u001b[0mraw_action_dict\u001b[0m \u001b[0;34m=\u001b[0m \u001b[0mrollout_env\u001b[0m\u001b[0;34m.\u001b[0m\u001b[0mget_unwrapped\u001b[0m\u001b[0;34m(\u001b[0m\u001b[0;34m)\u001b[0m\u001b[0;34m.\u001b[0m\u001b[0maction_space\u001b[0m\u001b[0;34m.\u001b[0m\u001b[0msample\u001b[0m\u001b[0;34m(\u001b[0m\u001b[0;34m)\u001b[0m\u001b[0;34m\u001b[0m\u001b[0;34m\u001b[0m\u001b[0m\n\u001b[0m\u001b[1;32m     10\u001b[0m \u001b[0;34m\u001b[0m\u001b[0m\n",
      "\u001b[0;32m~/rlhf-car/l5kit2/l5kit/.venv/lib/python3.8/site-packages/gym/core.py\u001b[0m in \u001b[0;36m__getattr__\u001b[0;34m(self, name)\u001b[0m\n\u001b[1;32m    236\u001b[0m                 \u001b[0;34m\"attempted to get missing private attribute '{}'\"\u001b[0m\u001b[0;34m.\u001b[0m\u001b[0mformat\u001b[0m\u001b[0;34m(\u001b[0m\u001b[0mname\u001b[0m\u001b[0;34m)\u001b[0m\u001b[0;34m\u001b[0m\u001b[0;34m\u001b[0m\u001b[0m\n\u001b[1;32m    237\u001b[0m             )\n\u001b[0;32m--> 238\u001b[0;31m         \u001b[0;32mreturn\u001b[0m \u001b[0mgetattr\u001b[0m\u001b[0;34m(\u001b[0m\u001b[0mself\u001b[0m\u001b[0;34m.\u001b[0m\u001b[0menv\u001b[0m\u001b[0;34m,\u001b[0m \u001b[0mname\u001b[0m\u001b[0;34m)\u001b[0m\u001b[0;34m\u001b[0m\u001b[0;34m\u001b[0m\u001b[0m\n\u001b[0m\u001b[1;32m    239\u001b[0m \u001b[0;34m\u001b[0m\u001b[0m\n\u001b[1;32m    240\u001b[0m     \u001b[0;34m@\u001b[0m\u001b[0mproperty\u001b[0m\u001b[0;34m\u001b[0m\u001b[0;34m\u001b[0m\u001b[0m\n",
      "\u001b[0;31mAttributeError\u001b[0m: 'L5Env' object has no attribute 'get_unwrapped'"
     ]
    }
   ],
   "source": [
    "# action_dict = model.compute_action(obs)\n",
    "# print(action_dict)\n",
    "# action_dict = model.compute_action(obs)\n",
    "# action_mean = action_dict[\"action_mean\"] # Mean of the action distribution\n",
    "# action_std = action_dict[\"action_std\"] # Standard deviation of the action distribution\n",
    "# action = model.compute_action(obs, policy_id=\"default_policy\")[0]\n",
    "# # Note that [0] is used to extract the action from the output dictionary.\n",
    "\n",
    "raw_action_dict = rollout_env.get_unwrapped().action_space.sample()\n",
    "\n"
   ]
  },
  {
   "cell_type": "code",
   "execution_count": 41,
   "id": "1a7ca0aa",
   "metadata": {},
   "outputs": [
    {
     "ename": "AttributeError",
     "evalue": "'SAC' object has no attribute 'compute_actions_from_input_dict'",
     "output_type": "error",
     "traceback": [
      "\u001b[0;31m---------------------------------------------------------------------------\u001b[0m",
      "\u001b[0;31mAttributeError\u001b[0m                            Traceback (most recent call last)",
      "\u001b[0;32m/tmp/ipykernel_3974057/3545706675.py\u001b[0m in \u001b[0;36m<module>\u001b[0;34m\u001b[0m\n\u001b[1;32m      1\u001b[0m \u001b[0;31m# model.compute_single_action(obs, explore=True)\u001b[0m\u001b[0;34m\u001b[0m\u001b[0;34m\u001b[0m\u001b[0;34m\u001b[0m\u001b[0m\n\u001b[0;32m----> 2\u001b[0;31m \u001b[0mmodel\u001b[0m\u001b[0;34m.\u001b[0m\u001b[0mcompute_actions_from_input_dict\u001b[0m\u001b[0;34m(\u001b[0m\u001b[0mobs\u001b[0m\u001b[0;34m,\u001b[0m \u001b[0mexplore\u001b[0m\u001b[0;34m=\u001b[0m\u001b[0;32mTrue\u001b[0m\u001b[0;34m)\u001b[0m\u001b[0;34m\u001b[0m\u001b[0;34m\u001b[0m\u001b[0m\n\u001b[0m\u001b[1;32m      3\u001b[0m \u001b[0;31m# model.get_policy().action_distribution_fn\u001b[0m\u001b[0;34m\u001b[0m\u001b[0;34m\u001b[0m\u001b[0;34m\u001b[0m\u001b[0m\n",
      "\u001b[0;31mAttributeError\u001b[0m: 'SAC' object has no attribute 'compute_actions_from_input_dict'"
     ]
    }
   ],
   "source": [
    "# model.compute_single_action(obs, explore=True)\n",
    "model.compute_single_action(obs, explore=True)\n",
    "# model.get_policy().action_distribution_fn"
   ]
  },
  {
   "attachments": {},
   "cell_type": "markdown",
   "id": "6d42d5a5",
   "metadata": {},
   "source": [
    "#### New version (use transpose)"
   ]
  },
  {
   "cell_type": "code",
   "execution_count": 14,
   "id": "95614028-6363-4200-b6f3-4df46d51ba1e",
   "metadata": {
    "tags": []
   },
   "outputs": [
    {
     "ename": "NameError",
     "evalue": "name 'L5EnvWrapperTorch' is not defined",
     "output_type": "error",
     "traceback": [
      "\u001b[0;31m---------------------------------------------------------------------------\u001b[0m",
      "\u001b[0;31mNameError\u001b[0m                                 Traceback (most recent call last)",
      "\u001b[0;32m/tmp/ipykernel_977368/240771644.py\u001b[0m in \u001b[0;36m<module>\u001b[0;34m\u001b[0m\n\u001b[1;32m      9\u001b[0m               'return_info': True}\n\u001b[1;32m     10\u001b[0m \u001b[0;34m\u001b[0m\u001b[0m\n\u001b[0;32m---> 11\u001b[0;31m rollout_env = L5EnvWrapperTorch(env = L5Env(**env_kwargs), \\\n\u001b[0m\u001b[1;32m     12\u001b[0m                            \u001b[0mraster_size\u001b[0m\u001b[0;34m=\u001b[0m \u001b[0mcfg\u001b[0m\u001b[0;34m[\u001b[0m\u001b[0;34m'raster_params'\u001b[0m\u001b[0;34m]\u001b[0m\u001b[0;34m[\u001b[0m\u001b[0;34m'raster_size'\u001b[0m\u001b[0;34m]\u001b[0m\u001b[0;34m[\u001b[0m\u001b[0;36m0\u001b[0m\u001b[0;34m]\u001b[0m\u001b[0;34m,\u001b[0m\u001b[0;31m \u001b[0m\u001b[0;31m\\\u001b[0m\u001b[0;34m\u001b[0m\u001b[0;34m\u001b[0m\u001b[0m\n\u001b[1;32m     13\u001b[0m                            n_channels = 7,)\n",
      "\u001b[0;31mNameError\u001b[0m: name 'L5EnvWrapperTorch' is not defined"
     ]
    }
   ],
   "source": [
    "from ray import tune\n",
    "rollout_sim_cfg = SimulationConfigGym()\n",
    "rollout_sim_cfg.num_simulation_steps = None\n",
    "\n",
    "env_kwargs = {'env_config_path': env_config_path, \n",
    "              'use_kinematic': True, \n",
    "              'sim_cfg': rollout_sim_cfg,  \n",
    "              'train': True,\n",
    "              'return_info': True}\n",
    "\n",
    "rollout_env = L5EnvWrapperTorch(env = L5Env(**env_kwargs), \\\n",
    "                           raster_size= cfg['raster_params']['raster_size'][0], \\\n",
    "                           n_channels = 7,)\n",
    "tune.register_env(\"L5-CLE-EVAL-V1\", \n",
    "                  lambda config: L5EnvWrapperTorch(env = L5Env(**env_kwargs), \\\n",
    "                                              raster_size= cfg['raster_params']['raster_size'][0], \\\n",
    "                                              n_channels = 7))\n",
    "from ray.rllib.algorithms.sac import SAC\n",
    "# checkpoint_path = 'l5kit/ray_results/01-01-2023_15-53-49/SAC/SAC_L5-CLE-V1_cf7bb_00000_0_2023-01-01_08-53-50/checkpoint_000170'\n",
    "checkpoint_path = '~/ray_results/31-12-2022_07-53-04/SAC/SAC_L5-CLE-V1_7bae1_00000_0_2022-12-31_00-53-04/checkpoint_000360'\n",
    "# checkpoint_path = '~/ray_results/30-03-2023_18-30-15/SAC/SAC_L5-CLE-V1_3de88_00000_0_2023-03-30_11-30-15/checkpoint_000100'\n",
    "model = SAC(config=config_param_space, env='L5-CLE-EVAL-V1')\n",
    "model.restore(checkpoint_path)"
   ]
  },
  {
   "attachments": {},
   "cell_type": "markdown",
   "id": "063af87d",
   "metadata": {},
   "source": [
    "### Unroll scenes"
   ]
  },
  {
   "cell_type": "code",
   "execution_count": 73,
   "id": "816aaf13-b144-4e27-aeb8-0227cc34a653",
   "metadata": {
    "tags": []
   },
   "outputs": [
    {
     "name": "stdout",
     "output_type": "stream",
     "text": [
      "scene id: 0\n",
      "scene id: 5406\n",
      "scene id: 10812\n",
      "scene id: 16218\n"
     ]
    }
   ],
   "source": [
    "from src.simulation.unrollGym import unroll\n",
    "sim_outs = unroll(model, rollout_env,3,cfg['gym_params']['max_val_scene_id'])"
   ]
  },
  {
   "cell_type": "code",
   "execution_count": null,
   "id": "32bbc2c9",
   "metadata": {
    "id": "7e383cff",
    "tags": []
   },
   "outputs": [],
   "source": [
    "# might change with different rasterizer\n",
    "map_API = rollout_env.dataset.rasterizer.sem_rast.mapAPI\n",
    "\n",
    "def visualize_outputs(sim_outs, map_API):\n",
    "    for sim_out in sim_outs: # for each scene\n",
    "        vis_in = episode_out_to_visualizer_scene_gym_cle(sim_out, map_API)\n",
    "        # print(vis_in)\n",
    "        # break\n",
    "        show(visualize(sim_out.scene_id, vis_in))\n",
    "\n",
    "output_notebook()\n",
    "# visualize_outputs(sim_outs, map_API)"
   ]
  },
  {
   "cell_type": "code",
   "execution_count": null,
   "id": "dd42bd63",
   "metadata": {},
   "outputs": [],
   "source": [
    "map_API = rollout_env.dataset.rasterizer.sem_rast.mapAPI\n",
    "visualize_outputs(sim_outs,  map_API)"
   ]
  },
  {
   "cell_type": "markdown",
   "id": "bbda4321",
   "metadata": {
    "id": "DjpS1pIZJ0B-"
   },
   "source": [
    "## Calculate the performance metrics from the episode outputs\n",
    "\n",
    "We can also calculate the various quantitative metrics on the rolled out episode output. "
   ]
  },
  {
   "cell_type": "code",
   "execution_count": 75,
   "id": "d53dfbf8",
   "metadata": {},
   "outputs": [
    {
     "name": "stdout",
     "output_type": "stream",
     "text": [
      "+----------+---------+--------+--------+-----+-----+-----+---------+\n",
      "| scene_id |   FDE   |  ADE   |  DRT   |  CF |  CR |  CS |   PEGO  |\n",
      "+----------+---------+--------+--------+-----+-----+-----+---------+\n",
      "|    0     | 11.2623 | 1.9701 | 0.126  | 0.0 | 0.0 | 0.0 | -1.0473 |\n",
      "|   5406   |  0.1641 | 0.0621 | 0.0483 | 0.0 | 0.0 | 0.0 |  0.1412 |\n",
      "|  10812   |  0.0482 | 0.1119 | 0.0804 | 0.0 | 0.0 | 0.0 |  0.4604 |\n",
      "|  16218   | 14.4819 | 9.5843 | 0.4529 | 0.0 | 0.0 | 0.0 | -1.7485 |\n",
      "| Overall  |  6.4891 | 2.9321 | 0.1769 | 0.0 | 0.0 | 0.0 | -0.5486 |\n",
      "+----------+---------+--------+--------+-----+-----+-----+---------+\n"
     ]
    }
   ],
   "source": [
    "from src.validate.validator import compute_ade_fde, quantify_outputs\n",
    "ades, fdes = compute_ade_fde(sim_outs)\n",
    "quantify_outputs(sim_outs)"
   ]
  },
  {
   "cell_type": "code",
   "execution_count": null,
   "id": "2bf87d8f",
   "metadata": {},
   "outputs": [],
   "source": [
    "# might change with different rasterizer\n",
    "map_API = rollout_env.dataset.rasterizer.sem_rast.mapAPI\n",
    "# sim_outs_selected = [sim_outs[i] for i in sim_outs]\n",
    "visualize_outputs(sim_outs, map_API)"
   ]
  },
  {
   "cell_type": "code",
   "execution_count": 14,
   "id": "f318891b-41ea-415d-8521-fb9eb483c2cb",
   "metadata": {
    "tags": []
   },
   "outputs": [
    {
     "name": "stdout",
     "output_type": "stream",
     "text": [
      "+----------+----------+----------+----------+-----+-----+-----+---------+\n",
      "| scene_id |   FDE    |   ADE    |   DRT    |  CF |  CR |  CS |   PEGO  |\n",
      "+----------+----------+----------+----------+-----+-----+-----+---------+\n",
      "|    0     | 11.9189  |  1.9452  |  0.211   | 0.0 | 0.0 | 0.0 | -0.5733 |\n",
      "|   162    |  2.013   |  2.5135  |  0.2277  | 0.0 | 0.0 | 0.0 |  1.5096 |\n",
      "|   324    |  9.0136  |  7.9414  |  0.2872  | 0.0 | 0.0 | 0.0 | -0.0697 |\n",
      "|   486    |  5.665   | 10.6395  |  2.4558  | 0.0 | 0.0 | 0.0 |  3.9415 |\n",
      "|   648    |  0.2165  |  0.1742  |  0.3971  | 0.0 | 0.0 | 0.0 |  0.4628 |\n",
      "|   810    | 10.9085  | 14.2628  |  0.3138  | 0.0 | 0.0 | 0.0 | -2.3701 |\n",
      "|   972    |  7.5695  |  4.9072  |  4.0405  | 0.0 | 0.0 | 0.0 |  2.8179 |\n",
      "|   1134   | 13.4167  |  2.6445  |  0.4416  | 0.0 | 0.0 | 0.0 |  0.5397 |\n",
      "|   1296   |  0.7348  |  0.302   |  0.2365  | 0.0 | 0.0 | 0.0 |  1.1995 |\n",
      "|   1458   | 21.3159  |  2.6036  |  0.0449  | 0.0 | 0.0 | 0.0 |  1.5905 |\n",
      "|   1620   | 14.3864  | 18.7732  |  0.4502  | 0.0 | 0.0 | 0.0 |  1.4571 |\n",
      "|   1782   |  2.3389  |  4.5103  |  0.3348  | 0.0 | 0.0 | 0.0 | -0.6464 |\n",
      "|   1944   |  0.7831  |  0.6554  |  1.1945  | 0.0 | 0.0 | 0.0 |  0.8181 |\n",
      "|   2106   |  1.5885  |  2.647   |  0.2071  | 0.0 | 0.0 | 0.0 | -1.7289 |\n",
      "|   2268   |  3.6026  |  5.4641  |  0.2009  | 0.0 | 0.0 | 0.0 | -0.5136 |\n",
      "|   2430   |  4.0742  |  3.1884  |  0.475   | 0.0 | 0.0 | 0.0 | -2.0976 |\n",
      "|   2592   |  0.3377  |  0.4863  |  0.6329  | 0.0 | 0.0 | 0.0 |  1.6376 |\n",
      "|   2754   | 10.3442  |  7.7371  |  0.1987  | 0.0 | 0.0 | 0.0 |  0.5115 |\n",
      "|   2916   | 16.0316  |  4.9057  |  0.4359  | 0.0 | 0.0 | 0.0 | -1.9748 |\n",
      "|   3078   |  9.7426  |  9.2722  |  0.6442  | 0.0 | 0.0 | 0.0 |  -0.281 |\n",
      "|   3240   | 10.7465  |  2.6665  |  0.4481  | 0.0 | 0.0 | 0.0 |  0.5629 |\n",
      "|   3402   |  5.9696  |  5.4236  |  0.1418  | 0.0 | 0.0 | 0.0 | -4.1275 |\n",
      "|   3564   |  0.561   |  3.9892  |  0.0805  | 0.0 | 0.0 | 0.0 |  1.5398 |\n",
      "|   3726   | 130.6985 | 27.1559  | 12.0226  | 0.0 | 0.0 | 0.0 | -5.2998 |\n",
      "|   3888   | 13.9887  |  8.029   |  0.4606  | 0.0 | 0.0 | 0.0 |  1.9486 |\n",
      "|   4050   |  38.733  |  7.9519  |  2.8656  | 0.0 | 0.0 | 0.0 |  8.0142 |\n",
      "|   4212   |  10.95   |  4.3815  |  0.2517  | 0.0 | 0.0 | 0.0 | -1.7241 |\n",
      "|   4374   |  4.8754  |  4.1769  |  0.4347  | 0.0 | 0.0 | 0.0 |  0.3917 |\n",
      "|   4536   | 59.4164  | 13.9508  | 16.9079  | 0.0 | 0.0 | 0.0 | -0.5243 |\n",
      "|   4698   |  8.7924  |  3.7864  |  0.1614  | 0.0 | 0.0 | 0.0 |  2.4526 |\n",
      "|   4860   |  0.2028  |  0.2462  |  0.1026  | 0.0 | 0.0 | 0.0 |  0.1804 |\n",
      "|   5022   |   1.33   |  7.2961  |  0.1279  | 0.0 | 0.0 | 0.0 |  -5.316 |\n",
      "|   5184   |  0.0966  |  0.3716  |  0.1235  | 0.0 | 0.0 | 0.0 |  1.9728 |\n",
      "|   5346   |  1.5046  |  1.282   |  0.603   | 0.0 | 0.0 | 0.0 | -0.9162 |\n",
      "|   5508   | 156.2374 | 49.5784  |  6.937   | 0.0 | 0.0 | 0.0 | -2.1384 |\n",
      "|   5670   | 13.4374  |  8.7883  |  0.4599  | 0.0 | 0.0 | 0.0 |  4.2683 |\n",
      "|   5832   |  7.9121  |  5.3669  |  0.5333  | 0.0 | 0.0 | 0.0 |  0.8581 |\n",
      "|   5994   |  7.041   |  8.6752  |  0.2642  | 0.0 | 0.0 | 0.0 | -4.3627 |\n",
      "|   6156   |  4.6158  |  8.1539  |  0.1989  | 0.0 | 0.0 | 0.0 | -2.1835 |\n",
      "|   6318   |  1.5355  |  1.6669  |  1.5314  | 0.0 | 0.0 | 0.0 |  1.6823 |\n",
      "|   6480   |  4.1703  |  2.5123  |  0.2479  | 0.0 | 0.0 | 0.0 |  0.5101 |\n",
      "|   6642   |  1.0625  |  1.1107  |  0.8349  | 0.0 | 0.0 | 0.0 |  0.4554 |\n",
      "|   6804   |  0.7556  |  0.7205  |  0.8197  | 0.0 | 0.0 | 0.0 |  1.8625 |\n",
      "|   6966   |  0.2633  |  0.3361  |  0.2648  | 0.0 | 0.0 | 0.0 |  0.9085 |\n",
      "|   7128   |  0.3577  |  0.4267  |  0.0519  | 0.0 | 0.0 | 0.0 |  2.335  |\n",
      "|   7290   | 10.5622  |  4.3581  |  0.3307  | 0.0 | 0.0 | 0.0 | -0.8169 |\n",
      "|   7452   |  1.286   |  1.6091  |  0.3264  | 0.0 | 0.0 | 0.0 | -1.8046 |\n",
      "|   7614   |  2.5333  |  8.7145  |  0.0889  | 0.0 | 0.0 | 0.0 | -0.8968 |\n",
      "|   7776   |  6.6225  |  8.3935  |  0.1929  | 0.0 | 0.0 | 0.0 |  0.9357 |\n",
      "|   7938   |  10.292  |  5.8795  |  0.0664  | 0.0 | 0.0 | 0.0 |  1.5624 |\n",
      "|   8100   |  5.7727  |  4.9185  |  0.0984  | 0.0 | 0.0 | 0.0 |  1.3114 |\n",
      "|   8262   |  8.9732  |  4.5813  |  0.2659  | 0.0 | 0.0 | 0.0 |  1.7279 |\n",
      "|   8424   | 75.3793  | 20.4518  | 23.1894  | 0.0 | 0.0 | 0.0 |  8.6646 |\n",
      "|   8586   |  5.899   |  7.3213  |  0.2384  | 0.0 | 0.0 | 0.0 |  -4.106 |\n",
      "|   8748   |  4.2292  |  4.7783  |  0.7546  | 0.0 | 0.0 | 0.0 | -3.0485 |\n",
      "|   8910   | 17.6106  |  7.8568  |  0.5804  | 0.0 | 0.0 | 0.0 |  0.1157 |\n",
      "|   9072   | 215.6167 | 106.8708 | 82.1474  | 0.0 | 0.0 | 0.0 | 12.1636 |\n",
      "|   9234   |  0.3971  |  0.4247  |  0.1467  | 0.0 | 0.0 | 0.0 |  1.523  |\n",
      "|   9396   |  0.193   |  0.2729  |  0.1568  | 0.0 | 0.0 | 0.0 |  0.919  |\n",
      "|   9558   |  0.1553  |  0.2557  |  0.4037  | 0.0 | 0.0 | 0.0 |  0.1339 |\n",
      "|   9720   |  0.2734  |  0.2458  |  0.1691  | 0.0 | 0.0 | 0.0 |  1.1611 |\n",
      "|   9882   |  4.1416  |  5.7978  |  0.1994  | 0.0 | 0.0 | 0.0 | -1.1669 |\n",
      "|  10044   |  1.3353  |  3.8272  |  0.162   | 0.0 | 0.0 | 0.0 |  0.0081 |\n",
      "|  10206   | 52.4279  | 21.8894  |  3.9427  | 0.0 | 0.0 | 0.0 | -1.3862 |\n",
      "|  10368   |  0.2444  |  0.649   |  0.136   | 0.0 | 0.0 | 0.0 |  0.1867 |\n",
      "|  10530   |  8.5927  |  3.8926  |  0.0366  | 0.0 | 0.0 | 0.0 |  2.4319 |\n",
      "|  10692   |  0.5784  |  0.7377  |  0.6065  | 0.0 | 0.0 | 0.0 |  0.6481 |\n",
      "|  10854   |  5.5694  |  6.2323  |  0.5788  | 0.0 | 0.0 | 0.0 | -1.1972 |\n",
      "|  11016   |  0.5055  |  0.584   |  0.5097  | 0.0 | 0.0 | 0.0 |  1.9778 |\n",
      "|  11178   |  0.502   |  5.4707  |  0.3391  | 0.0 | 0.0 | 0.0 |  0.2985 |\n",
      "|  11340   |  9.2271  | 10.4088  |  0.5607  | 0.0 | 0.0 | 0.0 | -0.9107 |\n",
      "|  11502   |  1.9705  |  1.1834  |  0.2344  | 0.0 | 0.0 | 0.0 | -0.5644 |\n",
      "|  11664   |  3.0387  |  7.8236  |  0.4148  | 0.0 | 0.0 | 0.0 |  1.1232 |\n",
      "|  11826   |  2.3385  |  2.3156  |  0.3051  | 0.0 | 0.0 | 0.0 |  0.292  |\n",
      "|  11988   |  1.2011  |  0.1919  |  0.239   | 0.0 | 0.0 | 0.0 |  5.4671 |\n",
      "|  12150   | 11.8468  |  2.9754  |  0.2905  | 0.0 | 0.0 | 0.0 | -1.2078 |\n",
      "|  12312   |  10.661  |  7.348   |  0.3645  | 0.0 | 0.0 | 0.0 | -0.0368 |\n",
      "|  12474   |  0.0557  |  0.2107  |  0.153   | 0.0 | 0.0 | 0.0 |  0.3812 |\n",
      "|  12636   |  2.2994  |  6.0766  |  0.2366  | 0.0 | 0.0 | 0.0 | -2.8049 |\n",
      "|  12798   |  1.6533  |  3.1914  |  1.2986  | 0.0 | 0.0 | 0.0 |  2.7224 |\n",
      "|  12960   |  0.1356  |  0.203   |  0.0459  | 0.0 | 0.0 | 0.0 |  1.6131 |\n",
      "|  13122   |  0.7583  |  4.0411  |  0.3853  | 0.0 | 0.0 | 0.0 | -0.0877 |\n",
      "|  13284   | 12.4713  |  3.3384  |  1.2871  | 0.0 | 0.0 | 0.0 | -7.2352 |\n",
      "|  13446   |  0.5365  |  0.5059  |  0.4468  | 0.0 | 0.0 | 0.0 |  3.2807 |\n",
      "|  13608   | 30.3143  | 14.9474  |  0.0836  | 0.0 | 0.0 | 0.0 | -0.9118 |\n",
      "|  13770   |  1.6767  |  5.8952  |  0.171   | 0.0 | 0.0 | 0.0 |  1.9392 |\n",
      "|  13932   |  1.8069  |  2.3011  |  0.2941  | 0.0 | 0.0 | 0.0 |  0.312  |\n",
      "|  14094   | 41.5006  |  4.7138  |  0.7596  | 0.0 | 0.0 | 0.0 |  0.0922 |\n",
      "|  14256   | 63.3648  | 14.8861  |  5.7043  | 0.0 | 0.0 | 0.0 |  0.4353 |\n",
      "|  14418   |  1.7246  |  3.8386  |  0.3339  | 0.0 | 0.0 | 0.0 | -1.2862 |\n",
      "|  14580   | 192.6657 | 72.5326  | 127.9839 | 0.0 | 0.0 | 0.0 |  2.4364 |\n",
      "|  14742   | 16.3686  | 26.7206  |  0.1041  | 0.0 | 0.0 | 0.0 | -2.4272 |\n",
      "|  14904   |  4.5346  |  7.4982  |  0.2843  | 0.0 | 0.0 | 0.0 | -3.0824 |\n",
      "|  15066   | 15.9848  |  8.6599  |  0.2971  | 0.0 | 0.0 | 0.0 |  0.648  |\n",
      "|  15228   | 67.5784  | 11.1221  |  0.7185  | 0.0 | 0.0 | 0.0 | -10.683 |\n",
      "|  15390   |  0.6143  |  0.3797  |  0.4913  | 0.0 | 0.0 | 0.0 |  2.7801 |\n",
      "|  15552   | 41.9837  | 14.4228  |  0.5971  | 0.0 | 0.0 | 0.0 |  0.0932 |\n",
      "|  15714   | 14.6176  | 10.3737  |  0.523   | 0.0 | 0.0 | 0.0 | -2.0207 |\n",
      "|  15876   |  1.0062  |  0.4911  |  0.3772  | 0.0 | 0.0 | 0.0 |  1.3731 |\n",
      "|  16038   | 13.8288  |  8.4567  |  0.1857  | 0.0 | 0.0 | 0.0 |  0.0202 |\n",
      "|  16200   |  6.8257  |  4.038   |  0.2654  | 0.0 | 0.0 | 0.0 |  1.0949 |\n",
      "| Overall  | 16.2925  |  7.7299  |  3.1823  | 0.0 | 0.0 | 0.0 |  0.2354 |\n",
      "+----------+----------+----------+----------+-----+-----+-----+---------+\n"
     ]
    }
   ],
   "source": [
    "from src.validate.validator import compute_ade_fde, quantify_outputs\n",
    "ades, fdes = compute_ade_fde(sim_outs)\n",
    "quantify_outputs(sim_outs)"
   ]
  },
  {
   "cell_type": "code",
   "execution_count": 16,
   "id": "86998f20-e766-4753-ad6d-4cffd1b283f3",
   "metadata": {
    "tags": []
   },
   "outputs": [
    {
     "name": "stdout",
     "output_type": "stream",
     "text": [
      "7.73 13.8 53.35\n",
      "16.29 35.85 107.78\n",
      "Top worst scence based on ade:[56, 90, 34, 23, 91, 63, 52, 10, 84, 88]\n",
      "Top best scence based on ade:[4, 74, 80, 77, 60, 30, 59, 58, 8]\n",
      "Top worst scence based on fde:[56, 90, 34, 23, 52, 94, 88, 28, 63, 96]\n",
      "Top best scence based on fde:[77, 32, 80, 59, 58, 30, 4, 64, 43]\n"
     ]
    }
   ],
   "source": [
    "import numpy as np\n",
    "print(round(np.mean(ades),2), round((np.std(ades)),2) ,round((np.max(ades) - np.min(ades))/2,2))\n",
    "print(round(np.mean(fdes),2), round((np.std(fdes)),2) ,round((np.max(fdes) - np.min(fdes))/2,2))\n",
    "sorted_ades_idx = sorted(range(len(ades)), key=lambda i: ades[i], reverse=True)\n",
    "sorted_fdes_idx = sorted(range(len(fdes)), key=lambda i: fdes[i], reverse=True)\n",
    "# sorted(range(len(ades)), key=lambda i: ades[i])[-10:]\n",
    "print(f'Top worst scence based on ade:{sorted_ades_idx[:10]}')\n",
    "print(f'Top best scence based on ade:{sorted_ades_idx[:-10:-1]}')\n",
    "print(f'Top worst scence based on fde:{sorted_fdes_idx[:10]}')\n",
    "print(f'Top best scence based on fde:{sorted_fdes_idx[:-10:-1]}')"
   ]
  },
  {
   "cell_type": "markdown",
   "id": "0ab675c5-cbe5-493b-ad35-8569edfc1501",
   "metadata": {
    "tags": []
   },
   "source": [
    "### Best ade"
   ]
  },
  {
   "cell_type": "code",
   "execution_count": 71,
   "id": "5b3ddcc9-b816-46c8-bc91-909ca190e415",
   "metadata": {
    "tags": []
   },
   "outputs": [
    {
     "ename": "NameError",
     "evalue": "name 'sorted_ades_idx' is not defined",
     "output_type": "error",
     "traceback": [
      "\u001b[0;31m---------------------------------------------------------------------------\u001b[0m",
      "\u001b[0;31mNameError\u001b[0m                                 Traceback (most recent call last)",
      "\u001b[0;32m/tmp/ipykernel_3974057/2970559638.py\u001b[0m in \u001b[0;36m<module>\u001b[0;34m\u001b[0m\n\u001b[1;32m      1\u001b[0m \u001b[0;31m# might change with different rasterizer\u001b[0m\u001b[0;34m\u001b[0m\u001b[0;34m\u001b[0m\u001b[0;34m\u001b[0m\u001b[0m\n\u001b[1;32m      2\u001b[0m \u001b[0mmap_API\u001b[0m \u001b[0;34m=\u001b[0m \u001b[0mrollout_env\u001b[0m\u001b[0;34m.\u001b[0m\u001b[0mdataset\u001b[0m\u001b[0;34m.\u001b[0m\u001b[0mrasterizer\u001b[0m\u001b[0;34m.\u001b[0m\u001b[0msem_rast\u001b[0m\u001b[0;34m.\u001b[0m\u001b[0mmapAPI\u001b[0m\u001b[0;34m\u001b[0m\u001b[0;34m\u001b[0m\u001b[0m\n\u001b[0;32m----> 3\u001b[0;31m \u001b[0msim_outs_selected\u001b[0m \u001b[0;34m=\u001b[0m \u001b[0;34m[\u001b[0m\u001b[0msim_outs\u001b[0m\u001b[0;34m[\u001b[0m\u001b[0mi\u001b[0m\u001b[0;34m]\u001b[0m \u001b[0;32mfor\u001b[0m \u001b[0mi\u001b[0m \u001b[0;32min\u001b[0m \u001b[0msorted_ades_idx\u001b[0m\u001b[0;34m[\u001b[0m\u001b[0;34m-\u001b[0m\u001b[0;36m3\u001b[0m\u001b[0;34m:\u001b[0m\u001b[0;34m-\u001b[0m\u001b[0;36m1\u001b[0m\u001b[0;34m]\u001b[0m\u001b[0;34m]\u001b[0m\u001b[0;34m\u001b[0m\u001b[0;34m\u001b[0m\u001b[0m\n\u001b[0m\u001b[1;32m      4\u001b[0m \u001b[0mvisualize_outputs\u001b[0m\u001b[0;34m(\u001b[0m\u001b[0msim_outs_selected\u001b[0m\u001b[0;34m,\u001b[0m \u001b[0mmap_API\u001b[0m\u001b[0;34m)\u001b[0m\u001b[0;34m\u001b[0m\u001b[0;34m\u001b[0m\u001b[0m\n",
      "\u001b[0;31mNameError\u001b[0m: name 'sorted_ades_idx' is not defined"
     ]
    }
   ],
   "source": [
    "# might change with different rasterizer\n",
    "map_API = rollout_env.dataset.rasterizer.sem_rast.mapAPI\n",
    "sim_outs_selected = [sim_outs[i] for i in sorted_ades_idx[-5:-1]]\n",
    "visualize_outputs(sim_outs_selected, map_API)"
   ]
  },
  {
   "cell_type": "markdown",
   "id": "fa9ab7e1-e510-4609-b837-6bacfa646e62",
   "metadata": {
    "tags": []
   },
   "source": [
    "### Worst ADE"
   ]
  },
  {
   "cell_type": "code",
   "execution_count": 17,
   "id": "e2caa451-10e9-4042-8ac7-0dac1d9e1633",
   "metadata": {
    "tags": []
   },
   "outputs": [],
   "source": [
    "# might change with different rasterizer\n",
    "map_API = rollout_env.dataset.rasterizer.sem_rast.mapAPI\n",
    "sim_outs_selected = [sim_outs[i] for i in sorted_ades_idx[:5]]\n",
    "visualize_outputs(sim_outs_selected, map_API)"
   ]
  },
  {
   "cell_type": "markdown",
   "id": "8ed3d079-dc79-49f8-90f2-c75df9e15cfc",
   "metadata": {
    "tags": []
   },
   "source": [
    "### Use Validator"
   ]
  },
  {
   "cell_type": "code",
   "execution_count": 15,
   "id": "84f86d8f-021c-4331-8920-7b3f186033a3",
   "metadata": {
    "tags": []
   },
   "outputs": [
    {
     "name": "stdout",
     "output_type": "stream",
     "text": [
      "+-------------------------+-------+\n",
      "|          metric         | value |\n",
      "+-------------------------+-------+\n",
      "|  displacement_error_l2  |   6   |\n",
      "| distance_ref_trajectory |   8   |\n",
      "|     collision_front     |   0   |\n",
      "|      collision_rear     |   5   |\n",
      "|      collision_side     |   3   |\n",
      "+-------------------------+-------+\n"
     ]
    },
    {
     "data": {
      "image/png": "[encoded data removed]",
      "text/plain": [
       "<Figure size 432x288 with 1 Axes>"
      ]
     },
     "metadata": {
      "needs_background": "light"
     },
     "output_type": "display_data"
    }
   ],
   "source": [
    "from src.validate.validator import CLEValidator\n",
    "import matplotlib.pyplot as plt\n",
    "import numpy as np\n",
    "\n",
    "agg = CLEValidator(sim_outs)\n",
    "fields = [\"metric\", \"value\"]\n",
    "table = PrettyTable(field_names=fields)\n",
    "\n",
    "values = []\n",
    "names = []\n",
    "\n",
    "for metric_name in agg:\n",
    "    table.add_row([metric_name, agg[metric_name].item()])\n",
    "    values.append(agg[metric_name].item())\n",
    "    names.append(metric_name)\n",
    "\n",
    "print(table)\n",
    "\n",
    "plt.bar(np.arange(len(names)), values)\n",
    "plt.xticks(np.arange(len(names)), names, rotation=60, ha='right')\n",
    "plt.show()"
   ]
  },
  {
   "cell_type": "code",
   "execution_count": null,
   "id": "372d40a8-8796-4126-92e8-2f52895d4642",
   "metadata": {},
   "outputs": [],
   "source": [
    "from src.validate.validator import CLEValidator\n",
    "import matplotlib.pyplot as plt\n",
    "import numpy as np\n",
    "\n",
    "agg = CLEValidator(sim_outs)\n",
    "fields = [\"metric\", \"value\"]\n",
    "table = PrettyTable(field_names=fields)\n",
    "\n",
    "values = []\n",
    "names = []\n",
    "\n",
    "for metric_name in agg:\n",
    "    table.add_row([metric_name, agg[metric_name].item()])\n",
    "    values.append(agg[metric_name].item())\n",
    "    names.append(metric_name)\n",
    "\n",
    "print(table)\n",
    "\n",
    "plt.bar(np.arange(len(names)), values)\n",
    "plt.xticks(np.arange(len(names)), names, rotation=60, ha='right')\n",
    "plt.show()"
   ]
  }
 ],
 "metadata": {
  "colab": {
   "collapsed_sections": [
    "Fag3VuhPnRZT",
    "xHfH5HGWoTD7",
    "eBwt9neMoj9h",
    "0CAZm9UDo1C0"
   ],
   "provenance": []
  },
  "gpuClass": "standard",
  "kernelspec": {
   "display_name": "Python 3 (ipykernel)",
   "language": "python",
   "name": "python3"
  },
  "language_info": {
   "codemirror_mode": {
    "name": "ipython",
    "version": 3
   },
   "file_extension": ".py",
   "mimetype": "text/x-python",
   "name": "python",
   "nbconvert_exporter": "python",
   "pygments_lexer": "ipython3",
   "version": "3.8.10"
  },
  "vscode": {
   "interpreter": {
    "hash": "6df7c2a3d813445d6b3c74a479f8d37af444dbb4628cead36b7b0d6872de20bd"
   }
  }
 },
 "nbformat": 4,
 "nbformat_minor": 5
}
