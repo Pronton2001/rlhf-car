{
 "cells": [
  {
   "cell_type": "code",
   "execution_count": null,
   "metadata": {},
   "outputs": [],
   "source": [
    "import os\n",
    "\n",
    "# from src.customModel.customSACTrainer import KLSAC\n",
    "dataset_path = \"/workspace/datasets/\"\n",
    "os.environ[\"L5KIT_DATA_FOLDER\"] = dataset_path\n",
    "# os.environ['CUDA_VISIBLE_DEVICES']= '0'\n",
    "# os.environ[\"TUNE_RESULT_DIR\"] =  '/DATA/l5kit/rllib_tb_logs'\n",
    "import gym\n",
    "from l5kit.configs import load_config_data\n",
    "from l5kit.environment.envs.l5_env import SimulationConfigGym, GymStepOutput, L5Env\n",
    "# from l5kit.environment.envs.l5_env2 import SimulationConfigGym, GymStepOutput, L5Env2\n",
    "from l5kit.visualization.visualizer.zarr_utils import episode_out_to_visualizer_scene_gym_cle\n",
    "from l5kit.visualization.visualizer.visualizer import visualize\n",
    "from bokeh.io import output_notebook, show\n",
    "from l5kit.environment.gym_metric_set import L2DisplacementYawMetricSet, CLEMetricSet\n",
    "from prettytable import PrettyTable\n",
    "import datetime\n",
    "from ray.rllib.models import ModelCatalog\n",
    "from ray.rllib.models.torch.torch_modelv2 import TorchModelV2\n",
    "import torch.nn as nn\n",
    "import numpy as np\n",
    "import gym\n",
    "from typing import Dict\n",
    "import numpy as np\n",
    "import ray\n",
    "import pytz\n",
    "from ray import tune\n",
    "\n",
    "\n",
    "from l5kit.configs import load_config_data\n",
    "\n",
    "# get environment config\n",
    "# env_config_path = '/workspace/source/configs/gym_config_history3.yaml'\n",
    "# env_config_path = '/workspace/source/configs/gym_config84.yaml'\n",
    "# env_config_path = SRC_PATH + 'src/configs/gym_vectorizer_config_hist3.yaml'\n",
    "\n",
    "SRC_PATH = '/home/pronton/rlhf-car/'\n",
    "\n",
    "import pickle\n",
    "name = 'SAC-T-noFT-1e6_cp520(-57)'\n",
    "name = 'KLSAC-T_nonRLFT_fixedKLKin_fixedConfig_KLweight=1_cp130(-51)'\n",
    "name = 'BC-T-kin'\n",
    "\n",
    "SAVE_PATH = f'{SRC_PATH}src/validate/testset/'\n",
    "# file = open(f'{SAVE_PATH}{name}.obj', 'rb')\n",
    "# sim_outs2 = pickle.load(file)\n",
    "file = open(f'{SAVE_PATH}{name}_actions.obj', 'rb')\n",
    "actions, indices = pickle.load(file)\n",
    "\n",
    "cp = '150'\n",
    "r = -82\n",
    "name = 'KLRewardSAC-T_load_KLweight=.5_trainset_2e5_steer=-1.5'\n",
    "name = f'KLRewardSAC-T_load_KLweight=.5_trainset_1e5_steer=-1.5'\n",
    "name = f'KLRewardSAC-T_load_KLweight=.8_trainset_1e5_steer=-1.5'\n",
    "name = f'KLRewardSAC-T_load_notfixedL5env2_KLweight=.3_trainset_1e5_acc_steer=-1.5'\n",
    "cp = '160'\n",
    "r = -90\n",
    "name = f'KLSAC-T_nonRLFT_fixedKLKin_fixedConfig_KLweight=1'\n",
    "name = f'KLSAC-T_load_acc=-1.5_MTAU=entropy_alpha_M_ALPHA=0.3_batch128'\n",
    "name = f'SAC-T_load_trainset_2e5-1hist'\n",
    "name = 'KLSAC-T_load_acc=-1.5_MTAU=entropy_alpha_M_ALPHA=1_batch128'\n",
    "name = 'KLSAC'\n",
    "name = 'KLSAC-T_load_acc=-1.5_MTAU=alphaEntropy=0.03_M_ALPHA=0.9_batch256'\n",
    "name = 'KLSAC-T_load_acc=-1.5_MTAU=alphaEntropy(constant)=0.03_M_ALPHA=0.9_batch256'\n",
    "name = 'KLSAC-T_load_acc=-1.5_alphaEntropy(constant)=M_ENTROPY=0.7_M_KL=0.5_batch256'\n",
    "\n",
    "# name = f'KLRewardSAC-T_load_notfixedL5env2_KLweight=.5_trainset_1e5_acc=-1.5'\n",
    "# name = f'KLSAC-T_load_acc=-1.5_MTAU=entropy_alpha_M_ALPHA=0.8_bs128'\n",
    "# file = open(f'{SAVE_PATH}{name}/cp{cp}({r}).obj', 'rb')\n",
    "# sim_outs2 = pickle.load(file)\n",
    "# file = open(f'{SAVE_PATH}{name}/cp{cp}({r})_actions.obj', 'rb')\n",
    "# actions, indices = pickle.load(file)\n",
    "\n",
    "print(name)\n",
    "# actions[:,1]\n",
    "accs = np.asarray(actions)[:,1]\n",
    "# accs*=0.6\n",
    "steers = np.asarray(actions)[:,0]"
   ]
  },
  {
   "cell_type": "code",
   "execution_count": null,
   "metadata": {},
   "outputs": [],
   "source": [
    "acc25 = sum([any(accs[indices[id]: indices[id+1]] > 3 * 0.1) for id in range(0, 99)])\n",
    "acc15 = sum([1 if any(accs[indices[id]: indices[id] + 150] > 3 * 0.1) else 0 for id in range(0, 99)])\n",
    "acc10 = sum([1 if any(accs[indices[id]: indices[id] + 100] > 3 * 0.1) else 0 for id in range(0, 99)])\n",
    "acc5 = sum([1 if any(accs[indices[id]: indices[id] + 50] > 3 * 0.1) else 0 for id in range(0, 99)])\n",
    "acc1 = sum([1 if any(accs[indices[id]: indices[id] + 10] > 3 * 0.1) else 0 for id in range(0, 99)])\n",
    "acc01 = sum([1 if any(accs[indices[id]: indices[id] + 1] > 3 * 0.1) else 0 for id in range(0, 99)])\n",
    "acc25, acc15, acc10, acc5, acc1, acc01"
   ]
  },
  {
   "cell_type": "code",
   "execution_count": null,
   "metadata": {},
   "outputs": [],
   "source": [
    "acc25 = sum([any(accs[indices[id]: indices[id+1]] > 3 * 0.1) for id in range(0, 99)])\n",
    "acc15 = sum([1 if any(accs[indices[id]: indices[id] + 150] > 3 * 0.1) else 0 for id in range(0, 99)])\n",
    "acc10 = sum([1 if any(accs[indices[id]: indices[id] + 100] > 3 * 0.1) else 0 for id in range(0, 99)])\n",
    "acc5 = sum([1 if any(accs[indices[id]: indices[id] + 50] > 3 * 0.1) else 0 for id in range(0, 99)])\n",
    "acc1 = sum([1 if any(accs[indices[id]: indices[id] + 10] > 3 * 0.1) else 0 for id in range(0, 99)])\n",
    "acc01 = sum([1 if any(accs[indices[id]: indices[id] + 1] > 3 * 0.1) else 0 for id in range(0, 99)])\n",
    "acc25, acc15, acc10, acc5, acc1, acc01"
   ]
  },
  {
   "cell_type": "code",
   "execution_count": null,
   "metadata": {},
   "outputs": [],
   "source": [
    "len(accs)"
   ]
  },
  {
   "cell_type": "code",
   "execution_count": null,
   "metadata": {},
   "outputs": [],
   "source": [
    "acc25 = sum([any(accs[indices[id]: indices[id+1]] > 3 * 0.1) for id in range(0, 99)])\n",
    "acc15 = sum([1 if any(accs[indices[id]: indices[id] + 150] > 3 * 0.1) else 0 for id in range(0, 99)])\n",
    "acc10 = sum([1 if any(accs[indices[id]: indices[id] + 100] > 3 * 0.1) else 0 for id in range(0, 99)])\n",
    "acc5 = sum([1 if any(accs[indices[id]: indices[id] + 50] > 3 * 0.1) else 0 for id in range(0, 99)])\n",
    "acc1 = sum([1 if any(accs[indices[id]: indices[id] + 10] > 3 * 0.1) else 0 for id in range(0, 99)])\n",
    "acc01 = sum([1 if any(accs[indices[id]: indices[id] + 1] > 3 * 0.1) else 0 for id in range(0, 99)])\n",
    "acc25, acc15, acc10, acc5, acc1, acc01"
   ]
  },
  {
   "cell_type": "code",
   "execution_count": null,
   "metadata": {},
   "outputs": [],
   "source": [
    "accs[indices[id]: indices[id] + 50] > 0.2"
   ]
  },
  {
   "cell_type": "code",
   "execution_count": null,
   "metadata": {},
   "outputs": [],
   "source": [
    "from src.validate.validator import quantitative\n",
    "quantitative(sim_outs2, actions)"
   ]
  },
  {
   "cell_type": "code",
   "execution_count": null,
   "metadata": {},
   "outputs": [],
   "source": [
    "import  matplotlib.pyplot as plt\n",
    "\n",
    "# plt.hist(accs, bins = 100)\n",
    "import matplotlib.colors as mcolors\n",
    "gamma = .3\n",
    "plt.hist2d(accs, steers, bins = [50,50], norm=mcolors.PowerNorm(gamma))\n",
    "# plt.xlim([-.6,.6])\n",
    "# plt.ylim([-.08,.08])\n",
    "# plt.hist(steers, 100)"
   ]
  },
  {
   "cell_type": "code",
   "execution_count": null,
   "metadata": {},
   "outputs": [],
   "source": [
    "import  matplotlib.pyplot as plt\n",
    "\n",
    "# plt.hist(accs, bins = 100)\n",
    "import matplotlib.colors as mcolors\n",
    "gamma = .3\n",
    "plt.hist2d(accs, steers, bins = [50,50], norm=mcolors.PowerNorm(gamma))\n",
    "# plt.xlim([-.6,.6])\n",
    "# plt.ylim([-.08,.08])\n",
    "# plt.hist(steers, 100)"
   ]
  },
  {
   "cell_type": "code",
   "execution_count": null,
   "metadata": {},
   "outputs": [],
   "source": [
    "import matplotlib.pyplot as plt\n",
    "plt.hist(accs, 100)"
   ]
  },
  {
   "cell_type": "code",
   "execution_count": null,
   "metadata": {},
   "outputs": [],
   "source": [
    "\n",
    "cp = '130'\n",
    "r = -51\n",
    "name = f'SAC-T_load_trainset_2e5-1hist'\n",
    "name = 'KLSAC-T_nonRLFT_fixedKLKin_fixedConfig_KLweight=1'\n",
    "# cp = '160'\n",
    "# r = -90\n",
    "# name = 'KLSAC-T_load_acc=-1.5_alphaEntropy(constant)=M_ENTROPY=0.7_M_KL=0.5_batch256'\n",
    "\n",
    "# name = f'KLRewardSAC-T_load_notfixedL5env2_KLweight=.5_trainset_1e5_acc=-1.5'\n",
    "# name = f'KLSAC-T_load_acc=-1.5_MTAU=entropy_alpha_M_ALPHA=0.8_bs128'\n",
    "# file = open(f'{SAVE_PATH}{name}/cp{cp}({r}).obj', 'rb')\n",
    "# sim_outs2 = pickle.load(file)\n",
    "file = open(f'{SAVE_PATH}{name}/cp{cp}({r})_actions.obj', 'rb')\n",
    "actions_SAC, indices_SAC = pickle.load(file)\n",
    "# name = 'BC-T-kin'\n",
    "# file = open(f'{SAVE_PATH}{name}.obj', 'rb')\n",
    "# sim_outs2 = pickle.load(file)\n",
    "# file = open(f'{SAVE_PATH}{name}_actions.obj', 'rb')\n",
    "# actions_SAC, indices_SAC = pickle.load(file)\n",
    "print(name)\n",
    "# actions[:,1]\n",
    "accs_SAC_KL = np.asarray(actions_SAC)[:,1]\n",
    "# accs*=0.6\n",
    "steers_SAC_KL = np.asarray(actions_SAC)[:,0]"
   ]
  },
  {
   "cell_type": "code",
   "execution_count": null,
   "metadata": {},
   "outputs": [],
   "source": [
    "\n",
    "import matplotlib.pyplot as plt\n",
    "def draw(accs, accs_SAC, freq = False, label = False):\n",
    "    plt.hist(accs, 100, label='Demo', weights=np.ones(len(accs))/len(accs))\n",
    "    plt.hist(accs_SAC, 100, alpha=0.5, label='Policy',weights=np.ones(len(accs))/len(accs))\n",
    "    if label:\n",
    "        plt.legend(loc='upper right')\n",
    "    if freq:\n",
    "        plt.ylabel('Frequency (%)')\n",
    "    plt.show()\n",
    "    \n",
    "# draw(accs, accs_SAC)\n",
    "draw(accs, accs_SAC_KL)\n",
    "# draw(steers, steers_SAC)\n",
    "draw(steers, steers_SAC_KL)"
   ]
  },
  {
   "cell_type": "code",
   "execution_count": null,
   "metadata": {},
   "outputs": [],
   "source": [
    "len(accs)\n"
   ]
  },
  {
   "cell_type": "code",
   "execution_count": null,
   "metadata": {},
   "outputs": [],
   "source": [
    "import matplotlib.pyplot as plt\n",
    "id = 13 # 130,131\n",
    "id = 65 # 130,131\n",
    "id = 2 # 4.5\n",
    "\n",
    "midId = indices[id] + (indices[id+1] - indices[id])//2\n",
    "plt.plot(range(len(accs[indices[id]:midId])), accs[indices[id]:midId])\n",
    "plt.ylim(-0.6,0.6)\n",
    "plt.axhline(y = 0.2, color = 'r', linestyle = '--')\n",
    "plt.axhline(y = -0.2, color = 'r', linestyle = '--')\n",
    "plt.show()\n",
    "plt.ylim(-0.6,0.6)\n",
    "plt.plot(range(len(accs[midId:indices[id+1]])), accs[midId:indices[id+1]])\n",
    "plt.axhline(y = 0.2, color = 'r', linestyle = '--')\n",
    "plt.axhline(y = -0.2, color = 'r', linestyle = '--')\n",
    "plt.show()"
   ]
  },
  {
   "cell_type": "code",
   "execution_count": null,
   "metadata": {},
   "outputs": [],
   "source": [
    "id = 2\n",
    "plt.plot(range(len(steers[indices[id]:indices[id+1]])), steers[indices[id]:indices[id+1]])"
   ]
  },
  {
   "cell_type": "code",
   "execution_count": null,
   "metadata": {},
   "outputs": [],
   "source": [
    "from l5kit.data import LocalDataManager\n",
    "from l5kit.data.map_api import MapAPI\n",
    "from l5kit.visualization.visualizer.zarr_utils import episode_out_to_visualizer_scene_gym_cle, simulation_out_to_visualizer_scene\n",
    "from l5kit.configs import load_config_data\n",
    "from bokeh.io import show\n",
    "from l5kit.visualization.visualizer.visualizer import visualize\n",
    "import torch\n",
    "dmg = LocalDataManager(None)\n",
    "env_config_path = '/home/pronton/rlhf-car/src/configs/gym_config.yaml'\n",
    "cfg = load_config_data(env_config_path)\n",
    "mapAPI = MapAPI.from_cfg(dmg, cfg)\n",
    "\n",
    "def visualize_outputs(sim_outs):\n",
    "    for sim_out in sim_outs: # for each scene\n",
    "        vis_in = episode_out_to_visualizer_scene_gym_cle(sim_out, mapAPI)\n",
    "        show(visualize(sim_out.scene_id, vis_in))\n",
    "\n",
    "output_notebook()\n",
    "visualize_outputs(sim_outs[0:3])"
   ]
  },
  {
   "cell_type": "code",
   "execution_count": null,
   "metadata": {},
   "outputs": [],
   "source": [
    "from l5kit.data import LocalDataManager\n",
    "from l5kit.data.map_api import MapAPI\n",
    "from l5kit.visualization.visualizer.zarr_utils import episode_out_to_visualizer_scene_gym_cle, simulation_out_to_visualizer_scene\n",
    "from l5kit.configs import load_config_data\n",
    "from bokeh.io import show\n",
    "from l5kit.visualization.visualizer.visualizer import visualize\n",
    "import torch\n",
    "dmg = LocalDataManager(None)\n",
    "env_config_path = '/home/pronton/rlhf-car/src/configs/gym_config.yaml'\n",
    "cfg = load_config_data(env_config_path)\n",
    "mapAPI = MapAPI.from_cfg(dmg, cfg)\n",
    "\n",
    "def visualize_outputs(sim_outs):\n",
    "    for sim_out in sim_outs: # for each scene\n",
    "        vis_in = episode_out_to_visualizer_scene_gym_cle(sim_out, mapAPI)\n",
    "        show(visualize(sim_out.scene_id, vis_in))\n",
    "\n",
    "output_notebook()\n",
    "visualize_outputs(sim_outs2[6:8])"
   ]
  }
 ],
 "metadata": {
  "kernelspec": {
   "display_name": "l5kit-nr_j5XnQ",
   "language": "python",
   "name": "python3"
  },
  "language_info": {
   "codemirror_mode": {
    "name": "ipython",
    "version": 3
   },
   "file_extension": ".py",
   "mimetype": "text/x-python",
   "name": "python",
   "nbconvert_exporter": "python",
   "pygments_lexer": "ipython3",
   "version": "3.8.0"
  },
  "orig_nbformat": 4
 },
 "nbformat": 4,
 "nbformat_minor": 2
}
