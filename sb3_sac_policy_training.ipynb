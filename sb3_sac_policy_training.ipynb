{
 "cells": [
  {
   "cell_type": "markdown",
   "id": "16be59b6",
   "metadata": {
    "id": "f7f64953"
   },
   "source": [
    "### Training RL Policies using L5Kit Closed-Loop Environment\n",
    "\n",
    "This notebook describes how to train RL policies for self-driving using our gym-compatible closed-loop environment.\n",
    "\n",
    "We will be using [Proximal Policy Optimization (PPO)](https://arxiv.org/abs/1707.06347) algorithm as our reinforcement learning algorithm, as it not only demonstrates remarkable performance but it is also empirically easy to tune.\n",
    "\n",
    "The PPO implementation in this notebook is based on [Stable Baselines3](https://github.com/DLR-RM/stable-baselines3) framework, a popular framework for training RL policies. Note that our environment is also compatible with [RLlib](https://docs.ray.io/en/latest/rllib.html), another popular frameworks for the same."
   ]
  },
  {
   "cell_type": "code",
   "execution_count": 1,
   "id": "de65c8c3",
   "metadata": {
    "colab": {
     "base_uri": "https://localhost:8080/"
    },
    "id": "_wUeP74jGalV",
    "outputId": "fb9cd72b-7c24-4efc-db02-04c51d0f55f2"
   },
   "outputs": [],
   "source": [
    "import os\n",
    "os.environ[\"L5KIT_DATA_FOLDER\"] = '/workspace/datasets'"
   ]
  },
  {
   "cell_type": "code",
   "execution_count": null,
   "id": "95a64d24",
   "metadata": {
    "id": "585b1fe7"
   },
   "outputs": [],
   "source": [
    "import gym\n",
    "\n",
    "from stable_baselines3 import SAC\n",
    "from stable_baselines3.common.callbacks import CheckpointCallback\n",
    "from stable_baselines3.common.env_util import make_vec_env\n",
    "from stable_baselines3.common.utils import get_linear_fn\n",
    "from stable_baselines3.common.vec_env import SubprocVecEnv\n",
    "\n",
    "from l5kit.configs import load_config_data\n",
    "from l5kit.environment.feature_extractor import CustomFeatureExtractor\n",
    "from l5kit.environment.callbacks import L5KitEvalCallback\n",
    "from l5kit.environment.envs.l5_env import SimulationConfigGym\n",
    "\n",
    "from l5kit.visualization.visualizer.zarr_utils import episode_out_to_visualizer_scene_gym_cle\n",
    "from l5kit.visualization.visualizer.visualizer import visualize\n",
    "from bokeh.io import output_notebook, show\n",
    "from l5kit.environment.gym_metric_set import L2DisplacementYawMetricSet, CLEMetricSet\n",
    "from prettytable import PrettyTable\n",
    "import datetime\n",
    "import pytz\n",
    "import numpy as np"
   ]
  },
  {
   "cell_type": "code",
   "execution_count": 3,
   "id": "66e09d76",
   "metadata": {
    "id": "2ea81f77"
   },
   "outputs": [],
   "source": [
    "# Dataset is assumed to be on the folder specified\n",
    "# in the L5KIT_DATA_FOLDER environment variable\n",
    "# get environment config\n",
    "env_config_path = '/workspace/source/src/configs/gym_config.yaml'\n",
    "cfg = load_config_data(env_config_path)"
   ]
  },
  {
   "cell_type": "markdown",
   "id": "f72e5856",
   "metadata": {
    "id": "2cead394"
   },
   "source": [
    "### Define Training and Evaluation Environments\n",
    "\n",
    "**Training**: We will be training the PPO policy on episodes of length 32 time-steps. We will have 4 sub-processes (training environments) that will help to parallelize and speeden up episode rollouts. The *SimConfig* dataclass will define the parameters of the episode rollout: like length of episode rollout, whether to use log-replayed agents or simulated agents etc.\n",
    "\n",
    "**Evaluation**: We will evaluate the performance of the PPO policy on the *entire* scene (~248 time-steps)."
   ]
  },
  {
   "cell_type": "code",
   "execution_count": 4,
   "id": "38b114cc",
   "metadata": {
    "id": "b04c8313"
   },
   "outputs": [
    {
     "name": "stderr",
     "output_type": "stream",
     "text": [
      "Process ForkProcess-2:\n",
      "Process ForkProcess-5:\n",
      "Process ForkProcess-1:\n"
     ]
    }
   ],
   "source": [
    "# Train on episodes of length 32 time steps\n",
    "train_eps_length = 32\n",
    "train_envs = 4\n",
    "\n",
    "# Evaluate on entire scene (~248 time steps)\n",
    "eval_eps_length = None\n",
    "eval_envs = 1\n",
    "\n",
    "# make train env\n",
    "train_sim_cfg = SimulationConfigGym()\n",
    "train_sim_cfg.num_simulation_steps = train_eps_length + 1\n",
    "env_kwargs = {'env_config_path': env_config_path, 'use_kinematic': True, 'sim_cfg': train_sim_cfg}\n",
    "env = make_vec_env(\"L5-CLE-v0\", env_kwargs=env_kwargs, n_envs=train_envs,\n",
    "                   vec_env_cls=SubprocVecEnv, vec_env_kwargs={\"start_method\": \"fork\"})\n",
    "\n",
    "# make eval env\n",
    "validation_sim_cfg = SimulationConfigGym()\n",
    "validation_sim_cfg.num_simulation_steps = None\n",
    "eval_env_kwargs = {'env_config_path': env_config_path, 'use_kinematic': True, \\\n",
    "                   'return_info': True, 'train': False, 'sim_cfg': validation_sim_cfg}\n",
    "eval_env = make_vec_env(\"L5-CLE-v0\", env_kwargs=eval_env_kwargs, n_envs=eval_envs,\n",
    "                        vec_env_cls=SubprocVecEnv, vec_env_kwargs={\"start_method\": \"fork\"})"
   ]
  },
  {
   "cell_type": "markdown",
   "id": "c96e388f",
   "metadata": {
    "id": "9dfc8b1a"
   },
   "source": [
    "### Define backbone feature extractor\n",
    "\n",
    "The backbone feature extractor is shared between the policy and the value networks. The feature extractor *simple_gn* is composed of two convolutional networks followed by a fully connected layer, with ReLU activation. The feature extractor output is passed to both the policy and value networks composed of two fully connected layers with tanh activation (SB3 default).\n",
    "\n",
    "We perform **group normalization** after every convolutional layer. Empirically, we found that group normalization performs far superior to batch normalization. This can be attributed to the fact that activation statistics change quickly in on-policy algorithms (PPO is on-policy) while batch-norm learnable parameters can be slow to update causing training issues."
   ]
  },
  {
   "cell_type": "code",
   "execution_count": 5,
   "id": "bf49117b",
   "metadata": {
    "id": "4da5ac39"
   },
   "outputs": [],
   "source": [
    "# A simple 2 Layer CNN architecture with group normalization\n",
    "model_arch = 'simple_gn'\n",
    "features_dim = 128\n",
    "\n",
    "# Custom Feature Extractor backbone\n",
    "policy_kwargs = {\n",
    "    \"features_extractor_class\": CustomFeatureExtractor,\n",
    "    \"features_extractor_kwargs\": {\"features_dim\": features_dim, \"model_arch\": model_arch},\n",
    "    \"normalize_images\": False\n",
    "}"
   ]
  },
  {
   "cell_type": "markdown",
   "id": "9952314c",
   "metadata": {
    "id": "24ec4f23"
   },
   "source": [
    "### Clipping Schedule\n",
    "\n",
    "We linearly decrease the value of the clipping parameter $\\epsilon$ as the PPO training progress as it shows improved training stability"
   ]
  },
  {
   "cell_type": "code",
   "execution_count": 6,
   "id": "7f931399",
   "metadata": {
    "id": "dc28b605"
   },
   "outputs": [],
   "source": [
    "# Clipping schedule of PPO epsilon parameter\n",
    "start_val = 0.1\n",
    "end_val = 0.01\n",
    "training_progress_ratio = 1.0\n",
    "clip_schedule = get_linear_fn(start_val, end_val, training_progress_ratio)"
   ]
  },
  {
   "cell_type": "markdown",
   "id": "4b9a0631",
   "metadata": {
    "id": "8596deb6"
   },
   "source": [
    "### Hyperparameters for PPO. \n",
    "\n",
    "For detailed description, refer https://stable-baselines3.readthedocs.io/en/master/_modules/stable_baselines3/ppo/ppo.html#PPO"
   ]
  },
  {
   "cell_type": "code",
   "execution_count": 7,
   "id": "1dd97583",
   "metadata": {
    "id": "998a927f"
   },
   "outputs": [],
   "source": [
    "lr = 3e-4\n",
    "num_rollout_steps = 256\n",
    "gamma = 0.8\n",
    "gae_lambda = 0.9\n",
    "seed = 42\n",
    "batch_size = 64\n",
    "import datetime\n",
    "tensorboard_log = '/content/drive/MyDrive/Colab Notebooks/l5kit/tb_logs/'  + str(datetime.date.today()) + '/'"
   ]
  },
  {
   "cell_type": "code",
   "execution_count": null,
   "id": "dd72bdf9-e5ed-4e09-a5c7-09f428922d3b",
   "metadata": {},
   "outputs": [],
   "source": [
    "config = {\n",
    "    'lr' : 3e-4,\n",
    "    'num_rollout_steps' :  256, # 2048\n",
    "    'gamma' : 0.8,\n",
    "    'gae_lambda' : 0.9,\n",
    "    'seed' : 42,\n",
    "    'batch_size' : 64, # 512\n",
    "    }"
   ]
  },
  {
   "cell_type": "code",
   "execution_count": null,
   "id": "9886bf72-4dd2-4996-a6af-cf75598723cb",
   "metadata": {},
   "outputs": [],
   "source": [
    "import wandb\n",
    "from wandb.integration.sb3 import WandbCallback\n",
    "import os\n",
    "os.environ['WANDB_NOTEBOOK_NAME'] = 'sac_policy_training.ipynb'\n",
    "hcmTz = pytz.timezone(\"Asia/Ho_Chi_Minh\") \n",
    "date = datetime.datetime.now(hcmTz).strftime(\"%d-%m-%Y_%H-%M-%S\")\n",
    "\n",
    "experiment_name = f\"SAC_sb3_{date}\"\n",
    "\n",
    "run = wandb.init(\n",
    "    project=\"l5kit2\",\n",
    "    sync_tensorboard=True,  # auto-upload sb3's tensorboard metrics\n",
    "    monitor_gym=False,  # auto-upload the videos of agents playing the game\n",
    "    save_code=True,  # optional\n",
    "    reinit = True,\n",
    "    group = 'SAC',\n",
    "    config = config,\n",
    "    name = experiment_name\n",
    ")"
   ]
  },
  {
   "cell_type": "markdown",
   "id": "bbef6ce6",
   "metadata": {
    "id": "a310190e"
   },
   "source": [
    "### Define the PPO Policy.\n",
    "\n",
    "SB3 provides an easy interface to the define the PPO policy. Note: We do need to tweak appropriate hyperparameters and the custom policy backbone has been defined above.\n"
   ]
  },
  {
   "cell_type": "code",
   "execution_count": null,
   "id": "35351c0b",
   "metadata": {
    "colab": {
     "base_uri": "https://localhost:8080/"
    },
    "id": "Mtt8w9wc1GKu",
    "outputId": "02a0d841-b823-45e2-aebf-9d56cc5893bd"
   },
   "outputs": [],
   "source": [
    "\n",
    "# model = SAC('MultiInputPolicy', env, policy_kwargs=policy_kwargs, verbose=1,  batch_size=batch_size,  learning_rate= lr,  gamma=gamma, tensorboard_log=tensorboard_log, buffer_size=10000,\n",
    "#             learning_starts=batch_size) \n",
    "model = SAC(\"MultiInputPolicy\", env, batch_size=batch_size, learning_rate= lr,\n",
    "                    gamma=gamma,\n",
    "                    buffer_size=int(1e5),\n",
    "                    tensorboard_log=f\"runs/{run.id}\", \n",
    "                    train_freq= (1, \"step\"),\n",
    "                    gradient_steps=1, # gradient 1 time per 1 episode\n",
    "                    target_update_interval=200, # each ...(200) steps, we update target_net (load weight from policy_net)\n",
    "                    learning_starts=batch_size,\n",
    "                    policy_kwargs=policy_kwargs,\n",
    "                    verbose=1,\n",
    "                    seed=42,\n",
    "                    use_sde=True,\n",
    "                    sde_sample_freq=-1,\n",
    "                    use_sde_at_warmup=True,\n",
    "                    tau=.95, \n",
    "                    # create_eval_env=True,\n",
    "                    )"
   ]
  },
  {
   "cell_type": "markdown",
   "id": "829512cf",
   "metadata": {
    "id": "53754180"
   },
   "source": [
    "### Defining Callbacks\n",
    "\n",
    "We can additionally define callbacks to save model checkpoints and evaluate models during training."
   ]
  },
  {
   "cell_type": "code",
   "execution_count": null,
   "id": "e960c61e",
   "metadata": {
    "id": "f19803ea"
   },
   "outputs": [],
   "source": [
    "callback_list = []\n",
    "\n",
    "# Save Model Periodically\n",
    "os.environ['WANDB_NOTEBOOK_NAME'] = 'sac_policy_training.ipynb'\n",
    "hcmTz = pytz.timezone(\"Asia/Ho_Chi_Minh\") \n",
    "date = datetime.datetime.now(hcmTz).strftime(\"%d-%m-%Y_%H-%M-%S\")\n",
    "save_freq = 10000\n",
    "save_path = '/DATA/l5kit/logs/'+ date\n",
    "output = 'SAC'\n",
    "checkpoint_callback = CheckpointCallback(save_freq=(save_freq // train_envs), save_path=save_path, \\\n",
    "                                         name_prefix=output)\n",
    "callback_list.append(checkpoint_callback)\n",
    "\n",
    "# Eval Model Periodically\n",
    "eval_freq = 10000\n",
    "n_eval_episodes = 1\n",
    "val_eval_callback = L5KitEvalCallback(eval_env, eval_freq=(eval_freq // train_envs), \\\n",
    "                                      n_eval_episodes=n_eval_episodes, n_eval_envs=eval_envs)\n",
    "callback_list.append(val_eval_callback)\n",
    "callback_list.append(WandbCallback(\n",
    "        # gradient_save_freq=100,\n",
    "        # model_save_path=f\"models/{run.id}\",\n",
    "        # verbose=2,\n",
    "        # model_save_freq=10,\n",
    "    ))"
   ]
  },
  {
   "cell_type": "markdown",
   "id": "cbae6aaf",
   "metadata": {
    "id": "ad3bda21",
    "jp-MarkdownHeadingCollapsed": true,
    "tags": []
   },
   "source": [
    "### Train"
   ]
  },
  {
   "cell_type": "code",
   "execution_count": null,
   "id": "853fe9fd",
   "metadata": {
    "colab": {
     "base_uri": "https://localhost:8080/",
     "height": 189
    },
    "id": "6UIqVL-ClZL3",
    "outputId": "6d6c6dae-fbce-4594-dccc-8de49b6cf747"
   },
   "outputs": [],
   "source": [
    "n_steps = 6e6\n",
    "\n",
    "model.learn(n_steps, callback=callback_list)\n",
    "\n",
    "run.finish()"
   ]
  },
  {
   "cell_type": "markdown",
   "id": "30acc219",
   "metadata": {
    "id": "575327a2"
   },
   "source": [
    "**Voila!** We have a trained PPO policy! Train for larger number of steps for better accuracy. Typical RL algorithms require training atleast 1M steps for good convergence. You can visualize the quantitiative evaluation using tensorboard."
   ]
  },
  {
   "cell_type": "code",
   "execution_count": null,
   "id": "929a4aa8",
   "metadata": {
    "id": "6f71aBCu027Q"
   },
   "outputs": [],
   "source": [
    "model = SAC.load('/workspace/datasets/logs/06-01-2023_15-15-53/SAC_6000000_steps.zip', env = eval_env , custom_objects = {\n",
    "      # \"learning_rate\": 0.0,\n",
    "      # \"lr_schedule\": lambda _: 0.0,\n",
    "      # \"clip_range\": lambda _: 0.0,\n",
    "  })\n",
    "n_steps = 1000000\n",
    "model.learn(n_steps, callback=callback_list, reset_num_timesteps=False)"
   ]
  },
  {
   "cell_type": "markdown",
   "id": "7b907753",
   "metadata": {
    "id": "d24f956c"
   },
   "source": [
    "### Visualize the episode from the environment\n",
    "\n",
    "We can easily visualize the outputs obtained by rolling out episodes in the L5Kit using the Bokeh visualizer."
   ]
  },
  {
   "cell_type": "code",
   "execution_count": 6,
   "id": "8d12970a",
   "metadata": {
    "colab": {
     "base_uri": "https://localhost:8080/"
    },
    "id": "iYkez7mz2j37",
    "outputId": "3cb06cc4-c03e-4304-d39d-483b7781aa2b"
   },
   "outputs": [
    {
     "name": "stderr",
     "output_type": "stream",
     "text": [
      "/root/.local/share/virtualenvs/l5kit-ZbMednhg/lib/python3.8/site-packages/stable_baselines3/common/buffers.py:564: UserWarning: This system does not have apparently enough memory to store the complete replay buffer 70.25GB > 12.25GB\n",
      "  warnings.warn(\n"
     ]
    }
   ],
   "source": [
    "model = SAC.load('/workspace/datasets/logs/06-01-2023_15-15-53/SAC_6000000_steps.zip', \n",
    "                 env = eval_env, \n",
    "                 custom_objects = {\n",
    "                      \"learning_rate\": 0.0,\n",
    "                      \"lr_schedule\": lambda _: 0.0,\n",
    "                      \"clip_range\": lambda _: 0.0,}\n",
    "                )"
   ]
  },
  {
   "cell_type": "code",
   "execution_count": null,
   "id": "241e2078-306c-4864-8633-d1d306bdad6a",
   "metadata": {},
   "outputs": [
    {
     "name": "stderr",
     "output_type": "stream",
     "text": [
      "/workspace/source/l5kit2/l5kit/l5kit/data/zarr_dataset.py:213: RuntimeWarning: zarr dataset path should end with .zarr (for now). Open will fail for this dataset!\n",
      "  dataset = ChunkedDataset(\"\")\n",
      "/workspace/source/l5kit2/l5kit/l5kit/simulation/utils.py:107: RuntimeWarning: zarr dataset path should end with .zarr (for now). Open will fail for this dataset!\n",
      "  new_dataset = ChunkedDataset(\"\")\n"
     ]
    }
   ],
   "source": [
    "rollout_sim_cfg = SimulationConfigGym()\n",
    "rollout_sim_cfg.num_simulation_steps = None\n",
    "rollout_env = gym.make(\"L5-CLE-v0\", env_config_path=env_config_path, sim_cfg=rollout_sim_cfg, \\\n",
    "                       use_kinematic=True, train=False, return_info=True)\n",
    "\n",
    "from src.simulation.unrollGym import unroll, visualize_outputs\n",
    "sim_outs = unroll(model, rollout_env,100)"
   ]
  },
  {
   "cell_type": "code",
   "execution_count": null,
   "id": "ab53e45e",
   "metadata": {
    "id": "fcd2b424"
   },
   "outputs": [],
   "source": [
    "rollout_sim_cfg = SimulationConfigGym()\n",
    "rollout_sim_cfg.num_simulation_steps = None\n",
    "rollout_env = gym.make(\"L5-CLE-v0\", env_config_path=env_config_path, sim_cfg=rollout_sim_cfg, \\\n",
    "                       use_kinematic=True, train=False, return_info=True)\n",
    "\n",
    "from src.simulation.unrollGym import unroll\n",
    "sim_outs = unroll(model, rollout_env)"
   ]
  },
  {
   "cell_type": "markdown",
   "id": "f1573013",
   "metadata": {
    "id": "nrEcm9QSNSNg"
   },
   "source": [
    "## Calculate the performance metrics from the episode outputs\n",
    "\n",
    "We can also calculate the various quantitative metrics on the rolled out episode output. "
   ]
  },
  {
   "cell_type": "code",
   "execution_count": 10,
   "id": "5ef44809-4819-4dbe-9849-9cc113284a5d",
   "metadata": {},
   "outputs": [
    {
     "name": "stdout",
     "output_type": "stream",
     "text": [
      "+----------+----------+----------+----------+------+------+------+---------+\n",
      "| scene_id |   FDE    |   ADE    |   DRT    |  CF  |  CR  |  CS  |   PEGO  |\n",
      "+----------+----------+----------+----------+------+------+------+---------+\n",
      "|    0     | 95.9108  |  20.024  | 32.5643  | 0.0  | 0.0  | 0.0  |  3.3438 |\n",
      "|    1     |  7.8591  |  6.0797  |  0.4468  | 0.0  | 0.0  | 0.0  | -0.0759 |\n",
      "|    2     |  5.3138  |  9.6539  |  0.1657  | 0.0  | 0.0  | 0.0  |  3.7924 |\n",
      "|    3     | 14.3038  |  9.3569  |  1.9173  | 0.0  | 0.0  | 0.0  |  2.0032 |\n",
      "|    4     | 19.7163  | 11.8438  |  0.3856  | 0.0  | 0.0  | 0.0  |  3.3973 |\n",
      "|    5     | 12.2594  |  2.6115  |  5.2499  | 0.0  | 0.0  | 0.0  |  0.6355 |\n",
      "|    6     | 11.6526  |  6.5464  |  8.6735  | 0.0  | 0.0  | 0.0  |  0.307  |\n",
      "|    7     |  1.2073  |  1.1765  |  0.8683  | 0.0  | 0.0  | 0.0  |  1.1539 |\n",
      "|    8     |  1.0952  |  0.9348  |   0.74   | 0.0  | 0.0  | 0.0  |  0.5437 |\n",
      "|    9     | 89.9599  | 21.3854  |  3.0584  | 0.0  | 0.0  | 0.0  | -3.9721 |\n",
      "|    10    |  0.9849  |  3.2765  |  1.7866  | 0.0  | 0.0  | 0.0  |  0.5766 |\n",
      "|    11    | 38.0693  | 21.2543  |  0.5552  | 0.0  | 0.0  | 0.0  | -2.4719 |\n",
      "|    12    |  0.9785  |  5.3651  |  0.179   | 0.0  | 0.0  | 0.0  | -0.4851 |\n",
      "|    13    |  13.279  |  9.1377  |  0.3615  | 0.0  | 0.0  | 0.0  |  -2.003 |\n",
      "|    14    | 29.3142  | 15.9222  |   0.92   | 0.0  | 0.0  | 0.0  | -1.6659 |\n",
      "|    15    |  0.3248  |  0.2351  |  0.3653  | 0.0  | 0.0  | 0.0  |  1.263  |\n",
      "|    16    | 121.5386 | 43.9321  | 54.9309  | 0.0  | 0.0  | 0.0  |  8.9586 |\n",
      "|    17    |  0.7906  |  0.8565  |  0.7391  | 0.0  | 0.0  | 0.0  |  0.5862 |\n",
      "|    18    |  4.8651  |  1.3141  |  2.3179  | 0.0  | 0.0  | 0.0  | -3.8013 |\n",
      "|    19    | 11.2614  |  3.8691  |  2.4164  | 0.0  | 0.0  | 0.0  |  4.1271 |\n",
      "|    20    | 116.9671 | 40.9304  |  2.9667  | 0.0  | 0.0  | 0.0  | -3.4464 |\n",
      "|    21    |  1.8498  |  5.2506  |  0.7029  | 0.0  | 0.0  | 0.0  |  1.4943 |\n",
      "|    22    | 127.3725 | 70.7794  |  0.5402  | 0.0  | 0.0  | 0.0  | -6.5647 |\n",
      "|    23    | 48.9166  |  8.9257  |  1.1529  | 0.0  | 0.0  | 0.0  | -7.1614 |\n",
      "|    24    | 111.8245 | 73.4753  | 74.3693  | 0.0  | 0.0  | 0.0  | -5.9162 |\n",
      "|    25    | 37.8083  |  29.154  | 33.8302  | 0.0  | 0.0  | 0.0  |  -3.175 |\n",
      "|    26    |  2.7927  |  4.297   |  3.4224  | 0.0  | 0.0  | 0.0  |  2.2658 |\n",
      "|    27    |  8.9767  |  6.2286  |  8.6246  | 1.0  | 0.0  | 0.0  |  2.4943 |\n",
      "|    28    |  6.2825  |  5.6611  |  7.085   | 0.0  | 0.0  | 1.0  |  3.4444 |\n",
      "|    29    |  4.1669  |  2.2536  |  4.709   | 0.0  | 0.0  | 0.0  | -1.5117 |\n",
      "|    30    |  70.586  | 39.0955  | 39.6013  | 0.0  | 0.0  | 0.0  |  8.7587 |\n",
      "|    31    | 123.9629 | 40.2589  | 77.7878  | 0.0  | 0.0  | 0.0  |  5.2335 |\n",
      "|    32    | 239.7062 | 116.1171 | 132.4243 | 0.0  | 0.0  | 0.0  |  2.1979 |\n",
      "|    33    |  1.226   |  1.7177  |  0.6952  | 0.0  | 0.0  | 0.0  |  1.4826 |\n",
      "|    34    |  0.7971  |  0.7554  |  0.8144  | 0.0  | 0.0  | 0.0  |  0.0044 |\n",
      "|    35    |  15.433  |  7.676   |  0.3697  | 0.0  | 0.0  | 0.0  | -1.1058 |\n",
      "|    36    |  0.2314  |  0.3727  |  0.3761  | 0.0  | 0.0  | 0.0  |  0.232  |\n",
      "|    37    |  0.2056  |  0.2765  |  0.3164  | 0.0  | 0.0  | 0.0  |  0.9457 |\n",
      "|    38    | 198.7369 | 43.8819  | 14.8198  | 0.0  | 0.0  | 0.0  | -6.3354 |\n",
      "|    39    |  1.8266  |  3.9072  |  0.3172  | 0.0  | 0.0  | 0.0  | -0.8228 |\n",
      "|    40    |  3.4131  |  4.8159  |  0.6751  | 0.0  | 0.0  | 0.0  |  0.2253 |\n",
      "|    41    |  2.7131  |  2.354   |  0.1552  | 0.0  | 0.0  | 0.0  |  0.4548 |\n",
      "|    42    |  6.9989  |  5.9684  |  0.4031  | 0.0  | 0.0  | 0.0  | -1.3721 |\n",
      "|    43    | 219.9736 | 79.6968  | 140.552  | 0.0  | 0.0  | 0.0  |  5.8848 |\n",
      "|    44    | 18.1789  | 10.2312  |  2.8833  | 0.0  | 0.0  | 0.0  |  7.0752 |\n",
      "|    45    | 137.4468 | 43.9635  |  3.7344  | 0.0  | 0.0  | 0.0  | -7.2939 |\n",
      "|    46    |  23.021  |  9.8164  |  3.3784  | 0.0  | 0.0  | 0.0  |  3.2125 |\n",
      "|    47    |  1.9766  |  5.8641  |  1.7991  | 0.0  | 0.0  | 1.0  |  1.4344 |\n",
      "|    48    |  0.3132  |  0.1634  |  0.1614  | 0.0  | 0.0  | 0.0  |  0.363  |\n",
      "|    49    |  0.2581  |  0.137   |  0.2378  | 0.0  | 0.0  | 0.0  |  0.4924 |\n",
      "|    50    |   0.78   |  0.2711  |  0.1776  | 0.0  | 0.0  | 0.0  |  0.0877 |\n",
      "|    51    |  0.0747  |  0.1445  |  0.0466  | 0.0  | 0.0  | 0.0  |  1.0972 |\n",
      "|    52    |  0.281   |  0.3103  |  0.4912  | 0.0  | 0.0  | 0.0  |  0.0252 |\n",
      "|    53    | 59.0085  | 26.2937  |  5.4691  | 0.0  | 0.0  | 0.0  |  1.7592 |\n",
      "|    54    |  6.5494  |  3.4077  |  3.1342  | 0.0  | 1.0  | 0.0  |  2.5752 |\n",
      "|    55    | 13.7507  |  6.2824  |  0.7408  | 0.0  | 0.0  | 0.0  |  0.0866 |\n",
      "|    56    |  21.657  |  4.5787  |  0.6526  | 0.0  | 0.0  | 0.0  |  6.8473 |\n",
      "|    57    | 17.3634  | 14.7403  |  0.3516  | 0.0  | 0.0  | 0.0  | -0.5021 |\n",
      "|    58    | 97.3774  | 32.4944  |  4.5771  | 0.0  | 0.0  | 0.0  |  2.5617 |\n",
      "|    59    |  8.1879  |  6.535   |  5.3659  | 0.0  | 0.0  | 0.0  |  2.9501 |\n",
      "|    60    |  7.832   |  3.1974  |  0.5521  | 0.0  | 0.0  | 0.0  |  3.7953 |\n",
      "|    61    | 17.9664  |  7.0911  |  0.5287  | 0.0  | 0.0  | 0.0  |  -1.98  |\n",
      "|    62    |  7.7966  |  6.6778  |  0.7063  | 0.0  | 0.0  | 0.0  |  1.2085 |\n",
      "|    63    |  13.314  |  10.671  |  1.3689  | 0.0  | 0.0  | 0.0  | -3.5953 |\n",
      "|    64    |  1.6818  |  3.1088  |  0.2731  | 0.0  | 0.0  | 0.0  |  1.2412 |\n",
      "|    65    |  2.0212  |  1.8499  |  2.9219  | 0.0  | 0.0  | 0.0  |  0.269  |\n",
      "|    66    |  5.0025  |  3.7717  |  4.4421  | 0.0  | 0.0  | 0.0  |  2.3323 |\n",
      "|    67    |  9.4745  |  5.748   |  6.9834  | 0.0  | 0.0  | 0.0  |  3.3078 |\n",
      "|    68    |  5.9942  |  4.1122  |  7.0964  | 0.0  | 0.0  | 0.0  |  0.2558 |\n",
      "|    69    |  5.3585  |  3.0382  |  4.5683  | 0.0  | 0.0  | 0.0  |  0.2413 |\n",
      "|    70    |  2.8264  |  5.615   |  3.4152  | 0.0  | 0.0  | 0.0  | -2.5982 |\n",
      "|    71    |  4.7889  |  3.039   |  2.4735  | 0.0  | 0.0  | 0.0  |  0.1629 |\n",
      "|    72    | 310.8618 | 133.1664 | 104.445  | 0.0  | 0.0  | 0.0  |  4.2067 |\n",
      "|    73    | 10.3337  |  9.9013  |  0.4173  | 0.0  | 0.0  | 0.0  |  2.603  |\n",
      "|    74    |  3.051   |  4.8714  |  0.2034  | 0.0  | 0.0  | 0.0  |  1.033  |\n",
      "|    75    |  11.034  |  8.4606  |  2.3748  | 0.0  | 0.0  | 0.0  |  -0.305 |\n",
      "|    76    |  5.3565  |  1.405   |  0.5744  | 0.0  | 0.0  | 0.0  |  0.8599 |\n",
      "|    77    |  0.9134  |  0.8503  |  0.3649  | 0.0  | 0.0  | 0.0  |  0.6951 |\n",
      "|    78    |  0.6501  |  0.4978  |  0.7866  | 0.0  | 0.0  | 0.0  |  0.778  |\n",
      "|    79    |  3.9397  |  2.0141  |  0.5249  | 0.0  | 0.0  | 0.0  | -2.5511 |\n",
      "|    80    |  8.9944  |  7.4336  |  0.3345  | 0.0  | 0.0  | 0.0  | -3.0021 |\n",
      "|    81    | 13.1399  |  8.1353  |  0.6533  | 0.0  | 0.0  | 0.0  |  1.2473 |\n",
      "|    82    |  9.2192  |  6.2044  |  0.8694  | 0.0  | 0.0  | 0.0  | -1.5546 |\n",
      "|    83    |  2.1274  |  9.0156  |  1.3177  | 0.0  | 0.0  | 0.0  |  0.6361 |\n",
      "|    84    |  0.9003  |  7.5385  |  0.3477  | 0.0  | 0.0  | 0.0  | -1.4465 |\n",
      "|    85    |  1.209   |  5.193   |  2.7521  | 0.0  | 0.0  | 0.0  | -8.6975 |\n",
      "|    86    | 32.9709  |  8.5093  |  0.6905  | 0.0  | 0.0  | 0.0  |  1.9432 |\n",
      "|    87    |  0.4892  |  6.8084  |  0.0746  | 0.0  | 0.0  | 0.0  |  0.2838 |\n",
      "|    88    |  0.4689  |  0.2683  |  0.4419  | 0.0  | 0.0  | 0.0  |  0.0309 |\n",
      "|    89    |  0.6212  |  0.528   |  0.554   | 0.0  | 0.0  | 0.0  |  0.1743 |\n",
      "|    90    |  0.2341  |  0.3297  |  0.1908  | 0.0  | 0.0  | 0.0  |  0.0224 |\n",
      "|    91    |  3.3958  |  2.3588  |  0.7345  | 0.0  | 0.0  | 1.0  | -2.5375 |\n",
      "|    92    |  4.5677  |  3.8884  |  1.0332  | 0.0  | 1.0  | 0.0  |  4.0792 |\n",
      "|    93    |  3.4309  |  4.3187  |  0.3558  | 0.0  | 0.0  | 0.0  |  -2.868 |\n",
      "|    94    |  0.6923  |  2.7803  |  0.0476  | 0.0  | 0.0  | 0.0  |  2.9806 |\n",
      "|    95    | 44.1723  |  5.513   |  1.661   | 0.0  | 0.0  | 0.0  |  2.1784 |\n",
      "|    96    | 18.8244  |  5.677   |  6.8498  | 0.0  | 1.0  | 0.0  | -5.5136 |\n",
      "|    97    | 25.5189  | 12.3985  |  2.3319  | 0.0  | 0.0  | 1.0  | 12.8464 |\n",
      "|    98    |  6.2757  |  8.1144  |  1.3241  | 0.0  | 0.0  | 0.0  |  3.5457 |\n",
      "|    99    | 112.147  | 33.6618  | 63.1926  | 0.0  | 0.0  | 0.0  |  -5.994 |\n",
      "| Overall  | 29.5927  | 13.1162  |  9.2933  | 0.01 | 0.03 | 0.04 |  0.4701 |\n",
      "+----------+----------+----------+----------+------+------+------+---------+\n"
     ]
    }
   ],
   "source": [
    "from src.validate.validator import compute_ade_fde, quantify_outputs\n",
    "ades, fdes = compute_ade_fde(sim_outs)\n",
    "quantify_outputs(sim_outs)"
   ]
  },
  {
   "cell_type": "code",
   "execution_count": 11,
   "id": "8ffeffd9-31e3-47f7-b7c6-868730b9a11a",
   "metadata": {},
   "outputs": [
    {
     "name": "stdout",
     "output_type": "stream",
     "text": [
      "13.12 22.24 66.51\n",
      "29.59 55.6 155.39\n",
      "Top worst scence based on ade:[36, 90, 52, 37, 50, 88, 15, 48, 51, 49]\n",
      "Top best scence based on ade:[49, 51, 48, 15, 88, 50, 37, 52, 90]\n",
      "Top worst scence based on fde:[87, 88, 15, 48, 52, 49, 90, 36, 37, 51]\n",
      "Top best scence based on fde:[51, 37, 36, 90, 49, 52, 48, 15, 88]\n",
      "mean, min/max, std: (13.12, 22.24, 66.51)\n",
      "mean, min/max, std: (29.59, 55.6, 155.39)\n"
     ]
    }
   ],
   "source": [
    "print(round(np.mean(ades),2), round((np.std(ades)),2) ,round((np.max(ades) - np.min(ades))/2,2))\n",
    "print(round(np.mean(fdes),2), round((np.std(fdes)),2) ,round((np.max(fdes) - np.min(fdes))/2,2))\n",
    "sorted_ades_idx = sorted(range(len(ades)), key=lambda i: ades[i], reverse=True)\n",
    "sorted_fdes_idx = sorted(range(len(fdes)), key=lambda i: fdes[i], reverse=True)\n",
    "print(f'Top worst scence based on ade:{sorted_ades_idx[-10:]}')\n",
    "print(f'Top best scence based on ade:{sorted_ades_idx[:-10:-1]}')\n",
    "print(f'Top worst scence based on fde:{sorted_fdes_idx[-10:]}')\n",
    "print(f'Top best scence based on fde:{sorted_fdes_idx[:-10:-1]}')\n",
    "print(f'mean, min/max, std: {round(np.mean(ades),2), round((np.std(ades)),2) ,round((np.max(ades) - np.min(ades))/2,2)}')\n",
    "print(f'mean, min/max, std: {round(np.mean(fdes),2), round((np.std(fdes)),2) ,round((np.max(fdes) - np.min(fdes))/2,2)}')"
   ]
  },
  {
   "cell_type": "markdown",
   "id": "defbdbb7-cabf-4d5b-a9c6-9679fb5acae8",
   "metadata": {
    "tags": []
   },
   "source": [
    "### Best ade"
   ]
  },
  {
   "cell_type": "code",
   "execution_count": null,
   "id": "ed615a5a-3396-49cf-b921-6f517ff3543a",
   "metadata": {},
   "outputs": [],
   "source": [
    "# might change with different rasterizer\n",
    "sim_outs_selected =  [sim_outs[i] for i in sorted_ades_idx[-5:-1]]\n",
    "output_notebook()\n",
    "visualize_outputs(sim_outs_selected)"
   ]
  },
  {
   "cell_type": "markdown",
   "id": "c743fe0e-06a7-4e84-81ea-febd4580cd12",
   "metadata": {},
   "source": [
    "### Worst ade"
   ]
  },
  {
   "cell_type": "code",
   "execution_count": null,
   "id": "2383dd22-26f3-4c40-bf4d-6973987b1a73",
   "metadata": {
    "tags": []
   },
   "outputs": [],
   "source": [
    "sim_outs_selected =  [sim_outs[i] for i in sorted_ades_idx[:5]]\n",
    "output_notebook()\n",
    "visualize_outputs(sim_outs_selected)### Worst ade"
   ]
  },
  {
   "cell_type": "markdown",
   "id": "797a87d1-4d94-41f8-bf1a-3055991860ab",
   "metadata": {
    "tags": []
   },
   "source": [
    "## Use Validator"
   ]
  },
  {
   "cell_type": "code",
   "execution_count": 8,
   "id": "22b2ba83-4094-4aa7-bf3a-dc2a098bb8e9",
   "metadata": {
    "tags": []
   },
   "outputs": [
    {
     "name": "stdout",
     "output_type": "stream",
     "text": [
      "+-------------------------+-------+\n",
      "|          metric         | value |\n",
      "+-------------------------+-------+\n",
      "|  displacement_error_l2  |   2   |\n",
      "| distance_ref_trajectory |   20  |\n",
      "|     collision_front     |   8   |\n",
      "|      collision_rear     |   8   |\n",
      "|      collision_side     |   33  |\n",
      "+-------------------------+-------+\n"
     ]
    },
    {
     "data": {
      "image/png": "[encoded data removed]",
      "text/plain": [
       "<Figure size 432x288 with 1 Axes>"
      ]
     },
     "metadata": {
      "needs_background": "light"
     },
     "output_type": "display_data"
    }
   ],
   "source": [
    "from src.validate.validator import CLEValidator\n",
    "import matplotlib.pyplot as plt\n",
    "import numpy as np\n",
    "\n",
    "agg = CLEValidator(sim_outs)\n",
    "fields = [\"metric\", \"value\"]\n",
    "table = PrettyTable(field_names=fields)\n",
    "\n",
    "values = []\n",
    "names = []\n",
    "\n",
    "for metric_name in agg:\n",
    "    table.add_row([metric_name, agg[metric_name].item()])\n",
    "    values.append(agg[metric_name].item())\n",
    "    names.append(metric_name)\n",
    "\n",
    "print(table)\n",
    "\n",
    "plt.bar(np.arange(len(names)), values)\n",
    "plt.xticks(np.arange(len(names)), names, rotation=60, ha='right')\n",
    "plt.show()"
   ]
  },
  {
   "cell_type": "code",
   "execution_count": null,
   "id": "852f7448-4285-4b73-94c9-2ccbd0ab01a6",
   "metadata": {},
   "outputs": [],
   "source": []
  }
 ],
 "metadata": {
  "colab": {
   "provenance": []
  },
  "gpuClass": "standard",
  "kernelspec": {
   "display_name": "Python 3 (ipykernel)",
   "language": "python",
   "name": "python3"
  },
  "language_info": {
   "codemirror_mode": {
    "name": "ipython",
    "version": 3
   },
   "file_extension": ".py",
   "mimetype": "text/x-python",
   "name": "python",
   "nbconvert_exporter": "python",
   "pygments_lexer": "ipython3",
   "version": "3.8.16"
  }
 },
 "nbformat": 4,
 "nbformat_minor": 5
}
