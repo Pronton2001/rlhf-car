{
 "cells": [
  {
   "cell_type": "markdown",
   "id": "d9afa518",
   "metadata": {
    "id": "f7f64953",
    "tags": []
   },
   "source": [
    "### Training RL Policies using L5Kit Closed-Loop Environment\n",
    "\n",
    "This notebook describes how to train RL policies for self-driving using our gym-compatible closed-loop environment.\n",
    "\n",
    "We will be using [Proximal Policy Optimization (PPO)](https://arxiv.org/abs/1707.06347) algorithm as our reinforcement learning algorithm, as it not only demonstrates remarkable performance but it is also empirically easy to tune.\n",
    "\n",
    "The PPO implementation in this notebook is based on [Stable Baselines3](https://github.com/DLR-RM/stable-baselines3) framework, a popular framework for training RL policies. Note that our environment is also compatible with [RLlib](https://docs.ray.io/en/latest/rllib.html), another popular frameworks for the same."
   ]
  },
  {
   "cell_type": "markdown",
   "id": "7e420adb",
   "metadata": {
    "id": "ulK_RDB4e_gx"
   },
   "source": [
    "ref: \n",
    "([rllib] Best workflow to train, save, and test agent #9123\n",
    ")[https://github.com/ray-project/ray/issues/9123]"
   ]
  },
  {
   "cell_type": "code",
   "execution_count": 4,
   "id": "364e3af3",
   "metadata": {
    "colab": {
     "base_uri": "https://localhost:8080/"
    },
    "id": "smZ0MKsHE2_s",
    "outputId": "631f2d2d-38ee-45ba-f658-b7d11c59139b",
    "tags": []
   },
   "outputs": [],
   "source": [
    "import os\n",
    "os.environ[\"L5KIT_DATA_FOLDER\"] = '/workspace/datasets'\n",
    "os.environ['CUDA_VISIBLE_DEVICES']='1'\n",
    "# os.environ[\"TUNE_RESULT_DIR\"] =  '/DATA/l5kit/rllib_tb_logs'"
   ]
  },
  {
   "cell_type": "code",
   "execution_count": 5,
   "id": "a378e9d2",
   "metadata": {
    "id": "585b1fe7",
    "tags": []
   },
   "outputs": [],
   "source": [
    "import gym\n",
    "from l5kit.configs import load_config_data\n",
    "from l5kit.environment.envs.l5_env import SimulationConfigGym, GymStepOutput, L5Env\n",
    "from l5kit.visualization.visualizer.zarr_utils import episode_out_to_visualizer_scene_gym_cle\n",
    "from l5kit.visualization.visualizer.visualizer import visualize\n",
    "from bokeh.io import output_notebook, show\n",
    "from l5kit.environment.gym_metric_set import L2DisplacementYawMetricSet, CLEMetricSet\n",
    "from prettytable import PrettyTable\n",
    "import datetime\n",
    "from ray.rllib.models import ModelCatalog\n",
    "from ray.rllib.models.torch.torch_modelv2 import TorchModelV2\n",
    "import torch.nn as nn\n",
    "import numpy as np\n",
    "import gym\n",
    "from typing import Dict\n",
    "import numpy as np\n",
    "import ray\n",
    "import pytz\n",
    "from ray import tune"
   ]
  },
  {
   "cell_type": "markdown",
   "id": "95d08f35",
   "metadata": {
    "id": "xHfH5HGWoTD7",
    "tags": []
   },
   "source": [
    "## Init ray and env"
   ]
  },
  {
   "cell_type": "code",
   "execution_count": 6,
   "id": "e8fa5634",
   "metadata": {
    "colab": {
     "base_uri": "https://localhost:8080/",
     "height": 77
    },
    "id": "hnJ6GUQ4hMVI",
    "outputId": "dd9168e0-5b52-463b-8e1b-c3d45c303eb6",
    "tags": []
   },
   "outputs": [
    {
     "name": "stderr",
     "output_type": "stream",
     "text": [
      "2023-03-30 15:44:40,944\tINFO worker.py:1538 -- Started a local Ray instance.\n"
     ]
    },
    {
     "data": {
      "text/html": [
       "<div>\n",
       "    <div style=\"margin-left: 50px;display: flex;flex-direction: row;align-items: center\">\n",
       "        <h3 style=\"color: var(--jp-ui-font-color0)\">Ray</h3>\n",
       "        <svg version=\"1.1\" id=\"ray\" width=\"3em\" viewBox=\"0 0 144.5 144.6\" style=\"margin-left: 3em;margin-right: 3em\">\n",
       "            <g id=\"layer-1\">\n",
       "                <path fill=\"#00a2e9\" class=\"st0\" d=\"M97.3,77.2c-3.8-1.1-6.2,0.9-8.3,5.1c-3.5,6.8-9.9,9.9-17.4,9.6S58,88.1,54.8,81.2c-1.4-3-3-4-6.3-4.1\n",
       "                    c-5.6-0.1-9.9,0.1-13.1,6.4c-3.8,7.6-13.6,10.2-21.8,7.6C5.2,88.4-0.4,80.5,0,71.7c0.1-8.4,5.7-15.8,13.8-18.2\n",
       "                    c8.4-2.6,17.5,0.7,22.3,8c1.3,1.9,1.3,5.2,3.6,5.6c3.9,0.6,8,0.2,12,0.2c1.8,0,1.9-1.6,2.4-2.8c3.5-7.8,9.7-11.8,18-11.9\n",
       "                    c8.2-0.1,14.4,3.9,17.8,11.4c1.3,2.8,2.9,3.6,5.7,3.3c1-0.1,2,0.1,3,0c2.8-0.5,6.4,1.7,8.1-2.7s-2.3-5.5-4.1-7.5\n",
       "                    c-5.1-5.7-10.9-10.8-16.1-16.3C84,38,81.9,37.1,78,38.3C66.7,42,56.2,35.7,53,24.1C50.3,14,57.3,2.8,67.7,0.5\n",
       "                    C78.4-2,89,4.7,91.5,15.3c0.1,0.3,0.1,0.5,0.2,0.8c0.7,3.4,0.7,6.9-0.8,9.8c-1.7,3.2-0.8,5,1.5,7.2c6.7,6.5,13.3,13,19.8,19.7\n",
       "                    c1.8,1.8,3,2.1,5.5,1.2c9.1-3.4,17.9-0.6,23.4,7c4.8,6.9,4.6,16.1-0.4,22.9c-5.4,7.2-14.2,9.9-23.1,6.5c-2.3-0.9-3.5-0.6-5.1,1.1\n",
       "                    c-6.7,6.9-13.6,13.7-20.5,20.4c-1.8,1.8-2.5,3.2-1.4,5.9c3.5,8.7,0.3,18.6-7.7,23.6c-7.9,5-18.2,3.8-24.8-2.9\n",
       "                    c-6.4-6.4-7.4-16.2-2.5-24.3c4.9-7.8,14.5-11,23.1-7.8c3,1.1,4.7,0.5,6.9-1.7C91.7,98.4,98,92.3,104.2,86c1.6-1.6,4.1-2.7,2.6-6.2\n",
       "                    c-1.4-3.3-3.8-2.5-6.2-2.6C99.8,77.2,98.9,77.2,97.3,77.2z M72.1,29.7c5.5,0.1,9.9-4.3,10-9.8c0-0.1,0-0.2,0-0.3\n",
       "                    C81.8,14,77,9.8,71.5,10.2c-5,0.3-9,4.2-9.3,9.2c-0.2,5.5,4,10.1,9.5,10.3C71.8,29.7,72,29.7,72.1,29.7z M72.3,62.3\n",
       "                    c-5.4-0.1-9.9,4.2-10.1,9.7c0,0.2,0,0.3,0,0.5c0.2,5.4,4.5,9.7,9.9,10c5.1,0.1,9.9-4.7,10.1-9.8c0.2-5.5-4-10-9.5-10.3\n",
       "                    C72.6,62.3,72.4,62.3,72.3,62.3z M115,72.5c0.1,5.4,4.5,9.7,9.8,9.9c5.6-0.2,10-4.8,10-10.4c-0.2-5.4-4.6-9.7-10-9.7\n",
       "                    c-5.3-0.1-9.8,4.2-9.9,9.5C115,72.1,115,72.3,115,72.5z M19.5,62.3c-5.4,0.1-9.8,4.4-10,9.8c-0.1,5.1,5.2,10.4,10.2,10.3\n",
       "                    c5.6-0.2,10-4.9,9.8-10.5c-0.1-5.4-4.5-9.7-9.9-9.6C19.6,62.3,19.5,62.3,19.5,62.3z M71.8,134.6c5.9,0.2,10.3-3.9,10.4-9.6\n",
       "                    c0.5-5.5-3.6-10.4-9.1-10.8c-5.5-0.5-10.4,3.6-10.8,9.1c0,0.5,0,0.9,0,1.4c-0.2,5.3,4,9.8,9.3,10\n",
       "                    C71.6,134.6,71.7,134.6,71.8,134.6z\"/>\n",
       "            </g>\n",
       "        </svg>\n",
       "        <table>\n",
       "            <tr>\n",
       "                <td style=\"text-align: left\"><b>Python version:</b></td>\n",
       "                <td style=\"text-align: left\"><b>3.8.16</b></td>\n",
       "            </tr>\n",
       "            <tr>\n",
       "                <td style=\"text-align: left\"><b>Ray version:</b></td>\n",
       "                <td style=\"text-align: left\"><b> 2.2.0</b></td>\n",
       "            </tr>\n",
       "            \n",
       "        </table>\n",
       "    </div>\n",
       "</div>\n"
      ],
      "text/plain": [
       "RayContext(dashboard_url='', python_version='3.8.16', ray_version='2.2.0', ray_commit='b6af0887ee5f2e460202133791ad941a41f15beb', address_info={'node_ip_address': '172.17.0.3', 'raylet_ip_address': '172.17.0.3', 'redis_address': None, 'object_store_address': '/tmp/ray/session_2023-03-30_15-44-38_898684_2939500/sockets/plasma_store', 'raylet_socket_name': '/tmp/ray/session_2023-03-30_15-44-38_898684_2939500/sockets/raylet', 'webui_url': '', 'session_dir': '/tmp/ray/session_2023-03-30_15-44-38_898684_2939500', 'metrics_export_port': 58287, 'gcs_address': '172.17.0.3:63699', 'address': '172.17.0.3:63699', 'dashboard_agent_listen_port': 52365, 'node_id': '04d1f16f3c011bc12e5b53e461e7fb94c7409884b925320d32be2a80'})"
      ]
     },
     "execution_count": 6,
     "metadata": {},
     "output_type": "execute_result"
    }
   ],
   "source": [
    "ray.init(num_cpus=12, ignore_reinit_error=True, log_to_driver=False)"
   ]
  },
  {
   "cell_type": "code",
   "execution_count": 8,
   "id": "a8d551fe",
   "metadata": {
    "id": "2ea81f77",
    "tags": []
   },
   "outputs": [],
   "source": [
    "\n",
    "from l5kit.configs import load_config_data\n",
    "\n",
    "# get environment config\n",
    "# env_config_path = '/workspace/source/configs/gym_config_history3.yaml'\n",
    "env_config_path = '/workspace/source/configs/gym_config84.yaml'\n",
    "# env_config_path = '/workspace/source/configs/gym_config.yaml'\n",
    "# env_config_path = '/workspace/source/src/configs/gym_vectorizer_config.yaml'\n",
    "cfg = load_config_data(env_config_path)"
   ]
  },
  {
   "cell_type": "markdown",
   "id": "4f732ad6",
   "metadata": {
    "id": "eBwt9neMoj9h",
    "tags": []
   },
   "source": [
    "## Customize my model"
   ]
  },
  {
   "cell_type": "code",
   "execution_count": 9,
   "id": "cd87b739-34db-49c7-a22e-9d3de0aa54b3",
   "metadata": {
    "tags": []
   },
   "outputs": [],
   "source": [
    "from ray.rllib.models import ModelCatalog\n",
    "from src.customModel.customModel import TorchGNCNN, TorchGNCNN_separated, TorchAttentionModel2,TorchAttentionModel\n",
    "\n",
    "ModelCatalog.register_custom_model(\"GN_CNN_torch_model\", TorchGNCNN)\n",
    "ModelCatalog.register_custom_model(\"GN_CNN_separated_torch_model\", TorchGNCNN_separated)\n",
    "ModelCatalog.register_custom_model( \"TorchSeparatedAttentionModel\", TorchAttentionModel)\n",
    "ModelCatalog.register_custom_model( \"TorchSharedAttentionModel\", TorchAttentionModel2)"
   ]
  },
  {
   "cell_type": "markdown",
   "id": "5cfe748f",
   "metadata": {
    "id": "2cead394",
    "tags": []
   },
   "source": [
    "## Define Training and Evaluation Environments\n",
    "\n",
    "**Training**: We will be training the PPO policy on episodes of length 32 time-steps. We will have 4 sub-processes (training environments) that will help to parallelize and speeden up episode rollouts. The *SimConfig* dataclass will define the parameters of the episode rollout: like length of episode rollout, whether to use log-replayed agents or simulated agents etc.\n",
    "\n",
    "**Evaluation**: We will evaluate the performance of the PPO policy on the *entire* scene (~248 time-steps)."
   ]
  },
  {
   "cell_type": "markdown",
   "id": "24674ab9",
   "metadata": {
    "id": "0CAZm9UDo1C0",
    "tags": []
   },
   "source": [
    "### Calculate # channels"
   ]
  },
  {
   "cell_type": "code",
   "execution_count": 10,
   "id": "f5cb1bc5-2c66-49f7-b748-87dbb5ddfb1b",
   "metadata": {
    "tags": []
   },
   "outputs": [
    {
     "name": "stdout",
     "output_type": "stream",
     "text": [
      "1 1 7\n"
     ]
    }
   ],
   "source": [
    "n_channels = (cfg['model_params']['future_num_frames'] + 1)* 2 + 3\n",
    "print(cfg['model_params']['future_num_frames'], cfg['model_params']['history_num_frames'], n_channels)"
   ]
  },
  {
   "cell_type": "code",
   "execution_count": 14,
   "id": "fd67c448",
   "metadata": {
    "id": "XfXbbfjCg3aw",
    "tags": []
   },
   "outputs": [],
   "source": [
    "from ray import tune\n",
    "from src.customEnv.wrapper import L5EnvWrapper, L5EnvWrapperTorch\n",
    "train_eps_length = 32\n",
    "train_sim_cfg = SimulationConfigGym()\n",
    "train_sim_cfg.num_simulation_steps = train_eps_length + 1\n",
    "\n",
    "\n",
    "# Register , how your env should be constructed (always with 5, or you can take values from the `config` EnvContext object):\n",
    "env_kwargs = {'env_config_path': env_config_path, 'use_kinematic': True, 'sim_cfg': train_sim_cfg}\n",
    "\n",
    "tune.register_env(\"L5-CLE-V0\", lambda config: L5Env(**env_kwargs))\n",
    "# tune.register_env(\"L5-CLE-V1\", lambda config: L5EnvWrapper(env = L5Env(**env_kwargs), \\\n",
    "#                                                            raster_size= cfg['raster_params']['raster_size'][0], \\\n",
    "#                                                            n_channels = n_channels))\n",
    "tune.register_env(\"L5-CLE-V1\", lambda config: L5EnvWrapperTorch(env = L5Env(**env_kwargs), \\\n",
    "                                                           raster_size= cfg['raster_params']['raster_size'][0], \\\n",
    "                                                           n_channels = n_channels))"
   ]
  },
  {
   "cell_type": "code",
   "execution_count": 15,
   "id": "73af6dfc-db50-4898-bad6-f5427c17a442",
   "metadata": {
    "tags": []
   },
   "outputs": [],
   "source": [
    "from l5kit.environment.envs.l5_env2 import GymStepOutput, SimulationConfigGym, L5Env2\n",
    "\n",
    "train_eps_length = 32\n",
    "train_sim_cfg = SimulationConfigGym()\n",
    "train_sim_cfg.num_simulation_steps = train_eps_length + 1\n",
    "\n",
    "env_kwargs = {'env_config_path': env_config_path, 'use_kinematic': False, 'sim_cfg': train_sim_cfg}\n",
    "tune.register_env(\"L5-CLE-V2\", lambda config: L5Env2(**env_kwargs))"
   ]
  },
  {
   "cell_type": "markdown",
   "id": "f53e7375",
   "metadata": {
    "id": "rg8sxEnanVxL",
    "jp-MarkdownHeadingCollapsed": true,
    "tags": []
   },
   "source": [
    "## Train"
   ]
  },
  {
   "cell_type": "markdown",
   "id": "c3a717ac",
   "metadata": {
    "id": "LlFBhHgZfx5f",
    "tags": []
   },
   "source": [
    "### ref\n",
    "\n",
    "Resume stop tune: https://docs.ray.io/en/latest/tune/tutorials/tune-stopping.html\n",
    "\n",
    "tune.Tuner analysis: https://docs.ray.io/en/latest/rllib/rllib-training.html#basic-python-api\n",
    "\n",
    "get best result, load from dir: https://docs.ray.io/en/master/tune/examples/tune_analyze_results.html#trial-level-analysis-working-with-an-individual-result\n",
    "\n",
    "### Hyperparam\n",
    "```\n",
    "lr = 3e-4\n",
    "num_rollout_steps = 256\n",
    "gamma = 0.8\n",
    "gae_lambda = 0.9\n",
    "n_epochs = 10\n",
    "seed = 42\n",
    "batch_size = 64\n",
    "```\n",
    "### Clipping schedule of PPO epsilon parameter\n",
    "```\n",
    "start_val = 0.1\n",
    "end_val = 0.01\n",
    "training_progress_ratio = 1.0\n",
    "clip_schedule = get_linear_fn(start_val, end_val, training_progress_ratio)\n",
    "```"
   ]
  },
  {
   "cell_type": "code",
   "execution_count": 29,
   "id": "975bc7ad-0032-4a6c-b85b-f45911b1b2e3",
   "metadata": {
    "tags": []
   },
   "outputs": [
    {
     "name": "stdout",
     "output_type": "stream",
     "text": [
      "\u001b[34m\u001b[1mwandb\u001b[0m: Appending key for api.wandb.ai to your netrc file: /root/.netrc\n"
     ]
    }
   ],
   "source": [
    "!wandb login 083592c84134c040dcca598c644c348d32540a08"
   ]
  },
  {
   "cell_type": "code",
   "execution_count": 30,
   "id": "c6a952aa-ef4f-4116-988e-ad36f06eec6a",
   "metadata": {
    "tags": []
   },
   "outputs": [],
   "source": [
    "import numpy as np\n",
    "\n",
    "import ray\n",
    "from ray import air, tune\n",
    "from ray.air import session\n",
    "from ray.air.integrations.wandb import setup_wandb\n",
    "from ray.air.integrations.wandb import WandbLoggerCallback\n",
    "os.environ['WANDB_NOTEBOOK_NAME'] = 'rllib_ppo_policy_training.ipynb'\n",
    "os.environ[\"WANDB_API_KEY\"] = '083592c84134c040dcca598c644c348d32540a08'"
   ]
  },
  {
   "cell_type": "code",
   "execution_count": 31,
   "id": "588ebe4f-cd2a-4989-90db-c1f8a337e2be",
   "metadata": {
    "tags": []
   },
   "outputs": [
    {
     "data": {
      "text/html": [
       "Finishing last run (ID:vzp7rl5v) before initializing another..."
      ],
      "text/plain": [
       "<IPython.core.display.HTML object>"
      ]
     },
     "metadata": {},
     "output_type": "display_data"
    },
    {
     "data": {
      "text/html": [
       "Waiting for W&B process to finish... <strong style=\"color:green\">(success).</strong>"
      ],
      "text/plain": [
       "<IPython.core.display.HTML object>"
      ]
     },
     "metadata": {},
     "output_type": "display_data"
    },
    {
     "data": {
      "text/html": [
       " View run <strong style=\"color:#cdcd00\">ruby-paper-10</strong> at: <a href='https://wandb.ai/pronton2001/l5kit2/runs/vzp7rl5v' target=\"_blank\">https://wandb.ai/pronton2001/l5kit2/runs/vzp7rl5v</a><br/>Synced 5 W&B file(s), 0 media file(s), 0 artifact file(s) and 0 other file(s)"
      ],
      "text/plain": [
       "<IPython.core.display.HTML object>"
      ]
     },
     "metadata": {},
     "output_type": "display_data"
    },
    {
     "data": {
      "text/html": [
       "Find logs at: <code>/workspace/source/wandb/run-20230329_031656-vzp7rl5v/logs</code>"
      ],
      "text/plain": [
       "<IPython.core.display.HTML object>"
      ]
     },
     "metadata": {},
     "output_type": "display_data"
    },
    {
     "data": {
      "text/html": [
       "Successfully finished last run (ID:vzp7rl5v). Initializing new run:<br/>"
      ],
      "text/plain": [
       "<IPython.core.display.HTML object>"
      ]
     },
     "metadata": {},
     "output_type": "display_data"
    },
    {
     "data": {
      "application/vnd.jupyter.widget-view+json": {
       "model_id": "6d8fc399741e46a38e34bf516c0a37ca",
       "version_major": 2,
       "version_minor": 0
      },
      "text/plain": [
       "VBox(children=(Label(value='Waiting for wandb.init()...\\r'), FloatProgress(value=0.0166693065999425, max=1.0))…"
      ]
     },
     "metadata": {},
     "output_type": "display_data"
    },
    {
     "data": {
      "text/html": [
       "Tracking run with wandb version 0.14.0"
      ],
      "text/plain": [
       "<IPython.core.display.HTML object>"
      ]
     },
     "metadata": {},
     "output_type": "display_data"
    },
    {
     "data": {
      "text/html": [
       "Run data is saved locally in <code>/workspace/source/wandb/run-20230329_032023-uu0edi9d</code>"
      ],
      "text/plain": [
       "<IPython.core.display.HTML object>"
      ]
     },
     "metadata": {},
     "output_type": "display_data"
    },
    {
     "data": {
      "text/html": [
       "Syncing run <strong><a href='https://wandb.ai/pronton2001/l5kit2/runs/uu0edi9d' target=\"_blank\">logical-salad-11</a></strong> to <a href='https://wandb.ai/pronton2001/l5kit2' target=\"_blank\">Weights & Biases</a> (<a href='https://wandb.me/run' target=\"_blank\">docs</a>)<br/>"
      ],
      "text/plain": [
       "<IPython.core.display.HTML object>"
      ]
     },
     "metadata": {},
     "output_type": "display_data"
    },
    {
     "data": {
      "text/html": [
       " View project at <a href='https://wandb.ai/pronton2001/l5kit2' target=\"_blank\">https://wandb.ai/pronton2001/l5kit2</a>"
      ],
      "text/plain": [
       "<IPython.core.display.HTML object>"
      ]
     },
     "metadata": {},
     "output_type": "display_data"
    },
    {
     "data": {
      "text/html": [
       " View run at <a href='https://wandb.ai/pronton2001/l5kit2/runs/uu0edi9d' target=\"_blank\">https://wandb.ai/pronton2001/l5kit2/runs/uu0edi9d</a>"
      ],
      "text/plain": [
       "<IPython.core.display.HTML object>"
      ]
     },
     "metadata": {},
     "output_type": "display_data"
    },
    {
     "data": {
      "text/html": [
       "<button onClick=\"this.nextSibling.style.display='block';this.style.display='none';\">Display W&B run</button><iframe src='https://wandb.ai/pronton2001/l5kit2/runs/uu0edi9d?jupyter=true' style='border:none;width:100%;height:420px;display:none;'></iframe>"
      ],
      "text/plain": [
       "<wandb.sdk.wandb_run.Run at 0x7febd82e1d90>"
      ]
     },
     "execution_count": 31,
     "metadata": {},
     "output_type": "execute_result"
    }
   ],
   "source": [
    "import wandb\n",
    "wandb.init(project=\"l5kit2\", reinit = True)"
   ]
  },
  {
   "cell_type": "markdown",
   "id": "a9f77763-3a6c-44bb-861f-970ea051a223",
   "metadata": {
    "tags": []
   },
   "source": [
    "### debug"
   ]
  },
  {
   "cell_type": "code",
   "execution_count": 22,
   "id": "03b2ba45",
   "metadata": {
    "colab": {
     "base_uri": "https://localhost:8080/",
     "height": 1000
    },
    "id": "gbfV227Jct2l",
    "outputId": "fd5c0af4-ad87-4a5d-a526-58dfad3b8646",
    "tags": []
   },
   "outputs": [
    {
     "data": {
      "text/html": [
       "<div class=\"tuneStatus\">\n",
       "  <div style=\"display: flex;flex-direction: row\">\n",
       "    <div style=\"display: flex;flex-direction: column;\">\n",
       "      <h3>Tune Status</h3>\n",
       "      <table>\n",
       "<tbody>\n",
       "<tr><td>Current time:</td><td>2023-03-29 03:16:33</td></tr>\n",
       "<tr><td>Running for: </td><td>00:08:59.34        </td></tr>\n",
       "<tr><td>Memory:      </td><td>42.9/62.6 GiB      </td></tr>\n",
       "</tbody>\n",
       "</table>\n",
       "    </div>\n",
       "    <div class=\"vDivider\"></div>\n",
       "    <div class=\"systemInfo\">\n",
       "      <h3>System Info</h3>\n",
       "      Using FIFO scheduling algorithm.<br>Resources requested: 8.0/12 CPUs, 1.0/2 GPUs, 0.0/39.28 GiB heap, 0.0/15.2 GiB objects (0.0/1.0 accelerator_type:G)\n",
       "    </div>\n",
       "    \n",
       "  </div>\n",
       "  <div class=\"hDivider\"></div>\n",
       "  <div class=\"trialStatus\">\n",
       "    <h3>Trial Status</h3>\n",
       "    <table>\n",
       "<thead>\n",
       "<tr><th>Trial name               </th><th>status  </th><th>loc              </th><th style=\"text-align: right;\">  iter</th><th style=\"text-align: right;\">  total time (s)</th><th style=\"text-align: right;\">  ts</th><th style=\"text-align: right;\">  reward</th><th style=\"text-align: right;\">  episode_reward_max</th><th style=\"text-align: right;\">  episode_reward_min</th><th style=\"text-align: right;\">  episode_len_mean</th></tr>\n",
       "</thead>\n",
       "<tbody>\n",
       "<tr><td>PPO_L5-CLE-V1_d9b86_00000</td><td>RUNNING </td><td>172.17.0.3:401459</td><td style=\"text-align: right;\">     1</td><td style=\"text-align: right;\">         324.152</td><td style=\"text-align: right;\">4000</td><td style=\"text-align: right;\">-263.991</td><td style=\"text-align: right;\">            -44.8499</td><td style=\"text-align: right;\">            -413.679</td><td style=\"text-align: right;\">                31</td></tr>\n",
       "</tbody>\n",
       "</table>\n",
       "  </div>\n",
       "</div>\n",
       "<style>\n",
       ".tuneStatus {\n",
       "  color: var(--jp-ui-font-color1);\n",
       "}\n",
       ".tuneStatus .systemInfo {\n",
       "  display: flex;\n",
       "  flex-direction: column;\n",
       "}\n",
       ".tuneStatus td {\n",
       "  white-space: nowrap;\n",
       "}\n",
       ".tuneStatus .trialStatus {\n",
       "  display: flex;\n",
       "  flex-direction: column;\n",
       "}\n",
       ".tuneStatus h3 {\n",
       "  font-weight: bold;\n",
       "}\n",
       ".tuneStatus .hDivider {\n",
       "  border-bottom-width: var(--jp-border-width);\n",
       "  border-bottom-color: var(--jp-border-color0);\n",
       "  border-bottom-style: solid;\n",
       "}\n",
       ".tuneStatus .vDivider {\n",
       "  border-left-width: var(--jp-border-width);\n",
       "  border-left-color: var(--jp-border-color0);\n",
       "  border-left-style: solid;\n",
       "  margin: 0.5em 1em 0.5em 1em;\n",
       "}\n",
       "</style>\n"
      ],
      "text/plain": [
       "<IPython.core.display.HTML object>"
      ]
     },
     "metadata": {},
     "output_type": "display_data"
    },
    {
     "name": "stderr",
     "output_type": "stream",
     "text": [
      "2023-03-29 03:07:33,759\tINFO algorithm_config.py:2492 -- Executing eagerly (framework='tf2'), with eager_tracing=tf2. For production workloads, make sure to set eager_tracing=True  in order to match the speed of tf-static-graph (framework='tf'). For debugging purposes, `eager_tracing=False` is the best choice.\n",
      "2023-03-29 03:07:33,761\tINFO algorithm_config.py:2492 -- Executing eagerly (framework='tf2'), with eager_tracing=tf2. For production workloads, make sure to set eager_tracing=True  in order to match the speed of tf-static-graph (framework='tf'). For debugging purposes, `eager_tracing=False` is the best choice.\n"
     ]
    },
    {
     "data": {
      "text/html": [
       "<div class=\"trialProgress\">\n",
       "  <h3>Trial Progress</h3>\n",
       "  <table>\n",
       "<thead>\n",
       "<tr><th>Trial name               </th><th style=\"text-align: right;\">  agent_timesteps_total</th><th>counters                                                                                                                        </th><th>custom_metrics  </th><th>date               </th><th>done  </th><th style=\"text-align: right;\">  episode_len_mean</th><th>episode_media  </th><th style=\"text-align: right;\">  episode_reward_max</th><th style=\"text-align: right;\">  episode_reward_mean</th><th style=\"text-align: right;\">  episode_reward_min</th><th style=\"text-align: right;\">  episodes_this_iter</th><th style=\"text-align: right;\">  episodes_total</th><th>experiment_id                   </th><th>hostname    </th><th>info                                                                                                                                                                                                                                                                                                                                                                                                                                                                                                                                                                             </th><th style=\"text-align: right;\">  iterations_since_restore</th><th>node_ip   </th><th style=\"text-align: right;\">  num_agent_steps_sampled</th><th style=\"text-align: right;\">  num_agent_steps_trained</th><th style=\"text-align: right;\">  num_env_steps_sampled</th><th style=\"text-align: right;\">  num_env_steps_sampled_this_iter</th><th style=\"text-align: right;\">  num_env_steps_trained</th><th style=\"text-align: right;\">  num_env_steps_trained_this_iter</th><th style=\"text-align: right;\">  num_faulty_episodes</th><th style=\"text-align: right;\">  num_healthy_workers</th><th style=\"text-align: right;\">  num_in_flight_async_reqs</th><th style=\"text-align: right;\">  num_remote_worker_restarts</th><th style=\"text-align: right;\">  num_steps_trained_this_iter</th><th>perf                                                                          </th><th style=\"text-align: right;\">   pid</th><th>policy_reward_max  </th><th>policy_reward_mean  </th><th>policy_reward_min  </th><th>sampler_perf                                                                                                                                                                                                </th><th>sampler_results                                                                                                                                                                                                                                                                                                                                                                                                                                                                                                                                                                                                                                                                                                                                                                                                                                                                                                                                                                                                                                                                                                                                                                                                                                                                                                                                                                                                                                                                                                                                                                                                                                                                                                                                                                                                                                                                                                                                                                                                                                                                                                                                                                                                                                                                                                                                                                                                                                                                                                                                                                                                                                                                                                                                                                                                                                                                                                                                                                                                                                                                                                                                                                                                                                                                                                                                                                                                                                                               </th><th style=\"text-align: right;\">  time_since_restore</th><th style=\"text-align: right;\">  time_this_iter_s</th><th style=\"text-align: right;\">  time_total_s</th><th>timers                                                                                                                             </th><th style=\"text-align: right;\">  timestamp</th><th style=\"text-align: right;\">  timesteps_since_restore</th><th style=\"text-align: right;\">  timesteps_total</th><th style=\"text-align: right;\">  training_iteration</th><th>trial_id   </th><th style=\"text-align: right;\">  warmup_time</th></tr>\n",
       "</thead>\n",
       "<tbody>\n",
       "<tr><td>PPO_L5-CLE-V1_d9b86_00000</td><td style=\"text-align: right;\">                   4000</td><td>{&#x27;num_env_steps_sampled&#x27;: 4000, &#x27;num_env_steps_trained&#x27;: 4000, &#x27;num_agent_steps_sampled&#x27;: 4000, &#x27;num_agent_steps_trained&#x27;: 4000}</td><td>{}              </td><td>2023-03-29_03-13-37</td><td>False </td><td style=\"text-align: right;\">                31</td><td>{}             </td><td style=\"text-align: right;\">            -44.8499</td><td style=\"text-align: right;\">             -263.991</td><td style=\"text-align: right;\">            -413.679</td><td style=\"text-align: right;\">                 112</td><td style=\"text-align: right;\">             112</td><td>ca29406d850d4450981709cb0b3e164b</td><td>815d38126431</td><td>{&#x27;learner&#x27;: {&#x27;default_policy&#x27;: {&#x27;learner_stats&#x27;: {&#x27;cur_kl_coeff&#x27;: 0.20000000298023224, &#x27;cur_lr&#x27;: 0.0003000000142492354, &#x27;total_loss&#x27;: 9.98625, &#x27;policy_loss&#x27;: 0.0019295798, &#x27;vf_loss&#x27;: 9.983016, &#x27;vf_explained_var&#x27;: -1.6627311e-05, &#x27;kl&#x27;: 0.0065190853, &#x27;entropy&#x27;: 4.297777, &#x27;entropy_coeff&#x27;: 0.0}, &#x27;custom_metrics&#x27;: {}, &#x27;num_agent_steps_trained&#x27;: 32.0, &#x27;num_grad_updates_lifetime&#x27;: 63.0, &#x27;diff_num_grad_updates_vs_sampler_policy&#x27;: 62.0}}, &#x27;num_env_steps_sampled&#x27;: 4000, &#x27;num_env_steps_trained&#x27;: 4000, &#x27;num_agent_steps_sampled&#x27;: 4000, &#x27;num_agent_steps_trained&#x27;: 4000}</td><td style=\"text-align: right;\">                         1</td><td>172.17.0.3</td><td style=\"text-align: right;\">                     4000</td><td style=\"text-align: right;\">                     4000</td><td style=\"text-align: right;\">                   4000</td><td style=\"text-align: right;\">                             4000</td><td style=\"text-align: right;\">                   4000</td><td style=\"text-align: right;\">                             4000</td><td style=\"text-align: right;\">                    0</td><td style=\"text-align: right;\">                    7</td><td style=\"text-align: right;\">                         0</td><td style=\"text-align: right;\">                           0</td><td style=\"text-align: right;\">                         4000</td><td>{&#x27;cpu_util_percent&#x27;: 30.588888888888892, &#x27;ram_util_percent&#x27;: 67.3015873015873}</td><td style=\"text-align: right;\">401459</td><td>{}                 </td><td>{}                  </td><td>{}                 </td><td>{&#x27;mean_raw_obs_processing_ms&#x27;: 307.4381096402897, &#x27;mean_inference_ms&#x27;: 9.598581682948957, &#x27;mean_action_processing_ms&#x27;: 0.4703078411940479, &#x27;mean_env_wait_ms&#x27;: 72.92150407582969, &#x27;mean_env_render_ms&#x27;: 0.0}</td><td>{&#x27;episode_reward_max&#x27;: -44.84986718185246, &#x27;episode_reward_min&#x27;: -413.67939376831055, &#x27;episode_reward_mean&#x27;: -263.99057400545905, &#x27;episode_len_mean&#x27;: 31.0, &#x27;episode_media&#x27;: {}, &#x27;episodes_this_iter&#x27;: 112, &#x27;policy_reward_min&#x27;: {}, &#x27;policy_reward_max&#x27;: {}, &#x27;policy_reward_mean&#x27;: {}, &#x27;custom_metrics&#x27;: {}, &#x27;hist_stats&#x27;: {&#x27;episode_reward&#x27;: [-214.33982058614492, -218.92549555003643, -287.94757314026356, -413.67939376831055, -196.7219856902957, -235.24599647521973, -206.57454973459244, -364.8417537808418, -78.53649577498436, -71.51137888431549, -367.55581545829773, -176.91194597631693, -252.97249534726143, -301.4404028952122, -342.24428748339415, -165.30951850116253, -380.5201914906502, -399.77433106303215, -312.8386921286583, -227.1895079612732, -59.09154302999377, -335.2594397030771, -280.1236561238766, -283.5017233043909, -133.96577769517899, -273.25929495692253, -79.86660267412663, -385.68277698755264, -222.38077306747437, -142.95299096405506, -271.7634481191635, -183.17718195915222, -371.19154101610184, -316.912072122097, -394.4606595635414, -295.1673998385668, -348.9771436601877, -392.5859268307686, -175.79184876009822, -66.92628246545792, -320.31174594163895, -202.57156944274902, -225.58890755474567, -236.4994921684265, -163.69680581241846, -368.6883783340454, -398.5543403625488, -170.68258795142174, -232.4209442138672, -189.00013627111912, -310.45528304576874, -188.18773856014013, -152.15651416778564, -167.25748857297003, -330.6660876572132, -333.8649560213089, -343.61977288126945, -339.3019550740719, -302.8409117311239, -242.37520790100098, -175.8126010224223, -143.73834314197302, -390.2779874801636, -291.59284460544586, -44.84986718185246, -49.41658655554056, -222.00956594944, -261.0571328997612, -384.10636883974075, -291.29459112882614, -296.8808321803808, -372.07619427889585, -126.27925105392933, -247.97885283827782, -304.01920729875565, -202.18033587932587, -308.9842273592949, -85.08342672884464, -373.2873892188072, -388.5090160667896, -375.32229232788086, -279.43688121438026, -322.6049607694149, -338.4809023141861, -291.1493394970894, -355.7369229346514, -261.4337737262249, -230.38305112719536, -393.0189278125763, -214.57608664035797, -355.1006821244955, -210.8745296895504, -282.19660261273384, -299.6139917373657, -167.58039236068726, -285.53071327507496, -270.9336489662528, -92.69888152182102, -401.31922230124474, -74.81997312605381, -303.7282414883375, -373.6271486878395, -400.69799596071243, -316.68767496570945, -53.6125586591661, -362.0649234056473, -406.7250842452049, -309.8264467716217, -199.4545734524727, -256.884693056345, -364.61043241620064, -309.91757951676846], &#x27;episode_lengths&#x27;: [31, 31, 31, 31, 31, 31, 31, 31, 31, 31, 31, 31, 31, 31, 31, 31, 31, 31, 31, 31, 31, 31, 31, 31, 31, 31, 31, 31, 31, 31, 31, 31, 31, 31, 31, 31, 31, 31, 31, 31, 31, 31, 31, 31, 31, 31, 31, 31, 31, 31, 31, 31, 31, 31, 31, 31, 31, 31, 31, 31, 31, 31, 31, 31, 31, 31, 31, 31, 31, 31, 31, 31, 31, 31, 31, 31, 31, 31, 31, 31, 31, 31, 31, 31, 31, 31, 31, 31, 31, 31, 31, 31, 31, 31, 31, 31, 31, 31, 31, 31, 31, 31, 31, 31, 31, 31, 31, 31, 31, 31, 31, 31]}, &#x27;sampler_perf&#x27;: {&#x27;mean_raw_obs_processing_ms&#x27;: 307.4381096402897, &#x27;mean_inference_ms&#x27;: 9.598581682948957, &#x27;mean_action_processing_ms&#x27;: 0.4703078411940479, &#x27;mean_env_wait_ms&#x27;: 72.92150407582969, &#x27;mean_env_render_ms&#x27;: 0.0}, &#x27;num_faulty_episodes&#x27;: 0}</td><td style=\"text-align: right;\">             324.152</td><td style=\"text-align: right;\">           324.152</td><td style=\"text-align: right;\">       324.152</td><td>{&#x27;training_iteration_time_ms&#x27;: 324148.382, &#x27;learn_time_ms&#x27;: 91221.394, &#x27;learn_throughput&#x27;: 43.849, &#x27;synch_weights_time_ms&#x27;: 11.217}</td><td style=\"text-align: right;\"> 1680059617</td><td style=\"text-align: right;\">                        0</td><td style=\"text-align: right;\">             4000</td><td style=\"text-align: right;\">                   1</td><td>d9b86_00000</td><td style=\"text-align: right;\">      34.4645</td></tr>\n",
       "</tbody>\n",
       "</table>\n",
       "</div>\n",
       "<style>\n",
       ".trialProgress {\n",
       "  display: flex;\n",
       "  flex-direction: column;\n",
       "  color: var(--jp-ui-font-color1);\n",
       "}\n",
       ".trialProgress h3 {\n",
       "  font-weight: bold;\n",
       "}\n",
       ".trialProgress td {\n",
       "  white-space: nowrap;\n",
       "}\n",
       "</style>\n"
      ],
      "text/plain": [
       "<IPython.core.display.HTML object>"
      ]
     },
     "metadata": {},
     "output_type": "display_data"
    },
    {
     "name": "stderr",
     "output_type": "stream",
     "text": [
      "2023-03-29 03:16:33,086\tWARNING tune.py:690 -- Stop signal received (e.g. via SIGINT/Ctrl+C), ending Ray Tune run. This will try to checkpoint the experiment state one last time. Press CTRL+C (or send SIGINT/SIGKILL/SIGTERM) to skip. \n",
      "2023-03-29 03:16:33,304\tERROR tune.py:758 -- Trials did not complete: [PPO_L5-CLE-V1_d9b86_00000]\n",
      "2023-03-29 03:16:33,306\tINFO tune.py:762 -- Total run time: 539.55 seconds (539.33 seconds for the tuning loop).\n",
      "2023-03-29 03:16:33,307\tWARNING tune.py:768 -- Experiment has been interrupted, but the most recent state was saved. You can continue running this experiment by passing `resume=True` to `tune.run()`\n"
     ]
    }
   ],
   "source": [
    "import ray\n",
    "from ray import air, tune\n",
    "\n",
    "train_envs = 4\n",
    "hcmTz = pytz.timezone(\"Asia/Ho_Chi_Minh\") \n",
    "date = datetime.datetime.now(hcmTz).strftime(\"%d-%m-%Y_%H-%M-%S\")\n",
    "ray_result_logdir = '/workspace/datasets/ray_results/' +'debug_'+ date\n",
    "\n",
    "config_param_space = {\n",
    "    \"env\": \"L5-CLE-V1\",\n",
    "    \"framework\": \"tf2\",\n",
    "    \"num_gpus\": 1,\n",
    "    \"num_workers\": 7,\n",
    "    \"num_envs_per_worker\": train_envs,\n",
    "    'num_sgd_iter': 1,\n",
    "    'sgd_minibatch_size': 32,\n",
    "    # 'num_cpus_per_worker': 0,  # This avoids running out of resources in the notebook environment when this cell is re-executed\n",
    "    # \"model\": {\n",
    "    #     \"custom_model\": \"GN_CNN_torch_model\",\n",
    "    #     \"custom_model_config\": {'feature_dim':128},\n",
    "    # },\n",
    "        'model' : {\n",
    "            \"dim\": 84,\n",
    "            # \"conv_filters\" : [[64, [7,7], 3], [32, [11,11], 3], [32, [11,11], 3]],\n",
    "            # \"conv_activation\": \"relu\",\n",
    "            \"post_fcnet_hiddens\": [256],\n",
    "            \"post_fcnet_activation\": \"relu\",\n",
    "            \"vf_share_layers\": True,   \n",
    "    },\n",
    "    '_disable_preprocessor_api': True,\n",
    "    \"eager_tracing\": True,\n",
    "     \"restart_failed_sub_environments\": True,\n",
    "    \"lr\": 0.0003,\n",
    "    \"gamma\": 0.8,\n",
    "    'seed': 42,\n",
    "}\n",
    "\n",
    "result_grid = tune.Tuner(\n",
    "    \"PPO\",\n",
    "    run_config=air.RunConfig(\n",
    "        stop={\"episode_reward_mean\": 0, 'timesteps_total': int(6e6)},\n",
    "        local_dir=ray_result_logdir,\n",
    "        checkpoint_config=air.CheckpointConfig(num_to_keep=4, checkpoint_frequency = 10, checkpoint_score_attribute = 'episode_reward_mean')\n",
    "        ),\n",
    "    param_space=config_param_space).fit()"
   ]
  },
  {
   "cell_type": "markdown",
   "id": "b5f2b43a-3008-4e91-a244-198a5d4e887b",
   "metadata": {},
   "source": [
    "### Shared Policy"
   ]
  },
  {
   "cell_type": "code",
   "execution_count": 33,
   "id": "ca0b5bc5-ccb3-48ac-a886-c965cbaa2448",
   "metadata": {
    "tags": []
   },
   "outputs": [
    {
     "data": {
      "text/html": [
       "<div class=\"tuneStatus\">\n",
       "  <div style=\"display: flex;flex-direction: row\">\n",
       "    <div style=\"display: flex;flex-direction: column;\">\n",
       "      <h3>Tune Status</h3>\n",
       "      <table>\n",
       "<tbody>\n",
       "<tr><td>Current time:</td><td>2023-03-29 05:53:10</td></tr>\n",
       "<tr><td>Running for: </td><td>02:23:07.23        </td></tr>\n",
       "<tr><td>Memory:      </td><td>53.9/62.6 GiB      </td></tr>\n",
       "</tbody>\n",
       "</table>\n",
       "    </div>\n",
       "    <div class=\"vDivider\"></div>\n",
       "    <div class=\"systemInfo\">\n",
       "      <h3>System Info</h3>\n",
       "      Using FIFO scheduling algorithm.<br>Resources requested: 9.0/12 CPUs, 2.0/2 GPUs, 0.0/39.28 GiB heap, 0.0/15.2 GiB objects (0.0/1.0 accelerator_type:G)\n",
       "    </div>\n",
       "    \n",
       "  </div>\n",
       "  <div class=\"hDivider\"></div>\n",
       "  <div class=\"trialStatus\">\n",
       "    <h3>Trial Status</h3>\n",
       "    <table>\n",
       "<thead>\n",
       "<tr><th>Trial name               </th><th>status  </th><th>loc              </th><th style=\"text-align: right;\">  iter</th><th style=\"text-align: right;\">  total time (s)</th><th style=\"text-align: right;\">     ts</th><th style=\"text-align: right;\">  reward</th><th style=\"text-align: right;\">  episode_reward_max</th><th style=\"text-align: right;\">  episode_reward_min</th><th style=\"text-align: right;\">  episode_len_mean</th></tr>\n",
       "</thead>\n",
       "<tbody>\n",
       "<tr><td>PPO_L5-CLE-V1_fe0ad_00000</td><td>RUNNING </td><td>172.17.0.3:448067</td><td style=\"text-align: right;\">   166</td><td style=\"text-align: right;\">         8512.16</td><td style=\"text-align: right;\">1328000</td><td style=\"text-align: right;\">-512.985</td><td style=\"text-align: right;\">            -482.285</td><td style=\"text-align: right;\">            -545.713</td><td style=\"text-align: right;\">                31</td></tr>\n",
       "</tbody>\n",
       "</table>\n",
       "  </div>\n",
       "</div>\n",
       "<style>\n",
       ".tuneStatus {\n",
       "  color: var(--jp-ui-font-color1);\n",
       "}\n",
       ".tuneStatus .systemInfo {\n",
       "  display: flex;\n",
       "  flex-direction: column;\n",
       "}\n",
       ".tuneStatus td {\n",
       "  white-space: nowrap;\n",
       "}\n",
       ".tuneStatus .trialStatus {\n",
       "  display: flex;\n",
       "  flex-direction: column;\n",
       "}\n",
       ".tuneStatus h3 {\n",
       "  font-weight: bold;\n",
       "}\n",
       ".tuneStatus .hDivider {\n",
       "  border-bottom-width: var(--jp-border-width);\n",
       "  border-bottom-color: var(--jp-border-color0);\n",
       "  border-bottom-style: solid;\n",
       "}\n",
       ".tuneStatus .vDivider {\n",
       "  border-left-width: var(--jp-border-width);\n",
       "  border-left-color: var(--jp-border-color0);\n",
       "  border-left-style: solid;\n",
       "  margin: 0.5em 1em 0.5em 1em;\n",
       "}\n",
       "</style>\n"
      ],
      "text/plain": [
       "<IPython.core.display.HTML object>"
      ]
     },
     "metadata": {},
     "output_type": "display_data"
    },
    {
     "name": "stderr",
     "output_type": "stream",
     "text": [
      "2023-03-29 03:30:03,187\tINFO algorithm_config.py:2503 -- Your framework setting is 'tf', meaning you are using static-graph mode. Set framework='tf2' to enable eager execution with tf2.x. You may also then want to set eager_tracing=True in order to reach similar execution speed as with static-graph mode.\n",
      "2023-03-29 03:30:03,189\tINFO algorithm_config.py:2503 -- Your framework setting is 'tf', meaning you are using static-graph mode. Set framework='tf2' to enable eager execution with tf2.x. You may also then want to set eager_tracing=True in order to reach similar execution speed as with static-graph mode.\n",
      "\u001b[34m\u001b[1mwandb\u001b[0m: \u001b[33mWARNING\u001b[0m WANDB_NOTEBOOK_NAME should be a path to a notebook file, couldn't find rllib_ppo_policy_training.ipynb.\n"
     ]
    },
    {
     "data": {
      "text/html": [
       "Tracking run with wandb version 0.14.0"
      ],
      "text/plain": [
       "<IPython.core.display.HTML object>"
      ]
     },
     "metadata": {},
     "output_type": "display_data"
    },
    {
     "data": {
      "text/html": [
       "Run data is saved locally in <code>/workspace/datasets/ray_results/29-03-2023_10-30-03/PPO/PPO_L5-CLE-V1_fe0ad_00000_0_2023-03-29_03-30-03/wandb/run-20230329_033004-fe0ad_00000</code>"
      ],
      "text/plain": [
       "<IPython.core.display.HTML object>"
      ]
     },
     "metadata": {},
     "output_type": "display_data"
    },
    {
     "data": {
      "text/html": [
       "Syncing run <strong><a href='https://wandb.ai/pronton2001/l5kit2/runs/fe0ad_00000' target=\"_blank\">PPO_L5-CLE-V1_fe0ad_00000</a></strong> to <a href='https://wandb.ai/pronton2001/l5kit2' target=\"_blank\">Weights & Biases</a> (<a href='https://wandb.me/run' target=\"_blank\">docs</a>)<br/>"
      ],
      "text/plain": [
       "<IPython.core.display.HTML object>"
      ]
     },
     "metadata": {},
     "output_type": "display_data"
    },
    {
     "data": {
      "text/html": [
       " View project at <a href='https://wandb.ai/pronton2001/l5kit2' target=\"_blank\">https://wandb.ai/pronton2001/l5kit2</a>"
      ],
      "text/plain": [
       "<IPython.core.display.HTML object>"
      ]
     },
     "metadata": {},
     "output_type": "display_data"
    },
    {
     "data": {
      "text/html": [
       " View run at <a href='https://wandb.ai/pronton2001/l5kit2/runs/fe0ad_00000' target=\"_blank\">https://wandb.ai/pronton2001/l5kit2/runs/fe0ad_00000</a>"
      ],
      "text/plain": [
       "<IPython.core.display.HTML object>"
      ]
     },
     "metadata": {},
     "output_type": "display_data"
    },
    {
     "data": {
      "text/html": [
       "<div class=\"trialProgress\">\n",
       "  <h3>Trial Progress</h3>\n",
       "  <table>\n",
       "<thead>\n",
       "<tr><th>Trial name               </th><th style=\"text-align: right;\">  agent_timesteps_total</th><th>counters                                                                                                                                    </th><th>custom_metrics  </th><th>date               </th><th>done  </th><th style=\"text-align: right;\">  episode_len_mean</th><th>episode_media  </th><th style=\"text-align: right;\">  episode_reward_max</th><th style=\"text-align: right;\">  episode_reward_mean</th><th style=\"text-align: right;\">  episode_reward_min</th><th style=\"text-align: right;\">  episodes_this_iter</th><th style=\"text-align: right;\">  episodes_total</th><th>experiment_id                   </th><th>hostname    </th><th>info                                                                                                                                                                                                                                                                                                                                                                                                                                                                                                                       </th><th style=\"text-align: right;\">  iterations_since_restore</th><th>node_ip   </th><th style=\"text-align: right;\">  num_agent_steps_sampled</th><th style=\"text-align: right;\">  num_agent_steps_trained</th><th style=\"text-align: right;\">  num_env_steps_sampled</th><th style=\"text-align: right;\">  num_env_steps_sampled_this_iter</th><th style=\"text-align: right;\">  num_env_steps_trained</th><th style=\"text-align: right;\">  num_env_steps_trained_this_iter</th><th style=\"text-align: right;\">  num_faulty_episodes</th><th style=\"text-align: right;\">  num_healthy_workers</th><th style=\"text-align: right;\">  num_in_flight_async_reqs</th><th style=\"text-align: right;\">  num_remote_worker_restarts</th><th style=\"text-align: right;\">  num_steps_trained_this_iter</th><th>perf                                                                          </th><th style=\"text-align: right;\">   pid</th><th>policy_reward_max  </th><th>policy_reward_mean  </th><th>policy_reward_min  </th><th>sampler_perf                                                                                                                                                                                                 </th><th>sampler_results                                                                                                                                                                                                                                                                                                                                                                                                                                                                                                                                                                                                                                                                                                                                                                                                                                                                                                                                                                                                                                                                                                                                                                                                                                                                                                                                                                                                                                                                                                                                                                                                                                                                                                                                                                                                                                                                                                                                                                                                                                                                                                                                                                                                                                                                                                                                                                                                                                                                                                                                                                                                                                                                                                                                                                                                                                                                                                                                                                                                                                                                                                                                                                                                                                                                                                                                                                                                                                                                                                                                                                                                                                                                                                                                                                                                                                                                                                                                                                                                                                                                                                                                                                                                                                                                                                                                                                                                                                                                                                                                                                                                                                                                                                                                                                                                                                                                                                                                                                                                                                                                                                                                                                                                                                                                                                                                                                                                                                                                                                                                                                                                                                                                                                                                                                                                                                                                                                                                                                                                                                                                                                                                                                                                                                                                                                                                                                                                                                                                                                                                                                                                                                                                                                                                                                                                                                                                                                                                                                                                                                                          </th><th style=\"text-align: right;\">  time_since_restore</th><th style=\"text-align: right;\">  time_this_iter_s</th><th style=\"text-align: right;\">  time_total_s</th><th>timers                                                                                                                                                                                  </th><th style=\"text-align: right;\">  timestamp</th><th style=\"text-align: right;\">  timesteps_since_restore</th><th style=\"text-align: right;\">  timesteps_total</th><th style=\"text-align: right;\">  training_iteration</th><th>trial_id   </th><th style=\"text-align: right;\">  warmup_time</th></tr>\n",
       "</thead>\n",
       "<tbody>\n",
       "<tr><td>PPO_L5-CLE-V1_fe0ad_00000</td><td style=\"text-align: right;\">                1328000</td><td>{&#x27;num_env_steps_sampled&#x27;: 1328000, &#x27;num_env_steps_trained&#x27;: 1328000, &#x27;num_agent_steps_sampled&#x27;: 1328000, &#x27;num_agent_steps_trained&#x27;: 1328000}</td><td>{}              </td><td>2023-03-29_05-52-45</td><td>False </td><td style=\"text-align: right;\">                31</td><td>{}             </td><td style=\"text-align: right;\">            -482.285</td><td style=\"text-align: right;\">             -512.985</td><td style=\"text-align: right;\">            -545.713</td><td style=\"text-align: right;\">                 256</td><td style=\"text-align: right;\">           42816</td><td>842bf6bf69114515ab47262debb2502a</td><td>815d38126431</td><td>{&#x27;learner&#x27;: {&#x27;default_policy&#x27;: {&#x27;learner_stats&#x27;: {&#x27;cur_kl_coeff&#x27;: 0.20000000298023224, &#x27;cur_lr&#x27;: 2.9999999242136255e-05, &#x27;total_loss&#x27;: nan, &#x27;policy_loss&#x27;: nan, &#x27;vf_loss&#x27;: nan, &#x27;vf_explained_var&#x27;: nan, &#x27;kl&#x27;: nan, &#x27;entropy&#x27;: nan, &#x27;entropy_coeff&#x27;: 0.0, &#x27;model&#x27;: {}}, &#x27;train&#x27;: None, &#x27;num_grad_updates_lifetime&#x27;: 18536.5, &#x27;diff_num_grad_updates_vs_sampler_policy&#x27;: 55.5}}, &#x27;num_env_steps_sampled&#x27;: 1328000, &#x27;num_env_steps_trained&#x27;: 1328000, &#x27;num_agent_steps_sampled&#x27;: 1328000, &#x27;num_agent_steps_trained&#x27;: 1328000}</td><td style=\"text-align: right;\">                       166</td><td>172.17.0.3</td><td style=\"text-align: right;\">                  1328000</td><td style=\"text-align: right;\">                  1328000</td><td style=\"text-align: right;\">                1328000</td><td style=\"text-align: right;\">                             8000</td><td style=\"text-align: right;\">                1328000</td><td style=\"text-align: right;\">                             8000</td><td style=\"text-align: right;\">                    0</td><td style=\"text-align: right;\">                    8</td><td style=\"text-align: right;\">                         0</td><td style=\"text-align: right;\">                           0</td><td style=\"text-align: right;\">                         8000</td><td>{&#x27;cpu_util_percent&#x27;: 77.60000000000001, &#x27;ram_util_percent&#x27;: 85.16590909090911}</td><td style=\"text-align: right;\">448067</td><td>{}                 </td><td>{}                  </td><td>{}                 </td><td>{&#x27;mean_raw_obs_processing_ms&#x27;: 84.76184023618382, &#x27;mean_inference_ms&#x27;: 3.721581343033151, &#x27;mean_action_processing_ms&#x27;: 0.45867303515545704, &#x27;mean_env_wait_ms&#x27;: 43.62408080499364, &#x27;mean_env_render_ms&#x27;: 0.0}</td><td>{&#x27;episode_reward_max&#x27;: -482.2846213579178, &#x27;episode_reward_min&#x27;: -545.7128055095673, &#x27;episode_reward_mean&#x27;: -512.985225468874, &#x27;episode_len_mean&#x27;: 31.0, &#x27;episode_media&#x27;: {}, &#x27;episodes_this_iter&#x27;: 256, &#x27;policy_reward_min&#x27;: {}, &#x27;policy_reward_max&#x27;: {}, &#x27;policy_reward_mean&#x27;: {}, &#x27;custom_metrics&#x27;: {}, &#x27;hist_stats&#x27;: {&#x27;episode_reward&#x27;: [-543.4232323169708, -490.28041565418243, -530.6252698898315, -544.5375556945801, -545.3082058429718, -544.2416079044342, -495.55003184080124, -535.1101820468903, -490.31381928920746, -482.51345336437225, -536.5981502532959, -482.41297632455826, -483.8954731822014, -495.16340988874435, -496.1165039539337, -531.563714504242, -482.38324469327927, -544.1156485080719, -491.2304025888443, -490.3154692053795, -536.4120678901672, -482.97028440237045, -531.8774702548981, -531.8779916763306, -536.5963039398193, -491.19168573617935, -495.10261726379395, -526.833337187767, -482.8577287197113, -543.9733469486237, -537.212295293808, -495.8538883328438, -543.8493392467499, -491.19209879636765, -544.9613499641418, -496.0238069295883, -542.0475170612335, -490.56976103782654, -490.472461104393, -544.9476819038391, -536.4267103672028, -490.9636912345886, -490.3297949433327, -482.4898779988289, -482.41075998544693, -536.8268213272095, -531.7582249641418, -483.4694427847862, -495.91419410705566, -545.1100978851318, -536.3860533237457, -483.73402827978134, -539.5775489807129, -482.54289346933365, -483.443594455719, -533.5537533760071, -491.0062562227249, -490.11503887176514, -490.0019915699959, -490.01536601781845, -536.8893160820007, -482.38977295160294, -540.7766106128693, -531.869167804718, -536.8843126296997, -495.53778314590454, -495.4824507832527, -543.8796398639679, -495.6517328619957, -490.5084215402603, -536.2998359203339, -490.6491976380348, -482.69984489679337, -482.67500841617584, -490.54451447725296, -544.9423661231995, -482.94318133592606, -531.6582295894623, -503.9501706957817, -514.8193727731705, -484.4947285056114, -541.9702968597412, -497.26308673620224, -526.6840220689774, -526.8926756381989, -522.0210002660751, -491.1670613884926, -531.503958940506, -490.4841092824936, -531.7660844326019, -494.2631705403328, -490.7803968191147, -491.11419838666916, -482.72443801164627, -529.1922197341919, -495.8955188989639, -491.2682189941406, -536.9957740306854, -496.0149039030075, -544.7800686359406, -536.9583413600922, -541.165655374527, -494.8091918230057, -490.52311700582504, -490.0188154578209, -539.2861695289612, -537.213356256485, -489.39635556936264, -541.3146855831146, -491.0137959718704, -495.95875322818756, -513.2184470891953, -511.6540422439575, -519.1698930263519, -537.0870118141174, -495.65017533302307, -490.47817969322205, -535.8065428733826, -490.20391124486923, -531.6039508581161, -490.4831113219261, -531.2732245922089, -495.5630928874016, -482.8668695092201, -526.0905958414078, -536.7059781551361, -490.75784134864807, -489.893174469471, -525.7670030593872, -490.776752948761, -534.8680760860443, -509.216793179512, -495.6404552459717, -497.13384878635406, -490.5384059548378, -536.9231534004211, -536.7163565158844, -490.05837965011597, -537.4122333526611, -543.4018778800964, -490.63238275051117, -545.0635526180267, -531.6932232379913, -531.354790687561, -536.9892249107361, -542.6226551532745, -490.0835111737251, -491.1102283000946, -490.27579814195633, -490.57495898008347, -533.2652525901794, -495.9639227986336, -490.90206801891327, -531.8333518505096, -496.05375707149506, -494.79189509153366, -543.8234596252441, -494.0166408419609, -544.7684383392334, -537.6342248916626, -495.85089176893234, -482.51345336437225, -490.24967843294144, -544.9891550540924, -533.5790741443634, -483.5254390835762, -536.5734992027283, -490.48951745033264, -531.8468699455261, -496.63151532411575, -495.483802318573, -518.1678320169449, -531.3535304069519, -490.2897894382477, -495.36126762628555, -497.7900412082672, -536.4082751274109, -490.07213228940964, -482.2846213579178, -537.9168972969055, -531.3300657272339, -536.8393080234528, -485.5578003525734, -482.7498999238014, -490.63024950027466, -483.5076986551285, -536.7557852268219, -536.5601613521576, -531.4337303638458, -545.1995465755463, -544.2833592891693, -491.38774436712265, -527.2191350460052, -545.7128055095673, -531.4516348838806, -491.0827736854553, -536.4228665828705, -490.687388420105, -541.8448593616486, -544.2155847549438, -495.20074540376663, -531.4191989898682, -536.8147237300873, -490.4297965168953, -536.5778577327728, -495.3834300041199, -496.65413451194763, -494.82419550418854, -495.9284092783928, -541.1034331321716, -531.3317260742188, -538.005553483963, -490.30803018808365, -537.3691163063049, -490.7732477784157, -495.233590900898, -490.198671400547, -531.564535856247, -545.2059528827667, -490.5832941532135, -544.8190739154816, -495.50382620096207, -533.8993434906006, -544.3254075050354, -490.63703602552414, -491.05366963148117, -534.0056829452515, -490.80420488119125, -536.5066244602203, -490.56400567293167, -490.40051114559174, -482.9752231836319, -544.2615594863892, -533.242139339447, -495.69333696365356, -490.59536200761795, -495.42166352272034, -495.0344669222832, -544.9007589817047, -544.3704960346222, -535.7523140907288, -526.4545607566833, -531.6626536846161, -495.6734648346901, -490.29259783029556, -536.5545835494995, -495.7292088866234, -489.1013112068176, -545.1628932952881, -491.36413806676865, -539.1035513877869, -545.0833876132965, -526.7380601167679, -536.6493866443634, -526.9496933221817, -536.776442527771], &#x27;episode_lengths&#x27;: [31, 31, 31, 31, 31, 31, 31, 31, 31, 31, 31, 31, 31, 31, 31, 31, 31, 31, 31, 31, 31, 31, 31, 31, 31, 31, 31, 31, 31, 31, 31, 31, 31, 31, 31, 31, 31, 31, 31, 31, 31, 31, 31, 31, 31, 31, 31, 31, 31, 31, 31, 31, 31, 31, 31, 31, 31, 31, 31, 31, 31, 31, 31, 31, 31, 31, 31, 31, 31, 31, 31, 31, 31, 31, 31, 31, 31, 31, 31, 31, 31, 31, 31, 31, 31, 31, 31, 31, 31, 31, 31, 31, 31, 31, 31, 31, 31, 31, 31, 31, 31, 31, 31, 31, 31, 31, 31, 31, 31, 31, 31, 31, 31, 31, 31, 31, 31, 31, 31, 31, 31, 31, 31, 31, 31, 31, 31, 31, 31, 31, 31, 31, 31, 31, 31, 31, 31, 31, 31, 31, 31, 31, 31, 31, 31, 31, 31, 31, 31, 31, 31, 31, 31, 31, 31, 31, 31, 31, 31, 31, 31, 31, 31, 31, 31, 31, 31, 31, 31, 31, 31, 31, 31, 31, 31, 31, 31, 31, 31, 31, 31, 31, 31, 31, 31, 31, 31, 31, 31, 31, 31, 31, 31, 31, 31, 31, 31, 31, 31, 31, 31, 31, 31, 31, 31, 31, 31, 31, 31, 31, 31, 31, 31, 31, 31, 31, 31, 31, 31, 31, 31, 31, 31, 31, 31, 31, 31, 31, 31, 31, 31, 31, 31, 31, 31, 31, 31, 31, 31, 31, 31, 31, 31, 31, 31, 31, 31, 31, 31, 31, 31, 31, 31, 31, 31, 31]}, &#x27;sampler_perf&#x27;: {&#x27;mean_raw_obs_processing_ms&#x27;: 84.76184023618382, &#x27;mean_inference_ms&#x27;: 3.721581343033151, &#x27;mean_action_processing_ms&#x27;: 0.45867303515545704, &#x27;mean_env_wait_ms&#x27;: 43.62408080499364, &#x27;mean_env_render_ms&#x27;: 0.0}, &#x27;num_faulty_episodes&#x27;: 0}</td><td style=\"text-align: right;\">             8512.16</td><td style=\"text-align: right;\">           30.4224</td><td style=\"text-align: right;\">       8512.16</td><td>{&#x27;training_iteration_time_ms&#x27;: 30101.833, &#x27;load_time_ms&#x27;: 259.831, &#x27;load_throughput&#x27;: 30789.278, &#x27;learn_time_ms&#x27;: 1086.353, &#x27;learn_throughput&#x27;: 7364.088, &#x27;synch_weights_time_ms&#x27;: 8.38}</td><td style=\"text-align: right;\"> 1680069165</td><td style=\"text-align: right;\">                        0</td><td style=\"text-align: right;\">          1328000</td><td style=\"text-align: right;\">                 166</td><td>fe0ad_00000</td><td style=\"text-align: right;\">      40.9065</td></tr>\n",
       "</tbody>\n",
       "</table>\n",
       "</div>\n",
       "<style>\n",
       ".trialProgress {\n",
       "  display: flex;\n",
       "  flex-direction: column;\n",
       "  color: var(--jp-ui-font-color1);\n",
       "}\n",
       ".trialProgress h3 {\n",
       "  font-weight: bold;\n",
       "}\n",
       ".trialProgress td {\n",
       "  white-space: nowrap;\n",
       "}\n",
       "</style>\n"
      ],
      "text/plain": [
       "<IPython.core.display.HTML object>"
      ]
     },
     "metadata": {},
     "output_type": "display_data"
    },
    {
     "name": "stderr",
     "output_type": "stream",
     "text": [
      "wandb: Network error (ConnectTimeout), entering retry loop.\n",
      "wandb: Network error (ConnectTimeout), entering retry loop.\n",
      "\u001b[34m\u001b[1mwandb\u001b[0m: Adding directory to artifact (/workspace/datasets/ray_results/29-03-2023_10-30-03/PPO/PPO_L5-CLE-V1_fe0ad_00000_0_2023-03-29_03-30-03/checkpoint_000010)... Done. 0.0s\n",
      "\u001b[34m\u001b[1mwandb\u001b[0m: Adding directory to artifact (/workspace/datasets/ray_results/29-03-2023_10-30-03/PPO/PPO_L5-CLE-V1_fe0ad_00000_0_2023-03-29_03-30-03/checkpoint_000020)... Done. 0.0s\n",
      "\u001b[34m\u001b[1mwandb\u001b[0m: Adding directory to artifact (/workspace/datasets/ray_results/29-03-2023_10-30-03/PPO/PPO_L5-CLE-V1_fe0ad_00000_0_2023-03-29_03-30-03/checkpoint_000030)... Done. 0.0s\n",
      "\u001b[34m\u001b[1mwandb\u001b[0m: Adding directory to artifact (/workspace/datasets/ray_results/29-03-2023_10-30-03/PPO/PPO_L5-CLE-V1_fe0ad_00000_0_2023-03-29_03-30-03/checkpoint_000040)... Done. 0.0s\n",
      "\u001b[34m\u001b[1mwandb\u001b[0m: Adding directory to artifact (/workspace/datasets/ray_results/29-03-2023_10-30-03/PPO/PPO_L5-CLE-V1_fe0ad_00000_0_2023-03-29_03-30-03/checkpoint_000050)... Done. 0.0s\n",
      "\u001b[34m\u001b[1mwandb\u001b[0m: Adding directory to artifact (/workspace/datasets/ray_results/29-03-2023_10-30-03/PPO/PPO_L5-CLE-V1_fe0ad_00000_0_2023-03-29_03-30-03/checkpoint_000060)... Done. 0.0s\n",
      "\u001b[34m\u001b[1mwandb\u001b[0m: Adding directory to artifact (/workspace/datasets/ray_results/29-03-2023_10-30-03/PPO/PPO_L5-CLE-V1_fe0ad_00000_0_2023-03-29_03-30-03/checkpoint_000070)... Done. 0.0s\n",
      "\u001b[34m\u001b[1mwandb\u001b[0m: Adding directory to artifact (/workspace/datasets/ray_results/29-03-2023_10-30-03/PPO/PPO_L5-CLE-V1_fe0ad_00000_0_2023-03-29_03-30-03/checkpoint_000080)... Done. 0.0s\n",
      "\u001b[34m\u001b[1mwandb\u001b[0m: Adding directory to artifact (/workspace/datasets/ray_results/29-03-2023_10-30-03/PPO/PPO_L5-CLE-V1_fe0ad_00000_0_2023-03-29_03-30-03/checkpoint_000090)... Done. 0.0s\n",
      "\u001b[34m\u001b[1mwandb\u001b[0m: Adding directory to artifact (/workspace/datasets/ray_results/29-03-2023_10-30-03/PPO/PPO_L5-CLE-V1_fe0ad_00000_0_2023-03-29_03-30-03/checkpoint_000100)... Done. 0.0s\n",
      "\u001b[34m\u001b[1mwandb\u001b[0m: Adding directory to artifact (/workspace/datasets/ray_results/29-03-2023_10-30-03/PPO/PPO_L5-CLE-V1_fe0ad_00000_0_2023-03-29_03-30-03/checkpoint_000110)... Done. 0.0s\n",
      "\u001b[34m\u001b[1mwandb\u001b[0m: Adding directory to artifact (/workspace/datasets/ray_results/29-03-2023_10-30-03/PPO/PPO_L5-CLE-V1_fe0ad_00000_0_2023-03-29_03-30-03/checkpoint_000120)... Done. 0.0s\n",
      "\u001b[34m\u001b[1mwandb\u001b[0m: Adding directory to artifact (/workspace/datasets/ray_results/29-03-2023_10-30-03/PPO/PPO_L5-CLE-V1_fe0ad_00000_0_2023-03-29_03-30-03/checkpoint_000130)... Done. 0.0s\n",
      "\u001b[34m\u001b[1mwandb\u001b[0m: Adding directory to artifact (/workspace/datasets/ray_results/29-03-2023_10-30-03/PPO/PPO_L5-CLE-V1_fe0ad_00000_0_2023-03-29_03-30-03/checkpoint_000140)... Done. 0.0s\n",
      "\u001b[34m\u001b[1mwandb\u001b[0m: Adding directory to artifact (/workspace/datasets/ray_results/29-03-2023_10-30-03/PPO/PPO_L5-CLE-V1_fe0ad_00000_0_2023-03-29_03-30-03/checkpoint_000150)... Done. 0.0s\n",
      "\u001b[34m\u001b[1mwandb\u001b[0m: Adding directory to artifact (/workspace/datasets/ray_results/29-03-2023_10-30-03/PPO/PPO_L5-CLE-V1_fe0ad_00000_0_2023-03-29_03-30-03/checkpoint_000160)... Done. 0.0s\n",
      "2023-03-29 05:53:08,699\tWARNING tune.py:690 -- Stop signal received (e.g. via SIGINT/Ctrl+C), ending Ray Tune run. This will try to checkpoint the experiment state one last time. Press CTRL+C (or send SIGINT/SIGKILL/SIGTERM) to skip. \n",
      "2023-03-29 05:53:09,396\tWARNING tune.py:690 -- Stop signal received (e.g. via SIGINT/Ctrl+C), ending Ray Tune run. This will try to checkpoint the experiment state one last time. Press CTRL+C (or send SIGINT/SIGKILL/SIGTERM) to skip. \n",
      "2023-03-29 05:53:10,650\tERROR tune.py:758 -- Trials did not complete: [PPO_L5-CLE-V1_fe0ad_00000]\n",
      "2023-03-29 05:53:10,651\tINFO tune.py:762 -- Total run time: 8587.47 seconds (8587.23 seconds for the tuning loop).\n",
      "2023-03-29 05:53:10,652\tWARNING tune.py:768 -- Experiment has been interrupted, but the most recent state was saved. You can continue running this experiment by passing `resume=True` to `tune.run()`\n"
     ]
    },
    {
     "data": {
      "text/html": [
       "Waiting for W&B process to finish... <strong style=\"color:green\">(success).</strong>"
      ],
      "text/plain": [
       "<IPython.core.display.HTML object>"
      ]
     },
     "metadata": {},
     "output_type": "display_data"
    },
    {
     "name": "stderr",
     "output_type": "stream",
     "text": [
      "wandb: ERROR Dropped streaming file chunk (see wandb/debug-internal.log)\n",
      "wandb: ERROR Dropped streaming file chunk (see wandb/debug-internal.log)\n",
      "wandb: ERROR Dropped streaming file chunk (see wandb/debug-internal.log)\n",
      "wandb: ERROR Dropped streaming file chunk (see wandb/debug-internal.log)\n",
      "wandb: ERROR Dropped streaming file chunk (see wandb/debug-internal.log)\n",
      "wandb: ERROR Dropped streaming file chunk (see wandb/debug-internal.log)\n",
      "wandb: ERROR Dropped streaming file chunk (see wandb/debug-internal.log)\n",
      "wandb: ERROR Dropped streaming file chunk (see wandb/debug-internal.log)\n",
      "wandb: ERROR Dropped streaming file chunk (see wandb/debug-internal.log)\n",
      "wandb: ERROR Dropped streaming file chunk (see wandb/debug-internal.log)\n",
      "wandb: ERROR Dropped streaming file chunk (see wandb/debug-internal.log)\n",
      "wandb: ERROR Dropped streaming file chunk (see wandb/debug-internal.log)\n",
      "wandb: ERROR Dropped streaming file chunk (see wandb/debug-internal.log)\n",
      "wandb: ERROR Dropped streaming file chunk (see wandb/debug-internal.log)\n",
      "wandb: ERROR Dropped streaming file chunk (see wandb/debug-internal.log)\n",
      "wandb: ERROR Dropped streaming file chunk (see wandb/debug-internal.log)\n",
      "wandb: ERROR Dropped streaming file chunk (see wandb/debug-internal.log)\n",
      "wandb: ERROR Dropped streaming file chunk (see wandb/debug-internal.log)\n",
      "wandb: ERROR Dropped streaming file chunk (see wandb/debug-internal.log)\n",
      "wandb: ERROR Dropped streaming file chunk (see wandb/debug-internal.log)\n",
      "wandb: ERROR Dropped streaming file chunk (see wandb/debug-internal.log)\n",
      "wandb: ERROR Dropped streaming file chunk (see wandb/debug-internal.log)\n",
      "wandb: ERROR Dropped streaming file chunk (see wandb/debug-internal.log)\n",
      "wandb: ERROR Dropped streaming file chunk (see wandb/debug-internal.log)\n",
      "wandb: ERROR Dropped streaming file chunk (see wandb/debug-internal.log)\n",
      "wandb: ERROR Dropped streaming file chunk (see wandb/debug-internal.log)\n",
      "wandb: ERROR Dropped streaming file chunk (see wandb/debug-internal.log)\n",
      "wandb: ERROR Dropped streaming file chunk (see wandb/debug-internal.log)\n",
      "wandb: ERROR Dropped streaming file chunk (see wandb/debug-internal.log)\n",
      "wandb: ERROR Dropped streaming file chunk (see wandb/debug-internal.log)\n",
      "wandb: ERROR Dropped streaming file chunk (see wandb/debug-internal.log)\n",
      "wandb: ERROR Dropped streaming file chunk (see wandb/debug-internal.log)\n",
      "wandb: ERROR Dropped streaming file chunk (see wandb/debug-internal.log)\n",
      "wandb: ERROR Dropped streaming file chunk (see wandb/debug-internal.log)\n",
      "wandb: ERROR Dropped streaming file chunk (see wandb/debug-internal.log)\n",
      "wandb: ERROR Dropped streaming file chunk (see wandb/debug-internal.log)\n",
      "wandb: ERROR Dropped streaming file chunk (see wandb/debug-internal.log)\n",
      "wandb: ERROR Dropped streaming file chunk (see wandb/debug-internal.log)\n",
      "wandb: ERROR Dropped streaming file chunk (see wandb/debug-internal.log)\n",
      "wandb: ERROR Dropped streaming file chunk (see wandb/debug-internal.log)\n",
      "wandb: ERROR Dropped streaming file chunk (see wandb/debug-internal.log)\n",
      "wandb: ERROR Dropped streaming file chunk (see wandb/debug-internal.log)\n",
      "wandb: ERROR Dropped streaming file chunk (see wandb/debug-internal.log)\n",
      "wandb: ERROR Dropped streaming file chunk (see wandb/debug-internal.log)\n",
      "wandb: ERROR Dropped streaming file chunk (see wandb/debug-internal.log)\n",
      "wandb: ERROR Dropped streaming file chunk (see wandb/debug-internal.log)\n",
      "wandb: ERROR Dropped streaming file chunk (see wandb/debug-internal.log)\n",
      "wandb: ERROR Dropped streaming file chunk (see wandb/debug-internal.log)\n",
      "wandb: ERROR Dropped streaming file chunk (see wandb/debug-internal.log)\n",
      "wandb: ERROR Dropped streaming file chunk (see wandb/debug-internal.log)\n",
      "wandb: ERROR Dropped streaming file chunk (see wandb/debug-internal.log)\n",
      "wandb: ERROR Dropped streaming file chunk (see wandb/debug-internal.log)\n",
      "wandb: ERROR Dropped streaming file chunk (see wandb/debug-internal.log)\n",
      "wandb: ERROR Dropped streaming file chunk (see wandb/debug-internal.log)\n",
      "wandb: ERROR Dropped streaming file chunk (see wandb/debug-internal.log)\n",
      "wandb: ERROR Dropped streaming file chunk (see wandb/debug-internal.log)\n",
      "wandb: ERROR Dropped streaming file chunk (see wandb/debug-internal.log)\n",
      "wandb: ERROR Dropped streaming file chunk (see wandb/debug-internal.log)\n",
      "wandb: ERROR Dropped streaming file chunk (see wandb/debug-internal.log)\n",
      "wandb: ERROR Dropped streaming file chunk (see wandb/debug-internal.log)\n",
      "wandb: ERROR Dropped streaming file chunk (see wandb/debug-internal.log)\n",
      "wandb: ERROR Dropped streaming file chunk (see wandb/debug-internal.log)\n",
      "wandb: ERROR Dropped streaming file chunk (see wandb/debug-internal.log)\n",
      "wandb: ERROR Dropped streaming file chunk (see wandb/debug-internal.log)\n",
      "wandb: ERROR Dropped streaming file chunk (see wandb/debug-internal.log)\n",
      "wandb: ERROR Dropped streaming file chunk (see wandb/debug-internal.log)\n",
      "wandb: ERROR Dropped streaming file chunk (see wandb/debug-internal.log)\n",
      "wandb: ERROR Dropped streaming file chunk (see wandb/debug-internal.log)\n",
      "wandb: ERROR Dropped streaming file chunk (see wandb/debug-internal.log)\n",
      "wandb: ERROR Dropped streaming file chunk (see wandb/debug-internal.log)\n",
      "wandb: ERROR Dropped streaming file chunk (see wandb/debug-internal.log)\n",
      "wandb: ERROR Dropped streaming file chunk (see wandb/debug-internal.log)\n",
      "wandb: ERROR Dropped streaming file chunk (see wandb/debug-internal.log)\n",
      "wandb: ERROR Dropped streaming file chunk (see wandb/debug-internal.log)\n",
      "wandb: ERROR Dropped streaming file chunk (see wandb/debug-internal.log)\n",
      "wandb: ERROR Dropped streaming file chunk (see wandb/debug-internal.log)\n",
      "wandb: ERROR Dropped streaming file chunk (see wandb/debug-internal.log)\n",
      "wandb: ERROR Dropped streaming file chunk (see wandb/debug-internal.log)\n",
      "wandb: ERROR Dropped streaming file chunk (see wandb/debug-internal.log)\n",
      "wandb: ERROR Dropped streaming file chunk (see wandb/debug-internal.log)\n",
      "wandb: ERROR Dropped streaming file chunk (see wandb/debug-internal.log)\n",
      "wandb: ERROR Dropped streaming file chunk (see wandb/debug-internal.log)\n",
      "wandb: ERROR Dropped streaming file chunk (see wandb/debug-internal.log)\n",
      "wandb: ERROR Dropped streaming file chunk (see wandb/debug-internal.log)\n",
      "wandb: ERROR Dropped streaming file chunk (see wandb/debug-internal.log)\n",
      "wandb: ERROR Dropped streaming file chunk (see wandb/debug-internal.log)\n",
      "wandb: ERROR Dropped streaming file chunk (see wandb/debug-internal.log)\n",
      "wandb: ERROR Dropped streaming file chunk (see wandb/debug-internal.log)\n",
      "wandb: ERROR Dropped streaming file chunk (see wandb/debug-internal.log)\n",
      "wandb: ERROR Dropped streaming file chunk (see wandb/debug-internal.log)\n",
      "wandb: ERROR Dropped streaming file chunk (see wandb/debug-internal.log)\n",
      "wandb: ERROR Dropped streaming file chunk (see wandb/debug-internal.log)\n",
      "wandb: ERROR Dropped streaming file chunk (see wandb/debug-internal.log)\n",
      "wandb: ERROR Dropped streaming file chunk (see wandb/debug-internal.log)\n",
      "wandb: ERROR Dropped streaming file chunk (see wandb/debug-internal.log)\n",
      "wandb: ERROR Dropped streaming file chunk (see wandb/debug-internal.log)\n",
      "wandb: ERROR Dropped streaming file chunk (see wandb/debug-internal.log)\n",
      "wandb: ERROR Dropped streaming file chunk (see wandb/debug-internal.log)\n",
      "wandb: ERROR Dropped streaming file chunk (see wandb/debug-internal.log)\n",
      "wandb: ERROR Dropped streaming file chunk (see wandb/debug-internal.log)\n",
      "wandb: ERROR Dropped streaming file chunk (see wandb/debug-internal.log)\n",
      "wandb: ERROR Dropped streaming file chunk (see wandb/debug-internal.log)\n",
      "wandb: ERROR Dropped streaming file chunk (see wandb/debug-internal.log)\n",
      "wandb: ERROR Dropped streaming file chunk (see wandb/debug-internal.log)\n",
      "wandb: ERROR Dropped streaming file chunk (see wandb/debug-internal.log)\n",
      "wandb: ERROR Dropped streaming file chunk (see wandb/debug-internal.log)\n",
      "wandb: ERROR Dropped streaming file chunk (see wandb/debug-internal.log)\n",
      "wandb: ERROR Dropped streaming file chunk (see wandb/debug-internal.log)\n",
      "wandb: ERROR Dropped streaming file chunk (see wandb/debug-internal.log)\n",
      "wandb: ERROR Dropped streaming file chunk (see wandb/debug-internal.log)\n",
      "wandb: ERROR Dropped streaming file chunk (see wandb/debug-internal.log)\n",
      "wandb: ERROR Dropped streaming file chunk (see wandb/debug-internal.log)\n",
      "wandb: ERROR Dropped streaming file chunk (see wandb/debug-internal.log)\n",
      "wandb: ERROR Dropped streaming file chunk (see wandb/debug-internal.log)\n",
      "wandb: ERROR Dropped streaming file chunk (see wandb/debug-internal.log)\n",
      "wandb: ERROR Dropped streaming file chunk (see wandb/debug-internal.log)\n",
      "wandb: ERROR Dropped streaming file chunk (see wandb/debug-internal.log)\n",
      "wandb: ERROR Dropped streaming file chunk (see wandb/debug-internal.log)\n",
      "wandb: ERROR Dropped streaming file chunk (see wandb/debug-internal.log)\n",
      "wandb: ERROR Dropped streaming file chunk (see wandb/debug-internal.log)\n",
      "wandb: ERROR Dropped streaming file chunk (see wandb/debug-internal.log)\n",
      "wandb: ERROR Dropped streaming file chunk (see wandb/debug-internal.log)\n",
      "wandb: ERROR Dropped streaming file chunk (see wandb/debug-internal.log)\n",
      "wandb: ERROR Dropped streaming file chunk (see wandb/debug-internal.log)\n",
      "wandb: ERROR Dropped streaming file chunk (see wandb/debug-internal.log)\n",
      "wandb: ERROR Dropped streaming file chunk (see wandb/debug-internal.log)\n",
      "wandb: ERROR Dropped streaming file chunk (see wandb/debug-internal.log)\n",
      "wandb: ERROR Dropped streaming file chunk (see wandb/debug-internal.log)\n",
      "wandb: ERROR Dropped streaming file chunk (see wandb/debug-internal.log)\n",
      "wandb: ERROR Dropped streaming file chunk (see wandb/debug-internal.log)\n",
      "wandb: ERROR Dropped streaming file chunk (see wandb/debug-internal.log)\n",
      "wandb: ERROR Dropped streaming file chunk (see wandb/debug-internal.log)\n",
      "wandb: ERROR Dropped streaming file chunk (see wandb/debug-internal.log)\n",
      "wandb: ERROR Dropped streaming file chunk (see wandb/debug-internal.log)\n",
      "wandb: ERROR Dropped streaming file chunk (see wandb/debug-internal.log)\n",
      "wandb: ERROR Dropped streaming file chunk (see wandb/debug-internal.log)\n",
      "wandb: ERROR Dropped streaming file chunk (see wandb/debug-internal.log)\n",
      "wandb: ERROR Dropped streaming file chunk (see wandb/debug-internal.log)\n",
      "wandb: ERROR Dropped streaming file chunk (see wandb/debug-internal.log)\n",
      "wandb: ERROR Dropped streaming file chunk (see wandb/debug-internal.log)\n",
      "wandb: ERROR Dropped streaming file chunk (see wandb/debug-internal.log)\n",
      "wandb: ERROR Dropped streaming file chunk (see wandb/debug-internal.log)\n",
      "wandb: ERROR Dropped streaming file chunk (see wandb/debug-internal.log)\n",
      "wandb: ERROR Dropped streaming file chunk (see wandb/debug-internal.log)\n",
      "wandb: ERROR Dropped streaming file chunk (see wandb/debug-internal.log)\n",
      "wandb: ERROR Dropped streaming file chunk (see wandb/debug-internal.log)\n",
      "wandb: ERROR Dropped streaming file chunk (see wandb/debug-internal.log)\n",
      "wandb: ERROR Dropped streaming file chunk (see wandb/debug-internal.log)\n",
      "wandb: ERROR Dropped streaming file chunk (see wandb/debug-internal.log)\n",
      "wandb: ERROR Dropped streaming file chunk (see wandb/debug-internal.log)\n",
      "wandb: ERROR Dropped streaming file chunk (see wandb/debug-internal.log)\n",
      "wandb: ERROR Dropped streaming file chunk (see wandb/debug-internal.log)\n",
      "wandb: ERROR Dropped streaming file chunk (see wandb/debug-internal.log)\n",
      "wandb: ERROR Dropped streaming file chunk (see wandb/debug-internal.log)\n",
      "wandb: ERROR Dropped streaming file chunk (see wandb/debug-internal.log)\n",
      "wandb: ERROR Dropped streaming file chunk (see wandb/debug-internal.log)\n",
      "wandb: ERROR Dropped streaming file chunk (see wandb/debug-internal.log)\n",
      "wandb: ERROR Dropped streaming file chunk (see wandb/debug-internal.log)\n",
      "wandb: ERROR Dropped streaming file chunk (see wandb/debug-internal.log)\n",
      "wandb: ERROR Dropped streaming file chunk (see wandb/debug-internal.log)\n",
      "wandb: ERROR Dropped streaming file chunk (see wandb/debug-internal.log)\n",
      "wandb: ERROR Dropped streaming file chunk (see wandb/debug-internal.log)\n",
      "wandb: ERROR Dropped streaming file chunk (see wandb/debug-internal.log)\n",
      "wandb: ERROR Dropped streaming file chunk (see wandb/debug-internal.log)\n",
      "wandb: ERROR Dropped streaming file chunk (see wandb/debug-internal.log)\n",
      "wandb: ERROR Dropped streaming file chunk (see wandb/debug-internal.log)\n",
      "wandb: ERROR Dropped streaming file chunk (see wandb/debug-internal.log)\n",
      "wandb: ERROR Dropped streaming file chunk (see wandb/debug-internal.log)\n",
      "wandb: ERROR Dropped streaming file chunk (see wandb/debug-internal.log)\n",
      "wandb: ERROR Dropped streaming file chunk (see wandb/debug-internal.log)\n",
      "wandb: ERROR Dropped streaming file chunk (see wandb/debug-internal.log)\n",
      "wandb: ERROR Dropped streaming file chunk (see wandb/debug-internal.log)\n",
      "wandb: ERROR Dropped streaming file chunk (see wandb/debug-internal.log)\n",
      "wandb: ERROR Dropped streaming file chunk (see wandb/debug-internal.log)\n",
      "wandb: ERROR Dropped streaming file chunk (see wandb/debug-internal.log)\n",
      "wandb: ERROR Dropped streaming file chunk (see wandb/debug-internal.log)\n",
      "wandb: ERROR Dropped streaming file chunk (see wandb/debug-internal.log)\n",
      "wandb: ERROR Dropped streaming file chunk (see wandb/debug-internal.log)\n",
      "wandb: ERROR Dropped streaming file chunk (see wandb/debug-internal.log)\n",
      "wandb: ERROR Dropped streaming file chunk (see wandb/debug-internal.log)\n",
      "wandb: ERROR Dropped streaming file chunk (see wandb/debug-internal.log)\n",
      "wandb: ERROR Dropped streaming file chunk (see wandb/debug-internal.log)\n",
      "wandb: ERROR Dropped streaming file chunk (see wandb/debug-internal.log)\n",
      "wandb: ERROR Dropped streaming file chunk (see wandb/debug-internal.log)\n",
      "wandb: ERROR Dropped streaming file chunk (see wandb/debug-internal.log)\n"
     ]
    }
   ],
   "source": [
    "import ray\n",
    "from ray import air, tune\n",
    "hcmTz = pytz.timezone(\"Asia/Ho_Chi_Minh\") \n",
    "date = datetime.datetime.now(hcmTz).strftime(\"%d-%m-%Y_%H-%M-%S\")\n",
    "ray_result_logdir = '/workspace/datasets/ray_results/' + date\n",
    "\n",
    "train_envs = 4\n",
    "lr = 3e-3\n",
    "lr_start = 3e-4\n",
    "lr_end = 3e-5\n",
    "lr_time = int(4e6)\n",
    "\n",
    "config_param_space = {\n",
    "    \"env\": \"L5-CLE-V1\",\n",
    "    \"framework\": \"tf2\",\n",
    "    \"num_gpus\": 1,\n",
    "    \"num_workers\": 3,\n",
    "    \"num_envs_per_worker\": train_envs,\n",
    "    # \"model\": {\n",
    "    #     \"custom_model\": \"GN_CNN_torch_model\",\n",
    "    #     \"custom_model_config\": {'feature_dim':128},\n",
    "    # },\n",
    "    \n",
    "    'model' : {\n",
    "            # \"dim\": 84,\n",
    "            # \"conv_filters\" : [[64, [7,7], 3], [32, [11,11], 3], [32, [11,11], 3]],\n",
    "            # \"conv_activation\": \"relu\",\n",
    "            \"post_fcnet_hiddens\": [256],\n",
    "            \"post_fcnet_activation\": \"relu\",\n",
    "            \"vf_share_layers\": True,   \n",
    "    },\n",
    "    \n",
    "    '_disable_preprocessor_api': True,\n",
    "     \"eager_tracing\": True,\n",
    "     \"restart_failed_sub_environments\": True,\n",
    "    \"lr\": lr,\n",
    "    'seed': 42,\n",
    "    \"lr_schedule\": [\n",
    "        [1e6, lr_start],\n",
    "        [2e6, lr_end],\n",
    "    ],\n",
    "    'train_batch_size': 8000,\n",
    "    'sgd_minibatch_size': 1024,\n",
    "    'num_sgd_iter': 16,\n",
    "    'seed': 42,\n",
    "    'batch_mode': 'truncate_episodes',\n",
    "    # \"rollout_fragment_length\": 32,\n",
    "    'gamma': 0.8,    \n",
    "}\n",
    "\n",
    "result_grid = tune.Tuner(\n",
    "    \"PPO\",\n",
    "    run_config=air.RunConfig(\n",
    "        stop={\"episode_reward_mean\": 0, 'timesteps_total': int(6e6)},\n",
    "        local_dir=ray_result_logdir,\n",
    "        checkpoint_config=air.CheckpointConfig(num_to_keep=4, \n",
    "                                               checkpoint_frequency = 10, \n",
    "                                               checkpoint_score_attribute = 'episode_reward_mean'),\n",
    "        callbacks=[WandbLoggerCallback(project=\"l5kit2\", save_checkpoints=True),],\n",
    "        ),\n",
    "    param_space=config_param_space).fit()\n",
    "    "
   ]
  },
  {
   "cell_type": "code",
   "execution_count": 28,
   "id": "fbaf37b2-60ec-4b50-8caf-cad291d386f9",
   "metadata": {
    "tags": []
   },
   "outputs": [
    {
     "name": "stderr",
     "output_type": "stream",
     "text": [
      "2023-03-29 03:19:54,374\tINFO experiment_analysis.py:795 -- No `self.trials`. Drawing logdirs from checkpoint file. This may result in some information that is out of sync, as checkpointing is periodic.\n",
      "2023-03-29 03:19:54,385\tINFO trial_runner.py:688 -- A local experiment checkpoint was found and will be used to restore the previous experiment state.\n",
      "2023-03-29 03:19:54,386\tINFO trial_runner.py:825 -- Using following checkpoint to resume: /workspace/datasets/ray_results/29-03-2023_09-22-35/PPO/experiment_state-2023-03-29_02-22-35.json\n",
      "2023-03-29 03:19:54,389\tWARNING trial_runner.py:830 -- Attempting to resume experiment from /workspace/datasets/ray_results/29-03-2023_09-22-35/PPO. This will ignore any new changes to the specification.\n",
      "2023-03-29 03:19:54,396\tINFO algorithm_config.py:2503 -- Your framework setting is 'tf', meaning you are using static-graph mode. Set framework='tf2' to enable eager execution with tf2.x. You may also then want to set eager_tracing=True in order to reach similar execution speed as with static-graph mode.\n",
      "2023-03-29 03:19:54,398\tINFO algorithm_config.py:2503 -- Your framework setting is 'tf', meaning you are using static-graph mode. Set framework='tf2' to enable eager execution with tf2.x. You may also then want to set eager_tracing=True in order to reach similar execution speed as with static-graph mode.\n",
      "2023-03-29 03:19:54,399\tINFO tune.py:653 -- TrialRunner resumed, ignoring new add_experiment but updating trial resources.\n"
     ]
    },
    {
     "data": {
      "text/html": [
       "<div class=\"tuneStatus\">\n",
       "  <div style=\"display: flex;flex-direction: row\">\n",
       "    <div style=\"display: flex;flex-direction: column;\">\n",
       "      <h3>Tune Status</h3>\n",
       "      <table>\n",
       "<tbody>\n",
       "<tr><td>Current time:</td><td>2023-03-29 03:20:14</td></tr>\n",
       "<tr><td>Running for: </td><td>00:00:20.18        </td></tr>\n",
       "<tr><td>Memory:      </td><td>33.4/62.6 GiB      </td></tr>\n",
       "</tbody>\n",
       "</table>\n",
       "    </div>\n",
       "    <div class=\"vDivider\"></div>\n",
       "    <div class=\"systemInfo\">\n",
       "      <h3>System Info</h3>\n",
       "      Using FIFO scheduling algorithm.<br>Resources requested: 5.0/12 CPUs, 1.0/2 GPUs, 0.0/39.28 GiB heap, 0.0/15.2 GiB objects (0.0/1.0 accelerator_type:G)\n",
       "    </div>\n",
       "    \n",
       "  </div>\n",
       "  <div class=\"hDivider\"></div>\n",
       "  <div class=\"trialStatus\">\n",
       "    <h3>Trial Status</h3>\n",
       "    <table>\n",
       "<thead>\n",
       "<tr><th>Trial name               </th><th>status  </th><th>loc              </th><th style=\"text-align: right;\">  iter</th><th style=\"text-align: right;\">  total time (s)</th><th style=\"text-align: right;\">   ts</th><th style=\"text-align: right;\">  reward</th><th style=\"text-align: right;\">  episode_reward_max</th><th style=\"text-align: right;\">  episode_reward_min</th><th style=\"text-align: right;\">  episode_len_mean</th></tr>\n",
       "</thead>\n",
       "<tbody>\n",
       "<tr><td>PPO_L5-CLE-V1_91789_00000</td><td>RUNNING </td><td>172.17.0.3:274356</td><td style=\"text-align: right;\">     7</td><td style=\"text-align: right;\">         2025.38</td><td style=\"text-align: right;\">56000</td><td style=\"text-align: right;\">-219.816</td><td style=\"text-align: right;\">            -40.9127</td><td style=\"text-align: right;\">             -412.24</td><td style=\"text-align: right;\">                31</td></tr>\n",
       "</tbody>\n",
       "</table>\n",
       "  </div>\n",
       "</div>\n",
       "<style>\n",
       ".tuneStatus {\n",
       "  color: var(--jp-ui-font-color1);\n",
       "}\n",
       ".tuneStatus .systemInfo {\n",
       "  display: flex;\n",
       "  flex-direction: column;\n",
       "}\n",
       ".tuneStatus td {\n",
       "  white-space: nowrap;\n",
       "}\n",
       ".tuneStatus .trialStatus {\n",
       "  display: flex;\n",
       "  flex-direction: column;\n",
       "}\n",
       ".tuneStatus h3 {\n",
       "  font-weight: bold;\n",
       "}\n",
       ".tuneStatus .hDivider {\n",
       "  border-bottom-width: var(--jp-border-width);\n",
       "  border-bottom-color: var(--jp-border-color0);\n",
       "  border-bottom-style: solid;\n",
       "}\n",
       ".tuneStatus .vDivider {\n",
       "  border-left-width: var(--jp-border-width);\n",
       "  border-left-color: var(--jp-border-color0);\n",
       "  border-left-style: solid;\n",
       "  margin: 0.5em 1em 0.5em 1em;\n",
       "}\n",
       "</style>\n"
      ],
      "text/plain": [
       "<IPython.core.display.HTML object>"
      ]
     },
     "metadata": {},
     "output_type": "display_data"
    },
    {
     "name": "stderr",
     "output_type": "stream",
     "text": [
      "\u001b[34m\u001b[1mwandb\u001b[0m: \u001b[33mWARNING\u001b[0m WANDB_NOTEBOOK_NAME should be a path to a notebook file, couldn't find rllib_ppo_policy_training.ipynb.\n"
     ]
    },
    {
     "data": {
      "text/html": [
       "Tracking run with wandb version 0.14.0"
      ],
      "text/plain": [
       "<IPython.core.display.HTML object>"
      ]
     },
     "metadata": {},
     "output_type": "display_data"
    },
    {
     "data": {
      "text/html": [
       "Run data is saved locally in <code>/workspace/datasets/ray_results/29-03-2023_09-22-35/PPO/PPO_L5-CLE-V1_91789_00000_0_2023-03-29_02-22-35/wandb/run-20230329_031955-91789_00000</code>"
      ],
      "text/plain": [
       "<IPython.core.display.HTML object>"
      ]
     },
     "metadata": {},
     "output_type": "display_data"
    },
    {
     "data": {
      "text/html": [
       "Syncing run <strong><a href='https://wandb.ai/pronton2001/l5kit2/runs/91789_00000' target=\"_blank\">PPO_L5-CLE-V1_91789_00000</a></strong> to <a href='https://wandb.ai/pronton2001/l5kit2' target=\"_blank\">Weights & Biases</a> (<a href='https://wandb.me/run' target=\"_blank\">docs</a>)<br/>"
      ],
      "text/plain": [
       "<IPython.core.display.HTML object>"
      ]
     },
     "metadata": {},
     "output_type": "display_data"
    },
    {
     "data": {
      "text/html": [
       " View project at <a href='https://wandb.ai/pronton2001/l5kit2' target=\"_blank\">https://wandb.ai/pronton2001/l5kit2</a>"
      ],
      "text/plain": [
       "<IPython.core.display.HTML object>"
      ]
     },
     "metadata": {},
     "output_type": "display_data"
    },
    {
     "data": {
      "text/html": [
       " View run at <a href='https://wandb.ai/pronton2001/l5kit2/runs/91789_00000' target=\"_blank\">https://wandb.ai/pronton2001/l5kit2/runs/91789_00000</a>"
      ],
      "text/plain": [
       "<IPython.core.display.HTML object>"
      ]
     },
     "metadata": {},
     "output_type": "display_data"
    },
    {
     "name": "stderr",
     "output_type": "stream",
     "text": [
      "2023-03-29 03:20:12,689\tWARNING tune.py:690 -- Stop signal received (e.g. via SIGINT/Ctrl+C), ending Ray Tune run. This will try to checkpoint the experiment state one last time. Press CTRL+C (or send SIGINT/SIGKILL/SIGTERM) to skip. \n",
      "2023-03-29 03:20:13,575\tWARNING tune.py:690 -- Stop signal received (e.g. via SIGINT/Ctrl+C), ending Ray Tune run. This will try to checkpoint the experiment state one last time. Press CTRL+C (or send SIGINT/SIGKILL/SIGTERM) to skip. \n",
      "2023-03-29 03:20:14,796\tERROR tune.py:758 -- Trials did not complete: [PPO_L5-CLE-V1_91789_00000]\n",
      "2023-03-29 03:20:14,797\tINFO tune.py:762 -- Total run time: 20.41 seconds (20.18 seconds for the tuning loop).\n",
      "2023-03-29 03:20:14,798\tWARNING tune.py:768 -- Experiment has been interrupted, but the most recent state was saved. You can continue running this experiment by passing `resume=True` to `tune.run()`\n"
     ]
    },
    {
     "data": {
      "text/plain": [
       "<ray.tune.result_grid.ResultGrid at 0x7fef885e76d0>"
      ]
     },
     "execution_count": 28,
     "metadata": {},
     "output_type": "execute_result"
    },
    {
     "name": "stderr",
     "output_type": "stream",
     "text": [
      "Process _WandbLoggingProcess-2:\n",
      "Traceback (most recent call last):\n",
      "  File \"/usr/lib/python3.8/multiprocessing/process.py\", line 315, in _bootstrap\n",
      "    self.run()\n",
      "  File \"/root/.local/share/virtualenvs/l5kit-ZbMednhg/lib/python3.8/site-packages/ray/air/integrations/wandb.py\", line 322, in run\n",
      "    item_type, item_content = self.queue.get()\n",
      "  File \"/usr/lib/python3.8/multiprocessing/queues.py\", line 97, in get\n",
      "    res = self._recv_bytes()\n",
      "  File \"/usr/lib/python3.8/multiprocessing/connection.py\", line 216, in recv_bytes\n",
      "    buf = self._recv_bytes(maxlength)\n",
      "  File \"/usr/lib/python3.8/multiprocessing/connection.py\", line 414, in _recv_bytes\n",
      "    buf = self._recv(4)\n",
      "  File \"/usr/lib/python3.8/multiprocessing/connection.py\", line 379, in _recv\n",
      "    chunk = read(handle, remaining)\n",
      "KeyboardInterrupt\n"
     ]
    }
   ],
   "source": [
    "ray_result_logdir = '/workspace/datasets/ray_results/29-03-2023_09-22-35/PPO'\n",
    "tuner = tune.Tuner.restore(\n",
    "    path=ray_result_logdir\n",
    ")\n",
    "tuner.fit()"
   ]
  },
  {
   "cell_type": "code",
   "execution_count": null,
   "id": "1ca8b47b-4fe6-421f-bdd5-c965fdc27480",
   "metadata": {},
   "outputs": [],
   "source": [
    "import ray\n",
    "from ray import air, tune\n",
    "hcmTz = pytz.timezone(\"Asia/Ho_Chi_Minh\") \n",
    "date = datetime.datetime.now(hcmTz).strftime(\"%d-%m-%Y_%H-%M-%S\")\n",
    "ray_result_logdir = '/workspace/datasets/ray_results/' + date\n",
    "\n",
    "train_envs = 4\n",
    "lr = 3e-3\n",
    "lr_start = 3e-4\n",
    "lr_end = 3e-5\n",
    "lr_time = int(4e6)\n",
    "\n",
    "config_param_space = {\n",
    "    \"env\": \"L5-CLE-V1\",\n",
    "    \"framework\": \"torch\",\n",
    "    \"num_gpus\": 1,\n",
    "    \"num_workers\": 3,\n",
    "    \"num_envs_per_worker\": train_envs,\n",
    "    \"model\": {\n",
    "        \"custom_model\": \"GN_CNN_torch_model\",\n",
    "        \"custom_model_config\": {'feature_dim':128},\n",
    "    },\n",
    "    \n",
    "    '_disable_preprocessor_api': True,\n",
    "     \"eager_tracing\": True,\n",
    "     \"restart_failed_sub_environments\": True,\n",
    "    \"lr\": lr,\n",
    "    'seed': 42,\n",
    "    \"lr_schedule\": [\n",
    "        [1e6, lr_start],\n",
    "        [2e6, lr_end],\n",
    "    ],\n",
    "    'train_batch_size': 8000,\n",
    "    'sgd_minibatch_size': 1024,\n",
    "    'num_sgd_iter': 16,\n",
    "    'seed': 42,\n",
    "    'batch_mode': 'truncate_episodes',\n",
    "    \"rollout_fragment_length\": 32,\n",
    "    'gamma': 0.8,    \n",
    "}\n",
    "\n",
    "result_grid = tune.Tuner(\n",
    "    \"PPO\",\n",
    "    run_config=air.RunConfig(\n",
    "        stop={\"episode_reward_mean\": 0, 'timesteps_total': int(6e6)},\n",
    "        local_dir=ray_result_logdir,\n",
    "        checkpoint_config=air.CheckpointConfig(num_to_keep=4, \n",
    "                                               checkpoint_frequency = 10, \n",
    "                                               checkpoint_score_attribute = 'episode_reward_mean'),\n",
    "        callbacks=[WandbLoggerCallback(project=\"l5kit2\", save_checkpoints=True),],\n",
    "        ),\n",
    "    param_space=config_param_space).fit()\n",
    "    "
   ]
  },
  {
   "cell_type": "markdown",
   "id": "dab4bab6-a99a-4e12-947c-59c4aa57cf9d",
   "metadata": {
    "tags": []
   },
   "source": [
    "### Restore a specific checkpoint"
   ]
  },
  {
   "cell_type": "code",
   "execution_count": null,
   "id": "7bdcd1c2-79d2-4f95-b50f-247b367e5491",
   "metadata": {},
   "outputs": [],
   "source": [
    "# config_param_space['lr'] = 3e-5\n",
    "path_to_trained_agent_checkpoint = 'datasets/ray_results/23-03-2023_13-36-12/PPO/PPO_L5-CLE-V1_010e0_00000_0_2023-03-23_06-36-12/checkpoint_000380'\n",
    "from ray.rllib.algorithms.ppo import PPO\n",
    "ray.tune.run(PPO, config=config_param_space, restore=path_to_trained_agent_checkpoint)"
   ]
  },
  {
   "cell_type": "code",
   "execution_count": null,
   "id": "97846803-c22d-4a73-b451-052962cd289b",
   "metadata": {
    "tags": []
   },
   "outputs": [],
   "source": [
    "import ray\n",
    "from ray import air, tune\n",
    "ray_result_logdir = '/DATA/l5kit/ray_results'\n",
    "config_param_space = {\n",
    "    \"env\": \"L5-CLE-V1\",\n",
    "    \"framework\": \"torch\",\n",
    "    \"num_gpus\": 1,\n",
    "    \"num_workers\": 63,\n",
    "    'train_batch_size': 4000,\n",
    "    'sgd_minibatch_size': 4096,\n",
    "    \"num_envs_per_worker\": 32,\n",
    "    'num_sgd_iter': 32,\n",
    "    'sgd_minibatch_size': 256,\n",
    "    # 'num_cpus_per_worker': 0,  # This avoids running out of resources in the notebook environment when this cell is re-executed\n",
    "    \"model\": {\n",
    "        \"custom_model\": \"GN_CNN_torch_model\",\n",
    "        \"custom_model_config\": {'feature_dim':128},\n",
    "    },\n",
    "    \n",
    "    '_disable_preprocessor_api': True,\n",
    "     \"eager_tracing\": True,\n",
    "     # \"log_level\": \"DEBUG\",\n",
    "     \"restart_failed_sub_environments\": True,\n",
    "    \"lr\": 0.0003,\n",
    "    \"gamma\": 0.8,\n",
    "    'seed': 42,\n",
    "}\n",
    "\n",
    "result_grid = tune.Tuner(\n",
    "    \"PPO\",\n",
    "    run_config=air.RunConfig(\n",
    "        stop={\"episode_reward_mean\": -30, 'timesteps_total': int(12e6)},\n",
    "        local_dir=ray_result_logdir,\n",
    "        checkpoint_config=air.CheckpointConfig(num_to_keep=4, checkpoint_frequency = 10, checkpoint_score_attribute = 'episode_reward_mean')\n",
    "        ),\n",
    "    param_space=config_param_space).fit()"
   ]
  },
  {
   "cell_type": "code",
   "execution_count": null,
   "id": "a019fc45",
   "metadata": {
    "colab": {
     "base_uri": "https://localhost:8080/",
     "height": 1000
    },
    "id": "RTK45EUeonWl",
    "outputId": "1a0ff185-7c8c-4cfb-8d1c-4dcb71cd7fb4",
    "tags": []
   },
   "outputs": [],
   "source": [
    "ray_result_logdir = '/DATA/l5kit/ray_results'\n",
    "\n",
    "tuner = tune.Tuner.restore(\n",
    "    path=ray_result_logdir + '/PPO',\n",
    ")\n",
    "result_grid = tuner.fit()"
   ]
  },
  {
   "cell_type": "code",
   "execution_count": null,
   "id": "d733b2f3-c09e-42d6-bd04-f6024d68c388",
   "metadata": {},
   "outputs": [],
   "source": [
    "result_grid\n",
    "\n",
    "# Get the result with the maximum test set `mean_accuracy`\n",
    "best_result = result_grid.get_best_result()\n",
    "best_result.checkpoint"
   ]
  },
  {
   "cell_type": "code",
   "execution_count": null,
   "id": "a2f7ddd6-4ee4-4208-93ce-bdb7f09a834c",
   "metadata": {},
   "outputs": [],
   "source": [
    "best_result.metrics"
   ]
  },
  {
   "cell_type": "code",
   "execution_count": null,
   "id": "eb8970f8-e53f-4872-8b2a-c6d4bc872887",
   "metadata": {},
   "outputs": [],
   "source": [
    "result_df = best_result.metrics_dataframe\n",
    "result_df[['num_agent_steps_sampled','episode_reward_mean'] ]"
   ]
  },
  {
   "cell_type": "code",
   "execution_count": null,
   "id": "5aba6040-0726-40b5-8717-dcc036d6e31b",
   "metadata": {},
   "outputs": [],
   "source": [
    "best_result.metrics_dataframe.plot(\"num_agent_steps_sampled\", \"episode_reward_mean\")\n"
   ]
  },
  {
   "cell_type": "code",
   "execution_count": null,
   "id": "e2e52385-0b84-4058-8079-8d4b29ccc54e",
   "metadata": {},
   "outputs": [],
   "source": [
    "for result in result_grid:\n",
    "    print(1)"
   ]
  },
  {
   "cell_type": "markdown",
   "id": "60c6b3ff-c0a7-4f4f-8308-9ca3869b7ebe",
   "metadata": {
    "tags": []
   },
   "source": [
    "### Separated policy"
   ]
  },
  {
   "cell_type": "code",
   "execution_count": null,
   "id": "86853fc6-44f8-4723-9e7b-0ddd6f546725",
   "metadata": {
    "tags": []
   },
   "outputs": [],
   "source": [
    "import ray\n",
    "from ray import air, tune\n",
    "train_envs = 4\n",
    "ray_result_logdir = '/DATA/l5kit/ray_results'\n",
    "lr = 3e-3\n",
    "lr_start = 3e-4\n",
    "lr_end = 3e-5\n",
    "lr_time = int(4e6)\n",
    "\n",
    "config_param_space = {\n",
    "    \"env\": \"L5-CLE-V1\",\n",
    "    \"framework\": \"torch\",\n",
    "    \"num_gpus\": 1,\n",
    "    \"num_workers\": 63,\n",
    "    \"num_envs_per_worker\": train_envs,\n",
    "    '_disable_preprocessor_api': True,\n",
    "    \"eager_tracing\": True,\n",
    "    \"restart_failed_sub_environments\": True,\n",
    "    \"lr\": lr_start,\n",
    "    # \"model\": {\n",
    "    #     \"custom_model\": \"GN_CNN_separated_torch_model\",\n",
    "    #     \"custom_model_config\": {'feature_dim':128},\n",
    "    # },\n",
    "    'model' : {\n",
    "            \"dim\": 84,\n",
    "            # \"conv_filters\" : [[64, [7,7], 3], [32, [11,11], 3], [32, [11,11], 3]],\n",
    "            \"conv_activation\": \"relu\",\n",
    "            \"post_fcnet_hiddens\": [256],\n",
    "            \"post_fcnet_activation\": \"relu\",\n",
    "            \"vf_share_layers\": False,   \n",
    "    },\n",
    "#\n",
    "    \"lr\": lr,\n",
    "    'seed': 42,\n",
    "    \"lr_schedule\": [\n",
    "        [1e6, lr_start],\n",
    "        [2e6, lr_end],\n",
    "    ],\n",
    "    'train_batch_size': 8000,\n",
    "    'sgd_minibatch_size': 256,\n",
    "    'num_sgd_iter': 16,\n",
    "    'seed': 42,\n",
    "    'batch_mode': 'truncate_episodes',\n",
    "    \"rollout_fragment_length\": 32,\n",
    "    'gamma': 0.8,\n",
    "}\n",
    "\n",
    "result_grid = tune.Tuner(\n",
    "    \"PPO\",\n",
    "    run_config=air.RunConfig(\n",
    "        stop={\"episode_reward_mean\": 0, 'timesteps_total': int(6e6)},\n",
    "        local_dir=ray_result_logdir,\n",
    "        checkpoint_config=air.CheckpointConfig(num_to_keep=4, checkpoint_frequency = 10, checkpoint_score_attribute = 'episode_reward_mean'),\n",
    "        callbacks=[WandbLoggerCallback(project=\"l5kit2\", save_checkpoints=True),],\n",
    "        ),\n",
    "    param_space=config_param_space).fit()"
   ]
  },
  {
   "cell_type": "code",
   "execution_count": 16,
   "id": "311054e4-7a19-400f-aa1c-332dd22b964d",
   "metadata": {},
   "outputs": [
    {
     "name": "stderr",
     "output_type": "stream",
     "text": [
      "2023-03-23 07:18:47,187\tINFO experiment_analysis.py:795 -- No `self.trials`. Drawing logdirs from checkpoint file. This may result in some information that is out of sync, as checkpointing is periodic.\n",
      "2023-03-23 07:18:47,212\tINFO trial_runner.py:688 -- A local experiment checkpoint was found and will be used to restore the previous experiment state.\n",
      "2023-03-23 07:18:47,213\tINFO trial_runner.py:825 -- Using following checkpoint to resume: /workspace/datasets/ray_results/23-03-2023_13-36-12/PPO/experiment_state-2023-03-23_06-36-12.json\n",
      "2023-03-23 07:18:47,215\tWARNING trial_runner.py:830 -- Attempting to resume experiment from /workspace/datasets/ray_results/23-03-2023_13-36-12/PPO. This will ignore any new changes to the specification.\n",
      "2023-03-23 07:18:47,221\tINFO algorithm_config.py:2503 -- Your framework setting is 'tf', meaning you are using static-graph mode. Set framework='tf2' to enable eager execution with tf2.x. You may also then want to set eager_tracing=True in order to reach similar execution speed as with static-graph mode.\n",
      "2023-03-23 07:18:47,222\tINFO algorithm_config.py:2503 -- Your framework setting is 'tf', meaning you are using static-graph mode. Set framework='tf2' to enable eager execution with tf2.x. You may also then want to set eager_tracing=True in order to reach similar execution speed as with static-graph mode.\n",
      "2023-03-23 07:18:47,223\tINFO tune.py:653 -- TrialRunner resumed, ignoring new add_experiment but updating trial resources.\n"
     ]
    },
    {
     "data": {
      "text/html": [
       "<div class=\"tuneStatus\">\n",
       "  <div style=\"display: flex;flex-direction: row\">\n",
       "    <div style=\"display: flex;flex-direction: column;\">\n",
       "      <h3>Tune Status</h3>\n",
       "      <table>\n",
       "<tbody>\n",
       "<tr><td>Current time:</td><td>2023-03-23 07:24:07</td></tr>\n",
       "<tr><td>Running for: </td><td>00:05:19.80        </td></tr>\n",
       "<tr><td>Memory:      </td><td>45.0/62.6 GiB      </td></tr>\n",
       "</tbody>\n",
       "</table>\n",
       "    </div>\n",
       "    <div class=\"vDivider\"></div>\n",
       "    <div class=\"systemInfo\">\n",
       "      <h3>System Info</h3>\n",
       "      Using FIFO scheduling algorithm.<br>Resources requested: 11.0/12 CPUs, 2.0/2 GPUs, 0.0/36.08 GiB heap, 0.0/14.97 GiB objects (0.0/1.0 accelerator_type:G)\n",
       "    </div>\n",
       "    \n",
       "  </div>\n",
       "  <div class=\"hDivider\"></div>\n",
       "  <div class=\"trialStatus\">\n",
       "    <h3>Trial Status</h3>\n",
       "    <table>\n",
       "<thead>\n",
       "<tr><th>Trial name               </th><th>status  </th><th>loc               </th><th style=\"text-align: right;\">  iter</th><th style=\"text-align: right;\">  total time (s)</th><th style=\"text-align: right;\">    ts</th><th style=\"text-align: right;\">  reward</th><th style=\"text-align: right;\">  episode_reward_max</th><th style=\"text-align: right;\">  episode_reward_min</th><th style=\"text-align: right;\">  episode_len_mean</th></tr>\n",
       "</thead>\n",
       "<tbody>\n",
       "<tr><td>PPO_L5-CLE-V1_010e0_00000</td><td>RUNNING </td><td>172.17.0.2:3544631</td><td style=\"text-align: right;\">   434</td><td style=\"text-align: right;\">         2164.08</td><td style=\"text-align: right;\">434000</td><td style=\"text-align: right;\">-201.399</td><td style=\"text-align: right;\">             -5.4189</td><td style=\"text-align: right;\">            -416.831</td><td style=\"text-align: right;\">                31</td></tr>\n",
       "</tbody>\n",
       "</table>\n",
       "  </div>\n",
       "</div>\n",
       "<style>\n",
       ".tuneStatus {\n",
       "  color: var(--jp-ui-font-color1);\n",
       "}\n",
       ".tuneStatus .systemInfo {\n",
       "  display: flex;\n",
       "  flex-direction: column;\n",
       "}\n",
       ".tuneStatus td {\n",
       "  white-space: nowrap;\n",
       "}\n",
       ".tuneStatus .trialStatus {\n",
       "  display: flex;\n",
       "  flex-direction: column;\n",
       "}\n",
       ".tuneStatus h3 {\n",
       "  font-weight: bold;\n",
       "}\n",
       ".tuneStatus .hDivider {\n",
       "  border-bottom-width: var(--jp-border-width);\n",
       "  border-bottom-color: var(--jp-border-color0);\n",
       "  border-bottom-style: solid;\n",
       "}\n",
       ".tuneStatus .vDivider {\n",
       "  border-left-width: var(--jp-border-width);\n",
       "  border-left-color: var(--jp-border-color0);\n",
       "  border-left-style: solid;\n",
       "  margin: 0.5em 1em 0.5em 1em;\n",
       "}\n",
       "</style>\n"
      ],
      "text/plain": [
       "<IPython.core.display.HTML object>"
      ]
     },
     "metadata": {},
     "output_type": "display_data"
    },
    {
     "name": "stderr",
     "output_type": "stream",
     "text": [
      "\u001b[34m\u001b[1mwandb\u001b[0m: \u001b[33mWARNING\u001b[0m WANDB_NOTEBOOK_NAME should be a path to a notebook file, couldn't find rllib_ppo_policy_training.ipynb.\n"
     ]
    },
    {
     "data": {
      "text/html": [
       "Tracking run with wandb version 0.14.0"
      ],
      "text/plain": [
       "<IPython.core.display.HTML object>"
      ]
     },
     "metadata": {},
     "output_type": "display_data"
    },
    {
     "data": {
      "text/html": [
       "Run data is saved locally in <code>/workspace/datasets/ray_results/23-03-2023_13-36-12/PPO/PPO_L5-CLE-V1_010e0_00000_0_2023-03-23_06-36-12/wandb/run-20230323_071848-010e0_00000</code>"
      ],
      "text/plain": [
       "<IPython.core.display.HTML object>"
      ]
     },
     "metadata": {},
     "output_type": "display_data"
    },
    {
     "data": {
      "text/html": [
       "Syncing run <strong><a href='https://wandb.ai/pronton2001/l5kit2/runs/010e0_00000' target=\"_blank\">PPO_L5-CLE-V1_010e0_00000</a></strong> to <a href='https://wandb.ai/pronton2001/l5kit2' target=\"_blank\">Weights & Biases</a> (<a href='https://wandb.me/run' target=\"_blank\">docs</a>)<br/>"
      ],
      "text/plain": [
       "<IPython.core.display.HTML object>"
      ]
     },
     "metadata": {},
     "output_type": "display_data"
    },
    {
     "data": {
      "text/html": [
       " View project at <a href='https://wandb.ai/pronton2001/l5kit2' target=\"_blank\">https://wandb.ai/pronton2001/l5kit2</a>"
      ],
      "text/plain": [
       "<IPython.core.display.HTML object>"
      ]
     },
     "metadata": {},
     "output_type": "display_data"
    },
    {
     "data": {
      "text/html": [
       " View run at <a href='https://wandb.ai/pronton2001/l5kit2/runs/010e0_00000' target=\"_blank\">https://wandb.ai/pronton2001/l5kit2/runs/010e0_00000</a>"
      ],
      "text/plain": [
       "<IPython.core.display.HTML object>"
      ]
     },
     "metadata": {},
     "output_type": "display_data"
    },
    {
     "data": {
      "text/html": [
       "<div class=\"trialProgress\">\n",
       "  <h3>Trial Progress</h3>\n",
       "  <table>\n",
       "<thead>\n",
       "<tr><th>Trial name               </th><th style=\"text-align: right;\">  agent_timesteps_total</th><th>counters                                                                                                                                </th><th>custom_metrics  </th><th>date               </th><th>done  </th><th style=\"text-align: right;\">  episode_len_mean</th><th>episode_media  </th><th style=\"text-align: right;\">  episode_reward_max</th><th style=\"text-align: right;\">  episode_reward_mean</th><th style=\"text-align: right;\">  episode_reward_min</th><th style=\"text-align: right;\">  episodes_this_iter</th><th style=\"text-align: right;\">  episodes_total</th><th>experiment_id                   </th><th>hostname    </th><th>info                                                                                                                                                                                                                                                                                                                                                                                                                                                                                                                                                         </th><th style=\"text-align: right;\">  iterations_since_restore</th><th>node_ip   </th><th style=\"text-align: right;\">  num_agent_steps_sampled</th><th style=\"text-align: right;\">  num_agent_steps_trained</th><th style=\"text-align: right;\">  num_env_steps_sampled</th><th style=\"text-align: right;\">  num_env_steps_sampled_this_iter</th><th style=\"text-align: right;\">  num_env_steps_trained</th><th style=\"text-align: right;\">  num_env_steps_trained_this_iter</th><th style=\"text-align: right;\">  num_faulty_episodes</th><th style=\"text-align: right;\">  num_healthy_workers</th><th style=\"text-align: right;\">  num_in_flight_async_reqs</th><th style=\"text-align: right;\">  num_remote_worker_restarts</th><th style=\"text-align: right;\">  num_steps_trained_this_iter</th><th>perf                                                    </th><th style=\"text-align: right;\">    pid</th><th>policy_reward_max  </th><th>policy_reward_mean  </th><th>policy_reward_min  </th><th>sampler_perf                                                                                                                                                                                                </th><th>sampler_results                                                                                                                                                                                                                                                                                                                                                                                                                                                                                                                                                                                                                                                                                                                                                                                                                                                                                                                                                                                                                                                                                                                                                                                                                                                                                                                                                                                                                                                                                                                                                                                                                                                                                                                                                                                                                                                                                                                                                                                                                                                                                                                                                                                                                                                                                                                                                                                                                                                                                                                                                                                                                                                                                                                                                                                                                                                                                                                                                                                                                                                                                                                                                              </th><th style=\"text-align: right;\">  time_since_restore</th><th style=\"text-align: right;\">  time_this_iter_s</th><th style=\"text-align: right;\">  time_total_s</th><th>timers                                                                                                                                                                                 </th><th style=\"text-align: right;\">  timestamp</th><th style=\"text-align: right;\">  timesteps_since_restore</th><th style=\"text-align: right;\">  timesteps_total</th><th style=\"text-align: right;\">  training_iteration</th><th style=\"text-align: right;\">  trial_id</th><th style=\"text-align: right;\">  warmup_time</th></tr>\n",
       "</thead>\n",
       "<tbody>\n",
       "<tr><td>PPO_L5-CLE-V1_010e0_00000</td><td style=\"text-align: right;\">                 434000</td><td>{&#x27;num_env_steps_sampled&#x27;: 434000, &#x27;num_env_steps_trained&#x27;: 434000, &#x27;num_agent_steps_sampled&#x27;: 434000, &#x27;num_agent_steps_trained&#x27;: 434000}</td><td>{}              </td><td>2023-03-23_07-24-01</td><td>False </td><td style=\"text-align: right;\">                31</td><td>{}             </td><td style=\"text-align: right;\">             -5.4189</td><td style=\"text-align: right;\">             -201.399</td><td style=\"text-align: right;\">            -416.831</td><td style=\"text-align: right;\">                  40</td><td style=\"text-align: right;\">           13960</td><td>04fa847064f84f168bca7e63b950cbe5</td><td>815d38126431</td><td>{&#x27;learner&#x27;: {&#x27;default_policy&#x27;: {&#x27;learner_stats&#x27;: {&#x27;cur_kl_coeff&#x27;: 0.20000000298023224, &#x27;cur_lr&#x27;: 2.9999999242136255e-05, &#x27;total_loss&#x27;: 7.1255136, &#x27;policy_loss&#x27;: -0.15353686, &#x27;vf_loss&#x27;: 7.257206, &#x27;vf_explained_var&#x27;: 0.24996656, &#x27;kl&#x27;: 0.10921893, &#x27;entropy&#x27;: 14.321851, &#x27;entropy_coeff&#x27;: 0.0, &#x27;model&#x27;: {}}, &#x27;train&#x27;: None, &#x27;num_grad_updates_lifetime&#x27;: 2568.5, &#x27;diff_num_grad_updates_vs_sampler_policy&#x27;: 23.5}}, &#x27;num_env_steps_sampled&#x27;: 434000, &#x27;num_env_steps_trained&#x27;: 434000, &#x27;num_agent_steps_sampled&#x27;: 434000, &#x27;num_agent_steps_trained&#x27;: 434000}</td><td style=\"text-align: right;\">                        54</td><td>172.17.0.2</td><td style=\"text-align: right;\">                   434000</td><td style=\"text-align: right;\">                   434000</td><td style=\"text-align: right;\">                 434000</td><td style=\"text-align: right;\">                             1000</td><td style=\"text-align: right;\">                 434000</td><td style=\"text-align: right;\">                             1000</td><td style=\"text-align: right;\">                    0</td><td style=\"text-align: right;\">                   10</td><td style=\"text-align: right;\">                         0</td><td style=\"text-align: right;\">                           0</td><td style=\"text-align: right;\">                         1000</td><td>{&#x27;cpu_util_percent&#x27;: 84.75, &#x27;ram_util_percent&#x27;: 71.1875}</td><td style=\"text-align: right;\">3544631</td><td>{}                 </td><td>{}                  </td><td>{}                 </td><td>{&#x27;mean_raw_obs_processing_ms&#x27;: 70.12146488803658, &#x27;mean_inference_ms&#x27;: 6.949393241840562, &#x27;mean_action_processing_ms&#x27;: 0.5444782771215971, &#x27;mean_env_wait_ms&#x27;: 75.51739564761759, &#x27;mean_env_render_ms&#x27;: 0.0}</td><td>{&#x27;episode_reward_max&#x27;: -5.418899339420022, &#x27;episode_reward_min&#x27;: -416.8307446241379, &#x27;episode_reward_mean&#x27;: -201.39914259080572, &#x27;episode_len_mean&#x27;: 31.0, &#x27;episode_media&#x27;: {}, &#x27;episodes_this_iter&#x27;: 40, &#x27;policy_reward_min&#x27;: {}, &#x27;policy_reward_max&#x27;: {}, &#x27;policy_reward_mean&#x27;: {}, &#x27;custom_metrics&#x27;: {}, &#x27;hist_stats&#x27;: {&#x27;episode_reward&#x27;: [-415.39010721445084, -18.25421061599627, -6.536419460549951, -306.05977530032396, -155.27015506476164, -21.526762194931507, -42.0768624022603, -327.08898079395294, -344.7285094410181, -213.421240221709, -169.40649657696486, -5.418899339420022, -99.08732810430229, -274.2532938718796, -189.77590061724186, -409.2840898036957, -233.50442264974117, -14.979639370925725, -263.59712675213814, -288.9384271912277, -325.9310363680124, -278.3768076002598, -10.415778825059533, -49.33563754102215, -144.64542428776622, -168.49459706246853, -156.43813633918762, -321.97567719221115, -392.52519059181213, -176.57700118422508, -389.75816236436367, -397.43542248010635, -125.34931713342667, -390.2273618578911, -25.214302556589246, -35.80185077339411, -19.401199638843536, -292.36491322517395, -279.0808511376381, -162.11343270540237, -129.77440406382084, -347.2364945411682, -51.7229455858469, -318.72551652789116, -80.80655665695667, -275.78156822919846, -291.7417603135109, -287.4025077223778, -259.11407139897346, -328.1886873245239, -41.685156954452395, -209.3656961172819, -403.8092547059059, -7.3057731399312615, -239.30862418562174, -15.977616336196661, -179.02108267694712, -284.805492579937, -15.892975606955588, -381.8464401960373, -208.42662751674652, -251.2107334062457, -96.4848848534748, -111.49465590715408, -238.83821193873882, -304.3171819448471, -8.853597876615822, -416.8307446241379, -259.18487960100174, -345.17886888980865, -65.46823631599545, -76.12656515929848, -148.90304525196552, -382.00944823026657, -50.411372765898705, -372.8685880303383, -131.39447356760502, -179.9275155737996, -66.3472825884819, -136.01537835411727, -193.98968148231506, -117.19764944911003, -148.22600904107094, -281.81413435935974, -284.012368157506, -65.0938695371151, -17.50643439590931, -304.7110528945923, -124.81709228083491, -406.20938235521317, -222.01496060565114, -330.64048060774803, -209.07879903167486, -122.20175535231829, -327.0729960501194, -249.41802230477333, -248.46433594822884, -191.90654804557562, -346.0607516244054, -9.612270444631577], &#x27;episode_lengths&#x27;: [31, 31, 31, 31, 31, 31, 31, 31, 31, 31, 31, 31, 31, 31, 31, 31, 31, 31, 31, 31, 31, 31, 31, 31, 31, 31, 31, 31, 31, 31, 31, 31, 31, 31, 31, 31, 31, 31, 31, 31, 31, 31, 31, 31, 31, 31, 31, 31, 31, 31, 31, 31, 31, 31, 31, 31, 31, 31, 31, 31, 31, 31, 31, 31, 31, 31, 31, 31, 31, 31, 31, 31, 31, 31, 31, 31, 31, 31, 31, 31, 31, 31, 31, 31, 31, 31, 31, 31, 31, 31, 31, 31, 31, 31, 31, 31, 31, 31, 31, 31]}, &#x27;sampler_perf&#x27;: {&#x27;mean_raw_obs_processing_ms&#x27;: 70.12146488803658, &#x27;mean_inference_ms&#x27;: 6.949393241840562, &#x27;mean_action_processing_ms&#x27;: 0.5444782771215971, &#x27;mean_env_wait_ms&#x27;: 75.51739564761759, &#x27;mean_env_render_ms&#x27;: 0.0}, &#x27;num_faulty_episodes&#x27;: 0}</td><td style=\"text-align: right;\">             265.328</td><td style=\"text-align: right;\">           5.34379</td><td style=\"text-align: right;\">       2164.08</td><td>{&#x27;training_iteration_time_ms&#x27;: 4849.788, &#x27;load_time_ms&#x27;: 28.782, &#x27;load_throughput&#x27;: 34744.328, &#x27;learn_time_ms&#x27;: 558.716, &#x27;learn_throughput&#x27;: 1789.818, &#x27;synch_weights_time_ms&#x27;: 22.281}</td><td style=\"text-align: right;\"> 1679556241</td><td style=\"text-align: right;\">                        0</td><td style=\"text-align: right;\">           434000</td><td style=\"text-align: right;\">                 434</td><td style=\"text-align: right;\">        10</td><td style=\"text-align: right;\">       40.726</td></tr>\n",
       "</tbody>\n",
       "</table>\n",
       "</div>\n",
       "<style>\n",
       ".trialProgress {\n",
       "  display: flex;\n",
       "  flex-direction: column;\n",
       "  color: var(--jp-ui-font-color1);\n",
       "}\n",
       ".trialProgress h3 {\n",
       "  font-weight: bold;\n",
       "}\n",
       ".trialProgress td {\n",
       "  white-space: nowrap;\n",
       "}\n",
       "</style>\n"
      ],
      "text/plain": [
       "<IPython.core.display.HTML object>"
      ]
     },
     "metadata": {},
     "output_type": "display_data"
    },
    {
     "name": "stderr",
     "output_type": "stream",
     "text": [
      "\u001b[34m\u001b[1mwandb\u001b[0m: Adding directory to artifact (/workspace/datasets/ray_results/23-03-2023_13-36-12/PPO/PPO_L5-CLE-V1_010e0_00000_0_2023-03-23_06-36-12/checkpoint_000390)... Done. 0.0s\n",
      "\u001b[34m\u001b[1mwandb\u001b[0m: Adding directory to artifact (/workspace/datasets/ray_results/23-03-2023_13-36-12/PPO/PPO_L5-CLE-V1_010e0_00000_0_2023-03-23_06-36-12/checkpoint_000400)... Done. 0.0s\n",
      "\u001b[34m\u001b[1mwandb\u001b[0m: Adding directory to artifact (/workspace/datasets/ray_results/23-03-2023_13-36-12/PPO/PPO_L5-CLE-V1_010e0_00000_0_2023-03-23_06-36-12/checkpoint_000410)... Done. 0.0s\n",
      "\u001b[34m\u001b[1mwandb\u001b[0m: Adding directory to artifact (/workspace/datasets/ray_results/23-03-2023_13-36-12/PPO/PPO_L5-CLE-V1_010e0_00000_0_2023-03-23_06-36-12/checkpoint_000420)... Done. 0.0s\n",
      "\u001b[34m\u001b[1mwandb\u001b[0m: Adding directory to artifact (/workspace/datasets/ray_results/23-03-2023_13-36-12/PPO/PPO_L5-CLE-V1_010e0_00000_0_2023-03-23_06-36-12/checkpoint_000430)... Done. 0.0s\n",
      "2023-03-23 07:24:06,890\tWARNING tune.py:690 -- Stop signal received (e.g. via SIGINT/Ctrl+C), ending Ray Tune run. This will try to checkpoint the experiment state one last time. Press CTRL+C (or send SIGINT/SIGKILL/SIGTERM) to skip. \n",
      "2023-03-23 07:24:07,021\tWARNING tune.py:690 -- Stop signal received (e.g. via SIGINT/Ctrl+C), ending Ray Tune run. This will try to checkpoint the experiment state one last time. Press CTRL+C (or send SIGINT/SIGKILL/SIGTERM) to skip. \n",
      "2023-03-23 07:24:07,239\tERROR tune.py:758 -- Trials did not complete: [PPO_L5-CLE-V1_010e0_00000]\n",
      "2023-03-23 07:24:07,241\tINFO tune.py:762 -- Total run time: 320.03 seconds (319.80 seconds for the tuning loop).\n",
      "2023-03-23 07:24:07,242\tWARNING tune.py:768 -- Experiment has been interrupted, but the most recent state was saved. You can continue running this experiment by passing `resume=True` to `tune.run()`\n"
     ]
    },
    {
     "data": {
      "text/plain": [
       "<ray.tune.result_grid.ResultGrid at 0x7f142445d250>"
      ]
     },
     "execution_count": 16,
     "metadata": {},
     "output_type": "execute_result"
    }
   ],
   "source": [
    "ray_result_logdir = '/workspace/datasets/ray_results/23-03-2023_13-36-12/'\n",
    "\n",
    "tuner = tune.Tuner.restore(\n",
    "    path=ray_result_logdir + 'PPO',\n",
    ")\n",
    "tuner.fit()"
   ]
  },
  {
   "cell_type": "markdown",
   "id": "70289aed",
   "metadata": {
    "id": "4fipqZymhM1l"
   },
   "source": [
    "NOTE: Experiment has been interrupted, but the most recent state was saved. You can continue running this experiment by passing `resume=True` to `tune.run()`\n",
    "\n",
    "2022-12-04 05:50:38,570\tINFO experiment_analysis.py:795 -- No `self.trials`. Drawing logdirs from checkpoint file. This may result in some information that is out of sync, as checkpointing is periodic.\n",
    "\n",
    "2022-12-04 05:50:39,684\tINFO trial_runner.py:601 -- A local experiment checkpoint was found and will be used to restore the previous experiment state.\n",
    "2022-12-04 05:50:39,687\tINFO trial_runner.py:738 -- Using following checkpoint to resume: /content/drive/MyDrive/Colab Notebooks/l5kit/ray_results/PPO/experiment_state-2022-12-04_05-28-55.json\n",
    "\n",
    "2022-12-04 05:50:39,710\tWARNING trial_runner.py:743 -- Attempting to resume experiment from /content/drive/MyDrive/Colab Notebooks/l5kit/ray_results/PPO. This will ignore any new changes to the specification.\n",
    "\n",
    "2022-12-04 05:50:40,703\tINFO tune.py:668 -- TrialRunner resumed, ignoring new add_experiment but updating trial resources."
   ]
  },
  {
   "cell_type": "markdown",
   "id": "e0694c85",
   "metadata": {
    "id": "575327a2"
   },
   "source": [
    "**Voila!** We have a trained PPO policy! Train for larger number of steps for better accuracy. Typical RL algorithms require training atleast 1M steps for good convergence. You can visualize the quantitiative evaluation using tensorboard."
   ]
  },
  {
   "cell_type": "markdown",
   "id": "e7e69446-bb15-45f5-8bb8-5d6b0918ddd9",
   "metadata": {
    "jp-MarkdownHeadingCollapsed": true,
    "tags": []
   },
   "source": [
    "### L5env2 & attention model"
   ]
  },
  {
   "cell_type": "code",
   "execution_count": null,
   "id": "9346e4f4-d96a-403d-89ff-f7e6cddc5ec0",
   "metadata": {
    "tags": []
   },
   "outputs": [],
   "source": [
    "import ray\n",
    "from ray import air, tune\n",
    "\n",
    "train_envs = 4\n",
    "hcmTz = pytz.timezone(\"Asia/Ho_Chi_Minh\") \n",
    "date = datetime.datetime.now(hcmTz).strftime(\"%d-%m-%Y_%H-%M-%S\")\n",
    "ray_result_logdir = '/workspace/datasets/ray_results/' +'debug_attention'+ date\n",
    "\n",
    "lr = 3e-3\n",
    "lr_start = 3e-4\n",
    "lr_end = 3e-5\n",
    "lr_time = int(4e6)\n",
    "\n",
    "config_param_space = {\n",
    "    'disable_env_checking':True,\n",
    "    \"env\": \"L5-CLE-V2\",\n",
    "    \"framework\": \"torch\",\n",
    "    \"num_gpus\": 2,\n",
    "    \"num_workers\": 10,\n",
    "    \"num_envs_per_worker\": train_envs,\n",
    "    'num_sgd_iter': 10,\n",
    "    # 'sgd_minibatch_size': 512,\n",
    "    # 'num_cpus_per_worker': 0,  # This avoids running out of resources in the notebook environment when this cell is re-executed\n",
    "    \"model\": {\n",
    "        \"custom_model\": \"TorchSharedAttentionModel\",\n",
    "        \"custom_model_config\": {'cfg':cfg},\n",
    "    },\n",
    "    \n",
    "    '_disable_preprocessor_api': True,\n",
    "     \"eager_tracing\": True,\n",
    "     \"restart_failed_sub_environments\": True,\n",
    "    \"lr\": lr,\n",
    "    'seed': 42,\n",
    "    \"lr_schedule\": [\n",
    "        [1e6, lr_start],\n",
    "        [2e6, lr_end],\n",
    "    ],\n",
    "    'seed': 42,\n",
    "    'train_batch_size': 1000,\n",
    "    'sgd_minibatch_size': 256,\n",
    "    # 'num_sgd_iter': 16,\n",
    "    # 'seed': 42,\n",
    "    # 'batch_mode': 'truncate_episodes',\n",
    "    # \"rollout_fragment_length\": 15,\n",
    "    'gamma': 0.8,    \n",
    "}\n",
    "\n",
    "result_grid = tune.Tuner(\n",
    "    \"PPO\",\n",
    "    run_config=air.RunConfig(\n",
    "        stop={\"episode_reward_mean\": 0, 'timesteps_total': int(6e6)},\n",
    "        local_dir=ray_result_logdir,\n",
    "        checkpoint_config=air.CheckpointConfig(num_to_keep=4, checkpoint_frequency = 10, checkpoint_score_attribute = 'episode_reward_mean'),\n",
    "        callbacks=[WandbLoggerCallback(project=\"l5kit2\", save_checkpoints=True),],\n",
    "        ),\n",
    "    param_space=config_param_space).fit()"
   ]
  },
  {
   "cell_type": "code",
   "execution_count": null,
   "id": "17b62642-3300-492d-a6af-60468cfeb83c",
   "metadata": {
    "tags": []
   },
   "outputs": [],
   "source": [
    "tuner = tune.Tuner.restore(\n",
    "    path=\"/workspace/datasets/ray_results/debug_attention18-03-2023_15-41-38/PPO\",\n",
    ")\n",
    "tuner.fit()"
   ]
  },
  {
   "cell_type": "markdown",
   "id": "710de3f0",
   "metadata": {
    "id": "d24f956c",
    "tags": []
   },
   "source": [
    "## Visualize the episode from the environment\n",
    "\n",
    "We can easily visualize the outputs obtained by rolling out episodes in the L5Kit using the Bokeh visualizer."
   ]
  },
  {
   "cell_type": "markdown",
   "id": "6c3d1d32-2f73-4fcc-b67a-d246e0c875e7",
   "metadata": {
    "tags": []
   },
   "source": [
    "### L5env1: using CNN model"
   ]
  },
  {
   "cell_type": "code",
   "execution_count": null,
   "id": "80cf2cf1-7ae1-4432-9c64-327a3cc6a7eb",
   "metadata": {
    "tags": []
   },
   "outputs": [],
   "source": [
    "# import wandb\n",
    "# run = wandb.init()\n",
    "# os.environ['WANDB_NOTEBOOK_NAME'] = 'rllib_ppo_policy_training.ipynb'\n",
    "# artifact = run.use_artifact('pronton2001/l5kit2/checkpoint_PPO_L5-CLE-V1_802de_00000:v43', type='model')\n",
    "# artifact_dir = artifact.download(root = '/workspace/datasets/ray_results/checkpoint_PPO_L5-CLE-V1_802de_00000-v43')"
   ]
  },
  {
   "cell_type": "code",
   "execution_count": 23,
   "id": "317496be-42cd-4860-af9e-b108b84f9427",
   "metadata": {
    "tags": []
   },
   "outputs": [],
   "source": [
    "train_envs = 4\n",
    "lr = 3e-3\n",
    "lr_start = 3e-4\n",
    "lr_end = 3e-5\n",
    "lr_time = int(4e6)\n",
    "\n",
    "config_param_space = {\n",
    "    \"env\": \"L5-CLE-V1\",\n",
    "    \"framework\": \"torch\",\n",
    "    \"num_gpus\": 1,#1\n",
    "    # \"num_workers\": 63,\n",
    "    \"num_envs_per_worker\": train_envs,\n",
    "    # \"model\": {\n",
    "    #     \"custom_model\": \"GN_CNN_torch_model\",\n",
    "    #     \"custom_model_config\": {'feature_dim':128},\n",
    "    # },\n",
    "    \n",
    "    '_disable_preprocessor_api': True,\n",
    "     \"eager_tracing\": True,\n",
    "     \"restart_failed_sub_environments\": True,\n",
    "    \"lr\": lr,\n",
    "    'seed': 42,\n",
    "    \"lr_schedule\": [\n",
    "        [1e6, lr_start],\n",
    "        [2e6, lr_end],\n",
    "    ],\n",
    "    'train_batch_size': 8000,\n",
    "    'sgd_minibatch_size': 1024,\n",
    "    # 'num_sgd_iter': 16,\n",
    "    'seed': 42,\n",
    "    'batch_mode': 'truncate_episodes',\n",
    "    \"rollout_fragment_length\": 32,\n",
    "    'gamma': 0.8,    \n",
    "}\n"
   ]
  },
  {
   "cell_type": "code",
   "execution_count": 24,
   "id": "b8909fd0-bfec-4e53-b53d-e2507ff3ac9c",
   "metadata": {
    "tags": []
   },
   "outputs": [],
   "source": [
    "from ray import tune\n",
    "rollout_sim_cfg = SimulationConfigGym()\n",
    "rollout_sim_cfg.num_simulation_steps = None\n",
    "\n",
    "env_kwargs = {'env_config_path': env_config_path, \n",
    "              'use_kinematic': True, \n",
    "              'sim_cfg': rollout_sim_cfg,  \n",
    "              'train': False, \n",
    "              'return_info': True}\n",
    "\n",
    "rollout_env = L5EnvWrapper(env = L5Env(**env_kwargs), \\\n",
    "                           raster_size= cfg['raster_params']['raster_size'][0], \\\n",
    "                           n_channels = 7,)\n",
    "tune.register_env(\"L5-CLE-EVAL-V1\", \n",
    "                  lambda config: L5EnvWrapperTorch(env = L5Env(**env_kwargs), \\\n",
    "                                              raster_size= cfg['raster_params']['raster_size'][0], \\\n",
    "                                              n_channels = 7))"
   ]
  },
  {
   "cell_type": "code",
   "execution_count": 25,
   "id": "e7de96cf-b307-4ab1-b72f-f40aec2c0efa",
   "metadata": {
    "tags": []
   },
   "outputs": [
    {
     "name": "stderr",
     "output_type": "stream",
     "text": [
      "2023-03-30 15:56:00,523\tWARNING deprecation.py:47 -- DeprecationWarning: `algo = Algorithm(env='L5-CLE-EVAL-V1', ...)` has been deprecated. Use `algo = AlgorithmConfig().environment('L5-CLE-EVAL-V1').build()` instead. This will raise an error in the future!\n",
      "2023-03-30 15:56:28,988\tINFO trainable.py:172 -- Trainable.setup took 28.461 seconds. If your trainable is slow to initialize, consider setting reuse_actors=True to reduce actor creation overheads.\n",
      "2023-03-30 15:56:28,990\tWARNING util.py:66 -- Install gputil for GPU system monitoring.\n",
      "2023-03-30 15:56:29,000\tWARNING algorithm_config.py:488 -- Cannot create PPOConfig from given `config_dict`! Property __stdout_file__ not supported.\n"
     ]
    },
    {
     "ename": "AssertionError",
     "evalue": "",
     "output_type": "error",
     "traceback": [
      "\u001b[0;31m---------------------------------------------------------------------------\u001b[0m",
      "\u001b[0;31mAssertionError\u001b[0m                            Traceback (most recent call last)",
      "\u001b[0;32m/tmp/ipykernel_2939500/2616143369.py\u001b[0m in \u001b[0;36m<module>\u001b[0;34m\u001b[0m\n\u001b[1;32m      4\u001b[0m \u001b[0mcheckpoint_path\u001b[0m \u001b[0;34m=\u001b[0m \u001b[0;34m'/workspace/datasets/ray_results/29-03-2023_13-22-52/PPO/PPO_L5-CLE-V1_2269e_00000_0_2023-03-29_06-22-52/checkpoint_000100'\u001b[0m\u001b[0;34m\u001b[0m\u001b[0;34m\u001b[0m\u001b[0m\n\u001b[1;32m      5\u001b[0m \u001b[0malgo\u001b[0m \u001b[0;34m=\u001b[0m \u001b[0mPPO\u001b[0m\u001b[0;34m(\u001b[0m\u001b[0mconfig\u001b[0m\u001b[0;34m=\u001b[0m\u001b[0mconfig_param_space\u001b[0m\u001b[0;34m,\u001b[0m \u001b[0menv\u001b[0m\u001b[0;34m=\u001b[0m\u001b[0;34m'L5-CLE-EVAL-V1'\u001b[0m\u001b[0;34m)\u001b[0m\u001b[0;34m\u001b[0m\u001b[0;34m\u001b[0m\u001b[0m\n\u001b[0;32m----> 6\u001b[0;31m \u001b[0malgo\u001b[0m\u001b[0;34m.\u001b[0m\u001b[0mrestore\u001b[0m\u001b[0;34m(\u001b[0m\u001b[0mcheckpoint_path\u001b[0m\u001b[0;34m)\u001b[0m\u001b[0;34m\u001b[0m\u001b[0;34m\u001b[0m\u001b[0m\n\u001b[0m",
      "\u001b[0;32m~/.local/share/virtualenvs/l5kit-ZbMednhg/lib/python3.8/site-packages/ray/tune/trainable/trainable.py\u001b[0m in \u001b[0;36mrestore\u001b[0;34m(self, checkpoint_path, checkpoint_node_ip, fallback_to_latest)\u001b[0m\n\u001b[1;32m    781\u001b[0m \u001b[0;34m\u001b[0m\u001b[0m\n\u001b[1;32m    782\u001b[0m         \u001b[0;31m# Actually load checkpoint\u001b[0m\u001b[0;34m\u001b[0m\u001b[0;34m\u001b[0m\u001b[0;34m\u001b[0m\u001b[0m\n\u001b[0;32m--> 783\u001b[0;31m         \u001b[0mself\u001b[0m\u001b[0;34m.\u001b[0m\u001b[0mload_checkpoint\u001b[0m\u001b[0;34m(\u001b[0m\u001b[0mto_load\u001b[0m\u001b[0;34m)\u001b[0m\u001b[0;34m\u001b[0m\u001b[0;34m\u001b[0m\u001b[0m\n\u001b[0m\u001b[1;32m    784\u001b[0m \u001b[0;34m\u001b[0m\u001b[0m\n\u001b[1;32m    785\u001b[0m         \u001b[0mself\u001b[0m\u001b[0;34m.\u001b[0m\u001b[0m_time_since_restore\u001b[0m \u001b[0;34m=\u001b[0m \u001b[0;36m0.0\u001b[0m\u001b[0;34m\u001b[0m\u001b[0;34m\u001b[0m\u001b[0m\n",
      "\u001b[0;32m~/.local/share/virtualenvs/l5kit-ZbMednhg/lib/python3.8/site-packages/ray/rllib/algorithms/algorithm.py\u001b[0m in \u001b[0;36mload_checkpoint\u001b[0;34m(self, checkpoint)\u001b[0m\n\u001b[1;32m   2008\u001b[0m         \u001b[0;32melse\u001b[0m\u001b[0;34m:\u001b[0m\u001b[0;34m\u001b[0m\u001b[0;34m\u001b[0m\u001b[0m\n\u001b[1;32m   2009\u001b[0m             \u001b[0mcheckpoint_data\u001b[0m \u001b[0;34m=\u001b[0m \u001b[0mcheckpoint\u001b[0m\u001b[0;34m\u001b[0m\u001b[0;34m\u001b[0m\u001b[0m\n\u001b[0;32m-> 2010\u001b[0;31m         \u001b[0mself\u001b[0m\u001b[0;34m.\u001b[0m\u001b[0m__setstate__\u001b[0m\u001b[0;34m(\u001b[0m\u001b[0mcheckpoint_data\u001b[0m\u001b[0;34m)\u001b[0m\u001b[0;34m\u001b[0m\u001b[0;34m\u001b[0m\u001b[0m\n\u001b[0m\u001b[1;32m   2011\u001b[0m \u001b[0;34m\u001b[0m\u001b[0m\n\u001b[1;32m   2012\u001b[0m     \u001b[0;34m@\u001b[0m\u001b[0moverride\u001b[0m\u001b[0;34m(\u001b[0m\u001b[0mTrainable\u001b[0m\u001b[0;34m)\u001b[0m\u001b[0;34m\u001b[0m\u001b[0;34m\u001b[0m\u001b[0m\n",
      "\u001b[0;32m~/.local/share/virtualenvs/l5kit-ZbMednhg/lib/python3.8/site-packages/ray/rllib/algorithms/algorithm.py\u001b[0m in \u001b[0;36m__setstate__\u001b[0;34m(self, state)\u001b[0m\n\u001b[1;32m   2410\u001b[0m \u001b[0;34m\u001b[0m\u001b[0m\n\u001b[1;32m   2411\u001b[0m         \u001b[0;32mif\u001b[0m \u001b[0mhasattr\u001b[0m\u001b[0;34m(\u001b[0m\u001b[0mself\u001b[0m\u001b[0;34m,\u001b[0m \u001b[0;34m\"workers\"\u001b[0m\u001b[0;34m)\u001b[0m \u001b[0;32mand\u001b[0m \u001b[0;34m\"worker\"\u001b[0m \u001b[0;32min\u001b[0m \u001b[0mstate\u001b[0m\u001b[0;34m:\u001b[0m\u001b[0;34m\u001b[0m\u001b[0;34m\u001b[0m\u001b[0m\n\u001b[0;32m-> 2412\u001b[0;31m             \u001b[0mself\u001b[0m\u001b[0;34m.\u001b[0m\u001b[0mworkers\u001b[0m\u001b[0;34m.\u001b[0m\u001b[0mlocal_worker\u001b[0m\u001b[0;34m(\u001b[0m\u001b[0;34m)\u001b[0m\u001b[0;34m.\u001b[0m\u001b[0mset_state\u001b[0m\u001b[0;34m(\u001b[0m\u001b[0mstate\u001b[0m\u001b[0;34m[\u001b[0m\u001b[0;34m\"worker\"\u001b[0m\u001b[0;34m]\u001b[0m\u001b[0;34m)\u001b[0m\u001b[0;34m\u001b[0m\u001b[0;34m\u001b[0m\u001b[0m\n\u001b[0m\u001b[1;32m   2413\u001b[0m             \u001b[0mremote_state\u001b[0m \u001b[0;34m=\u001b[0m \u001b[0mray\u001b[0m\u001b[0;34m.\u001b[0m\u001b[0mput\u001b[0m\u001b[0;34m(\u001b[0m\u001b[0mstate\u001b[0m\u001b[0;34m[\u001b[0m\u001b[0;34m\"worker\"\u001b[0m\u001b[0;34m]\u001b[0m\u001b[0;34m)\u001b[0m\u001b[0;34m\u001b[0m\u001b[0;34m\u001b[0m\u001b[0m\n\u001b[1;32m   2414\u001b[0m             self.workers.foreach_worker(\n",
      "\u001b[0;32m~/.local/share/virtualenvs/l5kit-ZbMednhg/lib/python3.8/site-packages/ray/rllib/evaluation/rollout_worker.py\u001b[0m in \u001b[0;36mset_state\u001b[0;34m(self, state)\u001b[0m\n\u001b[1;32m   1677\u001b[0m                     )\n\u001b[1;32m   1678\u001b[0m             \u001b[0;32mif\u001b[0m \u001b[0mpid\u001b[0m \u001b[0;32min\u001b[0m \u001b[0mself\u001b[0m\u001b[0;34m.\u001b[0m\u001b[0mpolicy_map\u001b[0m\u001b[0;34m:\u001b[0m\u001b[0;34m\u001b[0m\u001b[0;34m\u001b[0m\u001b[0m\n\u001b[0;32m-> 1679\u001b[0;31m                 \u001b[0mself\u001b[0m\u001b[0;34m.\u001b[0m\u001b[0mpolicy_map\u001b[0m\u001b[0;34m[\u001b[0m\u001b[0mpid\u001b[0m\u001b[0;34m]\u001b[0m\u001b[0;34m.\u001b[0m\u001b[0mset_state\u001b[0m\u001b[0;34m(\u001b[0m\u001b[0mpolicy_state\u001b[0m\u001b[0;34m)\u001b[0m\u001b[0;34m\u001b[0m\u001b[0;34m\u001b[0m\u001b[0m\n\u001b[0m\u001b[1;32m   1680\u001b[0m \u001b[0;34m\u001b[0m\u001b[0m\n\u001b[1;32m   1681\u001b[0m         \u001b[0;31m# Also restore mapping fn and which policies to train.\u001b[0m\u001b[0;34m\u001b[0m\u001b[0;34m\u001b[0m\u001b[0;34m\u001b[0m\u001b[0m\n",
      "\u001b[0;32m~/.local/share/virtualenvs/l5kit-ZbMednhg/lib/python3.8/site-packages/ray/rllib/policy/torch_mixins.py\u001b[0m in \u001b[0;36mset_state\u001b[0;34m(self, state)\u001b[0m\n\u001b[1;32m    106\u001b[0m         \u001b[0mself\u001b[0m\u001b[0;34m.\u001b[0m\u001b[0mkl_coeff\u001b[0m \u001b[0;34m=\u001b[0m \u001b[0mstate\u001b[0m\u001b[0;34m.\u001b[0m\u001b[0mpop\u001b[0m\u001b[0;34m(\u001b[0m\u001b[0;34m\"current_kl_coeff\"\u001b[0m\u001b[0;34m,\u001b[0m \u001b[0mself\u001b[0m\u001b[0;34m.\u001b[0m\u001b[0mconfig\u001b[0m\u001b[0;34m[\u001b[0m\u001b[0;34m\"kl_coeff\"\u001b[0m\u001b[0;34m]\u001b[0m\u001b[0;34m)\u001b[0m\u001b[0;34m\u001b[0m\u001b[0;34m\u001b[0m\u001b[0m\n\u001b[1;32m    107\u001b[0m         \u001b[0;31m# Call super's set_state with rest of the state dict.\u001b[0m\u001b[0;34m\u001b[0m\u001b[0;34m\u001b[0m\u001b[0;34m\u001b[0m\u001b[0m\n\u001b[0;32m--> 108\u001b[0;31m         \u001b[0msuper\u001b[0m\u001b[0;34m(\u001b[0m\u001b[0;34m)\u001b[0m\u001b[0;34m.\u001b[0m\u001b[0mset_state\u001b[0m\u001b[0;34m(\u001b[0m\u001b[0mstate\u001b[0m\u001b[0;34m)\u001b[0m\u001b[0;34m\u001b[0m\u001b[0;34m\u001b[0m\u001b[0m\n\u001b[0m\u001b[1;32m    109\u001b[0m \u001b[0;34m\u001b[0m\u001b[0m\n\u001b[1;32m    110\u001b[0m \u001b[0;34m\u001b[0m\u001b[0m\n",
      "\u001b[0;32m~/.local/share/virtualenvs/l5kit-ZbMednhg/lib/python3.8/site-packages/ray/rllib/policy/torch_policy_v2.py\u001b[0m in \u001b[0;36mset_state\u001b[0;34m(self, state)\u001b[0m\n\u001b[1;32m    922\u001b[0m         \u001b[0moptimizer_vars\u001b[0m \u001b[0;34m=\u001b[0m \u001b[0mstate\u001b[0m\u001b[0;34m.\u001b[0m\u001b[0mget\u001b[0m\u001b[0;34m(\u001b[0m\u001b[0;34m\"_optimizer_variables\"\u001b[0m\u001b[0;34m,\u001b[0m \u001b[0;32mNone\u001b[0m\u001b[0;34m)\u001b[0m\u001b[0;34m\u001b[0m\u001b[0;34m\u001b[0m\u001b[0m\n\u001b[1;32m    923\u001b[0m         \u001b[0;32mif\u001b[0m \u001b[0moptimizer_vars\u001b[0m\u001b[0;34m:\u001b[0m\u001b[0;34m\u001b[0m\u001b[0;34m\u001b[0m\u001b[0m\n\u001b[0;32m--> 924\u001b[0;31m             \u001b[0;32massert\u001b[0m \u001b[0mlen\u001b[0m\u001b[0;34m(\u001b[0m\u001b[0moptimizer_vars\u001b[0m\u001b[0;34m)\u001b[0m \u001b[0;34m==\u001b[0m \u001b[0mlen\u001b[0m\u001b[0;34m(\u001b[0m\u001b[0mself\u001b[0m\u001b[0;34m.\u001b[0m\u001b[0m_optimizers\u001b[0m\u001b[0;34m)\u001b[0m\u001b[0;34m\u001b[0m\u001b[0;34m\u001b[0m\u001b[0m\n\u001b[0m\u001b[1;32m    925\u001b[0m             \u001b[0;32mfor\u001b[0m \u001b[0mo\u001b[0m\u001b[0;34m,\u001b[0m \u001b[0ms\u001b[0m \u001b[0;32min\u001b[0m \u001b[0mzip\u001b[0m\u001b[0;34m(\u001b[0m\u001b[0mself\u001b[0m\u001b[0;34m.\u001b[0m\u001b[0m_optimizers\u001b[0m\u001b[0;34m,\u001b[0m \u001b[0moptimizer_vars\u001b[0m\u001b[0;34m)\u001b[0m\u001b[0;34m:\u001b[0m\u001b[0;34m\u001b[0m\u001b[0;34m\u001b[0m\u001b[0m\n\u001b[1;32m    926\u001b[0m                 \u001b[0moptim_state_dict\u001b[0m \u001b[0;34m=\u001b[0m \u001b[0mconvert_to_torch_tensor\u001b[0m\u001b[0;34m(\u001b[0m\u001b[0ms\u001b[0m\u001b[0;34m,\u001b[0m \u001b[0mdevice\u001b[0m\u001b[0;34m=\u001b[0m\u001b[0mself\u001b[0m\u001b[0;34m.\u001b[0m\u001b[0mdevice\u001b[0m\u001b[0;34m)\u001b[0m\u001b[0;34m\u001b[0m\u001b[0;34m\u001b[0m\u001b[0m\n",
      "\u001b[0;31mAssertionError\u001b[0m: "
     ]
    }
   ],
   "source": [
    "from ray.rllib.algorithms.ppo import PPO\n",
    "# checkpoint_path = '/workspace/datasets/ray_results/31-12-2022_23-45-14/PPO/PPO_L5-CLE-V1_802de_00000_0_2022-12-31_16-45-15/checkpoint_000400'\n",
    "# checkpoint_path = '/workspace/datasets/ray_results/checkpoint_PPO_L5-CLE-V1_802de_00000-v43' # best ppo (-30)\n",
    "checkpoint_path = '/workspace/datasets/ray_results/29-03-2023_13-22-52/PPO/PPO_L5-CLE-V1_2269e_00000_0_2023-03-29_06-22-52/checkpoint_000100'\n",
    "algo = PPO(config=config_param_space, env='L5-CLE-EVAL-V1')\n",
    "algo.restore(checkpoint_path)"
   ]
  },
  {
   "cell_type": "markdown",
   "id": "118ea4a6-3b13-4c9a-9cc4-101cd18adab5",
   "metadata": {
    "jp-MarkdownHeadingCollapsed": true,
    "tags": []
   },
   "source": [
    "### L5env2: using transformer model"
   ]
  },
  {
   "cell_type": "code",
   "execution_count": null,
   "id": "e04df5d5-7e0b-4303-8e2f-ec9fd415cde3",
   "metadata": {
    "tags": []
   },
   "outputs": [],
   "source": [
    "lr = 3e-3\n",
    "lr_start = 3e-4\n",
    "lr_end = 3e-5\n",
    "lr_time = int(4e6)\n",
    "\n",
    "config_param_space = {\n",
    "    'disable_env_checking':True,\n",
    "    \"env\": \"L5-CLE-V2\",\n",
    "    \"framework\": \"torch\",\n",
    "    \"num_gpus\": 0,\n",
    "    \"num_workers\": 10,\n",
    "    \"num_envs_per_worker\": train_envs,\n",
    "    'num_sgd_iter': 10,\n",
    "    # 'sgd_minibatch_size': 512,\n",
    "    # 'num_cpus_per_worker': 0,  # This avoids running out of resources in the notebook environment when this cell is re-executed\n",
    "    \"model\": {\n",
    "        \"custom_model\": \"TorchSharedAttentionModel\",\n",
    "        \"custom_model_config\": {'cfg':cfg},\n",
    "    },\n",
    "    \n",
    "    '_disable_preprocessor_api': True,\n",
    "     \"eager_tracing\": True,\n",
    "     \"restart_failed_sub_environments\": True,\n",
    "    \"lr\": lr,\n",
    "    'seed': 42,\n",
    "    \"lr_schedule\": [\n",
    "        [1e6, lr_start],\n",
    "        [2e6, lr_end],\n",
    "    ],\n",
    "    'seed': 42,\n",
    "    'train_batch_size': 1000,\n",
    "    'sgd_minibatch_size': 256,\n",
    "    # 'num_sgd_iter': 16,\n",
    "    # 'seed': 42,\n",
    "    # 'batch_mode': 'truncate_episodes',\n",
    "    # \"rollout_fragment_length\": 15,\n",
    "    'gamma': 0.8,    \n",
    "}"
   ]
  },
  {
   "cell_type": "code",
   "execution_count": null,
   "id": "e4c720c2-7b7c-4b02-aa12-325c09c2b014",
   "metadata": {
    "tags": []
   },
   "outputs": [],
   "source": [
    "from ray import tune\n",
    "rollout_sim_cfg = SimulationConfigGym()\n",
    "rollout_sim_cfg.num_simulation_steps = None\n",
    "eval_env_kwargs = {'env_config_path': env_config_path, 'use_kinematic': False, 'sim_cfg': train_sim_cfg, 'train': False, 'return_info': True}\n",
    "rollout_env = L5Env2(**eval_env_kwargs)\n",
    "tune.register_env(\"L5-CLE-EVAL-V2\", lambda config: L5Env2(**eval_env_kwargs))"
   ]
  },
  {
   "cell_type": "code",
   "execution_count": null,
   "id": "1544063b-8111-4994-a853-b0fd147ee11e",
   "metadata": {
    "tags": []
   },
   "outputs": [],
   "source": [
    "from ray.rllib.algorithms.ppo import PPO\n",
    "checkpoint_path = '/workspace/datasets/ray_results/debug_attention18-03-2023_15-41-38/PPO/PPO_L5-CLE-V2_b29fe_00000_0_2023-03-18_08-41-38/checkpoint_000340'\n",
    "algo = PPO(config=config_param_space, env='L5-CLE-EVAL-V2')\n",
    "algo.restore(checkpoint_path)"
   ]
  },
  {
   "cell_type": "markdown",
   "id": "6a1d26c1-feeb-4472-96bd-b80c31d14598",
   "metadata": {
    "tags": []
   },
   "source": [
    "### Simout"
   ]
  },
  {
   "cell_type": "code",
   "execution_count": 20,
   "id": "4702418d-88bb-48ef-8052-9ffd53d4d812",
   "metadata": {
    "tags": []
   },
   "outputs": [
    {
     "ename": "NameError",
     "evalue": "name 'model' is not defined",
     "output_type": "error",
     "traceback": [
      "\u001b[0;31m---------------------------------------------------------------------------\u001b[0m",
      "\u001b[0;31mNameError\u001b[0m                                 Traceback (most recent call last)",
      "\u001b[0;32m/tmp/ipykernel_2939500/3690620157.py\u001b[0m in \u001b[0;36m<module>\u001b[0;34m\u001b[0m\n\u001b[1;32m     30\u001b[0m \u001b[0msim_outs\u001b[0m \u001b[0;34m=\u001b[0m\u001b[0;34m[\u001b[0m\u001b[0;34m]\u001b[0m\u001b[0;34m\u001b[0m\u001b[0;34m\u001b[0m\u001b[0m\n\u001b[1;32m     31\u001b[0m \u001b[0;32mfor\u001b[0m \u001b[0mi\u001b[0m \u001b[0;32min\u001b[0m \u001b[0mrange\u001b[0m\u001b[0;34m(\u001b[0m\u001b[0;36m100\u001b[0m\u001b[0;34m)\u001b[0m\u001b[0;34m:\u001b[0m\u001b[0;34m\u001b[0m\u001b[0;34m\u001b[0m\u001b[0m\n\u001b[0;32m---> 32\u001b[0;31m     \u001b[0msim_outs\u001b[0m\u001b[0;34m.\u001b[0m\u001b[0mappend\u001b[0m\u001b[0;34m(\u001b[0m\u001b[0mrollout_episode\u001b[0m\u001b[0;34m(\u001b[0m\u001b[0mmodel\u001b[0m\u001b[0;34m,\u001b[0m \u001b[0mrollout_env\u001b[0m\u001b[0;34m,\u001b[0m \u001b[0mi\u001b[0m\u001b[0;34m)\u001b[0m\u001b[0;34m)\u001b[0m\u001b[0;34m\u001b[0m\u001b[0;34m\u001b[0m\u001b[0m\n\u001b[0m",
      "\u001b[0;31mNameError\u001b[0m: name 'model' is not defined"
     ]
    }
   ],
   "source": [
    "def rollout_episode(model, env, idx = 0):\n",
    "    \"\"\"Rollout a particular scene index and return the simulation output.\n",
    "\n",
    "    :param model: the RL policy\n",
    "    :param env: the gym environment\n",
    "    :param idx: the scene index to be rolled out\n",
    "    :return: the episode output of the rolled out scene\n",
    "    \"\"\"\n",
    "\n",
    "    # Set the reset_scene_id to 'idx'\n",
    "    env.set_reset_id(idx)\n",
    "    \n",
    "    # Rollout step-by-step\n",
    "    obs = env.reset()\n",
    "    done = False\n",
    "    total_reward = 0\n",
    "    while True:\n",
    "        action = model.compute_single_action(obs, deterministic=True)\n",
    "        obs, reward, done, info = env.step(action)\n",
    "        if done:\n",
    "            break\n",
    "\n",
    "    # The episode outputs are present in the key \"sim_outs\"\n",
    "    sim_out = info[\"sim_outs\"][0]\n",
    "    return sim_out\n",
    "\n",
    "# Rollout one episode\n",
    "# sim_out = rollout_episode(model, rollout_env)\n",
    "# Rollout 5 episodes\n",
    "sim_outs =[]\n",
    "for i in range(100):\n",
    "    sim_outs.append(rollout_episode(model, rollout_env, i))"
   ]
  },
  {
   "cell_type": "code",
   "execution_count": null,
   "id": "4ad440e5",
   "metadata": {
    "id": "7e383cff",
    "tags": []
   },
   "outputs": [],
   "source": [
    "# might change with different rasterizer\n",
    "# map_API = rollout_env.dataset.rasterizer.sem_rast.mapAPI\n",
    "from l5kit.data import LocalDataManager\n",
    "\n",
    "from l5kit.data.map_api import MapAPI\n",
    "dmg = LocalDataManager(None)\n",
    "cfg = load_config_data(env_config_path)\n",
    "mapAPI = MapAPI.from_cfg(dmg, cfg)\n",
    "\n",
    "def visualize_outputs(sim_outs, map_API):\n",
    "    for sim_out in sim_outs: # for each scene\n",
    "        vis_in = episode_out_to_visualizer_scene_gym_cle(sim_out, map_API)\n",
    "        show(visualize(sim_out.scene_id, vis_in))\n",
    "\n",
    "output_notebook()\n",
    "visualize_outputs(sim_outs[5:10], mapAPI)"
   ]
  },
  {
   "cell_type": "markdown",
   "id": "30b57b2e",
   "metadata": {
    "id": "DjpS1pIZJ0B-",
    "tags": []
   },
   "source": [
    "## Calculate the performance metrics from the episode outputs\n",
    "\n",
    "We can also calculate the various quantitative metrics on the rolled out episode output. "
   ]
  },
  {
   "cell_type": "code",
   "execution_count": 104,
   "id": "e2df1d3d-d389-4192-a865-4b2c161993a9",
   "metadata": {
    "tags": []
   },
   "outputs": [],
   "source": [
    "ades = []\n",
    "fdes = []\n",
    "table = None\n",
    "def quantify_outputs(sim_outs, metric_set=None):\n",
    "    global table\n",
    "    metric_set = metric_set if metric_set is not None else L2DisplacementYawMetricSet()\n",
    "\n",
    "    metric_set.evaluate(sim_outs)\n",
    "    scene_results = metric_set.evaluator.scene_metric_results\n",
    "    # fields = [\"scene_id\", \"FDE\", \"ADE\"]\n",
    "    # table = PrettyTable(field_names=fields)\n",
    "    tot_fde = 0.0\n",
    "    tot_ade = 0.0\n",
    "    # ades = []\n",
    "    # fdes = []\n",
    "    for scene_id in scene_results:\n",
    "        scene_metrics = scene_results[scene_id]\n",
    "        ade_error = scene_metrics[\"displacement_error_l2\"][1:].mean()\n",
    "        fde_error = scene_metrics['displacement_error_l2'][-1]\n",
    "        # table.add_row([scene_id, round(fde_error.item(), 4), round(ade_error.item(), 4)])\n",
    "        ades.append(ade_error.item())\n",
    "        fdes.append(fde_error.item())\n",
    "        # tot_fde += fde_error.item()\n",
    "        # tot_ade += ade_error.item()\n",
    "    # ave_fde = tot_fde / len(scene_results)\n",
    "    # ave_ade = tot_ade / len(scene_results)\n",
    "#     table.add_row([\"Overall\", round(ave_fde, 4) + , round(ave_ade, 4)])\n",
    "    \n",
    "    # print(table)\n",
    "\n",
    "\n",
    "\n",
    "quantify_outputs(sim_outs)\n",
    "# table"
   ]
  },
  {
   "cell_type": "code",
   "execution_count": 105,
   "id": "5cb0e33c-5835-40e4-80ff-69dbc8b4d957",
   "metadata": {
    "tags": []
   },
   "outputs": [
    {
     "name": "stdout",
     "output_type": "stream",
     "text": [
      "52.41 70.82 216.34\n",
      "171.07 244.83 664.09\n"
     ]
    }
   ],
   "source": [
    "import numpy as np\n",
    "print(round(np.mean(ades),2), round((np.std(ades)),2) ,round((np.max(ades) - np.min(ades))/2,2))\n",
    "print(round(np.mean(fdes),2), round((np.std(fdes)),2) ,round((np.max(fdes) - np.min(fdes))/2,2))"
   ]
  },
  {
   "cell_type": "code",
   "execution_count": 106,
   "id": "843bea6c-c844-4511-a4ae-1dda5dc467f2",
   "metadata": {
    "tags": []
   },
   "outputs": [
    {
     "name": "stdout",
     "output_type": "stream",
     "text": [
      "Top worst scence based on ade:[58, 55, 24, 70, 72, 3, 31, 0, 75, 11]\n",
      "Top best scence based on ade:[67, 19, 54, 68, 50, 73, 92, 40, 69]\n",
      "Top worst scence based on fde:[24, 58, 70, 55, 0, 11, 72, 99, 75, 14]\n",
      "Top best scence based on fde:[68, 18, 40, 54, 67, 36, 69, 57, 52]\n"
     ]
    }
   ],
   "source": [
    "\n",
    "sorted_ades_idx = sorted(range(len(ades)), key=lambda i: ades[i], reverse=True)\n",
    "sorted_fdes_idx = sorted(range(len(fdes)), key=lambda i: fdes[i], reverse=True)\n",
    "# sorted(range(len(ades)), key=lambda i: ades[i])[-10:]\n",
    "print(f'Top worst scence based on ade:{sorted_ades_idx[:10]}')\n",
    "print(f'Top best scence based on ade:{sorted_ades_idx[:-10:-1]}')\n",
    "print(f'Top worst scence based on fde:{sorted_fdes_idx[:10]}')\n",
    "print(f'Top best scence based on fde:{sorted_fdes_idx[:-10:-1]}')"
   ]
  },
  {
   "cell_type": "markdown",
   "id": "b9afe238-2ac9-44e3-8320-ca79650c971d",
   "metadata": {
    "tags": []
   },
   "source": [
    "### Best ade"
   ]
  },
  {
   "cell_type": "code",
   "execution_count": null,
   "id": "0b590906-7704-491e-a045-8b4f8aab0765",
   "metadata": {
    "tags": []
   },
   "outputs": [],
   "source": [
    "# might change with different rasterizer\n",
    "map_API = rollout_env.dataset.rasterizer.sem_rast.mapAPI\n",
    "sim_outs_selected = [sim_outs[i] for i in sorted_ades_idx[-10:-1]]\n",
    "visualize_outputs(sim_outs_selected, map_API)"
   ]
  },
  {
   "cell_type": "markdown",
   "id": "45574a16-3491-49ec-8da7-e101f4c000dd",
   "metadata": {
    "tags": []
   },
   "source": [
    "### Worst ADE"
   ]
  },
  {
   "cell_type": "code",
   "execution_count": null,
   "id": "d478226c-c612-41bd-9462-c38d03e9fa31",
   "metadata": {
    "tags": []
   },
   "outputs": [],
   "source": [
    "# might change with different rasterizer\n",
    "mapAPI = MapAPI.from_cfg(dm, cfg)\n",
    "map_API = rollout_env.dataset.rasterizer.sem_rast.mapAPI\n",
    "sim_outs_selected = [sim_outs[i] for i in sorted_ades_idx[:10]]\n",
    "visualize_outputs(sim_outs_selected, map_API)"
   ]
  },
  {
   "cell_type": "code",
   "execution_count": null,
   "id": "c8c0b59d",
   "metadata": {
    "colab": {
     "base_uri": "https://localhost:8080/"
    },
    "id": "ovwnSl6RJx7t",
    "outputId": "972861d0-0929-43ea-ece0-c12cb9698ebd",
    "tags": []
   },
   "outputs": [],
   "source": [
    "from src.validate.validator import compute_ade_fde, quantify_outputs\n",
    "ades, fdes = compute_ade_fde(sim_outs)\n",
    "quantify_outputs(sim_outs)"
   ]
  },
  {
   "cell_type": "markdown",
   "id": "be0c7869-c4eb-443e-9d4e-71d03d73067b",
   "metadata": {},
   "source": [
    "## Use Validator"
   ]
  },
  {
   "cell_type": "code",
   "execution_count": 17,
   "id": "ca14ce1e-182e-4531-b8b4-efab56228d61",
   "metadata": {
    "tags": []
   },
   "outputs": [
    {
     "name": "stdout",
     "output_type": "stream",
     "text": [
      "+-------------------------+-------+\n",
      "|          metric         | value |\n",
      "+-------------------------+-------+\n",
      "|  displacement_error_l2  |   23  |\n",
      "| distance_ref_trajectory |   34  |\n",
      "|     collision_front     |   7   |\n",
      "|      collision_rear     |   23  |\n",
      "|      collision_side     |   8   |\n",
      "+-------------------------+-------+\n"
     ]
    },
    {
     "data": {
      "image/png": "[encoded data removed]",
      "text/plain": [
       "<Figure size 432x288 with 1 Axes>"
      ]
     },
     "metadata": {
      "needs_background": "light"
     },
     "output_type": "display_data"
    }
   ],
   "source": [
    "from src.validate.validator import CLEValidator\n",
    "import matplotlib.pyplot as plt\n",
    "import numpy as np\n",
    "\n",
    "agg = CLEValidator(sim_outs)\n",
    "fields = [\"metric\", \"value\"]\n",
    "table = PrettyTable(field_names=fields)\n",
    "\n",
    "values = []\n",
    "names = []\n",
    "\n",
    "for metric_name in agg:\n",
    "    table.add_row([metric_name, agg[metric_name].item()])\n",
    "    values.append(agg[metric_name].item())\n",
    "    names.append(metric_name)\n",
    "\n",
    "print(table)\n",
    "\n",
    "plt.bar(np.arange(len(names)), values)\n",
    "plt.xticks(np.arange(len(names)), names, rotation=60, ha='right')\n",
    "plt.show()"
   ]
  }
 ],
 "metadata": {
  "colab": {
   "collapsed_sections": [
    "Fag3VuhPnRZT",
    "xHfH5HGWoTD7",
    "eBwt9neMoj9h",
    "0CAZm9UDo1C0"
   ],
   "provenance": []
  },
  "gpuClass": "standard",
  "kernelspec": {
   "display_name": "Python 3 (ipykernel)",
   "language": "python",
   "name": "python3"
  },
  "language_info": {
   "codemirror_mode": {
    "name": "ipython",
    "version": 3
   },
   "file_extension": ".py",
   "mimetype": "text/x-python",
   "name": "python",
   "nbconvert_exporter": "python",
   "pygments_lexer": "ipython3",
   "version": "3.8.16"
  },
  "vscode": {
   "interpreter": {
    "hash": "6df7c2a3d813445d6b3c74a479f8d37af444dbb4628cead36b7b0d6872de20bd"
   }
  }
 },
 "nbformat": 4,
 "nbformat_minor": 5
}
