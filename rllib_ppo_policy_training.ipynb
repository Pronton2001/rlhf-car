{
 "cells": [
  {
   "cell_type": "markdown",
   "id": "d9afa518",
   "metadata": {
    "id": "f7f64953",
    "tags": []
   },
   "source": [
    "### Training RL Policies using L5Kit Closed-Loop Environment\n",
    "\n",
    "This notebook describes how to train RL policies for self-driving using our gym-compatible closed-loop environment.\n",
    "\n",
    "We will be using [Proximal Policy Optimization (PPO)](https://arxiv.org/abs/1707.06347) algorithm as our reinforcement learning algorithm, as it not only demonstrates remarkable performance but it is also empirically easy to tune.\n",
    "\n",
    "The PPO implementation in this notebook is based on [Stable Baselines3](https://github.com/DLR-RM/stable-baselines3) framework, a popular framework for training RL policies. Note that our environment is also compatible with [RLlib](https://docs.ray.io/en/latest/rllib.html), another popular frameworks for the same."
   ]
  },
  {
   "cell_type": "markdown",
   "id": "7e420adb",
   "metadata": {
    "id": "ulK_RDB4e_gx"
   },
   "source": [
    "ref: \n",
    "([rllib] Best workflow to train, save, and test agent #9123\n",
    ")[https://github.com/ray-project/ray/issues/9123]"
   ]
  },
  {
   "cell_type": "code",
   "execution_count": null,
   "id": "364e3af3",
   "metadata": {
    "colab": {
     "base_uri": "https://localhost:8080/"
    },
    "id": "smZ0MKsHE2_s",
    "outputId": "631f2d2d-38ee-45ba-f658-b7d11c59139b",
    "tags": []
   },
   "outputs": [],
   "source": [
    "import os\n",
    "os.environ[\"L5KIT_DATA_FOLDER\"] = '/workspace/datasets'\n",
    "# os.environ[\"TUNE_RESULT_DIR\"] =  '/DATA/l5kit/rllib_tb_logs'"
   ]
  },
  {
   "cell_type": "code",
   "execution_count": null,
   "id": "a378e9d2",
   "metadata": {
    "id": "585b1fe7",
    "tags": []
   },
   "outputs": [],
   "source": [
    "import gym\n",
    "\n",
    "# from stable_baselines3 import PPO\n",
    "# from stable_baselines3.common.callbacks import CheckpointCallback\n",
    "# from stable_baselines3.common.env_util import make_vec_env\n",
    "# from stable_baselines3.common.utils import get_linear_fn\n",
    "# from stable_baselines3.common.vec_env import SubprocVecEnv\n",
    "\n",
    "from l5kit.configs import load_config_data\n",
    "# from l5kit.environment.feature_extractor import CustomFeatureExtractor\n",
    "# from l5kit.environment.callbacks import L5KitEvalCallback\n",
    "from l5kit.environment.envs.l5_env import SimulationConfigGym, GymStepOutput, L5Env\n",
    "from l5kit.environment.envs.l5_env2 import GymStepOutput, SimulationConfigGym, L5Env2\n",
    "from l5kit.visualization.visualizer.zarr_utils import episode_out_to_visualizer_scene_gym_cle\n",
    "from l5kit.visualization.visualizer.visualizer import visualize\n",
    "from bokeh.io import output_notebook, show\n",
    "from l5kit.environment.gym_metric_set import L2DisplacementYawMetricSet, CLEMetricSet\n",
    "from prettytable import PrettyTable\n",
    "import datetime\n",
    "from ray.rllib.models import ModelCatalog\n",
    "from ray.rllib.models.torch.torch_modelv2 import TorchModelV2\n",
    "import torch.nn as nn\n",
    "import numpy as np\n",
    "import gym\n",
    "from typing import Dict\n",
    "import numpy as np\n",
    "import ray\n",
    "import pytz\n"
   ]
  },
  {
   "cell_type": "markdown",
   "id": "95d08f35",
   "metadata": {
    "id": "xHfH5HGWoTD7",
    "tags": []
   },
   "source": [
    "## Init ray and env"
   ]
  },
  {
   "cell_type": "code",
   "execution_count": null,
   "id": "e8fa5634",
   "metadata": {
    "colab": {
     "base_uri": "https://localhost:8080/",
     "height": 77
    },
    "id": "hnJ6GUQ4hMVI",
    "outputId": "dd9168e0-5b52-463b-8e1b-c3d45c303eb6",
    "tags": []
   },
   "outputs": [],
   "source": [
    "ray.init(num_cpus=12, ignore_reinit_error=True, log_to_driver=False)"
   ]
  },
  {
   "cell_type": "code",
   "execution_count": null,
   "id": "a8d551fe",
   "metadata": {
    "id": "2ea81f77",
    "tags": []
   },
   "outputs": [],
   "source": [
    "# Dataset is assumed to be on the folder specified\n",
    "# in the L5KIT_DATA_FOLDER environment variable\n",
    "from l5kit.configs import load_config_data\n",
    "\n",
    "# get environment config\n",
    "# env_config_path = '/workspace/source/configs/gym_config.yaml'\n",
    "env_config_path = '/workspace/source/src/configs/gym_vectorizer_config.yaml'\n",
    "cfg = load_config_data(env_config_path)\n"
   ]
  },
  {
   "cell_type": "markdown",
   "id": "4f732ad6",
   "metadata": {
    "id": "eBwt9neMoj9h",
    "tags": []
   },
   "source": [
    "## Customize my model"
   ]
  },
  {
   "cell_type": "code",
   "execution_count": null,
   "id": "cd87b739-34db-49c7-a22e-9d3de0aa54b3",
   "metadata": {
    "tags": []
   },
   "outputs": [],
   "source": [
    "from ray.rllib.models import ModelCatalog\n",
    "from l5kit.planning.vectorized.open_loop_model import VectorizedModel, CustomVectorizedModel\n",
    "from torch import Tensor\n",
    "# from ray.rllib.models.torch.torch_modelv2 import TorchModelV2\n",
    "import torch.nn as nn\n",
    "from torch.nn import functional as F\n",
    "class MLP(nn.Module):\n",
    "    \"\"\" Very simple multi-layer perceptron (also called FFN)\"\"\"\n",
    "\n",
    "    def __init__(self, input_dim: int, hidden_dim: int, output_dim: int, num_layers: int):\n",
    "        super().__init__()\n",
    "        self.num_layers = num_layers\n",
    "        h = [hidden_dim] * (num_layers - 1)\n",
    "        self.layers = nn.ModuleList(nn.Linear(n, k) for n, k in zip([input_dim] + h, h + [output_dim]))\n",
    "        self.reset_parameters()\n",
    "\n",
    "    def reset_parameters(self) -> None:\n",
    "        for layer in self.layers.children():\n",
    "            nn.init.zeros_(layer.bias)\n",
    "            nn.init.kaiming_normal_(layer.weight, nonlinearity=\"relu\")\n",
    "\n",
    "    def forward(self, x: Tensor) -> Tensor:\n",
    "        for i, layer in enumerate(self.layers):\n",
    "            x = F.relu(layer(x)) if i < self.num_layers - 1 else layer(x)\n",
    "        return x\n",
    "\n",
    "class GNCNN(TorchModelV2, nn.Module):\n",
    "    \"\"\"\n",
    "    Simple Convolution agent that calculates the required linear output layer\n",
    "    \"\"\"\n",
    "\n",
    "    def __init__(self, obs_space, action_space, num_outputs, model_config, name):\n",
    "        super().__init__(obs_space, action_space, num_outputs, model_config, name)\n",
    "        nn.Module.__init__(self)\n",
    "\n",
    "        # raise ValueError(obs_space.shape)\n",
    "        self._num_objects = obs_space.shape[2] # num_of_channels of input, size x size x channels\n",
    "        self._num_actions = num_outputs\n",
    "        self._feature_dim = model_config[\"custom_model_config\"]['feature_dim']\n",
    "\n",
    "        self.network = nn.Sequential(\n",
    "            nn.Conv2d(self._num_objects, 64, kernel_size=(7, 7), stride=(2, 2), padding=(3, 3), bias=False),\n",
    "            nn.GroupNorm(4, 64),\n",
    "            nn.ReLU(),\n",
    "            nn.MaxPool2d(kernel_size=2, stride=2),\n",
    "            nn.Conv2d(64, 32, kernel_size=(7, 7), stride=(2, 2), padding=(3, 3), bias=False),\n",
    "            nn.GroupNorm(2, 32),\n",
    "            nn.ReLU(),\n",
    "            nn.MaxPool2d(kernel_size=2, stride=2),\n",
    "            nn.Flatten(),\n",
    "            nn.Linear(in_features=1568, out_features=self._feature_dim),\n",
    "        )\n",
    "\n",
    "        self._actor_head = nn.Sequential(\n",
    "            nn.Linear(self._feature_dim, 256),\n",
    "            nn.ReLU(),\n",
    "            nn.Linear(256, self._num_actions),\n",
    "        )\n",
    "\n",
    "        self._critic_head = nn.Sequential(\n",
    "            nn.Linear(self._feature_dim, 1),\n",
    "        )\n",
    "\n",
    "    def forward(self, input_dict, state, seq_lens):\n",
    "        # obs_transformed = input_dict['obs'].permute(0, 3, 1, 2) # 32 x 112 x 112 x 7 [B, size, size, channels]\n",
    "        network_output = self.network(input_dict['obs']) #  # 32 x 112 x 112 x 7\n",
    "        value = self._critic_head(network_output)\n",
    "        self._value = value.reshape(-1)\n",
    "        logits = self._actor_head(network_output)\n",
    "        return logits, state\n",
    "\n",
    "    def value_function(self):\n",
    "        return self._value\n",
    "\n",
    "class GNCNN_separated(TorchModelV2, nn.Module):\n",
    "    \"\"\"\n",
    "    Simple Convolution agent that calculates the required linear output layer\n",
    "    \"\"\"\n",
    "\n",
    "    def __init__(self, obs_space, action_space, num_outputs, model_config, name):\n",
    "        super().__init__(obs_space, action_space, num_outputs, model_config, name)\n",
    "        nn.Module.__init__(self)\n",
    "\n",
    "        # raise ValueError(obs_space.shape)\n",
    "        self._num_objects = obs_space.shape[2] # num_of_channels of input, size x size x channels\n",
    "        self._num_actions = num_outputs\n",
    "        self._feature_dim = model_config[\"custom_model_config\"]['feature_dim']\n",
    "\n",
    "        self._actor_head = nn.Sequential(\n",
    "            nn.Conv2d(self._num_objects, 64, kernel_size=(7, 7), stride=(2, 2), padding=(3, 3), bias=False),\n",
    "            nn.GroupNorm(4, 64),\n",
    "            nn.ReLU(),\n",
    "            nn.MaxPool2d(kernel_size=2, stride=2),\n",
    "            nn.Conv2d(64, 32, kernel_size=(7, 7), stride=(2, 2), padding=(3, 3), bias=False),\n",
    "            nn.GroupNorm(2, 32),\n",
    "            nn.ReLU(),\n",
    "            nn.MaxPool2d(kernel_size=2, stride=2),\n",
    "            nn.Flatten(),\n",
    "            nn.Linear(in_features=1568, out_features=self._feature_dim),\n",
    "            nn.Linear(self._feature_dim, 256),\n",
    "            nn.ReLU(),\n",
    "            nn.Linear(256, self._num_actions),\n",
    "        )\n",
    "\n",
    "        self._critic_head = nn.Sequential(\n",
    "            nn.Conv2d(self._num_objects, 64, kernel_size=(7, 7), stride=(2, 2), padding=(3, 3), bias=False),\n",
    "            nn.GroupNorm(4, 64),\n",
    "            nn.ReLU(),\n",
    "            nn.MaxPool2d(kernel_size=2, stride=2),\n",
    "            nn.Conv2d(64, 32, kernel_size=(7, 7), stride=(2, 2), padding=(3, 3), bias=False),\n",
    "            nn.GroupNorm(2, 32),\n",
    "            nn.ReLU(),\n",
    "            nn.MaxPool2d(kernel_size=2, stride=2),\n",
    "            nn.Flatten(),\n",
    "            nn.Linear(in_features=1568, out_features=self._feature_dim),\n",
    "            nn.Linear(self._feature_dim, 1),\n",
    "        )\n",
    "\n",
    "    def forward(self, input_dict, state, seq_lens):\n",
    "        obs_transformed = input_dict['obs'].permute(0, 3, 1, 2) # 32 x 112 x 112 x 7 [B, size, size, channels]\n",
    "        # network_output = self.network(obs_transformed)\n",
    "        value = self._critic_head(obs_transformed)\n",
    "        self._value = value.reshape(-1)\n",
    "        logits = self._actor_head(obs_transformed)\n",
    "        return logits, state\n",
    "\n",
    "    def value_function(self):\n",
    "        return self._value\n",
    "class TorchAttentionModel2(TorchModelV2, nn.Module):\n",
    "    \"\"\"\n",
    "    Attention Model agent\n",
    "    \"\"\"\n",
    "\n",
    "    def __init__(self, obs_space, action_space, num_outputs, model_config, name):\n",
    "        super().__init__(obs_space, action_space, num_outputs, model_config, name)\n",
    "        nn.Module.__init__(self)\n",
    "        # raise ValueError(num_outputs)\n",
    "\n",
    "        cfg = model_config[\"custom_model_config\"]['cfg']\n",
    "        d_model = 256\n",
    "        self._num_actions = num_outputs\n",
    "        self._actor_head = MLP(d_model, d_model * 4, output_dim= num_outputs, num_layers=3)\n",
    "        self._critic_head = MLP(d_model, d_model * 4, output_dim= 1, num_layers=1)\n",
    "\n",
    "        self.feature_extractor= CustomVectorizedModel(\n",
    "            history_num_frames_ego=cfg[\"model_params\"][\"history_num_frames_ego\"],\n",
    "            history_num_frames_agents=cfg[\"model_params\"][\"history_num_frames_agents\"],\n",
    "            global_head_dropout=cfg[\"model_params\"][\"global_head_dropout\"],\n",
    "            disable_other_agents=cfg[\"model_params\"][\"disable_other_agents\"],\n",
    "            disable_map=cfg[\"model_params\"][\"disable_map\"],\n",
    "            disable_lane_boundaries=cfg[\"model_params\"][\"disable_lane_boundaries\"])\n",
    "\n",
    "    def forward(self, input_dict, state, seq_lens):\n",
    "        obs_transformed = input_dict['obs']\n",
    "        out, attns = self.feature_extractor(obs_transformed)\n",
    "        logits = self._actor_head(out).view(-1, self._num_actions)\n",
    "        self._value = self._critic_head(out).view(-1)\n",
    "        return logits, state\n",
    "\n",
    "    def value_function(self):\n",
    "        return self._value\n",
    "\n",
    "class TorchAttentionModel(TorchModelV2, nn.Module):\n",
    "    \"\"\"\n",
    "    Attention Model agent\n",
    "    \"\"\"\n",
    "\n",
    "    def __init__(self, obs_space, action_space, num_outputs, model_config, name):\n",
    "        super().__init__(obs_space, action_space, num_outputs, model_config, name)\n",
    "        nn.Module.__init__(self)\n",
    "        # raise ValueError(num_outputs)\n",
    "\n",
    "        cfg = model_config[\"custom_model_config\"]['cfg']\n",
    "        weights_scaling = [1.0, 1.0, 1.0, 1.0, 1.0, 1.0]\n",
    "\n",
    "        self._num_predicted_frames = cfg[\"model_params\"][\"future_num_frames\"]\n",
    "        self._num_predicted_params = len(weights_scaling)\n",
    "        weights_scaling_critic = [1.0]\n",
    "        _num_predicted_params_critic = len(weights_scaling_critic)\n",
    "\n",
    "        self._actor_head = VectorizedModel(\n",
    "            history_num_frames_ego=cfg[\"model_params\"][\"history_num_frames_ego\"],\n",
    "            history_num_frames_agents=cfg[\"model_params\"][\"history_num_frames_agents\"],\n",
    "            num_targets=self._num_predicted_params * self._num_predicted_frames, # N (X,Y,Yaw) 72\n",
    "            weights_scaling=weights_scaling, # 6\n",
    "            criterion=nn.L1Loss(reduction=\"none\"),\n",
    "            global_head_dropout=cfg[\"model_params\"][\"global_head_dropout\"],\n",
    "            disable_other_agents=cfg[\"model_params\"][\"disable_other_agents\"],\n",
    "            disable_map=cfg[\"model_params\"][\"disable_map\"],\n",
    "            disable_lane_boundaries=cfg[\"model_params\"][\"disable_lane_boundaries\"])\n",
    "\n",
    "        self._critic_head = VectorizedModel(\n",
    "            history_num_frames_ego=cfg[\"model_params\"][\"history_num_frames_ego\"],\n",
    "            history_num_frames_agents=cfg[\"model_params\"][\"history_num_frames_agents\"],\n",
    "            num_targets=_num_predicted_params_critic, # just 1 (X,Y,Yaw)\n",
    "            weights_scaling=weights_scaling_critic,\n",
    "            criterion=nn.L1Loss(reduction=\"none\"),\n",
    "            global_head_dropout=cfg[\"model_params\"][\"global_head_dropout\"],\n",
    "            disable_other_agents=cfg[\"model_params\"][\"disable_other_agents\"],\n",
    "            disable_map=cfg[\"model_params\"][\"disable_map\"],\n",
    "            disable_lane_boundaries=cfg[\"model_params\"][\"disable_lane_boundaries\"])\n",
    "\n",
    "    def forward(self, input_dict, state, seq_lens):\n",
    "        # obs_transformed = input_dict['obs'].permute(0, 3, 1, 2) # 32 x 112 x 112 x 7 [b, size, size, channels]\n",
    "        # raise ValueError(input_dict)\n",
    "        obs_transformed = input_dict['obs']\n",
    "        # raise ValueError(input_dict['obs'])\n",
    "        # network_output = self.network(obs_transformed)\n",
    "        logits = self._actor_head(obs_transformed)\n",
    "        # raise ValueError(str(logits['positions'].shape))\n",
    "        # logits = torch.cat((logits['positions'], logits['yaws']),axis=-1)\n",
    "        logits = logits.view(-1, int(self._num_predicted_frames * self._num_predicted_params))\n",
    "        # raise ValueError(logits.shape)\n",
    "        value = self._critic_head(obs_transformed)\n",
    "        self._value = value.view(-1)\n",
    "        # raise ValueError(logits.shape)\n",
    "        # raise ValueError('positions: ' + str(logits['positions'].shape) + 'yaw:' + str(logits['yaws'].shape))\n",
    "        return logits, state\n",
    "\n",
    "    def value_function(self):\n",
    "        return self._value\n",
    "ModelCatalog.register_custom_model(\"GN_CNN_torch_model\", GNCNN)\n",
    "ModelCatalog.register_custom_model(\"GN_CNN_separated_torch_model\", GNCNN_separated)\n",
    "ModelCatalog.register_custom_model( \"TorchSeparatedAttentionModel\", TorchAttentionModel)\n",
    "ModelCatalog.register_custom_model( \"TorchSharedAttentionModel\", TorchAttentionModel2)"
   ]
  },
  {
   "cell_type": "markdown",
   "id": "5cfe748f",
   "metadata": {
    "id": "2cead394"
   },
   "source": [
    "## Define Training and Evaluation Environments\n",
    "\n",
    "**Training**: We will be training the PPO policy on episodes of length 32 time-steps. We will have 4 sub-processes (training environments) that will help to parallelize and speeden up episode rollouts. The *SimConfig* dataclass will define the parameters of the episode rollout: like length of episode rollout, whether to use log-replayed agents or simulated agents etc.\n",
    "\n",
    "**Evaluation**: We will evaluate the performance of the PPO policy on the *entire* scene (~248 time-steps)."
   ]
  },
  {
   "cell_type": "markdown",
   "id": "24674ab9",
   "metadata": {
    "id": "0CAZm9UDo1C0",
    "tags": []
   },
   "source": [
    "## Customize gym env"
   ]
  },
  {
   "cell_type": "code",
   "execution_count": null,
   "id": "5aec2c16",
   "metadata": {
    "id": "IJC1ix47g1Y4",
    "tags": []
   },
   "outputs": [],
   "source": [
    "class L5EnvWrapper(gym.Wrapper):\n",
    "    def __init__(self, env, raster_size = 112, n_channels = 7):\n",
    "        super().__init__(env)\n",
    "        self.env = env\n",
    "        self.n_channels = n_channels\n",
    "        self.raster_size = raster_size\n",
    "        obs_shape = (self.raster_size, self.raster_size, self.n_channels)\n",
    "        self.observation_space =gym.spaces.Box(low=0, high=1, shape=obs_shape, dtype=np.float32)\n",
    "\n",
    "    def step(self, action:  np.ndarray) -> GymStepOutput:\n",
    "        # return GymStepOutput(obs, reward[\"total\"], done, info)\n",
    "        output =  self.env.step(action)\n",
    "        onlyImageState = output.obs['image'].reshape(self.raster_size, self.raster_size, self.n_channels)\n",
    "        return GymStepOutput(onlyImageState, output.reward, output.done, output.info)\n",
    "\n",
    "    def reset(self) -> Dict[str, np.ndarray]:\n",
    "        return self.env.reset()['image'].reshape(self.raster_size, self.raster_size, self.n_channels)"
   ]
  },
  {
   "cell_type": "code",
   "execution_count": null,
   "id": "fd67c448",
   "metadata": {
    "id": "XfXbbfjCg3aw",
    "tags": []
   },
   "outputs": [],
   "source": [
    "from ray import tune\n",
    "train_eps_length = 32\n",
    "train_sim_cfg = SimulationConfigGym()\n",
    "train_sim_cfg.num_simulation_steps = train_eps_length + 1\n",
    "\n",
    "\n",
    "# Register , how your env should be constructed (always with 5, or you can take values from the `config` EnvContext object):\n",
    "env_kwargs = {'env_config_path': env_config_path, 'use_kinematic': True, 'sim_cfg': train_sim_cfg}\n",
    "\n",
    "tune.register_env(\"L5-CLE-V0\", lambda config: L5Env(**env_kwargs))\n",
    "tune.register_env(\"L5-CLE-V1\", lambda config: L5EnvWrapper(env = L5Env(**env_kwargs), \\\n",
    "                                                           raster_size= cfg['raster_params']['raster_size'][0], \\\n",
    "                                                           n_channels = 7))"
   ]
  },
  {
   "cell_type": "code",
   "execution_count": null,
   "id": "73af6dfc-db50-4898-bad6-f5427c17a442",
   "metadata": {
    "tags": []
   },
   "outputs": [],
   "source": [
    "from ray import tune\n",
    "\n",
    "train_eps_length = 32\n",
    "train_sim_cfg = SimulationConfigGym()\n",
    "train_sim_cfg.num_simulation_steps = train_eps_length + 1\n",
    "\n",
    "env_kwargs = {'env_config_path': env_config_path, 'use_kinematic': False, 'sim_cfg': train_sim_cfg}\n",
    "tune.register_env(\"L5-CLE-V2\", lambda config: L5Env2(**env_kwargs))"
   ]
  },
  {
   "cell_type": "markdown",
   "id": "f53e7375",
   "metadata": {
    "id": "rg8sxEnanVxL",
    "tags": []
   },
   "source": [
    "## Train"
   ]
  },
  {
   "cell_type": "markdown",
   "id": "c3a717ac",
   "metadata": {
    "id": "LlFBhHgZfx5f",
    "tags": []
   },
   "source": [
    "### ref\n",
    "\n",
    "Resume stop tune: https://docs.ray.io/en/latest/tune/tutorials/tune-stopping.html\n",
    "\n",
    "tune.Tuner analysis: https://docs.ray.io/en/latest/rllib/rllib-training.html#basic-python-api\n",
    "\n",
    "get best result, load from dir: https://docs.ray.io/en/master/tune/examples/tune_analyze_results.html#trial-level-analysis-working-with-an-individual-result\n",
    "\n",
    "### Hyperparam\n",
    "```\n",
    "lr = 3e-4\n",
    "num_rollout_steps = 256\n",
    "gamma = 0.8\n",
    "gae_lambda = 0.9\n",
    "n_epochs = 10\n",
    "seed = 42\n",
    "batch_size = 64\n",
    "```\n",
    "### Clipping schedule of PPO epsilon parameter\n",
    "```\n",
    "start_val = 0.1\n",
    "end_val = 0.01\n",
    "training_progress_ratio = 1.0\n",
    "clip_schedule = get_linear_fn(start_val, end_val, training_progress_ratio)\n",
    "```"
   ]
  },
  {
   "cell_type": "code",
   "execution_count": null,
   "id": "975bc7ad-0032-4a6c-b85b-f45911b1b2e3",
   "metadata": {
    "tags": []
   },
   "outputs": [],
   "source": [
    "!wandb login 083592c84134c040dcca598c644c348d32540a08"
   ]
  },
  {
   "cell_type": "code",
   "execution_count": null,
   "id": "c6a952aa-ef4f-4116-988e-ad36f06eec6a",
   "metadata": {
    "tags": []
   },
   "outputs": [],
   "source": [
    "import numpy as np\n",
    "\n",
    "import ray\n",
    "from ray import air, tune\n",
    "from ray.air import session\n",
    "from ray.air.integrations.wandb import setup_wandb\n",
    "from ray.air.integrations.wandb import WandbLoggerCallback\n",
    "os.environ['WANDB_NOTEBOOK_NAME'] = 'rllib_ppo_policy_training.ipynb'\n",
    "os.environ[\"WANDB_API_KEY\"] = '083592c84134c040dcca598c644c348d32540a08'"
   ]
  },
  {
   "cell_type": "code",
   "execution_count": null,
   "id": "588ebe4f-cd2a-4989-90db-c1f8a337e2be",
   "metadata": {
    "tags": []
   },
   "outputs": [],
   "source": [
    "import wandb\n",
    "wandb.init(project=\"l5kit2\", reinit = True)"
   ]
  },
  {
   "cell_type": "markdown",
   "id": "a9f77763-3a6c-44bb-861f-970ea051a223",
   "metadata": {
    "jp-MarkdownHeadingCollapsed": true,
    "tags": []
   },
   "source": [
    "### shared polocy"
   ]
  },
  {
   "cell_type": "code",
   "execution_count": null,
   "id": "03b2ba45",
   "metadata": {
    "colab": {
     "base_uri": "https://localhost:8080/",
     "height": 1000
    },
    "id": "gbfV227Jct2l",
    "outputId": "fd5c0af4-ad87-4a5d-a526-58dfad3b8646",
    "tags": []
   },
   "outputs": [],
   "source": [
    "import ray\n",
    "from ray import air, tune\n",
    "\n",
    "train_envs = 4\n",
    "hcmTz = pytz.timezone(\"Asia/Ho_Chi_Minh\") \n",
    "date = datetime.datetime.now(hcmTz).strftime(\"%d-%m-%Y_%H-%M-%S\")\n",
    "ray_result_logdir = '/workspace/datasets/ray_results/' +'debug_'+ date\n",
    "\n",
    "config_param_space = {\n",
    "    \"env\": \"L5-CLE-V1\",\n",
    "    \"framework\": \"torch\",\n",
    "    \"num_gpus\": 0,\n",
    "    \"num_workers\": 2,\n",
    "    \"num_envs_per_worker\": train_envs,\n",
    "    'num_sgd_iter': 5,\n",
    "    'sgd_minibatch_size': 256,\n",
    "    # 'num_cpus_per_worker': 0,  # This avoids running out of resources in the notebook environment when this cell is re-executed\n",
    "    \"model\": {\n",
    "        \"custom_model\": \"GN_CNN_torch_model\",\n",
    "        \"custom_model_config\": {'feature_dim':128},\n",
    "    },\n",
    "    \n",
    "    '_disable_preprocessor_api': True,\n",
    "     \"eager_tracing\": True,\n",
    "     \"restart_failed_sub_environments\": True,\n",
    "    \"lr\": 0.0003,\n",
    "    \"gamma\": 0.8,\n",
    "    'seed': 42,\n",
    "}\n",
    "\n",
    "result_grid = tune.Tuner(\n",
    "    \"PPO\",\n",
    "    run_config=air.RunConfig(\n",
    "        stop={\"episode_reward_mean\": 0, 'timesteps_total': int(6e6)},\n",
    "        local_dir=ray_result_logdir,\n",
    "        checkpoint_config=air.CheckpointConfig(num_to_keep=4, checkpoint_frequency = 10, checkpoint_score_attribute = 'episode_reward_mean')\n",
    "        ),\n",
    "    param_space=config_param_space).fit()"
   ]
  },
  {
   "cell_type": "markdown",
   "id": "dab4bab6-a99a-4e12-947c-59c4aa57cf9d",
   "metadata": {
    "jp-MarkdownHeadingCollapsed": true,
    "tags": []
   },
   "source": [
    "### Restore a specific checkpoint"
   ]
  },
  {
   "cell_type": "code",
   "execution_count": null,
   "id": "1ca8b47b-4fe6-421f-bdd5-c965fdc27480",
   "metadata": {},
   "outputs": [],
   "source": [
    "import ray\n",
    "from ray import air, tune\n",
    "hcmTz = pytz.timezone(\"Asia/Ho_Chi_Minh\") \n",
    "date = datetime.datetime.now(hcmTz).strftime(\"%d-%m-%Y_%H-%M-%S\")\n",
    "ray_result_logdir = '/workspace/datasets/ray_results/' + date\n",
    "\n",
    "train_envs = 4\n",
    "lr = 3e-3\n",
    "lr_start = 3e-4\n",
    "lr_end = 3e-5\n",
    "lr_time = int(4e6)\n",
    "\n",
    "config_param_space = {\n",
    "    \"env\": \"L5-CLE-V1\",\n",
    "    \"framework\": \"torch\",\n",
    "    \"num_gpus\": 1,\n",
    "    \"num_workers\": 3,\n",
    "    \"num_envs_per_worker\": train_envs,\n",
    "    \"model\": {\n",
    "        \"custom_model\": \"GN_CNN_torch_model\",\n",
    "        \"custom_model_config\": {'feature_dim':128},\n",
    "    },\n",
    "    \n",
    "    '_disable_preprocessor_api': True,\n",
    "     \"eager_tracing\": True,\n",
    "     \"restart_failed_sub_environments\": True,\n",
    "    \"lr\": lr,\n",
    "    'seed': 42,\n",
    "    \"lr_schedule\": [\n",
    "        [1e6, lr_start],\n",
    "        [2e6, lr_end],\n",
    "    ],\n",
    "    'train_batch_size': 8000,\n",
    "    'sgd_minibatch_size': 1024,\n",
    "    'num_sgd_iter': 16,\n",
    "    'seed': 42,\n",
    "    'batch_mode': 'truncate_episodes',\n",
    "    \"rollout_fragment_length\": 32,\n",
    "    'gamma': 0.8,    \n",
    "}\n",
    "\n",
    "result_grid = tune.Tuner(\n",
    "    \"PPO\",\n",
    "    run_config=air.RunConfig(\n",
    "        stop={\"episode_reward_mean\": 0, 'timesteps_total': int(6e6)},\n",
    "        local_dir=ray_result_logdir,\n",
    "        checkpoint_config=air.CheckpointConfig(num_to_keep=4, \n",
    "                                               checkpoint_frequency = 10, \n",
    "                                               checkpoint_score_attribute = 'episode_reward_mean'),\n",
    "        callbacks=[WandbLoggerCallback(project=\"l5kit2\", save_checkpoints=True),],\n",
    "        ),\n",
    "    param_space=config_param_space).fit()\n",
    "    "
   ]
  },
  {
   "cell_type": "code",
   "execution_count": null,
   "id": "7bdcd1c2-79d2-4f95-b50f-247b367e5491",
   "metadata": {},
   "outputs": [],
   "source": [
    "config_param_space['lr'] = 3e-5\n",
    "path_to_trained_agent_checkpoint = 'l5kit/ray_results/27-12-2022_16-24-37/PPO/PPO_L5-CLE-V1_fdd0f_00000_0_2022-12-27_11-45-42/checkpoint_000480'\n",
    "from ray.rllib.algorithms.ppo import PPO\n",
    "ray.tune.run(PPO, config=config_param_space, restore=path_to_trained_agent_checkpoint)"
   ]
  },
  {
   "cell_type": "code",
   "execution_count": null,
   "id": "97846803-c22d-4a73-b451-052962cd289b",
   "metadata": {
    "tags": []
   },
   "outputs": [],
   "source": [
    "import ray\n",
    "from ray import air, tune\n",
    "ray_result_logdir = '/DATA/l5kit/ray_results'\n",
    "config_param_space = {\n",
    "    \"env\": \"L5-CLE-V1\",\n",
    "    \"framework\": \"torch\",\n",
    "    \"num_gpus\": 1,\n",
    "    \"num_workers\": 63,\n",
    "    'train_batch_size': 4000,\n",
    "    'sgd_minibatch_size': 4096,\n",
    "    \"num_envs_per_worker\": 32,\n",
    "    'num_sgd_iter': 32,\n",
    "    'sgd_minibatch_size': 256,\n",
    "    # 'num_cpus_per_worker': 0,  # This avoids running out of resources in the notebook environment when this cell is re-executed\n",
    "    \"model\": {\n",
    "        \"custom_model\": \"GN_CNN_torch_model\",\n",
    "        \"custom_model_config\": {'feature_dim':128},\n",
    "    },\n",
    "    \n",
    "    '_disable_preprocessor_api': True,\n",
    "     \"eager_tracing\": True,\n",
    "     # \"log_level\": \"DEBUG\",\n",
    "     \"restart_failed_sub_environments\": True,\n",
    "    \"lr\": 0.0003,\n",
    "    \"gamma\": 0.8,\n",
    "    'seed': 42,\n",
    "}\n",
    "\n",
    "result_grid = tune.Tuner(\n",
    "    \"PPO\",\n",
    "    run_config=air.RunConfig(\n",
    "        stop={\"episode_reward_mean\": -30, 'timesteps_total': int(12e6)},\n",
    "        local_dir=ray_result_logdir,\n",
    "        checkpoint_config=air.CheckpointConfig(num_to_keep=4, checkpoint_frequency = 10, checkpoint_score_attribute = 'episode_reward_mean')\n",
    "        ),\n",
    "    param_space=config_param_space).fit()"
   ]
  },
  {
   "cell_type": "code",
   "execution_count": null,
   "id": "a019fc45",
   "metadata": {
    "colab": {
     "base_uri": "https://localhost:8080/",
     "height": 1000
    },
    "id": "RTK45EUeonWl",
    "outputId": "1a0ff185-7c8c-4cfb-8d1c-4dcb71cd7fb4",
    "tags": []
   },
   "outputs": [],
   "source": [
    "ray_result_logdir = '/DATA/l5kit/ray_results'\n",
    "\n",
    "tuner = tune.Tuner.restore(\n",
    "    path=ray_result_logdir + '/PPO',\n",
    ")\n",
    "result_grid = tuner.fit()"
   ]
  },
  {
   "cell_type": "code",
   "execution_count": null,
   "id": "d733b2f3-c09e-42d6-bd04-f6024d68c388",
   "metadata": {},
   "outputs": [],
   "source": [
    "result_grid\n",
    "\n",
    "# Get the result with the maximum test set `mean_accuracy`\n",
    "best_result = result_grid.get_best_result()\n",
    "best_result.checkpoint"
   ]
  },
  {
   "cell_type": "code",
   "execution_count": null,
   "id": "a2f7ddd6-4ee4-4208-93ce-bdb7f09a834c",
   "metadata": {},
   "outputs": [],
   "source": [
    "best_result.metrics"
   ]
  },
  {
   "cell_type": "code",
   "execution_count": null,
   "id": "eb8970f8-e53f-4872-8b2a-c6d4bc872887",
   "metadata": {},
   "outputs": [],
   "source": [
    "result_df = best_result.metrics_dataframe\n",
    "result_df[['num_agent_steps_sampled','episode_reward_mean'] ]"
   ]
  },
  {
   "cell_type": "code",
   "execution_count": null,
   "id": "5aba6040-0726-40b5-8717-dcc036d6e31b",
   "metadata": {},
   "outputs": [],
   "source": [
    "best_result.metrics_dataframe.plot(\"num_agent_steps_sampled\", \"episode_reward_mean\")\n"
   ]
  },
  {
   "cell_type": "code",
   "execution_count": null,
   "id": "e2e52385-0b84-4058-8079-8d4b29ccc54e",
   "metadata": {},
   "outputs": [],
   "source": [
    "for result in result_grid:\n",
    "    print(1)"
   ]
  },
  {
   "cell_type": "markdown",
   "id": "60c6b3ff-c0a7-4f4f-8308-9ca3869b7ebe",
   "metadata": {
    "jp-MarkdownHeadingCollapsed": true,
    "tags": []
   },
   "source": [
    "### Separated policy"
   ]
  },
  {
   "cell_type": "code",
   "execution_count": null,
   "id": "86853fc6-44f8-4723-9e7b-0ddd6f546725",
   "metadata": {
    "tags": []
   },
   "outputs": [],
   "source": [
    "import ray\n",
    "from ray import air, tune\n",
    "train_envs = 4\n",
    "ray_result_logdir = '/DATA/l5kit/ray_results'\n",
    "lr = 3e-3\n",
    "lr_start = 3e-4\n",
    "lr_end = 3e-5\n",
    "lr_time = int(4e6)\n",
    "\n",
    "config_param_space = {\n",
    "    \"env\": \"L5-CLE-V1\",\n",
    "    \"framework\": \"torch\",\n",
    "    \"num_gpus\": 1,\n",
    "    \"num_workers\": 63,\n",
    "    \"num_envs_per_worker\": train_envs,\n",
    "    '_disable_preprocessor_api': True,\n",
    "    \"eager_tracing\": True,\n",
    "    \"restart_failed_sub_environments\": True,\n",
    "    \"lr\": lr_start,\n",
    "    # \"model\": {\n",
    "    #     \"custom_model\": \"GN_CNN_separated_torch_model\",\n",
    "    #     \"custom_model_config\": {'feature_dim':128},\n",
    "    # },\n",
    "    'model' : {\n",
    "            \"dim\": 84,\n",
    "            # \"conv_filters\" : [[64, [7,7], 3], [32, [11,11], 3], [32, [11,11], 3]],\n",
    "            \"conv_activation\": \"relu\",\n",
    "            \"post_fcnet_hiddens\": [256],\n",
    "            \"post_fcnet_activation\": \"relu\",\n",
    "            \"vf_share_layers\": False,   \n",
    "    },\n",
    "#\n",
    "    \"lr\": lr,\n",
    "    'seed': 42,\n",
    "    \"lr_schedule\": [\n",
    "        [1e6, lr_start],\n",
    "        [2e6, lr_end],\n",
    "    ],\n",
    "    'train_batch_size': 8000,\n",
    "    'sgd_minibatch_size': 256,\n",
    "    'num_sgd_iter': 16,\n",
    "    'seed': 42,\n",
    "    'batch_mode': 'truncate_episodes',\n",
    "    \"rollout_fragment_length\": 32,\n",
    "    'gamma': 0.8,\n",
    "}\n",
    "\n",
    "result_grid = tune.Tuner(\n",
    "    \"PPO\",\n",
    "    run_config=air.RunConfig(\n",
    "        stop={\"episode_reward_mean\": 0, 'timesteps_total': int(6e6)},\n",
    "        local_dir=ray_result_logdir,\n",
    "        checkpoint_config=air.CheckpointConfig(num_to_keep=4, checkpoint_frequency = 10, checkpoint_score_attribute = 'episode_reward_mean'),\n",
    "        callbacks=[WandbLoggerCallback(project=\"l5kit2\", save_checkpoints=True),],\n",
    "        ),\n",
    "    param_space=config_param_space).fit()"
   ]
  },
  {
   "cell_type": "code",
   "execution_count": null,
   "id": "311054e4-7a19-400f-aa1c-332dd22b964d",
   "metadata": {},
   "outputs": [],
   "source": [
    "ray_result_logdir = '/DATA/l5kit/ray_results'\n",
    "\n",
    "tuner = tune.Tuner.restore(\n",
    "    path=ray_result_logdir + '/PPO',\n",
    ")\n",
    "tuner.fit()"
   ]
  },
  {
   "cell_type": "markdown",
   "id": "70289aed",
   "metadata": {
    "id": "4fipqZymhM1l"
   },
   "source": [
    "NOTE: Experiment has been interrupted, but the most recent state was saved. You can continue running this experiment by passing `resume=True` to `tune.run()`\n",
    "\n",
    "2022-12-04 05:50:38,570\tINFO experiment_analysis.py:795 -- No `self.trials`. Drawing logdirs from checkpoint file. This may result in some information that is out of sync, as checkpointing is periodic.\n",
    "\n",
    "2022-12-04 05:50:39,684\tINFO trial_runner.py:601 -- A local experiment checkpoint was found and will be used to restore the previous experiment state.\n",
    "2022-12-04 05:50:39,687\tINFO trial_runner.py:738 -- Using following checkpoint to resume: /content/drive/MyDrive/Colab Notebooks/l5kit/ray_results/PPO/experiment_state-2022-12-04_05-28-55.json\n",
    "\n",
    "2022-12-04 05:50:39,710\tWARNING trial_runner.py:743 -- Attempting to resume experiment from /content/drive/MyDrive/Colab Notebooks/l5kit/ray_results/PPO. This will ignore any new changes to the specification.\n",
    "\n",
    "2022-12-04 05:50:40,703\tINFO tune.py:668 -- TrialRunner resumed, ignoring new add_experiment but updating trial resources."
   ]
  },
  {
   "cell_type": "markdown",
   "id": "e0694c85",
   "metadata": {
    "id": "575327a2"
   },
   "source": [
    "**Voila!** We have a trained PPO policy! Train for larger number of steps for better accuracy. Typical RL algorithms require training atleast 1M steps for good convergence. You can visualize the quantitiative evaluation using tensorboard."
   ]
  },
  {
   "cell_type": "markdown",
   "id": "e7e69446-bb15-45f5-8bb8-5d6b0918ddd9",
   "metadata": {},
   "source": [
    "### L5env2 & attention model"
   ]
  },
  {
   "cell_type": "code",
   "execution_count": null,
   "id": "9346e4f4-d96a-403d-89ff-f7e6cddc5ec0",
   "metadata": {
    "tags": []
   },
   "outputs": [],
   "source": [
    "import ray\n",
    "from ray import air, tune\n",
    "\n",
    "train_envs = 4\n",
    "hcmTz = pytz.timezone(\"Asia/Ho_Chi_Minh\") \n",
    "date = datetime.datetime.now(hcmTz).strftime(\"%d-%m-%Y_%H-%M-%S\")\n",
    "ray_result_logdir = '/workspace/datasets/ray_results/' +'debug_attention'+ date\n",
    "\n",
    "lr = 3e-3\n",
    "lr_start = 3e-4\n",
    "lr_end = 3e-5\n",
    "lr_time = int(4e6)\n",
    "\n",
    "config_param_space = {\n",
    "    'disable_env_checking':True,\n",
    "    \"env\": \"L5-CLE-V2\",\n",
    "    \"framework\": \"torch\",\n",
    "    \"num_gpus\": 2,\n",
    "    \"num_workers\": 10,\n",
    "    \"num_envs_per_worker\": train_envs,\n",
    "    'num_sgd_iter': 10,\n",
    "    # 'sgd_minibatch_size': 512,\n",
    "    # 'num_cpus_per_worker': 0,  # This avoids running out of resources in the notebook environment when this cell is re-executed\n",
    "    \"model\": {\n",
    "        \"custom_model\": \"TorchSharedAttentionModel\",\n",
    "        \"custom_model_config\": {'cfg':cfg},\n",
    "    },\n",
    "    \n",
    "    '_disable_preprocessor_api': True,\n",
    "     \"eager_tracing\": True,\n",
    "     \"restart_failed_sub_environments\": True,\n",
    "    \"lr\": lr,\n",
    "    'seed': 42,\n",
    "    \"lr_schedule\": [\n",
    "        [1e6, lr_start],\n",
    "        [2e6, lr_end],\n",
    "    ],\n",
    "    'seed': 42,\n",
    "    'train_batch_size': 1000,\n",
    "    'sgd_minibatch_size': 256,\n",
    "    # 'num_sgd_iter': 16,\n",
    "    # 'seed': 42,\n",
    "    # 'batch_mode': 'truncate_episodes',\n",
    "    # \"rollout_fragment_length\": 15,\n",
    "    'gamma': 0.8,    \n",
    "}\n",
    "\n",
    "result_grid = tune.Tuner(\n",
    "    \"PPO\",\n",
    "    run_config=air.RunConfig(\n",
    "        stop={\"episode_reward_mean\": 0, 'timesteps_total': int(6e6)},\n",
    "        local_dir=ray_result_logdir,\n",
    "        checkpoint_config=air.CheckpointConfig(num_to_keep=4, checkpoint_frequency = 10, checkpoint_score_attribute = 'episode_reward_mean'),\n",
    "        callbacks=[WandbLoggerCallback(project=\"l5kit2\", save_checkpoints=True),],\n",
    "        ),\n",
    "    param_space=config_param_space).fit()"
   ]
  },
  {
   "cell_type": "code",
   "execution_count": null,
   "id": "17b62642-3300-492d-a6af-60468cfeb83c",
   "metadata": {
    "tags": []
   },
   "outputs": [],
   "source": [
    "tuner = tune.Tuner.restore(\n",
    "    path=\"/workspace/datasets/ray_results/debug_attention18-03-2023_15-41-38/PPO\",\n",
    ")\n",
    "tuner.fit()"
   ]
  },
  {
   "cell_type": "markdown",
   "id": "710de3f0",
   "metadata": {
    "id": "d24f956c",
    "tags": []
   },
   "source": [
    "## Visualize the episode from the environment\n",
    "\n",
    "We can easily visualize the outputs obtained by rolling out episodes in the L5Kit using the Bokeh visualizer."
   ]
  },
  {
   "cell_type": "code",
   "execution_count": null,
   "id": "317496be-42cd-4860-af9e-b108b84f9427",
   "metadata": {},
   "outputs": [],
   "source": [
    "train_envs = 4\n",
    "lr = 3e-3\n",
    "lr_start = 3e-4\n",
    "lr_end = 3e-5\n",
    "lr_time = int(4e6)\n",
    "\n",
    "config_param_space = {\n",
    "    \"env\": \"L5-CLE-V1\",\n",
    "    \"framework\": \"torch\",\n",
    "    \"num_gpus\": 1,#1\n",
    "    # \"num_workers\": 63,\n",
    "    \"num_envs_per_worker\": train_envs,\n",
    "    \"model\": {\n",
    "        \"custom_model\": \"GN_CNN_torch_model\",\n",
    "        \"custom_model_config\": {'feature_dim':128},\n",
    "    },\n",
    "    \n",
    "    '_disable_preprocessor_api': True,\n",
    "     \"eager_tracing\": True,\n",
    "     \"restart_failed_sub_environments\": True,\n",
    "    \"lr\": lr,\n",
    "    'seed': 42,\n",
    "    \"lr_schedule\": [\n",
    "        [1e6, lr_start],\n",
    "        [2e6, lr_end],\n",
    "    ],\n",
    "    'train_batch_size': 8000,\n",
    "    'sgd_minibatch_size': 1024,\n",
    "    # 'num_sgd_iter': 16,\n",
    "    'seed': 42,\n",
    "    'batch_mode': 'truncate_episodes',\n",
    "    \"rollout_fragment_length\": 32,\n",
    "    'gamma': 0.8,    \n",
    "}\n"
   ]
  },
  {
   "cell_type": "code",
   "execution_count": null,
   "id": "b8909fd0-bfec-4e53-b53d-e2507ff3ac9c",
   "metadata": {},
   "outputs": [],
   "source": [
    "from ray import tune\n",
    "rollout_sim_cfg = SimulationConfigGym()\n",
    "rollout_sim_cfg.num_simulation_steps = 50\n",
    "\n",
    "env_kwargs = {'env_config_path': env_config_path, \n",
    "              'use_kinematic': True, \n",
    "              'sim_cfg': rollout_sim_cfg,  \n",
    "              'train': False, \n",
    "              'return_info': True}\n",
    "\n",
    "rollout_env = L5EnvWrapper(env = L5Env(**env_kwargs), \\\n",
    "                           raster_size= cfg['raster_params']['raster_size'][0], \\\n",
    "                           n_channels = 7,)\n",
    "tune.register_env(\"L5-CLE-EVAL-V1\", \n",
    "                  lambda config: L5EnvWrapper(env = L5Env(**env_kwargs), \\\n",
    "                                              raster_size= cfg['raster_params']['raster_size'][0], \\\n",
    "                                              n_channels = 7))"
   ]
  },
  {
   "cell_type": "code",
   "execution_count": null,
   "id": "e7de96cf-b307-4ab1-b72f-f40aec2c0efa",
   "metadata": {},
   "outputs": [],
   "source": [
    "from ray.rllib.algorithms.ppo import PPO\n",
    "checkpoint_path = '/workspace/datasets/ray_results/31-12-2022_23-45-14/PPO/PPO_L5-CLE-V1_802de_00000_0_2022-12-31_16-45-15/checkpoint_000400'\n",
    "algo = PPO(config=config_param_space, env='L5-CLE-EVAL-V1')\n",
    "algo.restore(checkpoint_path)"
   ]
  },
  {
   "cell_type": "markdown",
   "id": "118ea4a6-3b13-4c9a-9cc4-101cd18adab5",
   "metadata": {},
   "source": [
    "## L5env2 & attention"
   ]
  },
  {
   "cell_type": "code",
   "execution_count": null,
   "id": "e04df5d5-7e0b-4303-8e2f-ec9fd415cde3",
   "metadata": {
    "tags": []
   },
   "outputs": [],
   "source": [
    "lr = 3e-3\n",
    "lr_start = 3e-4\n",
    "lr_end = 3e-5\n",
    "lr_time = int(4e6)\n",
    "\n",
    "config_param_space = {\n",
    "    'disable_env_checking':True,\n",
    "    \"env\": \"L5-CLE-V2\",\n",
    "    \"framework\": \"torch\",\n",
    "    \"num_gpus\": 0,\n",
    "    \"num_workers\": 10,\n",
    "    \"num_envs_per_worker\": train_envs,\n",
    "    'num_sgd_iter': 10,\n",
    "    # 'sgd_minibatch_size': 512,\n",
    "    # 'num_cpus_per_worker': 0,  # This avoids running out of resources in the notebook environment when this cell is re-executed\n",
    "    \"model\": {\n",
    "        \"custom_model\": \"TorchSharedAttentionModel\",\n",
    "        \"custom_model_config\": {'cfg':cfg},\n",
    "    },\n",
    "    \n",
    "    '_disable_preprocessor_api': True,\n",
    "     \"eager_tracing\": True,\n",
    "     \"restart_failed_sub_environments\": True,\n",
    "    \"lr\": lr,\n",
    "    'seed': 42,\n",
    "    \"lr_schedule\": [\n",
    "        [1e6, lr_start],\n",
    "        [2e6, lr_end],\n",
    "    ],\n",
    "    'seed': 42,\n",
    "    'train_batch_size': 1000,\n",
    "    'sgd_minibatch_size': 256,\n",
    "    # 'num_sgd_iter': 16,\n",
    "    # 'seed': 42,\n",
    "    # 'batch_mode': 'truncate_episodes',\n",
    "    # \"rollout_fragment_length\": 15,\n",
    "    'gamma': 0.8,    \n",
    "}"
   ]
  },
  {
   "cell_type": "code",
   "execution_count": null,
   "id": "e4c720c2-7b7c-4b02-aa12-325c09c2b014",
   "metadata": {
    "tags": []
   },
   "outputs": [],
   "source": [
    "from ray import tune\n",
    "rollout_sim_cfg = SimulationConfigGym()\n",
    "rollout_sim_cfg.num_simulation_steps = 50\n",
    "eval_env_kwargs = {'env_config_path': env_config_path, 'use_kinematic': False, 'sim_cfg': train_sim_cfg, 'train': False, 'return_info': True}\n",
    "rollout_env = L5Env2(**eval_env_kwargs)\n",
    "tune.register_env(\"L5-CLE-EVAL-V2\", lambda config: L5Env2(**eval_env_kwargs))"
   ]
  },
  {
   "cell_type": "code",
   "execution_count": null,
   "id": "1544063b-8111-4994-a853-b0fd147ee11e",
   "metadata": {
    "tags": []
   },
   "outputs": [],
   "source": [
    "from ray.rllib.algorithms.ppo import PPO\n",
    "checkpoint_path = '/workspace/datasets/ray_results/debug_attention18-03-2023_15-41-38/PPO/PPO_L5-CLE-V2_b29fe_00000_0_2023-03-18_08-41-38/checkpoint_000340'\n",
    "algo = PPO(config=config_param_space, env='L5-CLE-EVAL-V2')\n",
    "algo.restore(checkpoint_path)"
   ]
  },
  {
   "cell_type": "code",
   "execution_count": null,
   "id": "4702418d-88bb-48ef-8052-9ffd53d4d812",
   "metadata": {
    "tags": []
   },
   "outputs": [],
   "source": [
    "rewards = []\n",
    "def rollout_episode(model, env, idx = 0):\n",
    "    \"\"\"Rollout a particular scene index and return the simulation output.\n",
    "\n",
    "    :param model: the RL policy\n",
    "    :param env: the gym environment\n",
    "    :param idx: the scene index to be rolled out\n",
    "    :return: the episode output of the rolled out scene\n",
    "    \"\"\"\n",
    "\n",
    "    # Set the reset_scene_id to 'idx'\n",
    "    env.set_reset_id(idx)\n",
    "    \n",
    "    # Rollout step-by-step\n",
    "    obs = env.reset()\n",
    "    done = False\n",
    "    total_reward = 0\n",
    "    while True:\n",
    "        action = model.compute_single_action(obs, deterministic=True)\n",
    "        obs, reward, done, info = env.step(action)\n",
    "        total_reward += reward\n",
    "        if done:\n",
    "            rewards.append(total_reward)\n",
    "            break\n",
    "\n",
    "    # The episode outputs are present in the key \"sim_outs\"\n",
    "    sim_out = info[\"sim_outs\"][0]\n",
    "    return sim_out\n",
    "\n",
    "# Rollout one episode\n",
    "# sim_out = rollout_episode(model, rollout_env)\n",
    "# Rollout 5 episodes\n",
    "sim_outs =[]\n",
    "for i in range(2):\n",
    "    sim_outs.append(rollout_episode(algo, rollout_env, i))"
   ]
  },
  {
   "cell_type": "code",
   "execution_count": null,
   "id": "94c119e3-e2f1-40f4-8c5f-1fb9e4faab7c",
   "metadata": {
    "tags": []
   },
   "outputs": [],
   "source": [
    "print(rewards)"
   ]
  },
  {
   "cell_type": "code",
   "execution_count": null,
   "id": "4ad440e5",
   "metadata": {
    "id": "7e383cff",
    "tags": []
   },
   "outputs": [],
   "source": [
    "# might change with different rasterizer\n",
    "# map_API = rollout_env.dataset.rasterizer.sem_rast.mapAPI\n",
    "from l5kit.data import LocalDataManager\n",
    "\n",
    "from l5kit.data.map_api import MapAPI\n",
    "dmg = LocalDataManager(None)\n",
    "cfg = load_config_data(env_config_path)\n",
    "mapAPI = MapAPI.from_cfg(dmg, cfg)\n",
    "\n",
    "def visualize_outputs(sim_outs, map_API):\n",
    "    for sim_out in sim_outs: # for each scene\n",
    "        vis_in = episode_out_to_visualizer_scene_gym_cle(sim_out, map_API)\n",
    "        show(visualize(sim_out.scene_id, vis_in))\n",
    "\n",
    "output_notebook()\n",
    "visualize_outputs(sim_outs, mapAPI)"
   ]
  },
  {
   "cell_type": "markdown",
   "id": "30b57b2e",
   "metadata": {
    "id": "DjpS1pIZJ0B-",
    "tags": []
   },
   "source": [
    "## Calculate the performance metrics from the episode outputs\n",
    "\n",
    "We can also calculate the various quantitative metrics on the rolled out episode output. "
   ]
  },
  {
   "cell_type": "code",
   "execution_count": null,
   "id": "8b56ed3d",
   "metadata": {
    "colab": {
     "base_uri": "https://localhost:8080/"
    },
    "id": "6M1kUv8_J3X7",
    "outputId": "5eba9295-94de-404d-9469-329856bd9384"
   },
   "outputs": [],
   "source": [
    "def quantify_outputs(sim_outs, metric_set=None):\n",
    "    metric_set = metric_set if metric_set is not None else L2DisplacementYawMetricSet()\n",
    "\n",
    "    metric_set.evaluate(sim_outs)\n",
    "    scene_results = metric_set.evaluator.scene_metric_results\n",
    "    fields = [\"scene_id\", \"FDE\", \"ADE\"]\n",
    "    table = PrettyTable(field_names=fields)\n",
    "    tot_fde = 0.0\n",
    "    tot_ade = 0.0\n",
    "    for scene_id in scene_results:\n",
    "        scene_metrics = scene_results[scene_id]\n",
    "        ade_error = scene_metrics[\"displacement_error_l2\"][1:].mean()\n",
    "        fde_error = scene_metrics['displacement_error_l2'][-1]\n",
    "        table.add_row([scene_id, round(fde_error.item(), 4), round(ade_error.item(), 4)])\n",
    "        tot_fde += fde_error.item()\n",
    "        tot_ade += ade_error.item()\n",
    "\n",
    "    ave_fde = tot_fde / len(scene_results)\n",
    "    ave_ade = tot_ade / len(scene_results)\n",
    "    table.add_row([\"Overall\", round(ave_fde, 4), round(ave_ade, 4)])\n",
    "    print(table)\n",
    "\n",
    "\n",
    "quantify_outputs(sim_outs)"
   ]
  },
  {
   "cell_type": "code",
   "execution_count": null,
   "id": "c8c0b59d",
   "metadata": {
    "colab": {
     "base_uri": "https://localhost:8080/"
    },
    "id": "ovwnSl6RJx7t",
    "outputId": "972861d0-0929-43ea-ece0-c12cb9698ebd"
   },
   "outputs": [],
   "source": [
    "def quantify_outputs(sim_outs, metric_set=None):\n",
    "    metric_set = metric_set if metric_set is not None else CLEMetricSet()\n",
    "\n",
    "    metric_set.evaluate(sim_outs)\n",
    "    scene_results = metric_set.evaluator.scene_metric_results\n",
    "    fields = [\"scene_id\", \"FDE\", \"ADE\", \"DRT\", \"CF\", \"CR\", \"CS\", \"PEGO\"]\n",
    "    table = PrettyTable(field_names=fields)\n",
    "    tot_fde = 0.0\n",
    "    tot_ade = 0.0\n",
    "    tot_drt = 0.0\n",
    "    tot_cf = 0.0\n",
    "    tot_cr = 0.0\n",
    "    tot_cs = 0.0\n",
    "    tot_p_ego = 0.0\n",
    "    tot_a_ego = 0.0\n",
    "    # print(scene_results[0])\n",
    "    for scene_id in scene_results:\n",
    "        scene_metrics = scene_results[scene_id]\n",
    "        ade_error = scene_metrics[\"displacement_error_l2\"][1:].mean()\n",
    "        fde_error = scene_metrics['displacement_error_l2'][-1]\n",
    "        drt_error = scene_metrics['distance_to_reference_trajectory'][-1]\n",
    "        cf_error = scene_metrics['collision_front'][-1]\n",
    "        cr_error = scene_metrics['collision_rear'][-1]\n",
    "        cs_error = scene_metrics['collision_side'][-1]\n",
    "        p_ego = scene_metrics['simulated_minus_recorded_ego_speed'][-1]\n",
    "        # a_ego = scene_metrics['aggressive_ego'][-1]\n",
    "        table.add_row([scene_id, round(fde_error.item(), 4), round(ade_error.item(), 4), round(drt_error.item(), 4), round(cf_error.item(), 4), round(cr_error.item(), 4), \n",
    "        round(cs_error.item(), 4), round(p_ego.item(), 4)])\n",
    "        tot_fde += fde_error.item()\n",
    "        tot_ade += ade_error.item()\n",
    "        tot_drt += drt_error.item()\n",
    "        tot_cf += cf_error.item()\n",
    "        tot_cr += cr_error.item()\n",
    "        tot_cs += cs_error.item()\n",
    "        tot_p_ego += p_ego.item()\n",
    "        # tot_a_ego += a_ego.item()\n",
    "\n",
    "    ave_fde = tot_fde / len(scene_results)\n",
    "    ave_ade = tot_ade / len(scene_results)\n",
    "    ave_drt = tot_drt / len(scene_results)\n",
    "    ave_cf = tot_cf / len(scene_results)\n",
    "    ave_cr = tot_cr / len(scene_results)\n",
    "    ave_cs = tot_cs / len(scene_results)\n",
    "    ave_p_ego = tot_p_ego / len(scene_results)\n",
    "    # ave_a_ego = tot_a_ego / len(scene_results)\n",
    "    table.add_row([\"Overall\", round(ave_fde, 4), round(ave_ade, 4), round(ave_drt, 4), round(ave_cf, 4), round(ave_cr, 4), round(ave_cs, 4), round(ave_p_ego, 4)])\n",
    "    print(table)\n",
    "\n",
    "\n",
    "quantify_outputs(sim_outs)"
   ]
  },
  {
   "cell_type": "code",
   "execution_count": null,
   "id": "33b15d3b-2474-4004-b91e-d782a4ddb73f",
   "metadata": {},
   "outputs": [],
   "source": []
  }
 ],
 "metadata": {
  "colab": {
   "collapsed_sections": [
    "Fag3VuhPnRZT",
    "xHfH5HGWoTD7",
    "eBwt9neMoj9h",
    "0CAZm9UDo1C0"
   ],
   "provenance": []
  },
  "gpuClass": "standard",
  "kernelspec": {
   "display_name": "Python 3 (ipykernel)",
   "language": "python",
   "name": "python3"
  },
  "language_info": {
   "codemirror_mode": {
    "name": "ipython",
    "version": 3
   },
   "file_extension": ".py",
   "mimetype": "text/x-python",
   "name": "python",
   "nbconvert_exporter": "python",
   "pygments_lexer": "ipython3",
   "version": "3.8.16"
  },
  "vscode": {
   "interpreter": {
    "hash": "6df7c2a3d813445d6b3c74a479f8d37af444dbb4628cead36b7b0d6872de20bd"
   }
  }
 },
 "nbformat": 4,
 "nbformat_minor": 5
}
