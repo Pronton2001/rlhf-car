{
 "cells": [
  {
   "cell_type": "markdown",
   "id": "d9afa518",
   "metadata": {
    "id": "f7f64953",
    "tags": []
   },
   "source": [
    "### Training RL Policies using L5Kit Closed-Loop Environment\n",
    "\n",
    "This notebook describes how to train RL policies for self-driving using our gym-compatible closed-loop environment.\n",
    "\n",
    "We will be using [Proximal Policy Optimization (PPO)](https://arxiv.org/abs/1707.06347) algorithm as our reinforcement learning algorithm, as it not only demonstrates remarkable performance but it is also empirically easy to tune.\n",
    "\n",
    "The PPO implementation in this notebook is based on [Stable Baselines3](https://github.com/DLR-RM/stable-baselines3) framework, a popular framework for training RL policies. Note that our environment is also compatible with [RLlib](https://docs.ray.io/en/latest/rllib.html), another popular frameworks for the same."
   ]
  },
  {
   "cell_type": "markdown",
   "id": "7e420adb",
   "metadata": {
    "id": "ulK_RDB4e_gx"
   },
   "source": [
    "ref: \n",
    "([rllib] Best workflow to train, save, and test agent #9123\n",
    ")[https://github.com/ray-project/ray/issues/9123]"
   ]
  },
  {
   "cell_type": "code",
   "execution_count": 1,
   "id": "364e3af3",
   "metadata": {
    "colab": {
     "base_uri": "https://localhost:8080/"
    },
    "id": "smZ0MKsHE2_s",
    "outputId": "631f2d2d-38ee-45ba-f658-b7d11c59139b",
    "tags": []
   },
   "outputs": [],
   "source": [
    "import os\n",
    "os.environ[\"L5KIT_DATA_FOLDER\"] = '/workspace/datasets'\n",
    "# os.environ[\"TUNE_RESULT_DIR\"] =  '/DATA/l5kit/rllib_tb_logs'"
   ]
  },
  {
   "cell_type": "code",
   "execution_count": 2,
   "id": "a378e9d2",
   "metadata": {
    "id": "585b1fe7",
    "tags": []
   },
   "outputs": [
    {
     "name": "stderr",
     "output_type": "stream",
     "text": [
      "\n"
     ]
    }
   ],
   "source": [
    "import gym\n",
    "from l5kit.configs import load_config_data\n",
    "from l5kit.environment.envs.l5_env import SimulationConfigGym, GymStepOutput, L5Env\n",
    "from l5kit.visualization.visualizer.zarr_utils import episode_out_to_visualizer_scene_gym_cle\n",
    "from l5kit.visualization.visualizer.visualizer import visualize\n",
    "from bokeh.io import output_notebook, show\n",
    "from l5kit.environment.gym_metric_set import L2DisplacementYawMetricSet, CLEMetricSet\n",
    "from prettytable import PrettyTable\n",
    "import datetime\n",
    "from ray.rllib.models import ModelCatalog\n",
    "from ray.rllib.models.torch.torch_modelv2 import TorchModelV2\n",
    "import torch.nn as nn\n",
    "import numpy as np\n",
    "import gym\n",
    "from typing import Dict\n",
    "import numpy as np\n",
    "import ray\n",
    "import pytz\n",
    "from ray import tune"
   ]
  },
  {
   "cell_type": "markdown",
   "id": "95d08f35",
   "metadata": {
    "id": "xHfH5HGWoTD7",
    "tags": []
   },
   "source": [
    "## Init ray and env"
   ]
  },
  {
   "cell_type": "code",
   "execution_count": 3,
   "id": "e8fa5634",
   "metadata": {
    "colab": {
     "base_uri": "https://localhost:8080/",
     "height": 77
    },
    "id": "hnJ6GUQ4hMVI",
    "outputId": "dd9168e0-5b52-463b-8e1b-c3d45c303eb6",
    "tags": []
   },
   "outputs": [
    {
     "name": "stderr",
     "output_type": "stream",
     "text": [
      "2023-03-27 10:29:16,326\tINFO worker.py:1538 -- Started a local Ray instance.\n"
     ]
    },
    {
     "data": {
      "text/html": [
       "<div>\n",
       "    <div style=\"margin-left: 50px;display: flex;flex-direction: row;align-items: center\">\n",
       "        <h3 style=\"color: var(--jp-ui-font-color0)\">Ray</h3>\n",
       "        <svg version=\"1.1\" id=\"ray\" width=\"3em\" viewBox=\"0 0 144.5 144.6\" style=\"margin-left: 3em;margin-right: 3em\">\n",
       "            <g id=\"layer-1\">\n",
       "                <path fill=\"#00a2e9\" class=\"st0\" d=\"M97.3,77.2c-3.8-1.1-6.2,0.9-8.3,5.1c-3.5,6.8-9.9,9.9-17.4,9.6S58,88.1,54.8,81.2c-1.4-3-3-4-6.3-4.1\n",
       "                    c-5.6-0.1-9.9,0.1-13.1,6.4c-3.8,7.6-13.6,10.2-21.8,7.6C5.2,88.4-0.4,80.5,0,71.7c0.1-8.4,5.7-15.8,13.8-18.2\n",
       "                    c8.4-2.6,17.5,0.7,22.3,8c1.3,1.9,1.3,5.2,3.6,5.6c3.9,0.6,8,0.2,12,0.2c1.8,0,1.9-1.6,2.4-2.8c3.5-7.8,9.7-11.8,18-11.9\n",
       "                    c8.2-0.1,14.4,3.9,17.8,11.4c1.3,2.8,2.9,3.6,5.7,3.3c1-0.1,2,0.1,3,0c2.8-0.5,6.4,1.7,8.1-2.7s-2.3-5.5-4.1-7.5\n",
       "                    c-5.1-5.7-10.9-10.8-16.1-16.3C84,38,81.9,37.1,78,38.3C66.7,42,56.2,35.7,53,24.1C50.3,14,57.3,2.8,67.7,0.5\n",
       "                    C78.4-2,89,4.7,91.5,15.3c0.1,0.3,0.1,0.5,0.2,0.8c0.7,3.4,0.7,6.9-0.8,9.8c-1.7,3.2-0.8,5,1.5,7.2c6.7,6.5,13.3,13,19.8,19.7\n",
       "                    c1.8,1.8,3,2.1,5.5,1.2c9.1-3.4,17.9-0.6,23.4,7c4.8,6.9,4.6,16.1-0.4,22.9c-5.4,7.2-14.2,9.9-23.1,6.5c-2.3-0.9-3.5-0.6-5.1,1.1\n",
       "                    c-6.7,6.9-13.6,13.7-20.5,20.4c-1.8,1.8-2.5,3.2-1.4,5.9c3.5,8.7,0.3,18.6-7.7,23.6c-7.9,5-18.2,3.8-24.8-2.9\n",
       "                    c-6.4-6.4-7.4-16.2-2.5-24.3c4.9-7.8,14.5-11,23.1-7.8c3,1.1,4.7,0.5,6.9-1.7C91.7,98.4,98,92.3,104.2,86c1.6-1.6,4.1-2.7,2.6-6.2\n",
       "                    c-1.4-3.3-3.8-2.5-6.2-2.6C99.8,77.2,98.9,77.2,97.3,77.2z M72.1,29.7c5.5,0.1,9.9-4.3,10-9.8c0-0.1,0-0.2,0-0.3\n",
       "                    C81.8,14,77,9.8,71.5,10.2c-5,0.3-9,4.2-9.3,9.2c-0.2,5.5,4,10.1,9.5,10.3C71.8,29.7,72,29.7,72.1,29.7z M72.3,62.3\n",
       "                    c-5.4-0.1-9.9,4.2-10.1,9.7c0,0.2,0,0.3,0,0.5c0.2,5.4,4.5,9.7,9.9,10c5.1,0.1,9.9-4.7,10.1-9.8c0.2-5.5-4-10-9.5-10.3\n",
       "                    C72.6,62.3,72.4,62.3,72.3,62.3z M115,72.5c0.1,5.4,4.5,9.7,9.8,9.9c5.6-0.2,10-4.8,10-10.4c-0.2-5.4-4.6-9.7-10-9.7\n",
       "                    c-5.3-0.1-9.8,4.2-9.9,9.5C115,72.1,115,72.3,115,72.5z M19.5,62.3c-5.4,0.1-9.8,4.4-10,9.8c-0.1,5.1,5.2,10.4,10.2,10.3\n",
       "                    c5.6-0.2,10-4.9,9.8-10.5c-0.1-5.4-4.5-9.7-9.9-9.6C19.6,62.3,19.5,62.3,19.5,62.3z M71.8,134.6c5.9,0.2,10.3-3.9,10.4-9.6\n",
       "                    c0.5-5.5-3.6-10.4-9.1-10.8c-5.5-0.5-10.4,3.6-10.8,9.1c0,0.5,0,0.9,0,1.4c-0.2,5.3,4,9.8,9.3,10\n",
       "                    C71.6,134.6,71.7,134.6,71.8,134.6z\"/>\n",
       "            </g>\n",
       "        </svg>\n",
       "        <table>\n",
       "            <tr>\n",
       "                <td style=\"text-align: left\"><b>Python version:</b></td>\n",
       "                <td style=\"text-align: left\"><b>3.8.16</b></td>\n",
       "            </tr>\n",
       "            <tr>\n",
       "                <td style=\"text-align: left\"><b>Ray version:</b></td>\n",
       "                <td style=\"text-align: left\"><b> 2.2.0</b></td>\n",
       "            </tr>\n",
       "            \n",
       "        </table>\n",
       "    </div>\n",
       "</div>\n"
      ],
      "text/plain": [
       "RayContext(dashboard_url='', python_version='3.8.16', ray_version='2.2.0', ray_commit='b6af0887ee5f2e460202133791ad941a41f15beb', address_info={'node_ip_address': '172.17.0.3', 'raylet_ip_address': '172.17.0.3', 'redis_address': None, 'object_store_address': '/tmp/ray/session_2023-03-27_10-29-14_353690_1283/sockets/plasma_store', 'raylet_socket_name': '/tmp/ray/session_2023-03-27_10-29-14_353690_1283/sockets/raylet', 'webui_url': '', 'session_dir': '/tmp/ray/session_2023-03-27_10-29-14_353690_1283', 'metrics_export_port': 61157, 'gcs_address': '172.17.0.3:62928', 'address': '172.17.0.3:62928', 'dashboard_agent_listen_port': 52365, 'node_id': '1c3d126301f25299c7ed123922579ebee7f9d6802ddf85a67ffed334'})"
      ]
     },
     "execution_count": 3,
     "metadata": {},
     "output_type": "execute_result"
    }
   ],
   "source": [
    "ray.init(num_cpus=12, ignore_reinit_error=True, log_to_driver=False)"
   ]
  },
  {
   "cell_type": "code",
   "execution_count": 4,
   "id": "a8d551fe",
   "metadata": {
    "id": "2ea81f77",
    "tags": []
   },
   "outputs": [],
   "source": [
    "\n",
    "from l5kit.configs import load_config_data\n",
    "\n",
    "# get environment config\n",
    "# env_config_path = '/workspace/source/configs/gym_config_history3.yaml'\n",
    "#env_config_path = '/workspace/source/configs/gym_config84.yaml'\n",
    "env_config_path = '/workspace/source/configs/gym_config.yaml'\n",
    "# env_config_path = '/workspace/source/src/configs/gym_vectorizer_config.yaml'\n",
    "cfg = load_config_data(env_config_path)"
   ]
  },
  {
   "cell_type": "markdown",
   "id": "4f732ad6",
   "metadata": {
    "id": "eBwt9neMoj9h",
    "tags": []
   },
   "source": [
    "## Customize my model"
   ]
  },
  {
   "cell_type": "code",
   "execution_count": 5,
   "id": "cd87b739-34db-49c7-a22e-9d3de0aa54b3",
   "metadata": {
    "tags": []
   },
   "outputs": [],
   "source": [
    "from ray.rllib.models import ModelCatalog\n",
    "from src.customModel.customModel import TorchGNCNN, TorchGNCNN_separated, TorchAttentionModel2,TorchAttentionModel\n",
    "\n",
    "ModelCatalog.register_custom_model(\"GN_CNN_torch_model\", TorchGNCNN)\n",
    "ModelCatalog.register_custom_model(\"GN_CNN_separated_torch_model\", TorchGNCNN_separated)\n",
    "ModelCatalog.register_custom_model( \"TorchSeparatedAttentionModel\", TorchAttentionModel)\n",
    "ModelCatalog.register_custom_model( \"TorchSharedAttentionModel\", TorchAttentionModel2)"
   ]
  },
  {
   "cell_type": "markdown",
   "id": "5cfe748f",
   "metadata": {
    "id": "2cead394",
    "tags": []
   },
   "source": [
    "## Define Training and Evaluation Environments\n",
    "\n",
    "**Training**: We will be training the PPO policy on episodes of length 32 time-steps. We will have 4 sub-processes (training environments) that will help to parallelize and speeden up episode rollouts. The *SimConfig* dataclass will define the parameters of the episode rollout: like length of episode rollout, whether to use log-replayed agents or simulated agents etc.\n",
    "\n",
    "**Evaluation**: We will evaluate the performance of the PPO policy on the *entire* scene (~248 time-steps)."
   ]
  },
  {
   "cell_type": "markdown",
   "id": "24674ab9",
   "metadata": {
    "id": "0CAZm9UDo1C0",
    "tags": []
   },
   "source": [
    "### Calculate # channels"
   ]
  },
  {
   "cell_type": "code",
   "execution_count": 6,
   "id": "f5cb1bc5-2c66-49f7-b748-87dbb5ddfb1b",
   "metadata": {
    "tags": []
   },
   "outputs": [
    {
     "name": "stdout",
     "output_type": "stream",
     "text": [
      "1 1 7\n"
     ]
    }
   ],
   "source": [
    "n_channels = (cfg['model_params']['future_num_frames'] + 1)* 2 + 3\n",
    "print(cfg['model_params']['future_num_frames'], cfg['model_params']['history_num_frames'], n_channels)"
   ]
  },
  {
   "cell_type": "code",
   "execution_count": 7,
   "id": "fd67c448",
   "metadata": {
    "id": "XfXbbfjCg3aw",
    "tags": []
   },
   "outputs": [],
   "source": [
    "from ray import tune\n",
    "from src.customEnv.wrapper import L5EnvWrapper\n",
    "train_eps_length = 32\n",
    "train_sim_cfg = SimulationConfigGym()\n",
    "train_sim_cfg.num_simulation_steps = train_eps_length + 1\n",
    "\n",
    "\n",
    "# Register , how your env should be constructed (always with 5, or you can take values from the `config` EnvContext object):\n",
    "env_kwargs = {'env_config_path': env_config_path, 'use_kinematic': True, 'sim_cfg': train_sim_cfg}\n",
    "\n",
    "tune.register_env(\"L5-CLE-V0\", lambda config: L5Env(**env_kwargs))\n",
    "tune.register_env(\"L5-CLE-V1\", lambda config: L5EnvWrapper(env = L5Env(**env_kwargs), \\\n",
    "                                                           raster_size= cfg['raster_params']['raster_size'][0], \\\n",
    "                                                           n_channels = n_channels))"
   ]
  },
  {
   "cell_type": "code",
   "execution_count": 9,
   "id": "73af6dfc-db50-4898-bad6-f5427c17a442",
   "metadata": {
    "tags": []
   },
   "outputs": [],
   "source": [
    "from l5kit.environment.envs.l5_env2 import GymStepOutput, SimulationConfigGym, L5Env2\n",
    "\n",
    "train_eps_length = 32\n",
    "train_sim_cfg = SimulationConfigGym()\n",
    "train_sim_cfg.num_simulation_steps = train_eps_length + 1\n",
    "\n",
    "env_kwargs = {'env_config_path': env_config_path, 'use_kinematic': False, 'sim_cfg': train_sim_cfg}\n",
    "tune.register_env(\"L5-CLE-V2\", lambda config: L5Env2(**env_kwargs))"
   ]
  },
  {
   "cell_type": "markdown",
   "id": "f53e7375",
   "metadata": {
    "id": "rg8sxEnanVxL",
    "tags": []
   },
   "source": [
    "## Train"
   ]
  },
  {
   "cell_type": "markdown",
   "id": "c3a717ac",
   "metadata": {
    "id": "LlFBhHgZfx5f",
    "tags": []
   },
   "source": [
    "### ref\n",
    "\n",
    "Resume stop tune: https://docs.ray.io/en/latest/tune/tutorials/tune-stopping.html\n",
    "\n",
    "tune.Tuner analysis: https://docs.ray.io/en/latest/rllib/rllib-training.html#basic-python-api\n",
    "\n",
    "get best result, load from dir: https://docs.ray.io/en/master/tune/examples/tune_analyze_results.html#trial-level-analysis-working-with-an-individual-result\n",
    "\n",
    "### Hyperparam\n",
    "```\n",
    "lr = 3e-4\n",
    "num_rollout_steps = 256\n",
    "gamma = 0.8\n",
    "gae_lambda = 0.9\n",
    "n_epochs = 10\n",
    "seed = 42\n",
    "batch_size = 64\n",
    "```\n",
    "### Clipping schedule of PPO epsilon parameter\n",
    "```\n",
    "start_val = 0.1\n",
    "end_val = 0.01\n",
    "training_progress_ratio = 1.0\n",
    "clip_schedule = get_linear_fn(start_val, end_val, training_progress_ratio)\n",
    "```"
   ]
  },
  {
   "cell_type": "code",
   "execution_count": 10,
   "id": "975bc7ad-0032-4a6c-b85b-f45911b1b2e3",
   "metadata": {
    "tags": []
   },
   "outputs": [
    {
     "name": "stdout",
     "output_type": "stream",
     "text": [
      "\u001b[34m\u001b[1mwandb\u001b[0m: Appending key for api.wandb.ai to your netrc file: /root/.netrc\n"
     ]
    }
   ],
   "source": [
    "!wandb login 083592c84134c040dcca598c644c348d32540a08"
   ]
  },
  {
   "cell_type": "code",
   "execution_count": 11,
   "id": "c6a952aa-ef4f-4116-988e-ad36f06eec6a",
   "metadata": {
    "tags": []
   },
   "outputs": [],
   "source": [
    "import numpy as np\n",
    "\n",
    "import ray\n",
    "from ray import air, tune\n",
    "from ray.air import session\n",
    "from ray.air.integrations.wandb import setup_wandb\n",
    "from ray.air.integrations.wandb import WandbLoggerCallback\n",
    "os.environ['WANDB_NOTEBOOK_NAME'] = 'rllib_ppo_policy_training.ipynb'\n",
    "os.environ[\"WANDB_API_KEY\"] = '083592c84134c040dcca598c644c348d32540a08'"
   ]
  },
  {
   "cell_type": "code",
   "execution_count": 12,
   "id": "588ebe4f-cd2a-4989-90db-c1f8a337e2be",
   "metadata": {
    "tags": []
   },
   "outputs": [
    {
     "name": "stderr",
     "output_type": "stream",
     "text": [
      "\u001b[34m\u001b[1mwandb\u001b[0m: Currently logged in as: \u001b[33mpronton2001\u001b[0m. Use \u001b[1m`wandb login --relogin`\u001b[0m to force relogin\n"
     ]
    },
    {
     "data": {
      "text/html": [
       "Tracking run with wandb version 0.14.0"
      ],
      "text/plain": [
       "<IPython.core.display.HTML object>"
      ]
     },
     "metadata": {},
     "output_type": "display_data"
    },
    {
     "data": {
      "text/html": [
       "Run data is saved locally in <code>/workspace/source/wandb/run-20230323_131638-lbarg4d7</code>"
      ],
      "text/plain": [
       "<IPython.core.display.HTML object>"
      ]
     },
     "metadata": {},
     "output_type": "display_data"
    },
    {
     "data": {
      "text/html": [
       "Syncing run <strong><a href='https://wandb.ai/pronton2001/l5kit2/runs/lbarg4d7' target=\"_blank\">scarlet-fire-4</a></strong> to <a href='https://wandb.ai/pronton2001/l5kit2' target=\"_blank\">Weights & Biases</a> (<a href='https://wandb.me/run' target=\"_blank\">docs</a>)<br/>"
      ],
      "text/plain": [
       "<IPython.core.display.HTML object>"
      ]
     },
     "metadata": {},
     "output_type": "display_data"
    },
    {
     "data": {
      "text/html": [
       " View project at <a href='https://wandb.ai/pronton2001/l5kit2' target=\"_blank\">https://wandb.ai/pronton2001/l5kit2</a>"
      ],
      "text/plain": [
       "<IPython.core.display.HTML object>"
      ]
     },
     "metadata": {},
     "output_type": "display_data"
    },
    {
     "data": {
      "text/html": [
       " View run at <a href='https://wandb.ai/pronton2001/l5kit2/runs/lbarg4d7' target=\"_blank\">https://wandb.ai/pronton2001/l5kit2/runs/lbarg4d7</a>"
      ],
      "text/plain": [
       "<IPython.core.display.HTML object>"
      ]
     },
     "metadata": {},
     "output_type": "display_data"
    },
    {
     "data": {
      "text/html": [
       "<button onClick=\"this.nextSibling.style.display='block';this.style.display='none';\">Display W&B run</button><iframe src='https://wandb.ai/pronton2001/l5kit2/runs/lbarg4d7?jupyter=true' style='border:none;width:100%;height:420px;display:none;'></iframe>"
      ],
      "text/plain": [
       "<wandb.sdk.wandb_run.Run at 0x7f1542d3c0a0>"
      ]
     },
     "execution_count": 12,
     "metadata": {},
     "output_type": "execute_result"
    }
   ],
   "source": [
    "import wandb\n",
    "wandb.init(project=\"l5kit2\", reinit = True)"
   ]
  },
  {
   "cell_type": "markdown",
   "id": "a9f77763-3a6c-44bb-861f-970ea051a223",
   "metadata": {
    "tags": []
   },
   "source": [
    "### debug"
   ]
  },
  {
   "cell_type": "code",
   "execution_count": 13,
   "id": "03b2ba45",
   "metadata": {
    "colab": {
     "base_uri": "https://localhost:8080/",
     "height": 1000
    },
    "id": "gbfV227Jct2l",
    "outputId": "fd5c0af4-ad87-4a5d-a526-58dfad3b8646",
    "tags": []
   },
   "outputs": [
    {
     "data": {
      "text/html": [
       "<div class=\"tuneStatus\">\n",
       "  <div style=\"display: flex;flex-direction: row\">\n",
       "    <div style=\"display: flex;flex-direction: column;\">\n",
       "      <h3>Tune Status</h3>\n",
       "      <table>\n",
       "<tbody>\n",
       "<tr><td>Current time:</td><td>2023-03-23 13:49:13</td></tr>\n",
       "<tr><td>Running for: </td><td>00:31:40.67        </td></tr>\n",
       "<tr><td>Memory:      </td><td>44.2/62.6 GiB      </td></tr>\n",
       "</tbody>\n",
       "</table>\n",
       "    </div>\n",
       "    <div class=\"vDivider\"></div>\n",
       "    <div class=\"systemInfo\">\n",
       "      <h3>System Info</h3>\n",
       "      Using FIFO scheduling algorithm.<br>Resources requested: 3.0/12 CPUs, 2.0/2 GPUs, 0.0/28.09 GiB heap, 0.0/14.05 GiB objects (0.0/1.0 accelerator_type:G)\n",
       "    </div>\n",
       "    \n",
       "  </div>\n",
       "  <div class=\"hDivider\"></div>\n",
       "  <div class=\"trialStatus\">\n",
       "    <h3>Trial Status</h3>\n",
       "    <table>\n",
       "<thead>\n",
       "<tr><th>Trial name               </th><th>status  </th><th>loc               </th><th style=\"text-align: right;\">  iter</th><th style=\"text-align: right;\">  total time (s)</th><th style=\"text-align: right;\">    ts</th><th style=\"text-align: right;\">  reward</th><th style=\"text-align: right;\">  episode_reward_max</th><th style=\"text-align: right;\">  episode_reward_min</th><th style=\"text-align: right;\">  episode_len_mean</th></tr>\n",
       "</thead>\n",
       "<tbody>\n",
       "<tr><td>PPO_L5-CLE-V1_11f51_00000</td><td>RUNNING </td><td>172.17.0.2:3813666</td><td style=\"text-align: right;\">    51</td><td style=\"text-align: right;\">         1841.24</td><td style=\"text-align: right;\">204000</td><td style=\"text-align: right;\">-271.537</td><td style=\"text-align: right;\">            -72.2904</td><td style=\"text-align: right;\">            -424.633</td><td style=\"text-align: right;\">                31</td></tr>\n",
       "</tbody>\n",
       "</table>\n",
       "  </div>\n",
       "</div>\n",
       "<style>\n",
       ".tuneStatus {\n",
       "  color: var(--jp-ui-font-color1);\n",
       "}\n",
       ".tuneStatus .systemInfo {\n",
       "  display: flex;\n",
       "  flex-direction: column;\n",
       "}\n",
       ".tuneStatus td {\n",
       "  white-space: nowrap;\n",
       "}\n",
       ".tuneStatus .trialStatus {\n",
       "  display: flex;\n",
       "  flex-direction: column;\n",
       "}\n",
       ".tuneStatus h3 {\n",
       "  font-weight: bold;\n",
       "}\n",
       ".tuneStatus .hDivider {\n",
       "  border-bottom-width: var(--jp-border-width);\n",
       "  border-bottom-color: var(--jp-border-color0);\n",
       "  border-bottom-style: solid;\n",
       "}\n",
       ".tuneStatus .vDivider {\n",
       "  border-left-width: var(--jp-border-width);\n",
       "  border-left-color: var(--jp-border-color0);\n",
       "  border-left-style: solid;\n",
       "  margin: 0.5em 1em 0.5em 1em;\n",
       "}\n",
       "</style>\n"
      ],
      "text/plain": [
       "<IPython.core.display.HTML object>"
      ]
     },
     "metadata": {},
     "output_type": "display_data"
    },
    {
     "name": "stderr",
     "output_type": "stream",
     "text": [
      "2023-03-23 13:17:32,792\tINFO algorithm_config.py:2503 -- Your framework setting is 'tf', meaning you are using static-graph mode. Set framework='tf2' to enable eager execution with tf2.x. You may also then want to set eager_tracing=True in order to reach similar execution speed as with static-graph mode.\n",
      "2023-03-23 13:17:32,793\tINFO algorithm_config.py:2503 -- Your framework setting is 'tf', meaning you are using static-graph mode. Set framework='tf2' to enable eager execution with tf2.x. You may also then want to set eager_tracing=True in order to reach similar execution speed as with static-graph mode.\n"
     ]
    },
    {
     "data": {
      "text/html": [
       "<div class=\"trialProgress\">\n",
       "  <h3>Trial Progress</h3>\n",
       "  <table>\n",
       "<thead>\n",
       "<tr><th>Trial name               </th><th style=\"text-align: right;\">  agent_timesteps_total</th><th>counters                                                                                                                                </th><th>custom_metrics  </th><th>date               </th><th>done  </th><th style=\"text-align: right;\">  episode_len_mean</th><th>episode_media  </th><th style=\"text-align: right;\">  episode_reward_max</th><th style=\"text-align: right;\">  episode_reward_mean</th><th style=\"text-align: right;\">  episode_reward_min</th><th style=\"text-align: right;\">  episodes_this_iter</th><th style=\"text-align: right;\">  episodes_total</th><th>experiment_id                   </th><th>hostname    </th><th>info                                                                                                                                                                                                                                                                                                                                                                                                                                                                                                                                                       </th><th style=\"text-align: right;\">  iterations_since_restore</th><th>node_ip   </th><th style=\"text-align: right;\">  num_agent_steps_sampled</th><th style=\"text-align: right;\">  num_agent_steps_trained</th><th style=\"text-align: right;\">  num_env_steps_sampled</th><th style=\"text-align: right;\">  num_env_steps_sampled_this_iter</th><th style=\"text-align: right;\">  num_env_steps_trained</th><th style=\"text-align: right;\">  num_env_steps_trained_this_iter</th><th style=\"text-align: right;\">  num_faulty_episodes</th><th style=\"text-align: right;\">  num_healthy_workers</th><th style=\"text-align: right;\">  num_in_flight_async_reqs</th><th style=\"text-align: right;\">  num_remote_worker_restarts</th><th style=\"text-align: right;\">  num_steps_trained_this_iter</th><th>perf                                                                         </th><th style=\"text-align: right;\">    pid</th><th>policy_reward_max  </th><th>policy_reward_mean  </th><th>policy_reward_min  </th><th>sampler_perf                                                                                                                                                                                                  </th><th>sampler_results                                                                                                                                                                                                                                                                                                                                                                                                                                                                                                                                                                                                                                                                                                                                                                                                                                                                                                                                                                                                                                                                                                                                                                                                                                                                                                                                                                                                                                                                                                                                                                                                                                                                                                                                                                                                                                                                                                                                                                                                                                                                                                                                                                                                                                                                                                                                                                                                                                                                                                                                                                                                                                                                                                                                                                                                                                                                                                                                                                                                                                                                                                                                                                                                                                                                                                                                                                                                                                                                                                                                                                                                                                                                                                                                                                                                                                                                            </th><th style=\"text-align: right;\">  time_since_restore</th><th style=\"text-align: right;\">  time_this_iter_s</th><th style=\"text-align: right;\">  time_total_s</th><th>timers                                                                                                                                                                                  </th><th style=\"text-align: right;\">  timestamp</th><th style=\"text-align: right;\">  timesteps_since_restore</th><th style=\"text-align: right;\">  timesteps_total</th><th style=\"text-align: right;\">  training_iteration</th><th>trial_id   </th><th style=\"text-align: right;\">  warmup_time</th></tr>\n",
       "</thead>\n",
       "<tbody>\n",
       "<tr><td>PPO_L5-CLE-V1_11f51_00000</td><td style=\"text-align: right;\">                 204000</td><td>{&#x27;num_env_steps_sampled&#x27;: 204000, &#x27;num_env_steps_trained&#x27;: 204000, &#x27;num_agent_steps_sampled&#x27;: 204000, &#x27;num_agent_steps_trained&#x27;: 204000}</td><td>{}              </td><td>2023-03-23_13-48-43</td><td>False </td><td style=\"text-align: right;\">                31</td><td>{}             </td><td style=\"text-align: right;\">            -72.2904</td><td style=\"text-align: right;\">             -271.537</td><td style=\"text-align: right;\">            -424.633</td><td style=\"text-align: right;\">                 128</td><td style=\"text-align: right;\">            6576</td><td>b10450a215964734b9f879932f44cec6</td><td>815d38126431</td><td>{&#x27;learner&#x27;: {&#x27;default_policy&#x27;: {&#x27;learner_stats&#x27;: {&#x27;cur_kl_coeff&#x27;: 0.20000000298023224, &#x27;cur_lr&#x27;: 0.0003000000142492354, &#x27;total_loss&#x27;: 9.227027, &#x27;policy_loss&#x27;: 0.035134558, &#x27;vf_loss&#x27;: 9.179155, &#x27;vf_explained_var&#x27;: 0.057346385, &#x27;kl&#x27;: 0.06368031, &#x27;entropy&#x27;: 5.241145, &#x27;entropy_coeff&#x27;: 0.0, &#x27;model&#x27;: {}}, &#x27;train&#x27;: None, &#x27;num_grad_updates_lifetime&#x27;: 6313.0, &#x27;diff_num_grad_updates_vs_sampler_policy&#x27;: 62.0}}, &#x27;num_env_steps_sampled&#x27;: 204000, &#x27;num_env_steps_trained&#x27;: 204000, &#x27;num_agent_steps_sampled&#x27;: 204000, &#x27;num_agent_steps_trained&#x27;: 204000}</td><td style=\"text-align: right;\">                        51</td><td>172.17.0.2</td><td style=\"text-align: right;\">                   204000</td><td style=\"text-align: right;\">                   204000</td><td style=\"text-align: right;\">                 204000</td><td style=\"text-align: right;\">                             4000</td><td style=\"text-align: right;\">                 204000</td><td style=\"text-align: right;\">                             4000</td><td style=\"text-align: right;\">                    0</td><td style=\"text-align: right;\">                    2</td><td style=\"text-align: right;\">                         0</td><td style=\"text-align: right;\">                           0</td><td style=\"text-align: right;\">                         4000</td><td>{&#x27;cpu_util_percent&#x27;: 48.41698113207548, &#x27;ram_util_percent&#x27;: 70.5075471698113}</td><td style=\"text-align: right;\">3813666</td><td>{}                 </td><td>{}                  </td><td>{}                 </td><td>{&#x27;mean_raw_obs_processing_ms&#x27;: 40.120358420542146, &#x27;mean_inference_ms&#x27;: 2.1864437298710957, &#x27;mean_action_processing_ms&#x27;: 0.3665060787770118, &#x27;mean_env_wait_ms&#x27;: 26.04979443309832, &#x27;mean_env_render_ms&#x27;: 0.0}</td><td>{&#x27;episode_reward_max&#x27;: -72.29036466497928, &#x27;episode_reward_min&#x27;: -424.6326723098755, &#x27;episode_reward_mean&#x27;: -271.5368013003099, &#x27;episode_len_mean&#x27;: 31.0, &#x27;episode_media&#x27;: {}, &#x27;episodes_this_iter&#x27;: 128, &#x27;policy_reward_min&#x27;: {}, &#x27;policy_reward_max&#x27;: {}, &#x27;policy_reward_mean&#x27;: {}, &#x27;custom_metrics&#x27;: {}, &#x27;hist_stats&#x27;: {&#x27;episode_reward&#x27;: [-320.49872756004333, -331.33009111881256, -254.64759904146194, -258.95016618818045, -73.37109054625034, -353.94468382000923, -407.4657236933708, -178.12901408970356, -131.25328987836838, -153.18648019433022, -319.9833137989044, -227.77784448862076, -341.04319709539413, -323.95929288864136, -401.3403364419937, -394.8538956642151, -309.15074026584625, -401.98069047927856, -222.00590401887894, -364.9382453262806, -126.42855529487133, -233.3707655519247, -386.8329568505287, -230.68263341486454, -133.8042548596859, -394.9319787621498, -381.70598965883255, -216.73011784255505, -327.7143855392933, -350.1724712252617, -406.6787306070328, -323.8115485459566, -359.47855192422867, -160.0938250720501, -148.0114896185696, -408.42030838131905, -131.09166803956032, -187.0251097343862, -175.76716822385788, -330.62593407928944, -337.9513493180275, -361.497356235981, -115.77321666479111, -121.0280089378357, -306.89625126868486, -207.52321684360504, -334.917503207922, -346.4921433031559, -364.7035163640976, -182.67496529221535, -370.375956594944, -115.55557650327682, -302.8898401260376, -191.20162600278854, -72.29036466497928, -261.7524892091751, -329.5795161873102, -190.30997759103775, -367.97856444120407, -107.87456357479095, -110.7568706870079, -146.62701296806335, -361.8665780425072, -194.91470009088516, -378.94415056705475, -237.8127675652504, -117.96578252315521, -163.33206252753735, -300.3116058707237, -108.44765305519104, -377.5449169874191, -83.05031706392765, -378.5364275574684, -293.82226648926735, -412.0138610005379, -163.14295241236687, -281.5633153319359, -371.666650891304, -380.92470440268517, -399.0747767686844, -327.5645308494568, -87.48160510137677, -306.32372057437897, -129.4993748664856, -339.06445440649986, -382.41919857263565, -283.07505279779434, -215.53826838731766, -370.85169714689255, -365.3953742980957, -109.0891640484333, -417.1691017150879, -405.09610918164253, -175.69591575860977, -247.1060107946396, -380.0062156319618, -343.52674412727356, -239.7268499881029, -384.3435496687889, -364.3777527809143, -293.2017331123352, -412.58117789030075, -315.1971420645714, -220.11057171225548, -143.86274242401123, -144.54410310089588, -342.85391610860825, -233.2673363685608, -287.0335465371609, -309.88363982737064, -296.3713381886482, -317.8379254937172, -129.56637012958527, -174.69766247272491, -393.67325109243393, -424.6326723098755, -376.54895943403244, -335.526992559433, -138.6563260704279, -254.1699706017971, -132.82086724042892, -106.59234195947647, -251.28567122668028, -147.83038866519928, -327.7561853528023, -385.97599548101425, -237.4238064289093, -314.68309693038464], &#x27;episode_lengths&#x27;: [31, 31, 31, 31, 31, 31, 31, 31, 31, 31, 31, 31, 31, 31, 31, 31, 31, 31, 31, 31, 31, 31, 31, 31, 31, 31, 31, 31, 31, 31, 31, 31, 31, 31, 31, 31, 31, 31, 31, 31, 31, 31, 31, 31, 31, 31, 31, 31, 31, 31, 31, 31, 31, 31, 31, 31, 31, 31, 31, 31, 31, 31, 31, 31, 31, 31, 31, 31, 31, 31, 31, 31, 31, 31, 31, 31, 31, 31, 31, 31, 31, 31, 31, 31, 31, 31, 31, 31, 31, 31, 31, 31, 31, 31, 31, 31, 31, 31, 31, 31, 31, 31, 31, 31, 31, 31, 31, 31, 31, 31, 31, 31, 31, 31, 31, 31, 31, 31, 31, 31, 31, 31, 31, 31, 31, 31, 31, 31]}, &#x27;sampler_perf&#x27;: {&#x27;mean_raw_obs_processing_ms&#x27;: 40.120358420542146, &#x27;mean_inference_ms&#x27;: 2.1864437298710957, &#x27;mean_action_processing_ms&#x27;: 0.3665060787770118, &#x27;mean_env_wait_ms&#x27;: 26.04979443309832, &#x27;mean_env_render_ms&#x27;: 0.0}, &#x27;num_faulty_episodes&#x27;: 0}</td><td style=\"text-align: right;\">             1841.24</td><td style=\"text-align: right;\">           37.3545</td><td style=\"text-align: right;\">       1841.24</td><td>{&#x27;training_iteration_time_ms&#x27;: 37600.443, &#x27;load_time_ms&#x27;: 167.126, &#x27;load_throughput&#x27;: 23934.074, &#x27;learn_time_ms&#x27;: 982.088, &#x27;learn_throughput&#x27;: 4072.954, &#x27;synch_weights_time_ms&#x27;: 3.528}</td><td style=\"text-align: right;\"> 1679579323</td><td style=\"text-align: right;\">                        0</td><td style=\"text-align: right;\">           204000</td><td style=\"text-align: right;\">                  51</td><td>11f51_00000</td><td style=\"text-align: right;\">      23.7732</td></tr>\n",
       "</tbody>\n",
       "</table>\n",
       "</div>\n",
       "<style>\n",
       ".trialProgress {\n",
       "  display: flex;\n",
       "  flex-direction: column;\n",
       "  color: var(--jp-ui-font-color1);\n",
       "}\n",
       ".trialProgress h3 {\n",
       "  font-weight: bold;\n",
       "}\n",
       ".trialProgress td {\n",
       "  white-space: nowrap;\n",
       "}\n",
       "</style>\n"
      ],
      "text/plain": [
       "<IPython.core.display.HTML object>"
      ]
     },
     "metadata": {},
     "output_type": "display_data"
    },
    {
     "name": "stderr",
     "output_type": "stream",
     "text": [
      "2023-03-23 13:49:12,445\tWARNING tune.py:690 -- Stop signal received (e.g. via SIGINT/Ctrl+C), ending Ray Tune run. This will try to checkpoint the experiment state one last time. Press CTRL+C (or send SIGINT/SIGKILL/SIGTERM) to skip. \n",
      "2023-03-23 13:49:13,662\tERROR tune.py:758 -- Trials did not complete: [PPO_L5-CLE-V1_11f51_00000]\n",
      "2023-03-23 13:49:13,663\tINFO tune.py:762 -- Total run time: 1900.92 seconds (1900.66 seconds for the tuning loop).\n",
      "2023-03-23 13:49:13,664\tWARNING tune.py:768 -- Experiment has been interrupted, but the most recent state was saved. You can continue running this experiment by passing `resume=True` to `tune.run()`\n"
     ]
    }
   ],
   "source": [
    "import ray\n",
    "from ray import air, tune\n",
    "\n",
    "train_envs = 4\n",
    "hcmTz = pytz.timezone(\"Asia/Ho_Chi_Minh\") \n",
    "date = datetime.datetime.now(hcmTz).strftime(\"%d-%m-%Y_%H-%M-%S\")\n",
    "ray_result_logdir = '/workspace/datasets/ray_results/' +'debug_'+ date\n",
    "\n",
    "config_param_space = {\n",
    "    \"env\": \"L5-CLE-V1\",\n",
    "    \"framework\": \"tf\",\n",
    "    \"num_gpus\": 2,\n",
    "    \"num_workers\": 2,\n",
    "    \"num_envs_per_worker\": train_envs,\n",
    "    'num_sgd_iter': 1,\n",
    "    'sgd_minibatch_size': 32,\n",
    "    # 'num_cpus_per_worker': 0,  # This avoids running out of resources in the notebook environment when this cell is re-executed\n",
    "    # \"model\": {\n",
    "    #     \"custom_model\": \"GN_CNN_torch_model\",\n",
    "    #     \"custom_model_config\": {'feature_dim':128},\n",
    "    # },\n",
    "        'model' : {\n",
    "            \"dim\": 84,\n",
    "            # \"conv_filters\" : [[64, [7,7], 3], [32, [11,11], 3], [32, [11,11], 3]],\n",
    "            # \"conv_activation\": \"relu\",\n",
    "            \"post_fcnet_hiddens\": [256],\n",
    "            \"post_fcnet_activation\": \"relu\",\n",
    "            \"vf_share_layers\": True,   \n",
    "    },\n",
    "    '_disable_preprocessor_api': True,\n",
    "    \"eager_tracing\": False,\n",
    "     \"restart_failed_sub_environments\": True,\n",
    "    \"lr\": 0.0003,\n",
    "    \"gamma\": 0.8,\n",
    "    'seed': 42,\n",
    "}\n",
    "\n",
    "result_grid = tune.Tuner(\n",
    "    \"PPO\",\n",
    "    run_config=air.RunConfig(\n",
    "        stop={\"episode_reward_mean\": 0, 'timesteps_total': int(6e6)},\n",
    "        local_dir=ray_result_logdir,\n",
    "        checkpoint_config=air.CheckpointConfig(num_to_keep=4, checkpoint_frequency = 10, checkpoint_score_attribute = 'episode_reward_mean')\n",
    "        ),\n",
    "    param_space=config_param_space).fit()"
   ]
  },
  {
   "cell_type": "markdown",
   "id": "b5f2b43a-3008-4e91-a244-198a5d4e887b",
   "metadata": {},
   "source": [
    "### Shared Policy"
   ]
  },
  {
   "cell_type": "code",
   "execution_count": null,
   "id": "ca0b5bc5-ccb3-48ac-a886-c965cbaa2448",
   "metadata": {
    "tags": []
   },
   "outputs": [
    {
     "data": {
      "text/html": [
       "<div class=\"tuneStatus\">\n",
       "  <div style=\"display: flex;flex-direction: row\">\n",
       "    <div style=\"display: flex;flex-direction: column;\">\n",
       "      <h3>Tune Status</h3>\n",
       "      <table>\n",
       "<tbody>\n",
       "<tr><td>Current time:</td><td>2023-03-23 15:13:22</td></tr>\n",
       "<tr><td>Running for: </td><td>01:23:48.59        </td></tr>\n",
       "<tr><td>Memory:      </td><td>45.3/62.6 GiB      </td></tr>\n",
       "</tbody>\n",
       "</table>\n",
       "    </div>\n",
       "    <div class=\"vDivider\"></div>\n",
       "    <div class=\"systemInfo\">\n",
       "      <h3>System Info</h3>\n",
       "      Using FIFO scheduling algorithm.<br>Resources requested: 3.0/12 CPUs, 1.0/2 GPUs, 0.0/28.09 GiB heap, 0.0/14.05 GiB objects (0.0/1.0 accelerator_type:G)\n",
       "    </div>\n",
       "    \n",
       "  </div>\n",
       "  <div class=\"hDivider\"></div>\n",
       "  <div class=\"trialStatus\">\n",
       "    <h3>Trial Status</h3>\n",
       "    <table>\n",
       "<thead>\n",
       "<tr><th>Trial name               </th><th>status  </th><th>loc               </th><th style=\"text-align: right;\">  iter</th><th style=\"text-align: right;\">  total time (s)</th><th style=\"text-align: right;\">    ts</th><th style=\"text-align: right;\">  reward</th><th style=\"text-align: right;\">  episode_reward_max</th><th style=\"text-align: right;\">  episode_reward_min</th><th style=\"text-align: right;\">  episode_len_mean</th></tr>\n",
       "</thead>\n",
       "<tbody>\n",
       "<tr><td>PPO_L5-CLE-V1_8b412_00000</td><td>RUNNING </td><td>172.17.0.2:4149783</td><td style=\"text-align: right;\">    62</td><td style=\"text-align: right;\">         4964.08</td><td style=\"text-align: right;\">496000</td><td style=\"text-align: right;\">-113.122</td><td style=\"text-align: right;\">            -3.67105</td><td style=\"text-align: right;\">            -409.466</td><td style=\"text-align: right;\">                31</td></tr>\n",
       "</tbody>\n",
       "</table>\n",
       "  </div>\n",
       "</div>\n",
       "<style>\n",
       ".tuneStatus {\n",
       "  color: var(--jp-ui-font-color1);\n",
       "}\n",
       ".tuneStatus .systemInfo {\n",
       "  display: flex;\n",
       "  flex-direction: column;\n",
       "}\n",
       ".tuneStatus td {\n",
       "  white-space: nowrap;\n",
       "}\n",
       ".tuneStatus .trialStatus {\n",
       "  display: flex;\n",
       "  flex-direction: column;\n",
       "}\n",
       ".tuneStatus h3 {\n",
       "  font-weight: bold;\n",
       "}\n",
       ".tuneStatus .hDivider {\n",
       "  border-bottom-width: var(--jp-border-width);\n",
       "  border-bottom-color: var(--jp-border-color0);\n",
       "  border-bottom-style: solid;\n",
       "}\n",
       ".tuneStatus .vDivider {\n",
       "  border-left-width: var(--jp-border-width);\n",
       "  border-left-color: var(--jp-border-color0);\n",
       "  border-left-style: solid;\n",
       "  margin: 0.5em 1em 0.5em 1em;\n",
       "}\n",
       "</style>\n"
      ],
      "text/plain": [
       "<IPython.core.display.HTML object>"
      ]
     },
     "metadata": {},
     "output_type": "display_data"
    },
    {
     "name": "stderr",
     "output_type": "stream",
     "text": [
      "2023-03-23 13:49:34,267\tINFO algorithm_config.py:2503 -- Your framework setting is 'tf', meaning you are using static-graph mode. Set framework='tf2' to enable eager execution with tf2.x. You may also then want to set eager_tracing=True in order to reach similar execution speed as with static-graph mode.\n",
      "2023-03-23 13:49:34,268\tINFO algorithm_config.py:2503 -- Your framework setting is 'tf', meaning you are using static-graph mode. Set framework='tf2' to enable eager execution with tf2.x. You may also then want to set eager_tracing=True in order to reach similar execution speed as with static-graph mode.\n",
      "\u001b[34m\u001b[1mwandb\u001b[0m: \u001b[33mWARNING\u001b[0m WANDB_NOTEBOOK_NAME should be a path to a notebook file, couldn't find rllib_ppo_policy_training.ipynb.\n"
     ]
    },
    {
     "data": {
      "text/html": [
       "Tracking run with wandb version 0.14.0"
      ],
      "text/plain": [
       "<IPython.core.display.HTML object>"
      ]
     },
     "metadata": {},
     "output_type": "display_data"
    },
    {
     "data": {
      "text/html": [
       "Run data is saved locally in <code>/workspace/datasets/ray_results/23-03-2023_20-49-34/PPO/PPO_L5-CLE-V1_8b412_00000_0_2023-03-23_13-49-34/wandb/run-20230323_134935-8b412_00000</code>"
      ],
      "text/plain": [
       "<IPython.core.display.HTML object>"
      ]
     },
     "metadata": {},
     "output_type": "display_data"
    },
    {
     "data": {
      "text/html": [
       "Syncing run <strong><a href='https://wandb.ai/pronton2001/l5kit2/runs/8b412_00000' target=\"_blank\">PPO_L5-CLE-V1_8b412_00000</a></strong> to <a href='https://wandb.ai/pronton2001/l5kit2' target=\"_blank\">Weights & Biases</a> (<a href='https://wandb.me/run' target=\"_blank\">docs</a>)<br/>"
      ],
      "text/plain": [
       "<IPython.core.display.HTML object>"
      ]
     },
     "metadata": {},
     "output_type": "display_data"
    },
    {
     "data": {
      "text/html": [
       " View project at <a href='https://wandb.ai/pronton2001/l5kit2' target=\"_blank\">https://wandb.ai/pronton2001/l5kit2</a>"
      ],
      "text/plain": [
       "<IPython.core.display.HTML object>"
      ]
     },
     "metadata": {},
     "output_type": "display_data"
    },
    {
     "data": {
      "text/html": [
       " View run at <a href='https://wandb.ai/pronton2001/l5kit2/runs/8b412_00000' target=\"_blank\">https://wandb.ai/pronton2001/l5kit2/runs/8b412_00000</a>"
      ],
      "text/plain": [
       "<IPython.core.display.HTML object>"
      ]
     },
     "metadata": {},
     "output_type": "display_data"
    },
    {
     "name": "stderr",
     "output_type": "stream",
     "text": [
      "wandb: Network error (ConnectTimeout), entering retry loop.\n",
      "wandb: Network error (ConnectTimeout), entering retry loop.\n"
     ]
    },
    {
     "data": {
      "text/html": [
       "<div class=\"trialProgress\">\n",
       "  <h3>Trial Progress</h3>\n",
       "  <table>\n",
       "<thead>\n",
       "<tr><th>Trial name               </th><th style=\"text-align: right;\">  agent_timesteps_total</th><th>counters                                                                                                                                </th><th>custom_metrics  </th><th>date               </th><th>done  </th><th style=\"text-align: right;\">  episode_len_mean</th><th>episode_media  </th><th style=\"text-align: right;\">  episode_reward_max</th><th style=\"text-align: right;\">  episode_reward_mean</th><th style=\"text-align: right;\">  episode_reward_min</th><th style=\"text-align: right;\">  episodes_this_iter</th><th style=\"text-align: right;\">  episodes_total</th><th>experiment_id                   </th><th>hostname    </th><th>info                                                                                                                                                                                                                                                                                                                                                                                                                                                                                                                                                        </th><th style=\"text-align: right;\">  iterations_since_restore</th><th>node_ip   </th><th style=\"text-align: right;\">  num_agent_steps_sampled</th><th style=\"text-align: right;\">  num_agent_steps_trained</th><th style=\"text-align: right;\">  num_env_steps_sampled</th><th style=\"text-align: right;\">  num_env_steps_sampled_this_iter</th><th style=\"text-align: right;\">  num_env_steps_trained</th><th style=\"text-align: right;\">  num_env_steps_trained_this_iter</th><th style=\"text-align: right;\">  num_faulty_episodes</th><th style=\"text-align: right;\">  num_healthy_workers</th><th style=\"text-align: right;\">  num_in_flight_async_reqs</th><th style=\"text-align: right;\">  num_remote_worker_restarts</th><th style=\"text-align: right;\">  num_steps_trained_this_iter</th><th>perf                                                                          </th><th style=\"text-align: right;\">    pid</th><th>policy_reward_max  </th><th>policy_reward_mean  </th><th>policy_reward_min  </th><th>sampler_perf                                                                                                                                                                                                 </th><th>sampler_results                                                                                                                                                                                                                                                                                                                                                                                                                                                                                                                                                                                                                                                                                                                                                                                                                                                                                                                                                                                                                                                                                                                                                                                                                                                                                                                                                                                                                                                                                                                                                                                                                                                                                                                                                                                                                                                                                                                                                                                                                                                                                                                                                                                                                                                                                                                                                                                                                                                                                                                                                                                                                                                                                                                                                                                                                                                                                                                                                                                                                                                                                                                                                                                                                                                                                                                                                                                                                                                                                                                                                                                                                                                                                                                                                                                                                                                                                                                                                                                                                                                                                                                                                                                                                                                                                                                                                                                                                                                                                                                                                                                                                                                                                                                                                                                                                                                                                                                                                                                                                                                                                                                                                                                                                                                                                                                                                                                                                                                                                                                                                                                                                                                                                                                                                                                                                                                                                                                                                                                                                                                                                                                                                                                                                                                                                                                                                                                                                                                                                                                                                                                                                                                                                                                                                                                                                                                                                                                                                                                                                                                                                                                                                                                                                                                                                                     </th><th style=\"text-align: right;\">  time_since_restore</th><th style=\"text-align: right;\">  time_this_iter_s</th><th style=\"text-align: right;\">  time_total_s</th><th>timers                                                                                                                                                                                 </th><th style=\"text-align: right;\">  timestamp</th><th style=\"text-align: right;\">  timesteps_since_restore</th><th style=\"text-align: right;\">  timesteps_total</th><th style=\"text-align: right;\">  training_iteration</th><th>trial_id   </th><th style=\"text-align: right;\">  warmup_time</th></tr>\n",
       "</thead>\n",
       "<tbody>\n",
       "<tr><td>PPO_L5-CLE-V1_8b412_00000</td><td style=\"text-align: right;\">                 496000</td><td>{&#x27;num_env_steps_sampled&#x27;: 496000, &#x27;num_env_steps_trained&#x27;: 496000, &#x27;num_agent_steps_sampled&#x27;: 496000, &#x27;num_agent_steps_trained&#x27;: 496000}</td><td>{}              </td><td>2023-03-23_15-12-47</td><td>False </td><td style=\"text-align: right;\">                31</td><td>{}             </td><td style=\"text-align: right;\">            -3.67105</td><td style=\"text-align: right;\">             -113.122</td><td style=\"text-align: right;\">            -409.466</td><td style=\"text-align: right;\">                 264</td><td style=\"text-align: right;\">           16000</td><td>817974e880aa423583cd3460524fc69e</td><td>815d38126431</td><td>{&#x27;learner&#x27;: {&#x27;default_policy&#x27;: {&#x27;learner_stats&#x27;: {&#x27;cur_kl_coeff&#x27;: 0.20000000298023224, &#x27;cur_lr&#x27;: 2.9999999242136255e-05, &#x27;total_loss&#x27;: 6.7157183, &#x27;policy_loss&#x27;: -0.013384043, &#x27;vf_loss&#x27;: 6.720734, &#x27;vf_explained_var&#x27;: 0.21319821, &#x27;kl&#x27;: 0.04184149, &#x27;entropy&#x27;: 3.50981, &#x27;entropy_coeff&#x27;: 0.0, &#x27;model&#x27;: {}}, &#x27;train&#x27;: None, &#x27;num_grad_updates_lifetime&#x27;: 6888.5, &#x27;diff_num_grad_updates_vs_sampler_policy&#x27;: 55.5}}, &#x27;num_env_steps_sampled&#x27;: 496000, &#x27;num_env_steps_trained&#x27;: 496000, &#x27;num_agent_steps_sampled&#x27;: 496000, &#x27;num_agent_steps_trained&#x27;: 496000}</td><td style=\"text-align: right;\">                        62</td><td>172.17.0.2</td><td style=\"text-align: right;\">                   496000</td><td style=\"text-align: right;\">                   496000</td><td style=\"text-align: right;\">                 496000</td><td style=\"text-align: right;\">                             8000</td><td style=\"text-align: right;\">                 496000</td><td style=\"text-align: right;\">                             8000</td><td style=\"text-align: right;\">                    0</td><td style=\"text-align: right;\">                    2</td><td style=\"text-align: right;\">                         0</td><td style=\"text-align: right;\">                           0</td><td style=\"text-align: right;\">                         8000</td><td>{&#x27;cpu_util_percent&#x27;: 46.99699248120301, &#x27;ram_util_percent&#x27;: 72.70827067669174}</td><td style=\"text-align: right;\">4149783</td><td>{}                 </td><td>{}                  </td><td>{}                 </td><td>{&#x27;mean_raw_obs_processing_ms&#x27;: 46.68958204869014, &#x27;mean_inference_ms&#x27;: 2.631872933237124, &#x27;mean_action_processing_ms&#x27;: 0.3837905613288319, &#x27;mean_env_wait_ms&#x27;: 26.319004557186204, &#x27;mean_env_render_ms&#x27;: 0.0}</td><td>{&#x27;episode_reward_max&#x27;: -3.671045399212744, &#x27;episode_reward_min&#x27;: -409.46577763557434, &#x27;episode_reward_mean&#x27;: -113.12218331154212, &#x27;episode_len_mean&#x27;: 31.0, &#x27;episode_media&#x27;: {}, &#x27;episodes_this_iter&#x27;: 264, &#x27;policy_reward_min&#x27;: {}, &#x27;policy_reward_max&#x27;: {}, &#x27;policy_reward_mean&#x27;: {}, &#x27;custom_metrics&#x27;: {}, &#x27;hist_stats&#x27;: {&#x27;episode_reward&#x27;: [-33.68121473491192, -128.0242133140564, -14.8524638293311, -98.43067274987698, -64.03773261979222, -18.55426531471312, -212.3124213218689, -154.9540120959282, -45.7309732362628, -107.9539600610733, -78.1076487749815, -48.3522979170084, -72.45258924737573, -32.97567343711853, -37.64359229803085, -28.507234513759613, -52.95716105401516, -57.087361574172974, -188.8952793776989, -216.02355425059795, -282.6581577807665, -159.53923267126083, -101.19326999038458, -36.23764730989933, -69.39217492938042, -15.241849564015865, -68.0140478014946, -88.49992530047894, -355.8983105421066, -279.1907133311033, -123.47427141666412, -83.81080196425319, -31.877416267991066, -236.28608769923449, -119.99543132632971, -346.6941233277321, -360.73255041241646, -143.2075390033424, -212.75965393707156, -168.60337762534618, -367.9878093227744, -70.9671835899353, -55.69026708602905, -47.8286814019084, -95.5017799064517, -136.89126867055893, -213.66464972496033, -3.671045399212744, -21.036686381325126, -7.994884102605283, -49.26568804681301, -13.137178418692201, -82.24508384009823, -200.91482064127922, -51.17570918798447, -13.697600219398737, -25.20101110637188, -25.11032724380493, -191.75488624721766, -93.62201252952218, -13.203010838478804, -157.16542851924896, -12.603311024606228, -27.293537609279156, -294.3644284401089, -170.59985773265362, -42.92504034936428, -24.99124788865447, -103.19220773130655, -40.81001637876034, -256.63480371050537, -11.996179647743702, -357.18913051486015, -186.85046400129795, -177.13081467151642, -78.3832570835948, -65.74147364497185, -34.16359232366085, -20.78533879853785, -9.537819167599082, -107.39800903201103, -36.24415202066302, -40.31775964796543, -49.723364939913154, -97.9701019525528, -22.89812721684575, -66.87561198323965, -120.02455899864435, -10.677672461606562, -30.612577438820153, -70.62240562401712, -195.04703363776207, -110.13039234280586, -272.56765854358673, -230.51927402615547, -35.23325873911381, -20.329039841890335, -178.06306572258472, -118.8324408531189, -293.6312274634838, -121.04833616316319, -47.495011918246746, -12.311885295435786, -185.98472693562508, -14.46399649977684, -188.86319833993912, -352.0079983472824, -249.0873160660267, -131.11108846962452, -65.7400953695178, -277.5488991141319, -187.55887538194656, -284.71128234267235, -129.22433006763458, -30.78797360509634, -31.200249075889587, -111.72374548017979, -199.25872972607613, -133.17747354507446, -33.91912103444338, -12.43561102822423, -34.7592248134315, -32.37779200449586, -79.08326198905706, -57.398755587637424, -21.550807163119316, -19.368662789463997, -271.15224719047546, -45.250250305980444, -200.79964174330235, -229.9283256083727, -20.97890815138817, -47.89558097720146, -90.12684875912964, -308.9214588403702, -9.070239033550024, -255.8793047312647, -171.73581789433956, -10.12804602459073, -14.120593924075365, -8.005940764211118, -33.260821245610714, -150.13157203793526, -280.5384579896927, -64.961386077106, -48.11441148770973, -5.323807239066809, -92.46410047635436, -95.03675299882889, -82.6964740473777, -204.84144720435143, -171.9919758439064, -409.46577763557434, -59.301369339227676, -119.68927232176065, -155.926424741745, -32.03845925629139, -81.83134220540524, -297.20940721035004, -38.78916008770466, -121.09131762385368, -149.31163734197617, -76.964429192245, -4.508299327921122, -6.059299283893779, -70.60589802078903, -254.0064951479435, -8.410730917588808, -365.8096978664398, -138.48362546414137, -21.37005902454257, -79.59425438940525, -272.25409696251154, -265.69613990187645, -102.13327847793698, -92.64775864779949, -91.15922811999917, -394.0645235776901, -83.32778049260378, -93.3630411028862, -165.2131436765194, -83.55489676445723, -82.11875081062317, -316.51678001880646, -95.36819364130497, -57.60291162133217, -91.5935023277998, -334.81526559591293, -104.28039711713791, -74.71403668820858, -94.62247198820114, -73.15866363048553, -19.96336804330349, -104.89552581310272, -70.6696402207017, -84.04799090325832, -46.695803344249725, -41.89384561777115, -110.41254512965679, -301.0573925971985, -33.61360763013363, -19.00982245989144, -95.96184452623129, -224.1567102521658, -54.98303194344044, -80.10997992753983, -33.10451275855303, -6.776053014211357, -14.592957731336355, -34.50812827050686, -378.5202744603157, -51.46968523785472, -47.38954818248749, -223.51729649305344, -45.911282047629356, -50.49075789749622, -78.89491123706102, -228.85409075021744, -144.15691961348057, -40.22229836881161, -280.41642385721207, -69.62670363485813, -166.82581362128258, -283.74485290050507, -284.4818408936262, -78.31217814981937, -12.369797926396132, -17.755146488547325, -10.696252439171076, -41.616856656968594, -150.7280608806759, -131.11264373362064, -51.42068022489548, -15.695558873005211, -292.86432618647814, -96.67664936184883, -77.07838842645288, -49.57825702056289, -245.8966860435903, -41.4381040930748, -204.60367968678474, -240.40305325388908, -37.32652474939823, -8.299308973597363, -35.255765065550804, -36.45608976483345, -77.22072087228298, -41.99162743985653, -81.0305250287056, -83.00644624233246, -28.47648758813739, -27.88141331076622, -103.56593410670757, -99.87634991854429, -169.30860978364944, -19.41866381885484, -19.132574304938316, -218.5306028574705, -373.75589096546173, -18.938897892832756, -116.97697445377707, -241.46504731476307, -62.70775096863508, -102.70956413447857], &#x27;episode_lengths&#x27;: [31, 31, 31, 31, 31, 31, 31, 31, 31, 31, 31, 31, 31, 31, 31, 31, 31, 31, 31, 31, 31, 31, 31, 31, 31, 31, 31, 31, 31, 31, 31, 31, 31, 31, 31, 31, 31, 31, 31, 31, 31, 31, 31, 31, 31, 31, 31, 31, 31, 31, 31, 31, 31, 31, 31, 31, 31, 31, 31, 31, 31, 31, 31, 31, 31, 31, 31, 31, 31, 31, 31, 31, 31, 31, 31, 31, 31, 31, 31, 31, 31, 31, 31, 31, 31, 31, 31, 31, 31, 31, 31, 31, 31, 31, 31, 31, 31, 31, 31, 31, 31, 31, 31, 31, 31, 31, 31, 31, 31, 31, 31, 31, 31, 31, 31, 31, 31, 31, 31, 31, 31, 31, 31, 31, 31, 31, 31, 31, 31, 31, 31, 31, 31, 31, 31, 31, 31, 31, 31, 31, 31, 31, 31, 31, 31, 31, 31, 31, 31, 31, 31, 31, 31, 31, 31, 31, 31, 31, 31, 31, 31, 31, 31, 31, 31, 31, 31, 31, 31, 31, 31, 31, 31, 31, 31, 31, 31, 31, 31, 31, 31, 31, 31, 31, 31, 31, 31, 31, 31, 31, 31, 31, 31, 31, 31, 31, 31, 31, 31, 31, 31, 31, 31, 31, 31, 31, 31, 31, 31, 31, 31, 31, 31, 31, 31, 31, 31, 31, 31, 31, 31, 31, 31, 31, 31, 31, 31, 31, 31, 31, 31, 31, 31, 31, 31, 31, 31, 31, 31, 31, 31, 31, 31, 31, 31, 31, 31, 31, 31, 31, 31, 31, 31, 31, 31, 31, 31, 31, 31, 31, 31, 31, 31, 31]}, &#x27;sampler_perf&#x27;: {&#x27;mean_raw_obs_processing_ms&#x27;: 46.68958204869014, &#x27;mean_inference_ms&#x27;: 2.631872933237124, &#x27;mean_action_processing_ms&#x27;: 0.3837905613288319, &#x27;mean_env_wait_ms&#x27;: 26.319004557186204, &#x27;mean_env_render_ms&#x27;: 0.0}, &#x27;num_faulty_episodes&#x27;: 0}</td><td style=\"text-align: right;\">             4964.08</td><td style=\"text-align: right;\">           92.8366</td><td style=\"text-align: right;\">       4964.08</td><td>{&#x27;training_iteration_time_ms&#x27;: 90413.366, &#x27;load_time_ms&#x27;: 205.979, &#x27;load_throughput&#x27;: 38838.823, &#x27;learn_time_ms&#x27;: 2171.2, &#x27;learn_throughput&#x27;: 3684.598, &#x27;synch_weights_time_ms&#x27;: 5.373}</td><td style=\"text-align: right;\"> 1679584367</td><td style=\"text-align: right;\">                        0</td><td style=\"text-align: right;\">           496000</td><td style=\"text-align: right;\">                  62</td><td>8b412_00000</td><td style=\"text-align: right;\">      23.1768</td></tr>\n",
       "</tbody>\n",
       "</table>\n",
       "</div>\n",
       "<style>\n",
       ".trialProgress {\n",
       "  display: flex;\n",
       "  flex-direction: column;\n",
       "  color: var(--jp-ui-font-color1);\n",
       "}\n",
       ".trialProgress h3 {\n",
       "  font-weight: bold;\n",
       "}\n",
       ".trialProgress td {\n",
       "  white-space: nowrap;\n",
       "}\n",
       "</style>\n"
      ],
      "text/plain": [
       "<IPython.core.display.HTML object>"
      ]
     },
     "metadata": {},
     "output_type": "display_data"
    },
    {
     "name": "stderr",
     "output_type": "stream",
     "text": [
      "\u001b[34m\u001b[1mwandb\u001b[0m: Adding directory to artifact (/workspace/datasets/ray_results/23-03-2023_20-49-34/PPO/PPO_L5-CLE-V1_8b412_00000_0_2023-03-23_13-49-34/checkpoint_000010)... Done. 0.1s\n",
      "\u001b[34m\u001b[1mwandb\u001b[0m: Adding directory to artifact (/workspace/datasets/ray_results/23-03-2023_20-49-34/PPO/PPO_L5-CLE-V1_8b412_00000_0_2023-03-23_13-49-34/checkpoint_000020)... Done. 0.1s\n",
      "\u001b[34m\u001b[1mwandb\u001b[0m: Adding directory to artifact (/workspace/datasets/ray_results/23-03-2023_20-49-34/PPO/PPO_L5-CLE-V1_8b412_00000_0_2023-03-23_13-49-34/checkpoint_000030)... Done. 0.1s\n",
      "\u001b[34m\u001b[1mwandb\u001b[0m: Adding directory to artifact (/workspace/datasets/ray_results/23-03-2023_20-49-34/PPO/PPO_L5-CLE-V1_8b412_00000_0_2023-03-23_13-49-34/checkpoint_000040)... Done. 0.1s\n",
      "\u001b[34m\u001b[1mwandb\u001b[0m: Adding directory to artifact (/workspace/datasets/ray_results/23-03-2023_20-49-34/PPO/PPO_L5-CLE-V1_8b412_00000_0_2023-03-23_13-49-34/checkpoint_000050)... Done. 0.1s\n",
      "wandb: Network error (ConnectTimeout), entering retry loop.\n",
      "\u001b[34m\u001b[1mwandb\u001b[0m: Adding directory to artifact (/workspace/datasets/ray_results/23-03-2023_20-49-34/PPO/PPO_L5-CLE-V1_8b412_00000_0_2023-03-23_13-49-34/checkpoint_000060)... Done. 0.1s\n"
     ]
    }
   ],
   "source": [
    "import ray\n",
    "from ray import air, tune\n",
    "hcmTz = pytz.timezone(\"Asia/Ho_Chi_Minh\") \n",
    "date = datetime.datetime.now(hcmTz).strftime(\"%d-%m-%Y_%H-%M-%S\")\n",
    "ray_result_logdir = '/workspace/datasets/ray_results/' + date\n",
    "\n",
    "train_envs = 4\n",
    "lr = 3e-3\n",
    "lr_start = 3e-4\n",
    "lr_end = 3e-5\n",
    "lr_time = int(4e6)\n",
    "\n",
    "config_param_space = {\n",
    "    \"env\": \"L5-CLE-V1\",\n",
    "    \"framework\": \"tf\",\n",
    "    \"num_gpus\": 1,\n",
    "    \"num_workers\": 2,\n",
    "    \"num_envs_per_worker\": train_envs,\n",
    "    # \"model\": {\n",
    "    #     \"custom_model\": \"GN_CNN_torch_model\",\n",
    "    #     \"custom_model_config\": {'feature_dim':128},\n",
    "    # },\n",
    "    \n",
    "    'model' : {\n",
    "            # \"dim\": 84,\n",
    "            # \"conv_filters\" : [[64, [7,7], 3], [32, [11,11], 3], [32, [11,11], 3]],\n",
    "            # \"conv_activation\": \"relu\",\n",
    "            \"post_fcnet_hiddens\": [256],\n",
    "            \"post_fcnet_activation\": \"relu\",\n",
    "            \"vf_share_layers\": False,   \n",
    "    },\n",
    "    \n",
    "    '_disable_preprocessor_api': True,\n",
    "     \"eager_tracing\": True,\n",
    "     \"restart_failed_sub_environments\": True,\n",
    "    \"lr\": lr,\n",
    "    'seed': 42,\n",
    "    \"lr_schedule\": [\n",
    "        [1e6, lr_start],\n",
    "        [2e6, lr_end],\n",
    "    ],\n",
    "    'train_batch_size': 8000,\n",
    "    'sgd_minibatch_size': 1024,\n",
    "    'num_sgd_iter': 16,\n",
    "    'seed': 42,\n",
    "    'batch_mode': 'truncate_episodes',\n",
    "    # \"rollout_fragment_length\": 32,\n",
    "    'gamma': 0.8,    \n",
    "}\n",
    "\n",
    "result_grid = tune.Tuner(\n",
    "    \"PPO\",\n",
    "    run_config=air.RunConfig(\n",
    "        stop={\"episode_reward_mean\": 0, 'timesteps_total': int(6e6)},\n",
    "        local_dir=ray_result_logdir,\n",
    "        checkpoint_config=air.CheckpointConfig(num_to_keep=4, \n",
    "                                               checkpoint_frequency = 10, \n",
    "                                               checkpoint_score_attribute = 'episode_reward_mean'),\n",
    "        callbacks=[WandbLoggerCallback(project=\"l5kit2\", save_checkpoints=True),],\n",
    "        ),\n",
    "    param_space=config_param_space).fit()\n",
    "    "
   ]
  },
  {
   "cell_type": "code",
   "execution_count": null,
   "id": "1ca8b47b-4fe6-421f-bdd5-c965fdc27480",
   "metadata": {},
   "outputs": [],
   "source": [
    "import ray\n",
    "from ray import air, tune\n",
    "hcmTz = pytz.timezone(\"Asia/Ho_Chi_Minh\") \n",
    "date = datetime.datetime.now(hcmTz).strftime(\"%d-%m-%Y_%H-%M-%S\")\n",
    "ray_result_logdir = '/workspace/datasets/ray_results/' + date\n",
    "\n",
    "train_envs = 4\n",
    "lr = 3e-3\n",
    "lr_start = 3e-4\n",
    "lr_end = 3e-5\n",
    "lr_time = int(4e6)\n",
    "\n",
    "config_param_space = {\n",
    "    \"env\": \"L5-CLE-V1\",\n",
    "    \"framework\": \"torch\",\n",
    "    \"num_gpus\": 1,\n",
    "    \"num_workers\": 3,\n",
    "    \"num_envs_per_worker\": train_envs,\n",
    "    \"model\": {\n",
    "        \"custom_model\": \"GN_CNN_torch_model\",\n",
    "        \"custom_model_config\": {'feature_dim':128},\n",
    "    },\n",
    "    \n",
    "    '_disable_preprocessor_api': True,\n",
    "     \"eager_tracing\": True,\n",
    "     \"restart_failed_sub_environments\": True,\n",
    "    \"lr\": lr,\n",
    "    'seed': 42,\n",
    "    \"lr_schedule\": [\n",
    "        [1e6, lr_start],\n",
    "        [2e6, lr_end],\n",
    "    ],\n",
    "    'train_batch_size': 8000,\n",
    "    'sgd_minibatch_size': 1024,\n",
    "    'num_sgd_iter': 16,\n",
    "    'seed': 42,\n",
    "    'batch_mode': 'truncate_episodes',\n",
    "    \"rollout_fragment_length\": 32,\n",
    "    'gamma': 0.8,    \n",
    "}\n",
    "\n",
    "result_grid = tune.Tuner(\n",
    "    \"PPO\",\n",
    "    run_config=air.RunConfig(\n",
    "        stop={\"episode_reward_mean\": 0, 'timesteps_total': int(6e6)},\n",
    "        local_dir=ray_result_logdir,\n",
    "        checkpoint_config=air.CheckpointConfig(num_to_keep=4, \n",
    "                                               checkpoint_frequency = 10, \n",
    "                                               checkpoint_score_attribute = 'episode_reward_mean'),\n",
    "        callbacks=[WandbLoggerCallback(project=\"l5kit2\", save_checkpoints=True),],\n",
    "        ),\n",
    "    param_space=config_param_space).fit()\n",
    "    "
   ]
  },
  {
   "cell_type": "markdown",
   "id": "dab4bab6-a99a-4e12-947c-59c4aa57cf9d",
   "metadata": {
    "tags": []
   },
   "source": [
    "### Restore a specific checkpoint"
   ]
  },
  {
   "cell_type": "code",
   "execution_count": null,
   "id": "7bdcd1c2-79d2-4f95-b50f-247b367e5491",
   "metadata": {},
   "outputs": [],
   "source": [
    "# config_param_space['lr'] = 3e-5\n",
    "path_to_trained_agent_checkpoint = 'datasets/ray_results/23-03-2023_13-36-12/PPO/PPO_L5-CLE-V1_010e0_00000_0_2023-03-23_06-36-12/checkpoint_000380'\n",
    "from ray.rllib.algorithms.ppo import PPO\n",
    "ray.tune.run(PPO, config=config_param_space, restore=path_to_trained_agent_checkpoint)"
   ]
  },
  {
   "cell_type": "code",
   "execution_count": null,
   "id": "97846803-c22d-4a73-b451-052962cd289b",
   "metadata": {
    "tags": []
   },
   "outputs": [],
   "source": [
    "import ray\n",
    "from ray import air, tune\n",
    "ray_result_logdir = '/DATA/l5kit/ray_results'\n",
    "config_param_space = {\n",
    "    \"env\": \"L5-CLE-V1\",\n",
    "    \"framework\": \"torch\",\n",
    "    \"num_gpus\": 1,\n",
    "    \"num_workers\": 63,\n",
    "    'train_batch_size': 4000,\n",
    "    'sgd_minibatch_size': 4096,\n",
    "    \"num_envs_per_worker\": 32,\n",
    "    'num_sgd_iter': 32,\n",
    "    'sgd_minibatch_size': 256,\n",
    "    # 'num_cpus_per_worker': 0,  # This avoids running out of resources in the notebook environment when this cell is re-executed\n",
    "    \"model\": {\n",
    "        \"custom_model\": \"GN_CNN_torch_model\",\n",
    "        \"custom_model_config\": {'feature_dim':128},\n",
    "    },\n",
    "    \n",
    "    '_disable_preprocessor_api': True,\n",
    "     \"eager_tracing\": True,\n",
    "     # \"log_level\": \"DEBUG\",\n",
    "     \"restart_failed_sub_environments\": True,\n",
    "    \"lr\": 0.0003,\n",
    "    \"gamma\": 0.8,\n",
    "    'seed': 42,\n",
    "}\n",
    "\n",
    "result_grid = tune.Tuner(\n",
    "    \"PPO\",\n",
    "    run_config=air.RunConfig(\n",
    "        stop={\"episode_reward_mean\": -30, 'timesteps_total': int(12e6)},\n",
    "        local_dir=ray_result_logdir,\n",
    "        checkpoint_config=air.CheckpointConfig(num_to_keep=4, checkpoint_frequency = 10, checkpoint_score_attribute = 'episode_reward_mean')\n",
    "        ),\n",
    "    param_space=config_param_space).fit()"
   ]
  },
  {
   "cell_type": "code",
   "execution_count": null,
   "id": "a019fc45",
   "metadata": {
    "colab": {
     "base_uri": "https://localhost:8080/",
     "height": 1000
    },
    "id": "RTK45EUeonWl",
    "outputId": "1a0ff185-7c8c-4cfb-8d1c-4dcb71cd7fb4",
    "tags": []
   },
   "outputs": [],
   "source": [
    "ray_result_logdir = '/DATA/l5kit/ray_results'\n",
    "\n",
    "tuner = tune.Tuner.restore(\n",
    "    path=ray_result_logdir + '/PPO',\n",
    ")\n",
    "result_grid = tuner.fit()"
   ]
  },
  {
   "cell_type": "code",
   "execution_count": null,
   "id": "d733b2f3-c09e-42d6-bd04-f6024d68c388",
   "metadata": {},
   "outputs": [],
   "source": [
    "result_grid\n",
    "\n",
    "# Get the result with the maximum test set `mean_accuracy`\n",
    "best_result = result_grid.get_best_result()\n",
    "best_result.checkpoint"
   ]
  },
  {
   "cell_type": "code",
   "execution_count": null,
   "id": "a2f7ddd6-4ee4-4208-93ce-bdb7f09a834c",
   "metadata": {},
   "outputs": [],
   "source": [
    "best_result.metrics"
   ]
  },
  {
   "cell_type": "code",
   "execution_count": null,
   "id": "eb8970f8-e53f-4872-8b2a-c6d4bc872887",
   "metadata": {},
   "outputs": [],
   "source": [
    "result_df = best_result.metrics_dataframe\n",
    "result_df[['num_agent_steps_sampled','episode_reward_mean'] ]"
   ]
  },
  {
   "cell_type": "code",
   "execution_count": null,
   "id": "5aba6040-0726-40b5-8717-dcc036d6e31b",
   "metadata": {},
   "outputs": [],
   "source": [
    "best_result.metrics_dataframe.plot(\"num_agent_steps_sampled\", \"episode_reward_mean\")\n"
   ]
  },
  {
   "cell_type": "code",
   "execution_count": null,
   "id": "e2e52385-0b84-4058-8079-8d4b29ccc54e",
   "metadata": {},
   "outputs": [],
   "source": [
    "for result in result_grid:\n",
    "    print(1)"
   ]
  },
  {
   "cell_type": "markdown",
   "id": "60c6b3ff-c0a7-4f4f-8308-9ca3869b7ebe",
   "metadata": {
    "tags": []
   },
   "source": [
    "### Separated policy"
   ]
  },
  {
   "cell_type": "code",
   "execution_count": null,
   "id": "86853fc6-44f8-4723-9e7b-0ddd6f546725",
   "metadata": {
    "tags": []
   },
   "outputs": [],
   "source": [
    "import ray\n",
    "from ray import air, tune\n",
    "train_envs = 4\n",
    "ray_result_logdir = '/DATA/l5kit/ray_results'\n",
    "lr = 3e-3\n",
    "lr_start = 3e-4\n",
    "lr_end = 3e-5\n",
    "lr_time = int(4e6)\n",
    "\n",
    "config_param_space = {\n",
    "    \"env\": \"L5-CLE-V1\",\n",
    "    \"framework\": \"torch\",\n",
    "    \"num_gpus\": 1,\n",
    "    \"num_workers\": 63,\n",
    "    \"num_envs_per_worker\": train_envs,\n",
    "    '_disable_preprocessor_api': True,\n",
    "    \"eager_tracing\": True,\n",
    "    \"restart_failed_sub_environments\": True,\n",
    "    \"lr\": lr_start,\n",
    "    # \"model\": {\n",
    "    #     \"custom_model\": \"GN_CNN_separated_torch_model\",\n",
    "    #     \"custom_model_config\": {'feature_dim':128},\n",
    "    # },\n",
    "    'model' : {\n",
    "            \"dim\": 84,\n",
    "            # \"conv_filters\" : [[64, [7,7], 3], [32, [11,11], 3], [32, [11,11], 3]],\n",
    "            \"conv_activation\": \"relu\",\n",
    "            \"post_fcnet_hiddens\": [256],\n",
    "            \"post_fcnet_activation\": \"relu\",\n",
    "            \"vf_share_layers\": False,   \n",
    "    },\n",
    "#\n",
    "    \"lr\": lr,\n",
    "    'seed': 42,\n",
    "    \"lr_schedule\": [\n",
    "        [1e6, lr_start],\n",
    "        [2e6, lr_end],\n",
    "    ],\n",
    "    'train_batch_size': 8000,\n",
    "    'sgd_minibatch_size': 256,\n",
    "    'num_sgd_iter': 16,\n",
    "    'seed': 42,\n",
    "    'batch_mode': 'truncate_episodes',\n",
    "    \"rollout_fragment_length\": 32,\n",
    "    'gamma': 0.8,\n",
    "}\n",
    "\n",
    "result_grid = tune.Tuner(\n",
    "    \"PPO\",\n",
    "    run_config=air.RunConfig(\n",
    "        stop={\"episode_reward_mean\": 0, 'timesteps_total': int(6e6)},\n",
    "        local_dir=ray_result_logdir,\n",
    "        checkpoint_config=air.CheckpointConfig(num_to_keep=4, checkpoint_frequency = 10, checkpoint_score_attribute = 'episode_reward_mean'),\n",
    "        callbacks=[WandbLoggerCallback(project=\"l5kit2\", save_checkpoints=True),],\n",
    "        ),\n",
    "    param_space=config_param_space).fit()"
   ]
  },
  {
   "cell_type": "code",
   "execution_count": 16,
   "id": "311054e4-7a19-400f-aa1c-332dd22b964d",
   "metadata": {},
   "outputs": [
    {
     "name": "stderr",
     "output_type": "stream",
     "text": [
      "2023-03-23 07:18:47,187\tINFO experiment_analysis.py:795 -- No `self.trials`. Drawing logdirs from checkpoint file. This may result in some information that is out of sync, as checkpointing is periodic.\n",
      "2023-03-23 07:18:47,212\tINFO trial_runner.py:688 -- A local experiment checkpoint was found and will be used to restore the previous experiment state.\n",
      "2023-03-23 07:18:47,213\tINFO trial_runner.py:825 -- Using following checkpoint to resume: /workspace/datasets/ray_results/23-03-2023_13-36-12/PPO/experiment_state-2023-03-23_06-36-12.json\n",
      "2023-03-23 07:18:47,215\tWARNING trial_runner.py:830 -- Attempting to resume experiment from /workspace/datasets/ray_results/23-03-2023_13-36-12/PPO. This will ignore any new changes to the specification.\n",
      "2023-03-23 07:18:47,221\tINFO algorithm_config.py:2503 -- Your framework setting is 'tf', meaning you are using static-graph mode. Set framework='tf2' to enable eager execution with tf2.x. You may also then want to set eager_tracing=True in order to reach similar execution speed as with static-graph mode.\n",
      "2023-03-23 07:18:47,222\tINFO algorithm_config.py:2503 -- Your framework setting is 'tf', meaning you are using static-graph mode. Set framework='tf2' to enable eager execution with tf2.x. You may also then want to set eager_tracing=True in order to reach similar execution speed as with static-graph mode.\n",
      "2023-03-23 07:18:47,223\tINFO tune.py:653 -- TrialRunner resumed, ignoring new add_experiment but updating trial resources.\n"
     ]
    },
    {
     "data": {
      "text/html": [
       "<div class=\"tuneStatus\">\n",
       "  <div style=\"display: flex;flex-direction: row\">\n",
       "    <div style=\"display: flex;flex-direction: column;\">\n",
       "      <h3>Tune Status</h3>\n",
       "      <table>\n",
       "<tbody>\n",
       "<tr><td>Current time:</td><td>2023-03-23 07:24:07</td></tr>\n",
       "<tr><td>Running for: </td><td>00:05:19.80        </td></tr>\n",
       "<tr><td>Memory:      </td><td>45.0/62.6 GiB      </td></tr>\n",
       "</tbody>\n",
       "</table>\n",
       "    </div>\n",
       "    <div class=\"vDivider\"></div>\n",
       "    <div class=\"systemInfo\">\n",
       "      <h3>System Info</h3>\n",
       "      Using FIFO scheduling algorithm.<br>Resources requested: 11.0/12 CPUs, 2.0/2 GPUs, 0.0/36.08 GiB heap, 0.0/14.97 GiB objects (0.0/1.0 accelerator_type:G)\n",
       "    </div>\n",
       "    \n",
       "  </div>\n",
       "  <div class=\"hDivider\"></div>\n",
       "  <div class=\"trialStatus\">\n",
       "    <h3>Trial Status</h3>\n",
       "    <table>\n",
       "<thead>\n",
       "<tr><th>Trial name               </th><th>status  </th><th>loc               </th><th style=\"text-align: right;\">  iter</th><th style=\"text-align: right;\">  total time (s)</th><th style=\"text-align: right;\">    ts</th><th style=\"text-align: right;\">  reward</th><th style=\"text-align: right;\">  episode_reward_max</th><th style=\"text-align: right;\">  episode_reward_min</th><th style=\"text-align: right;\">  episode_len_mean</th></tr>\n",
       "</thead>\n",
       "<tbody>\n",
       "<tr><td>PPO_L5-CLE-V1_010e0_00000</td><td>RUNNING </td><td>172.17.0.2:3544631</td><td style=\"text-align: right;\">   434</td><td style=\"text-align: right;\">         2164.08</td><td style=\"text-align: right;\">434000</td><td style=\"text-align: right;\">-201.399</td><td style=\"text-align: right;\">             -5.4189</td><td style=\"text-align: right;\">            -416.831</td><td style=\"text-align: right;\">                31</td></tr>\n",
       "</tbody>\n",
       "</table>\n",
       "  </div>\n",
       "</div>\n",
       "<style>\n",
       ".tuneStatus {\n",
       "  color: var(--jp-ui-font-color1);\n",
       "}\n",
       ".tuneStatus .systemInfo {\n",
       "  display: flex;\n",
       "  flex-direction: column;\n",
       "}\n",
       ".tuneStatus td {\n",
       "  white-space: nowrap;\n",
       "}\n",
       ".tuneStatus .trialStatus {\n",
       "  display: flex;\n",
       "  flex-direction: column;\n",
       "}\n",
       ".tuneStatus h3 {\n",
       "  font-weight: bold;\n",
       "}\n",
       ".tuneStatus .hDivider {\n",
       "  border-bottom-width: var(--jp-border-width);\n",
       "  border-bottom-color: var(--jp-border-color0);\n",
       "  border-bottom-style: solid;\n",
       "}\n",
       ".tuneStatus .vDivider {\n",
       "  border-left-width: var(--jp-border-width);\n",
       "  border-left-color: var(--jp-border-color0);\n",
       "  border-left-style: solid;\n",
       "  margin: 0.5em 1em 0.5em 1em;\n",
       "}\n",
       "</style>\n"
      ],
      "text/plain": [
       "<IPython.core.display.HTML object>"
      ]
     },
     "metadata": {},
     "output_type": "display_data"
    },
    {
     "name": "stderr",
     "output_type": "stream",
     "text": [
      "\u001b[34m\u001b[1mwandb\u001b[0m: \u001b[33mWARNING\u001b[0m WANDB_NOTEBOOK_NAME should be a path to a notebook file, couldn't find rllib_ppo_policy_training.ipynb.\n"
     ]
    },
    {
     "data": {
      "text/html": [
       "Tracking run with wandb version 0.14.0"
      ],
      "text/plain": [
       "<IPython.core.display.HTML object>"
      ]
     },
     "metadata": {},
     "output_type": "display_data"
    },
    {
     "data": {
      "text/html": [
       "Run data is saved locally in <code>/workspace/datasets/ray_results/23-03-2023_13-36-12/PPO/PPO_L5-CLE-V1_010e0_00000_0_2023-03-23_06-36-12/wandb/run-20230323_071848-010e0_00000</code>"
      ],
      "text/plain": [
       "<IPython.core.display.HTML object>"
      ]
     },
     "metadata": {},
     "output_type": "display_data"
    },
    {
     "data": {
      "text/html": [
       "Syncing run <strong><a href='https://wandb.ai/pronton2001/l5kit2/runs/010e0_00000' target=\"_blank\">PPO_L5-CLE-V1_010e0_00000</a></strong> to <a href='https://wandb.ai/pronton2001/l5kit2' target=\"_blank\">Weights & Biases</a> (<a href='https://wandb.me/run' target=\"_blank\">docs</a>)<br/>"
      ],
      "text/plain": [
       "<IPython.core.display.HTML object>"
      ]
     },
     "metadata": {},
     "output_type": "display_data"
    },
    {
     "data": {
      "text/html": [
       " View project at <a href='https://wandb.ai/pronton2001/l5kit2' target=\"_blank\">https://wandb.ai/pronton2001/l5kit2</a>"
      ],
      "text/plain": [
       "<IPython.core.display.HTML object>"
      ]
     },
     "metadata": {},
     "output_type": "display_data"
    },
    {
     "data": {
      "text/html": [
       " View run at <a href='https://wandb.ai/pronton2001/l5kit2/runs/010e0_00000' target=\"_blank\">https://wandb.ai/pronton2001/l5kit2/runs/010e0_00000</a>"
      ],
      "text/plain": [
       "<IPython.core.display.HTML object>"
      ]
     },
     "metadata": {},
     "output_type": "display_data"
    },
    {
     "data": {
      "text/html": [
       "<div class=\"trialProgress\">\n",
       "  <h3>Trial Progress</h3>\n",
       "  <table>\n",
       "<thead>\n",
       "<tr><th>Trial name               </th><th style=\"text-align: right;\">  agent_timesteps_total</th><th>counters                                                                                                                                </th><th>custom_metrics  </th><th>date               </th><th>done  </th><th style=\"text-align: right;\">  episode_len_mean</th><th>episode_media  </th><th style=\"text-align: right;\">  episode_reward_max</th><th style=\"text-align: right;\">  episode_reward_mean</th><th style=\"text-align: right;\">  episode_reward_min</th><th style=\"text-align: right;\">  episodes_this_iter</th><th style=\"text-align: right;\">  episodes_total</th><th>experiment_id                   </th><th>hostname    </th><th>info                                                                                                                                                                                                                                                                                                                                                                                                                                                                                                                                                         </th><th style=\"text-align: right;\">  iterations_since_restore</th><th>node_ip   </th><th style=\"text-align: right;\">  num_agent_steps_sampled</th><th style=\"text-align: right;\">  num_agent_steps_trained</th><th style=\"text-align: right;\">  num_env_steps_sampled</th><th style=\"text-align: right;\">  num_env_steps_sampled_this_iter</th><th style=\"text-align: right;\">  num_env_steps_trained</th><th style=\"text-align: right;\">  num_env_steps_trained_this_iter</th><th style=\"text-align: right;\">  num_faulty_episodes</th><th style=\"text-align: right;\">  num_healthy_workers</th><th style=\"text-align: right;\">  num_in_flight_async_reqs</th><th style=\"text-align: right;\">  num_remote_worker_restarts</th><th style=\"text-align: right;\">  num_steps_trained_this_iter</th><th>perf                                                    </th><th style=\"text-align: right;\">    pid</th><th>policy_reward_max  </th><th>policy_reward_mean  </th><th>policy_reward_min  </th><th>sampler_perf                                                                                                                                                                                                </th><th>sampler_results                                                                                                                                                                                                                                                                                                                                                                                                                                                                                                                                                                                                                                                                                                                                                                                                                                                                                                                                                                                                                                                                                                                                                                                                                                                                                                                                                                                                                                                                                                                                                                                                                                                                                                                                                                                                                                                                                                                                                                                                                                                                                                                                                                                                                                                                                                                                                                                                                                                                                                                                                                                                                                                                                                                                                                                                                                                                                                                                                                                                                                                                                                                                                              </th><th style=\"text-align: right;\">  time_since_restore</th><th style=\"text-align: right;\">  time_this_iter_s</th><th style=\"text-align: right;\">  time_total_s</th><th>timers                                                                                                                                                                                 </th><th style=\"text-align: right;\">  timestamp</th><th style=\"text-align: right;\">  timesteps_since_restore</th><th style=\"text-align: right;\">  timesteps_total</th><th style=\"text-align: right;\">  training_iteration</th><th style=\"text-align: right;\">  trial_id</th><th style=\"text-align: right;\">  warmup_time</th></tr>\n",
       "</thead>\n",
       "<tbody>\n",
       "<tr><td>PPO_L5-CLE-V1_010e0_00000</td><td style=\"text-align: right;\">                 434000</td><td>{&#x27;num_env_steps_sampled&#x27;: 434000, &#x27;num_env_steps_trained&#x27;: 434000, &#x27;num_agent_steps_sampled&#x27;: 434000, &#x27;num_agent_steps_trained&#x27;: 434000}</td><td>{}              </td><td>2023-03-23_07-24-01</td><td>False </td><td style=\"text-align: right;\">                31</td><td>{}             </td><td style=\"text-align: right;\">             -5.4189</td><td style=\"text-align: right;\">             -201.399</td><td style=\"text-align: right;\">            -416.831</td><td style=\"text-align: right;\">                  40</td><td style=\"text-align: right;\">           13960</td><td>04fa847064f84f168bca7e63b950cbe5</td><td>815d38126431</td><td>{&#x27;learner&#x27;: {&#x27;default_policy&#x27;: {&#x27;learner_stats&#x27;: {&#x27;cur_kl_coeff&#x27;: 0.20000000298023224, &#x27;cur_lr&#x27;: 2.9999999242136255e-05, &#x27;total_loss&#x27;: 7.1255136, &#x27;policy_loss&#x27;: -0.15353686, &#x27;vf_loss&#x27;: 7.257206, &#x27;vf_explained_var&#x27;: 0.24996656, &#x27;kl&#x27;: 0.10921893, &#x27;entropy&#x27;: 14.321851, &#x27;entropy_coeff&#x27;: 0.0, &#x27;model&#x27;: {}}, &#x27;train&#x27;: None, &#x27;num_grad_updates_lifetime&#x27;: 2568.5, &#x27;diff_num_grad_updates_vs_sampler_policy&#x27;: 23.5}}, &#x27;num_env_steps_sampled&#x27;: 434000, &#x27;num_env_steps_trained&#x27;: 434000, &#x27;num_agent_steps_sampled&#x27;: 434000, &#x27;num_agent_steps_trained&#x27;: 434000}</td><td style=\"text-align: right;\">                        54</td><td>172.17.0.2</td><td style=\"text-align: right;\">                   434000</td><td style=\"text-align: right;\">                   434000</td><td style=\"text-align: right;\">                 434000</td><td style=\"text-align: right;\">                             1000</td><td style=\"text-align: right;\">                 434000</td><td style=\"text-align: right;\">                             1000</td><td style=\"text-align: right;\">                    0</td><td style=\"text-align: right;\">                   10</td><td style=\"text-align: right;\">                         0</td><td style=\"text-align: right;\">                           0</td><td style=\"text-align: right;\">                         1000</td><td>{&#x27;cpu_util_percent&#x27;: 84.75, &#x27;ram_util_percent&#x27;: 71.1875}</td><td style=\"text-align: right;\">3544631</td><td>{}                 </td><td>{}                  </td><td>{}                 </td><td>{&#x27;mean_raw_obs_processing_ms&#x27;: 70.12146488803658, &#x27;mean_inference_ms&#x27;: 6.949393241840562, &#x27;mean_action_processing_ms&#x27;: 0.5444782771215971, &#x27;mean_env_wait_ms&#x27;: 75.51739564761759, &#x27;mean_env_render_ms&#x27;: 0.0}</td><td>{&#x27;episode_reward_max&#x27;: -5.418899339420022, &#x27;episode_reward_min&#x27;: -416.8307446241379, &#x27;episode_reward_mean&#x27;: -201.39914259080572, &#x27;episode_len_mean&#x27;: 31.0, &#x27;episode_media&#x27;: {}, &#x27;episodes_this_iter&#x27;: 40, &#x27;policy_reward_min&#x27;: {}, &#x27;policy_reward_max&#x27;: {}, &#x27;policy_reward_mean&#x27;: {}, &#x27;custom_metrics&#x27;: {}, &#x27;hist_stats&#x27;: {&#x27;episode_reward&#x27;: [-415.39010721445084, -18.25421061599627, -6.536419460549951, -306.05977530032396, -155.27015506476164, -21.526762194931507, -42.0768624022603, -327.08898079395294, -344.7285094410181, -213.421240221709, -169.40649657696486, -5.418899339420022, -99.08732810430229, -274.2532938718796, -189.77590061724186, -409.2840898036957, -233.50442264974117, -14.979639370925725, -263.59712675213814, -288.9384271912277, -325.9310363680124, -278.3768076002598, -10.415778825059533, -49.33563754102215, -144.64542428776622, -168.49459706246853, -156.43813633918762, -321.97567719221115, -392.52519059181213, -176.57700118422508, -389.75816236436367, -397.43542248010635, -125.34931713342667, -390.2273618578911, -25.214302556589246, -35.80185077339411, -19.401199638843536, -292.36491322517395, -279.0808511376381, -162.11343270540237, -129.77440406382084, -347.2364945411682, -51.7229455858469, -318.72551652789116, -80.80655665695667, -275.78156822919846, -291.7417603135109, -287.4025077223778, -259.11407139897346, -328.1886873245239, -41.685156954452395, -209.3656961172819, -403.8092547059059, -7.3057731399312615, -239.30862418562174, -15.977616336196661, -179.02108267694712, -284.805492579937, -15.892975606955588, -381.8464401960373, -208.42662751674652, -251.2107334062457, -96.4848848534748, -111.49465590715408, -238.83821193873882, -304.3171819448471, -8.853597876615822, -416.8307446241379, -259.18487960100174, -345.17886888980865, -65.46823631599545, -76.12656515929848, -148.90304525196552, -382.00944823026657, -50.411372765898705, -372.8685880303383, -131.39447356760502, -179.9275155737996, -66.3472825884819, -136.01537835411727, -193.98968148231506, -117.19764944911003, -148.22600904107094, -281.81413435935974, -284.012368157506, -65.0938695371151, -17.50643439590931, -304.7110528945923, -124.81709228083491, -406.20938235521317, -222.01496060565114, -330.64048060774803, -209.07879903167486, -122.20175535231829, -327.0729960501194, -249.41802230477333, -248.46433594822884, -191.90654804557562, -346.0607516244054, -9.612270444631577], &#x27;episode_lengths&#x27;: [31, 31, 31, 31, 31, 31, 31, 31, 31, 31, 31, 31, 31, 31, 31, 31, 31, 31, 31, 31, 31, 31, 31, 31, 31, 31, 31, 31, 31, 31, 31, 31, 31, 31, 31, 31, 31, 31, 31, 31, 31, 31, 31, 31, 31, 31, 31, 31, 31, 31, 31, 31, 31, 31, 31, 31, 31, 31, 31, 31, 31, 31, 31, 31, 31, 31, 31, 31, 31, 31, 31, 31, 31, 31, 31, 31, 31, 31, 31, 31, 31, 31, 31, 31, 31, 31, 31, 31, 31, 31, 31, 31, 31, 31, 31, 31, 31, 31, 31, 31]}, &#x27;sampler_perf&#x27;: {&#x27;mean_raw_obs_processing_ms&#x27;: 70.12146488803658, &#x27;mean_inference_ms&#x27;: 6.949393241840562, &#x27;mean_action_processing_ms&#x27;: 0.5444782771215971, &#x27;mean_env_wait_ms&#x27;: 75.51739564761759, &#x27;mean_env_render_ms&#x27;: 0.0}, &#x27;num_faulty_episodes&#x27;: 0}</td><td style=\"text-align: right;\">             265.328</td><td style=\"text-align: right;\">           5.34379</td><td style=\"text-align: right;\">       2164.08</td><td>{&#x27;training_iteration_time_ms&#x27;: 4849.788, &#x27;load_time_ms&#x27;: 28.782, &#x27;load_throughput&#x27;: 34744.328, &#x27;learn_time_ms&#x27;: 558.716, &#x27;learn_throughput&#x27;: 1789.818, &#x27;synch_weights_time_ms&#x27;: 22.281}</td><td style=\"text-align: right;\"> 1679556241</td><td style=\"text-align: right;\">                        0</td><td style=\"text-align: right;\">           434000</td><td style=\"text-align: right;\">                 434</td><td style=\"text-align: right;\">        10</td><td style=\"text-align: right;\">       40.726</td></tr>\n",
       "</tbody>\n",
       "</table>\n",
       "</div>\n",
       "<style>\n",
       ".trialProgress {\n",
       "  display: flex;\n",
       "  flex-direction: column;\n",
       "  color: var(--jp-ui-font-color1);\n",
       "}\n",
       ".trialProgress h3 {\n",
       "  font-weight: bold;\n",
       "}\n",
       ".trialProgress td {\n",
       "  white-space: nowrap;\n",
       "}\n",
       "</style>\n"
      ],
      "text/plain": [
       "<IPython.core.display.HTML object>"
      ]
     },
     "metadata": {},
     "output_type": "display_data"
    },
    {
     "name": "stderr",
     "output_type": "stream",
     "text": [
      "\u001b[34m\u001b[1mwandb\u001b[0m: Adding directory to artifact (/workspace/datasets/ray_results/23-03-2023_13-36-12/PPO/PPO_L5-CLE-V1_010e0_00000_0_2023-03-23_06-36-12/checkpoint_000390)... Done. 0.0s\n",
      "\u001b[34m\u001b[1mwandb\u001b[0m: Adding directory to artifact (/workspace/datasets/ray_results/23-03-2023_13-36-12/PPO/PPO_L5-CLE-V1_010e0_00000_0_2023-03-23_06-36-12/checkpoint_000400)... Done. 0.0s\n",
      "\u001b[34m\u001b[1mwandb\u001b[0m: Adding directory to artifact (/workspace/datasets/ray_results/23-03-2023_13-36-12/PPO/PPO_L5-CLE-V1_010e0_00000_0_2023-03-23_06-36-12/checkpoint_000410)... Done. 0.0s\n",
      "\u001b[34m\u001b[1mwandb\u001b[0m: Adding directory to artifact (/workspace/datasets/ray_results/23-03-2023_13-36-12/PPO/PPO_L5-CLE-V1_010e0_00000_0_2023-03-23_06-36-12/checkpoint_000420)... Done. 0.0s\n",
      "\u001b[34m\u001b[1mwandb\u001b[0m: Adding directory to artifact (/workspace/datasets/ray_results/23-03-2023_13-36-12/PPO/PPO_L5-CLE-V1_010e0_00000_0_2023-03-23_06-36-12/checkpoint_000430)... Done. 0.0s\n",
      "2023-03-23 07:24:06,890\tWARNING tune.py:690 -- Stop signal received (e.g. via SIGINT/Ctrl+C), ending Ray Tune run. This will try to checkpoint the experiment state one last time. Press CTRL+C (or send SIGINT/SIGKILL/SIGTERM) to skip. \n",
      "2023-03-23 07:24:07,021\tWARNING tune.py:690 -- Stop signal received (e.g. via SIGINT/Ctrl+C), ending Ray Tune run. This will try to checkpoint the experiment state one last time. Press CTRL+C (or send SIGINT/SIGKILL/SIGTERM) to skip. \n",
      "2023-03-23 07:24:07,239\tERROR tune.py:758 -- Trials did not complete: [PPO_L5-CLE-V1_010e0_00000]\n",
      "2023-03-23 07:24:07,241\tINFO tune.py:762 -- Total run time: 320.03 seconds (319.80 seconds for the tuning loop).\n",
      "2023-03-23 07:24:07,242\tWARNING tune.py:768 -- Experiment has been interrupted, but the most recent state was saved. You can continue running this experiment by passing `resume=True` to `tune.run()`\n"
     ]
    },
    {
     "data": {
      "text/plain": [
       "<ray.tune.result_grid.ResultGrid at 0x7f142445d250>"
      ]
     },
     "execution_count": 16,
     "metadata": {},
     "output_type": "execute_result"
    }
   ],
   "source": [
    "ray_result_logdir = '/workspace/datasets/ray_results/23-03-2023_13-36-12/'\n",
    "\n",
    "tuner = tune.Tuner.restore(\n",
    "    path=ray_result_logdir + 'PPO',\n",
    ")\n",
    "tuner.fit()"
   ]
  },
  {
   "cell_type": "markdown",
   "id": "70289aed",
   "metadata": {
    "id": "4fipqZymhM1l"
   },
   "source": [
    "NOTE: Experiment has been interrupted, but the most recent state was saved. You can continue running this experiment by passing `resume=True` to `tune.run()`\n",
    "\n",
    "2022-12-04 05:50:38,570\tINFO experiment_analysis.py:795 -- No `self.trials`. Drawing logdirs from checkpoint file. This may result in some information that is out of sync, as checkpointing is periodic.\n",
    "\n",
    "2022-12-04 05:50:39,684\tINFO trial_runner.py:601 -- A local experiment checkpoint was found and will be used to restore the previous experiment state.\n",
    "2022-12-04 05:50:39,687\tINFO trial_runner.py:738 -- Using following checkpoint to resume: /content/drive/MyDrive/Colab Notebooks/l5kit/ray_results/PPO/experiment_state-2022-12-04_05-28-55.json\n",
    "\n",
    "2022-12-04 05:50:39,710\tWARNING trial_runner.py:743 -- Attempting to resume experiment from /content/drive/MyDrive/Colab Notebooks/l5kit/ray_results/PPO. This will ignore any new changes to the specification.\n",
    "\n",
    "2022-12-04 05:50:40,703\tINFO tune.py:668 -- TrialRunner resumed, ignoring new add_experiment but updating trial resources."
   ]
  },
  {
   "cell_type": "markdown",
   "id": "e0694c85",
   "metadata": {
    "id": "575327a2"
   },
   "source": [
    "**Voila!** We have a trained PPO policy! Train for larger number of steps for better accuracy. Typical RL algorithms require training atleast 1M steps for good convergence. You can visualize the quantitiative evaluation using tensorboard."
   ]
  },
  {
   "cell_type": "markdown",
   "id": "e7e69446-bb15-45f5-8bb8-5d6b0918ddd9",
   "metadata": {
    "jp-MarkdownHeadingCollapsed": true,
    "tags": []
   },
   "source": [
    "### L5env2 & attention model"
   ]
  },
  {
   "cell_type": "code",
   "execution_count": null,
   "id": "9346e4f4-d96a-403d-89ff-f7e6cddc5ec0",
   "metadata": {
    "tags": []
   },
   "outputs": [],
   "source": [
    "import ray\n",
    "from ray import air, tune\n",
    "\n",
    "train_envs = 4\n",
    "hcmTz = pytz.timezone(\"Asia/Ho_Chi_Minh\") \n",
    "date = datetime.datetime.now(hcmTz).strftime(\"%d-%m-%Y_%H-%M-%S\")\n",
    "ray_result_logdir = '/workspace/datasets/ray_results/' +'debug_attention'+ date\n",
    "\n",
    "lr = 3e-3\n",
    "lr_start = 3e-4\n",
    "lr_end = 3e-5\n",
    "lr_time = int(4e6)\n",
    "\n",
    "config_param_space = {\n",
    "    'disable_env_checking':True,\n",
    "    \"env\": \"L5-CLE-V2\",\n",
    "    \"framework\": \"torch\",\n",
    "    \"num_gpus\": 2,\n",
    "    \"num_workers\": 10,\n",
    "    \"num_envs_per_worker\": train_envs,\n",
    "    'num_sgd_iter': 10,\n",
    "    # 'sgd_minibatch_size': 512,\n",
    "    # 'num_cpus_per_worker': 0,  # This avoids running out of resources in the notebook environment when this cell is re-executed\n",
    "    \"model\": {\n",
    "        \"custom_model\": \"TorchSharedAttentionModel\",\n",
    "        \"custom_model_config\": {'cfg':cfg},\n",
    "    },\n",
    "    \n",
    "    '_disable_preprocessor_api': True,\n",
    "     \"eager_tracing\": True,\n",
    "     \"restart_failed_sub_environments\": True,\n",
    "    \"lr\": lr,\n",
    "    'seed': 42,\n",
    "    \"lr_schedule\": [\n",
    "        [1e6, lr_start],\n",
    "        [2e6, lr_end],\n",
    "    ],\n",
    "    'seed': 42,\n",
    "    'train_batch_size': 1000,\n",
    "    'sgd_minibatch_size': 256,\n",
    "    # 'num_sgd_iter': 16,\n",
    "    # 'seed': 42,\n",
    "    # 'batch_mode': 'truncate_episodes',\n",
    "    # \"rollout_fragment_length\": 15,\n",
    "    'gamma': 0.8,    \n",
    "}\n",
    "\n",
    "result_grid = tune.Tuner(\n",
    "    \"PPO\",\n",
    "    run_config=air.RunConfig(\n",
    "        stop={\"episode_reward_mean\": 0, 'timesteps_total': int(6e6)},\n",
    "        local_dir=ray_result_logdir,\n",
    "        checkpoint_config=air.CheckpointConfig(num_to_keep=4, checkpoint_frequency = 10, checkpoint_score_attribute = 'episode_reward_mean'),\n",
    "        callbacks=[WandbLoggerCallback(project=\"l5kit2\", save_checkpoints=True),],\n",
    "        ),\n",
    "    param_space=config_param_space).fit()"
   ]
  },
  {
   "cell_type": "code",
   "execution_count": null,
   "id": "17b62642-3300-492d-a6af-60468cfeb83c",
   "metadata": {
    "tags": []
   },
   "outputs": [],
   "source": [
    "tuner = tune.Tuner.restore(\n",
    "    path=\"/workspace/datasets/ray_results/debug_attention18-03-2023_15-41-38/PPO\",\n",
    ")\n",
    "tuner.fit()"
   ]
  },
  {
   "cell_type": "markdown",
   "id": "710de3f0",
   "metadata": {
    "id": "d24f956c",
    "tags": []
   },
   "source": [
    "## Visualize the episode from the environment\n",
    "\n",
    "We can easily visualize the outputs obtained by rolling out episodes in the L5Kit using the Bokeh visualizer."
   ]
  },
  {
   "cell_type": "markdown",
   "id": "6c3d1d32-2f73-4fcc-b67a-d246e0c875e7",
   "metadata": {
    "tags": []
   },
   "source": [
    "### L5env1: using CNN model"
   ]
  },
  {
   "cell_type": "code",
   "execution_count": null,
   "id": "80cf2cf1-7ae1-4432-9c64-327a3cc6a7eb",
   "metadata": {
    "tags": []
   },
   "outputs": [],
   "source": [
    "# import wandb\n",
    "# run = wandb.init()\n",
    "# os.environ['WANDB_NOTEBOOK_NAME'] = 'rllib_ppo_policy_training.ipynb'\n",
    "# artifact = run.use_artifact('pronton2001/l5kit2/checkpoint_PPO_L5-CLE-V1_802de_00000:v43', type='model')\n",
    "# artifact_dir = artifact.download(root = '/workspace/datasets/ray_results/checkpoint_PPO_L5-CLE-V1_802de_00000-v43')"
   ]
  },
  {
   "cell_type": "code",
   "execution_count": 10,
   "id": "317496be-42cd-4860-af9e-b108b84f9427",
   "metadata": {
    "tags": []
   },
   "outputs": [],
   "source": [
    "train_envs = 4\n",
    "lr = 3e-3\n",
    "lr_start = 3e-4\n",
    "lr_end = 3e-5\n",
    "lr_time = int(4e6)\n",
    "\n",
    "config_param_space = {\n",
    "    \"env\": \"L5-CLE-V1\",\n",
    "    \"framework\": \"torch\",\n",
    "    \"num_gpus\": 1,#1\n",
    "    # \"num_workers\": 63,\n",
    "    \"num_envs_per_worker\": train_envs,\n",
    "    \"model\": {\n",
    "        \"custom_model\": \"GN_CNN_torch_model\",\n",
    "        \"custom_model_config\": {'feature_dim':128},\n",
    "    },\n",
    "    \n",
    "    '_disable_preprocessor_api': True,\n",
    "     \"eager_tracing\": True,\n",
    "     \"restart_failed_sub_environments\": True,\n",
    "    \"lr\": lr,\n",
    "    'seed': 42,\n",
    "    \"lr_schedule\": [\n",
    "        [1e6, lr_start],\n",
    "        [2e6, lr_end],\n",
    "    ],\n",
    "    'train_batch_size': 8000,\n",
    "    'sgd_minibatch_size': 1024,\n",
    "    # 'num_sgd_iter': 16,\n",
    "    'seed': 42,\n",
    "    'batch_mode': 'truncate_episodes',\n",
    "    \"rollout_fragment_length\": 32,\n",
    "    'gamma': 0.8,    \n",
    "}\n"
   ]
  },
  {
   "cell_type": "code",
   "execution_count": 11,
   "id": "b8909fd0-bfec-4e53-b53d-e2507ff3ac9c",
   "metadata": {
    "tags": []
   },
   "outputs": [],
   "source": [
    "from ray import tune\n",
    "rollout_sim_cfg = SimulationConfigGym()\n",
    "rollout_sim_cfg.num_simulation_steps = None\n",
    "\n",
    "env_kwargs = {'env_config_path': env_config_path, \n",
    "              'use_kinematic': True, \n",
    "              'sim_cfg': rollout_sim_cfg,  \n",
    "              'train': False, \n",
    "              'return_info': True}\n",
    "\n",
    "rollout_env = L5EnvWrapper(env = L5Env(**env_kwargs), \\\n",
    "                           raster_size= cfg['raster_params']['raster_size'][0], \\\n",
    "                           n_channels = 7,)\n",
    "tune.register_env(\"L5-CLE-EVAL-V1\", \n",
    "                  lambda config: L5EnvWrapper(env = L5Env(**env_kwargs), \\\n",
    "                                              raster_size= cfg['raster_params']['raster_size'][0], \\\n",
    "                                              n_channels = 7))"
   ]
  },
  {
   "cell_type": "code",
   "execution_count": 12,
   "id": "e7de96cf-b307-4ab1-b72f-f40aec2c0efa",
   "metadata": {
    "tags": []
   },
   "outputs": [
    {
     "name": "stderr",
     "output_type": "stream",
     "text": [
      "2023-03-24 03:59:23,435\tWARNING deprecation.py:47 -- DeprecationWarning: `algo = Algorithm(env='L5-CLE-EVAL-V1', ...)` has been deprecated. Use `algo = AlgorithmConfig().environment('L5-CLE-EVAL-V1').build()` instead. This will raise an error in the future!\n",
      "2023-03-24 03:59:23,449\tINFO algorithm.py:501 -- Current log_level is WARN. For more information, set 'log_level': 'INFO' / 'DEBUG' or use the -v and -vv flags.\n",
      "2023-03-24 03:59:42,755\tWARNING catalog.py:637 -- Custom ModelV2 should accept all custom options as **kwargs, instead of expecting them in config['custom_model_config']!\n",
      "2023-03-24 03:59:46,517\tINFO trainable.py:172 -- Trainable.setup took 23.070 seconds. If your trainable is slow to initialize, consider setting reuse_actors=True to reduce actor creation overheads.\n",
      "2023-03-24 03:59:46,518\tWARNING util.py:66 -- Install gputil for GPU system monitoring.\n",
      "2023-03-24 03:59:46,527\tWARNING algorithm_config.py:488 -- Cannot create PPOConfig from given `config_dict`! Property __stdout_file__ not supported.\n",
      "2023-03-24 03:59:46,562\tINFO trainable.py:790 -- Restored on 172.17.0.2 from checkpoint: /workspace/datasets/ray_results/checkpoint_PPO_L5-CLE-V1_802de_00000-v43\n",
      "2023-03-24 03:59:46,563\tINFO trainable.py:799 -- Current state after restoring: {'_iteration': 440, '_timesteps_total': None, '_time_total': 12694.584763288498, '_episodes_total': 114408}\n"
     ]
    }
   ],
   "source": [
    "from ray.rllib.algorithms.ppo import PPO\n",
    "# checkpoint_path = '/workspace/datasets/ray_results/31-12-2022_23-45-14/PPO/PPO_L5-CLE-V1_802de_00000_0_2022-12-31_16-45-15/checkpoint_000400'\n",
    "checkpoint_path = '/workspace/datasets/ray_results/checkpoint_PPO_L5-CLE-V1_802de_00000-v43'\n",
    "\n",
    "algo = PPO(config=config_param_space, env='L5-CLE-EVAL-V1')\n",
    "algo.restore(checkpoint_path)"
   ]
  },
  {
   "cell_type": "markdown",
   "id": "118ea4a6-3b13-4c9a-9cc4-101cd18adab5",
   "metadata": {
    "jp-MarkdownHeadingCollapsed": true,
    "tags": []
   },
   "source": [
    "### L5env2: using transformer model"
   ]
  },
  {
   "cell_type": "code",
   "execution_count": null,
   "id": "e04df5d5-7e0b-4303-8e2f-ec9fd415cde3",
   "metadata": {
    "tags": []
   },
   "outputs": [],
   "source": [
    "lr = 3e-3\n",
    "lr_start = 3e-4\n",
    "lr_end = 3e-5\n",
    "lr_time = int(4e6)\n",
    "\n",
    "config_param_space = {\n",
    "    'disable_env_checking':True,\n",
    "    \"env\": \"L5-CLE-V2\",\n",
    "    \"framework\": \"torch\",\n",
    "    \"num_gpus\": 0,\n",
    "    \"num_workers\": 10,\n",
    "    \"num_envs_per_worker\": train_envs,\n",
    "    'num_sgd_iter': 10,\n",
    "    # 'sgd_minibatch_size': 512,\n",
    "    # 'num_cpus_per_worker': 0,  # This avoids running out of resources in the notebook environment when this cell is re-executed\n",
    "    \"model\": {\n",
    "        \"custom_model\": \"TorchSharedAttentionModel\",\n",
    "        \"custom_model_config\": {'cfg':cfg},\n",
    "    },\n",
    "    \n",
    "    '_disable_preprocessor_api': True,\n",
    "     \"eager_tracing\": True,\n",
    "     \"restart_failed_sub_environments\": True,\n",
    "    \"lr\": lr,\n",
    "    'seed': 42,\n",
    "    \"lr_schedule\": [\n",
    "        [1e6, lr_start],\n",
    "        [2e6, lr_end],\n",
    "    ],\n",
    "    'seed': 42,\n",
    "    'train_batch_size': 1000,\n",
    "    'sgd_minibatch_size': 256,\n",
    "    # 'num_sgd_iter': 16,\n",
    "    # 'seed': 42,\n",
    "    # 'batch_mode': 'truncate_episodes',\n",
    "    # \"rollout_fragment_length\": 15,\n",
    "    'gamma': 0.8,    \n",
    "}"
   ]
  },
  {
   "cell_type": "code",
   "execution_count": null,
   "id": "e4c720c2-7b7c-4b02-aa12-325c09c2b014",
   "metadata": {
    "tags": []
   },
   "outputs": [],
   "source": [
    "from ray import tune\n",
    "rollout_sim_cfg = SimulationConfigGym()\n",
    "rollout_sim_cfg.num_simulation_steps = None\n",
    "eval_env_kwargs = {'env_config_path': env_config_path, 'use_kinematic': False, 'sim_cfg': train_sim_cfg, 'train': False, 'return_info': True}\n",
    "rollout_env = L5Env2(**eval_env_kwargs)\n",
    "tune.register_env(\"L5-CLE-EVAL-V2\", lambda config: L5Env2(**eval_env_kwargs))"
   ]
  },
  {
   "cell_type": "code",
   "execution_count": null,
   "id": "1544063b-8111-4994-a853-b0fd147ee11e",
   "metadata": {
    "tags": []
   },
   "outputs": [],
   "source": [
    "from ray.rllib.algorithms.ppo import PPO\n",
    "checkpoint_path = '/workspace/datasets/ray_results/debug_attention18-03-2023_15-41-38/PPO/PPO_L5-CLE-V2_b29fe_00000_0_2023-03-18_08-41-38/checkpoint_000340'\n",
    "algo = PPO(config=config_param_space, env='L5-CLE-EVAL-V2')\n",
    "algo.restore(checkpoint_path)"
   ]
  },
  {
   "cell_type": "markdown",
   "id": "6a1d26c1-feeb-4472-96bd-b80c31d14598",
   "metadata": {
    "tags": []
   },
   "source": [
    "### Simout"
   ]
  },
  {
   "cell_type": "code",
   "execution_count": 14,
   "id": "4702418d-88bb-48ef-8052-9ffd53d4d812",
   "metadata": {
    "tags": []
   },
   "outputs": [],
   "source": [
    "def rollout_episode(model, env, idx = 0):\n",
    "    \"\"\"Rollout a particular scene index and return the simulation output.\n",
    "\n",
    "    :param model: the RL policy\n",
    "    :param env: the gym environment\n",
    "    :param idx: the scene index to be rolled out\n",
    "    :return: the episode output of the rolled out scene\n",
    "    \"\"\"\n",
    "\n",
    "    # Set the reset_scene_id to 'idx'\n",
    "    env.set_reset_id(idx)\n",
    "    \n",
    "    # Rollout step-by-step\n",
    "    obs = env.reset()\n",
    "    done = False\n",
    "    total_reward = 0\n",
    "    while True:\n",
    "        action = model.compute_single_action(obs, deterministic=True)\n",
    "        obs, reward, done, info = env.step(action)\n",
    "        if done:\n",
    "            break\n",
    "\n",
    "    # The episode outputs are present in the key \"sim_outs\"\n",
    "    sim_out = info[\"sim_outs\"][0]\n",
    "    return sim_out\n",
    "\n",
    "# Rollout one episode\n",
    "# sim_out = rollout_episode(model, rollout_env)\n",
    "# Rollout 5 episodes\n",
    "sim_outs =[]\n",
    "for i in range(100):\n",
    "    sim_outs.append(rollout_episode(algo, rollout_env, i))"
   ]
  },
  {
   "cell_type": "code",
   "execution_count": null,
   "id": "4ad440e5",
   "metadata": {
    "id": "7e383cff",
    "tags": []
   },
   "outputs": [],
   "source": [
    "# might change with different rasterizer\n",
    "# map_API = rollout_env.dataset.rasterizer.sem_rast.mapAPI\n",
    "from l5kit.data import LocalDataManager\n",
    "\n",
    "from l5kit.data.map_api import MapAPI\n",
    "dmg = LocalDataManager(None)\n",
    "cfg = load_config_data(env_config_path)\n",
    "mapAPI = MapAPI.from_cfg(dmg, cfg)\n",
    "\n",
    "def visualize_outputs(sim_outs, map_API):\n",
    "    for sim_out in sim_outs: # for each scene\n",
    "        vis_in = episode_out_to_visualizer_scene_gym_cle(sim_out, map_API)\n",
    "        show(visualize(sim_out.scene_id, vis_in))\n",
    "\n",
    "output_notebook()\n",
    "visualize_outputs(sim_outs[5:10], mapAPI)"
   ]
  },
  {
   "cell_type": "markdown",
   "id": "30b57b2e",
   "metadata": {
    "id": "DjpS1pIZJ0B-",
    "tags": []
   },
   "source": [
    "## Calculate the performance metrics from the episode outputs\n",
    "\n",
    "We can also calculate the various quantitative metrics on the rolled out episode output. "
   ]
  },
  {
   "cell_type": "code",
   "execution_count": 104,
   "id": "e2df1d3d-d389-4192-a865-4b2c161993a9",
   "metadata": {
    "tags": []
   },
   "outputs": [],
   "source": [
    "ades = []\n",
    "fdes = []\n",
    "table = None\n",
    "def quantify_outputs(sim_outs, metric_set=None):\n",
    "    global table\n",
    "    metric_set = metric_set if metric_set is not None else L2DisplacementYawMetricSet()\n",
    "\n",
    "    metric_set.evaluate(sim_outs)\n",
    "    scene_results = metric_set.evaluator.scene_metric_results\n",
    "    # fields = [\"scene_id\", \"FDE\", \"ADE\"]\n",
    "    # table = PrettyTable(field_names=fields)\n",
    "    tot_fde = 0.0\n",
    "    tot_ade = 0.0\n",
    "    # ades = []\n",
    "    # fdes = []\n",
    "    for scene_id in scene_results:\n",
    "        scene_metrics = scene_results[scene_id]\n",
    "        ade_error = scene_metrics[\"displacement_error_l2\"][1:].mean()\n",
    "        fde_error = scene_metrics['displacement_error_l2'][-1]\n",
    "        # table.add_row([scene_id, round(fde_error.item(), 4), round(ade_error.item(), 4)])\n",
    "        ades.append(ade_error.item())\n",
    "        fdes.append(fde_error.item())\n",
    "        # tot_fde += fde_error.item()\n",
    "        # tot_ade += ade_error.item()\n",
    "    # ave_fde = tot_fde / len(scene_results)\n",
    "    # ave_ade = tot_ade / len(scene_results)\n",
    "#     table.add_row([\"Overall\", round(ave_fde, 4) + , round(ave_ade, 4)])\n",
    "    \n",
    "    # print(table)\n",
    "\n",
    "\n",
    "\n",
    "quantify_outputs(sim_outs)\n",
    "# table"
   ]
  },
  {
   "cell_type": "code",
   "execution_count": 105,
   "id": "5cb0e33c-5835-40e4-80ff-69dbc8b4d957",
   "metadata": {
    "tags": []
   },
   "outputs": [
    {
     "name": "stdout",
     "output_type": "stream",
     "text": [
      "52.41 70.82 216.34\n",
      "171.07 244.83 664.09\n"
     ]
    }
   ],
   "source": [
    "import numpy as np\n",
    "print(round(np.mean(ades),2), round((np.std(ades)),2) ,round((np.max(ades) - np.min(ades))/2,2))\n",
    "print(round(np.mean(fdes),2), round((np.std(fdes)),2) ,round((np.max(fdes) - np.min(fdes))/2,2))"
   ]
  },
  {
   "cell_type": "code",
   "execution_count": 106,
   "id": "843bea6c-c844-4511-a4ae-1dda5dc467f2",
   "metadata": {
    "tags": []
   },
   "outputs": [
    {
     "name": "stdout",
     "output_type": "stream",
     "text": [
      "Top worst scence based on ade:[58, 55, 24, 70, 72, 3, 31, 0, 75, 11]\n",
      "Top best scence based on ade:[67, 19, 54, 68, 50, 73, 92, 40, 69]\n",
      "Top worst scence based on fde:[24, 58, 70, 55, 0, 11, 72, 99, 75, 14]\n",
      "Top best scence based on fde:[68, 18, 40, 54, 67, 36, 69, 57, 52]\n"
     ]
    }
   ],
   "source": [
    "\n",
    "sorted_ades_idx = sorted(range(len(ades)), key=lambda i: ades[i], reverse=True)\n",
    "sorted_fdes_idx = sorted(range(len(fdes)), key=lambda i: fdes[i], reverse=True)\n",
    "# sorted(range(len(ades)), key=lambda i: ades[i])[-10:]\n",
    "print(f'Top worst scence based on ade:{sorted_ades_idx[:10]}')\n",
    "print(f'Top best scence based on ade:{sorted_ades_idx[:-10:-1]}')\n",
    "print(f'Top worst scence based on fde:{sorted_fdes_idx[:10]}')\n",
    "print(f'Top best scence based on fde:{sorted_fdes_idx[:-10:-1]}')"
   ]
  },
  {
   "cell_type": "markdown",
   "id": "b9afe238-2ac9-44e3-8320-ca79650c971d",
   "metadata": {
    "tags": []
   },
   "source": [
    "### Best ade"
   ]
  },
  {
   "cell_type": "code",
   "execution_count": null,
   "id": "0b590906-7704-491e-a045-8b4f8aab0765",
   "metadata": {
    "tags": []
   },
   "outputs": [],
   "source": [
    "# might change with different rasterizer\n",
    "map_API = rollout_env.dataset.rasterizer.sem_rast.mapAPI\n",
    "sim_outs_selected = [sim_outs[i] for i in sorted_ades_idx[-10:-1]]\n",
    "visualize_outputs(sim_outs_selected, map_API)"
   ]
  },
  {
   "cell_type": "markdown",
   "id": "45574a16-3491-49ec-8da7-e101f4c000dd",
   "metadata": {
    "tags": []
   },
   "source": [
    "### Worst ADE"
   ]
  },
  {
   "cell_type": "code",
   "execution_count": null,
   "id": "d478226c-c612-41bd-9462-c38d03e9fa31",
   "metadata": {
    "tags": []
   },
   "outputs": [],
   "source": [
    "# might change with different rasterizer\n",
    "mapAPI = MapAPI.from_cfg(dm, cfg)\n",
    "map_API = rollout_env.dataset.rasterizer.sem_rast.mapAPI\n",
    "sim_outs_selected = [sim_outs[i] for i in sorted_ades_idx[:10]]\n",
    "visualize_outputs(sim_outs_selected, map_API)"
   ]
  },
  {
   "cell_type": "code",
   "execution_count": null,
   "id": "c8c0b59d",
   "metadata": {
    "colab": {
     "base_uri": "https://localhost:8080/"
    },
    "id": "ovwnSl6RJx7t",
    "outputId": "972861d0-0929-43ea-ece0-c12cb9698ebd",
    "tags": []
   },
   "outputs": [],
   "source": [
    "from src.validate.validator import compute_ade_fde, quantify_outputs\n",
    "ades, fdes = compute_ade_fde(sim_outs)\n",
    "quantify_outputs(sim_outs)"
   ]
  },
  {
   "cell_type": "markdown",
   "id": "be0c7869-c4eb-443e-9d4e-71d03d73067b",
   "metadata": {},
   "source": [
    "## Use Validator"
   ]
  },
  {
   "cell_type": "code",
   "execution_count": 17,
   "id": "ca14ce1e-182e-4531-b8b4-efab56228d61",
   "metadata": {
    "tags": []
   },
   "outputs": [
    {
     "name": "stdout",
     "output_type": "stream",
     "text": [
      "+-------------------------+-------+\n",
      "|          metric         | value |\n",
      "+-------------------------+-------+\n",
      "|  displacement_error_l2  |   23  |\n",
      "| distance_ref_trajectory |   34  |\n",
      "|     collision_front     |   7   |\n",
      "|      collision_rear     |   23  |\n",
      "|      collision_side     |   8   |\n",
      "+-------------------------+-------+\n"
     ]
    },
    {
     "data": {
      "image/png": "[encoded data removed]",
      "text/plain": [
       "<Figure size 432x288 with 1 Axes>"
      ]
     },
     "metadata": {
      "needs_background": "light"
     },
     "output_type": "display_data"
    }
   ],
   "source": [
    "from src.validate.validator import CLEValidator\n",
    "import matplotlib.pyplot as plt\n",
    "import numpy as np\n",
    "\n",
    "agg = CLEValidator(sim_outs)\n",
    "fields = [\"metric\", \"value\"]\n",
    "table = PrettyTable(field_names=fields)\n",
    "\n",
    "values = []\n",
    "names = []\n",
    "\n",
    "for metric_name in agg:\n",
    "    table.add_row([metric_name, agg[metric_name].item()])\n",
    "    values.append(agg[metric_name].item())\n",
    "    names.append(metric_name)\n",
    "\n",
    "print(table)\n",
    "\n",
    "plt.bar(np.arange(len(names)), values)\n",
    "plt.xticks(np.arange(len(names)), names, rotation=60, ha='right')\n",
    "plt.show()"
   ]
  }
 ],
 "metadata": {
  "colab": {
   "collapsed_sections": [
    "Fag3VuhPnRZT",
    "xHfH5HGWoTD7",
    "eBwt9neMoj9h",
    "0CAZm9UDo1C0"
   ],
   "provenance": []
  },
  "gpuClass": "standard",
  "kernelspec": {
   "display_name": "Python 3 (ipykernel)",
   "language": "python",
   "name": "python3"
  },
  "language_info": {
   "codemirror_mode": {
    "name": "ipython",
    "version": 3
   },
   "file_extension": ".py",
   "mimetype": "text/x-python",
   "name": "python",
   "nbconvert_exporter": "python",
   "pygments_lexer": "ipython3",
   "version": "3.8.16"
  },
  "vscode": {
   "interpreter": {
    "hash": "6df7c2a3d813445d6b3c74a479f8d37af444dbb4628cead36b7b0d6872de20bd"
   }
  }
 },
 "nbformat": 4,
 "nbformat_minor": 5
}
