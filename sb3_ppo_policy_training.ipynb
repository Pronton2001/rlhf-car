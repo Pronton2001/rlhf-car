{
 "cells": [
  {
   "cell_type": "markdown",
   "id": "210e786a",
   "metadata": {
    "id": "f7f64953"
   },
   "source": [
    "### Training RL Policies using L5Kit Closed-Loop Environment\n",
    "\n",
    "This notebook describes how to train RL policies for self-driving using our gym-compatible closed-loop environment.\n",
    "\n",
    "We will be using [Proximal Policy Optimization (PPO)](https://arxiv.org/abs/1707.06347) algorithm as our reinforcement learning algorithm, as it not only demonstrates remarkable performance but it is also empirically easy to tune.\n",
    "\n",
    "The PPO implementation in this notebook is based on [Stable Baselines3](https://github.com/DLR-RM/stable-baselines3) framework, a popular framework for training RL policies. Note that our environment is also compatible with [RLlib](https://docs.ray.io/en/latest/rllib.html), another popular frameworks for the same."
   ]
  },
  {
   "cell_type": "code",
   "execution_count": null,
   "id": "20eb9fd5",
   "metadata": {
    "colab": {
     "base_uri": "https://localhost:8080/"
    },
    "id": "smZ0MKsHE2_s",
    "outputId": "beec8a76-eca3-467b-ddd7-5c529d843581",
    "tags": []
   },
   "outputs": [],
   "source": [
    "import os\n",
    "os.environ[\"L5KIT_DATA_FOLDER\"] = '/workspace/datasets'\n",
    "os.environ['CUDA_VISIBLE_DEVICES']= '0'"
   ]
  },
  {
   "cell_type": "code",
   "execution_count": null,
   "id": "57f47de7",
   "metadata": {
    "id": "806093d7",
    "tags": []
   },
   "outputs": [],
   "source": [
    "# #@title Download L5 Sample Dataset and install L5Kit\n",
    "# import os\n",
    "# RunningInCOLAB = 'google.colab' in str(get_ipython())\n",
    "# if RunningInCOLAB:\n",
    "#     !wget https://raw.githubusercontent.com/lyft/l5kit/master/examples/setup_notebook_colab.sh -q\n",
    "#     !sh ./setup_notebook_colab.sh\n",
    "#     os.environ[\"L5KIT_DATA_FOLDER\"] = open(\"./dataset_dir.txt\", \"r\").read().strip()\n",
    "# else:\n",
    "#     os.environ[\"L5KIT_DATA_FOLDER\"] = \"/tmp/level5_data\"\n",
    "#     print(\"Not running in Google Colab.\")"
   ]
  },
  {
   "cell_type": "code",
   "execution_count": null,
   "id": "64b5492d",
   "metadata": {
    "id": "585b1fe7",
    "tags": []
   },
   "outputs": [],
   "source": [
    "import gym\n",
    "\n",
    "from stable_baselines3 import PPO\n",
    "from stable_baselines3.common.callbacks import CheckpointCallback, EvalCallback\n",
    "from stable_baselines3.common.env_util import make_vec_env\n",
    "from stable_baselines3.common.utils import get_linear_fn\n",
    "from stable_baselines3.common.vec_env import SubprocVecEnv\n",
    "\n",
    "from l5kit.configs import load_config_data\n",
    "from l5kit.environment.feature_extractor import CustomFeatureExtractor\n",
    "from l5kit.environment.callbacks import L5KitEvalCallback\n",
    "from l5kit.environment.envs.l5_env import SimulationConfigGym\n",
    "\n",
    "from l5kit.visualization.visualizer.zarr_utils import episode_out_to_visualizer_scene_gym_cle\n",
    "from l5kit.visualization.visualizer.visualizer import visualize\n",
    "from bokeh.io import output_notebook, show\n",
    "from prettytable import PrettyTable\n",
    "import datetime\n",
    "import pytz"
   ]
  },
  {
   "cell_type": "code",
   "execution_count": null,
   "id": "1560a235",
   "metadata": {
    "id": "2ea81f77",
    "tags": []
   },
   "outputs": [],
   "source": [
    "# Dataset is assumed to be on the folder specified\n",
    "# in the L5KIT_DATA_FOLDER environment variable\n",
    "\n",
    "# get environment config\n",
    "env_config_path = '/workspace/source/configs/gym_config.yaml'\n",
    "cfg = load_config_data(env_config_path)"
   ]
  },
  {
   "cell_type": "markdown",
   "id": "b6372301",
   "metadata": {
    "id": "2cead394"
   },
   "source": [
    "### Define Training and Evaluation Environments\n",
    "\n",
    "**Training**: We will be training the PPO policy on episodes of length 32 time-steps. We will have 4 sub-processes (training environments) that will help to parallelize and speeden up episode rollouts. The *SimConfig* dataclass will define the parameters of the episode rollout: like length of episode rollout, whether to use log-replayed agents or simulated agents etc.\n",
    "\n",
    "**Evaluation**: We will evaluate the performance of the PPO policy on the *entire* scene (~248 time-steps)."
   ]
  },
  {
   "cell_type": "code",
   "execution_count": null,
   "id": "3e30d5e9",
   "metadata": {
    "id": "b04c8313",
    "tags": []
   },
   "outputs": [],
   "source": [
    "# Train on episodes of length 32 time steps\n",
    "train_eps_length = 32\n",
    "train_envs = 4\n",
    "\n",
    "# Evaluate on entire scene (~248 time steps)\n",
    "eval_eps_length = None\n",
    "eval_envs = 1\n",
    "\n",
    "# make train env\n",
    "train_sim_cfg = SimulationConfigGym()\n",
    "train_sim_cfg.num_simulation_steps = train_eps_length + 1\n",
    "env_kwargs = {'env_config_path': env_config_path, 'use_kinematic': True, 'sim_cfg': train_sim_cfg}\n",
    "env = make_vec_env(\"L5-CLE-v0\", env_kwargs=env_kwargs, n_envs=train_envs,\n",
    "                   vec_env_cls=SubprocVecEnv, vec_env_kwargs={\"start_method\": \"fork\"})\n",
    "\n",
    "# make eval env\n",
    "validation_sim_cfg = SimulationConfigGym()\n",
    "validation_sim_cfg.num_simulation_steps = None\n",
    "eval_env_kwargs = {'env_config_path': env_config_path, 'use_kinematic': True, \\\n",
    "                   'return_info': True, 'train': False, 'sim_cfg': validation_sim_cfg}\n",
    "eval_env = make_vec_env(\"L5-CLE-v0\", env_kwargs=eval_env_kwargs, n_envs=eval_envs,\n",
    "                        vec_env_cls=SubprocVecEnv, vec_env_kwargs={\"start_method\": \"fork\"})"
   ]
  },
  {
   "cell_type": "markdown",
   "id": "fa1a222c",
   "metadata": {
    "id": "9dfc8b1a"
   },
   "source": [
    "### Define backbone feature extractor\n",
    "\n",
    "The backbone feature extractor is shared between the policy and the value networks. The feature extractor *simple_gn* is composed of two convolutional networks followed by a fully connected layer, with ReLU activation. The feature extractor output is passed to both the policy and value networks composed of two fully connected layers with tanh activation (SB3 default).\n",
    "\n",
    "We perform **group normalization** after every convolutional layer. Empirically, we found that group normalization performs far superior to batch normalization. This can be attributed to the fact that activation statistics change quickly in on-policy algorithms (PPO is on-policy) while batch-norm learnable parameters can be slow to update causing training issues."
   ]
  },
  {
   "cell_type": "code",
   "execution_count": null,
   "id": "a0fabc3f",
   "metadata": {
    "id": "4da5ac39",
    "tags": []
   },
   "outputs": [],
   "source": [
    "# A simple 2 Layer CNN architecture with group normalization\n",
    "model_arch = 'simple_gn'\n",
    "features_dim = 128\n",
    "\n",
    "# Custom Feature Extractor backbone\n",
    "policy_kwargs = {\n",
    "    \"features_extractor_class\": CustomFeatureExtractor,\n",
    "    \"features_extractor_kwargs\": {\"features_dim\": features_dim, \"model_arch\": model_arch},\n",
    "    \"normalize_images\": False\n",
    "}"
   ]
  },
  {
   "cell_type": "markdown",
   "id": "7d40b9a2",
   "metadata": {
    "id": "24ec4f23"
   },
   "source": [
    "### Clipping Schedule\n",
    "\n",
    "We linearly decrease the value of the clipping parameter $\\epsilon$ as the PPO training progress as it shows improved training stability"
   ]
  },
  {
   "cell_type": "code",
   "execution_count": null,
   "id": "452ab555",
   "metadata": {
    "id": "dc28b605",
    "tags": []
   },
   "outputs": [],
   "source": [
    "# Clipping schedule of PPO epsilon parameter\n",
    "start_val = 0.1\n",
    "end_val = 0.01\n",
    "training_progress_ratio = 1.0\n",
    "clip_schedule = get_linear_fn(start_val, end_val, training_progress_ratio)"
   ]
  },
  {
   "cell_type": "markdown",
   "id": "71f0da86",
   "metadata": {
    "id": "8596deb6"
   },
   "source": [
    "### Hyperparameters for PPO. \n",
    "\n",
    "For detailed description, refer https://stable-baselines3.readthedocs.io/en/master/_modules/stable_baselines3/ppo/ppo.html#PPO"
   ]
  },
  {
   "cell_type": "code",
   "execution_count": null,
   "id": "8442a40d",
   "metadata": {
    "id": "998a927f",
    "tags": []
   },
   "outputs": [],
   "source": [
    "lr = 3e-4\n",
    "num_rollout_steps =  256 #2048#\n",
    "gamma = 0.8\n",
    "gae_lambda = 0.9\n",
    "n_epochs = 10 #16 #10\n",
    "seed = 42\n",
    "batch_size =  64 #512 #\n",
    "tensorboard_log = '/workspace/datasets/sb3_tb_logs/' + str(datetime.date.today()) + '/'"
   ]
  },
  {
   "cell_type": "markdown",
   "id": "9bc28001-a6b6-43b8-b7fe-120812e4f835",
   "metadata": {},
   "source": [
    "### For debugging"
   ]
  },
  {
   "cell_type": "code",
   "execution_count": null,
   "id": "7bfe48ef-6e47-4c50-8539-b8f7444161c3",
   "metadata": {
    "tags": []
   },
   "outputs": [],
   "source": [
    "lr = 3e-4\n",
    "num_rollout_steps =  1 #2048#\n",
    "gamma = 0.8\n",
    "gae_lambda = 0.9\n",
    "n_epochs = 1 #16 #10\n",
    "seed = 42\n",
    "batch_size =  2 #512 #\n",
    "tensorboard_log = '/workspace/datasets/sb3_tb_logs/' + str(datetime.date.today()) + '/'"
   ]
  },
  {
   "cell_type": "markdown",
   "id": "b672e2d4",
   "metadata": {
    "id": "a310190e",
    "tags": []
   },
   "source": [
    "### Define the PPO Policy.\n",
    "\n",
    "SB3 provides an easy interface to the define the PPO policy. Note: We do need to tweak appropriate hyperparameters and the custom policy backbone has been defined above.\n"
   ]
  },
  {
   "cell_type": "code",
   "execution_count": null,
   "id": "5f67a10b-93a5-4d04-b90d-c2b44d152400",
   "metadata": {
    "tags": []
   },
   "outputs": [],
   "source": [
    "import wandb\n",
    "from wandb.integration.sb3 import WandbCallback"
   ]
  },
  {
   "cell_type": "code",
   "execution_count": null,
   "id": "ff6a09c1-fd93-40e2-acd3-c0f9144bc669",
   "metadata": {
    "tags": []
   },
   "outputs": [],
   "source": [
    "import os\n",
    "os.environ['WANDB_NOTEBOOK_NAME'] = 'ppo_policy_training.ipynb'"
   ]
  },
  {
   "cell_type": "code",
   "execution_count": null,
   "id": "75cac60e-3285-4fee-8961-b444c0a30f25",
   "metadata": {
    "tags": []
   },
   "outputs": [],
   "source": [
    "config = {\n",
    "    'lr' : 3e-4,\n",
    "    'num_rollout_steps' :  256, # 2048\n",
    "    'gamma' : 0.8,\n",
    "    'gae_lambda' : 0.9,\n",
    "    'n_epochs' : 10, # 16, #10\n",
    "    'seed' : 42,\n",
    "    'batch_size' : 64, # 512\n",
    "    }"
   ]
  },
  {
   "cell_type": "code",
   "execution_count": null,
   "id": "e90d5fb3-dab6-40b2-b346-c9e885523de6",
   "metadata": {
    "tags": []
   },
   "outputs": [],
   "source": [
    "hcmTz = pytz.timezone(\"Asia/Ho_Chi_Minh\") \n",
    "date = datetime.datetime.now(hcmTz).strftime(\"%d-%m-%Y_%H-%M-%S\")\n",
    "\n",
    "experiment_name = f\"PPO_sb3_{date}\"\n",
    "\n",
    "run = wandb.init(\n",
    "    project=\"l5kit2\",\n",
    "    sync_tensorboard=True,  # auto-upload sb3's tensorboard metrics\n",
    "    monitor_gym=False,  # auto-upload the videos of agents playing the game\n",
    "    save_code=True,  # optional\n",
    "    reinit = True,\n",
    "    group = 'PPO',\n",
    "    config = config,\n",
    "    name = experiment_name\n",
    "    # name = 'PPO_sb3_05-01-2023_15-12-56(3)',\n",
    ")"
   ]
  },
  {
   "cell_type": "code",
   "execution_count": null,
   "id": "758dcefe",
   "metadata": {
    "colab": {
     "base_uri": "https://localhost:8080/"
    },
    "id": "d474019b",
    "outputId": "eedbc005-9fc7-4f32-88b7-7718881f9356",
    "tags": []
   },
   "outputs": [],
   "source": [
    "# define model\n",
    "model = PPO(\"MultiInputPolicy\", env, policy_kwargs=policy_kwargs, verbose=0, n_steps=num_rollout_steps,\n",
    "            learning_rate=lr, gamma=gamma, tensorboard_log=f\"runs/{run.id}\", n_epochs=n_epochs,\n",
    "            clip_range=clip_schedule, batch_size=batch_size, seed=seed, gae_lambda=gae_lambda,)"
   ]
  },
  {
   "cell_type": "markdown",
   "id": "4c376ed1-a226-4f63-ab10-81ac46ec7ed3",
   "metadata": {
    "jp-MarkdownHeadingCollapsed": true,
    "tags": []
   },
   "source": [
    "### Debugging"
   ]
  },
  {
   "cell_type": "code",
   "execution_count": null,
   "id": "524f460a-8640-44d0-b78f-e5fee3c7a5b2",
   "metadata": {
    "tags": []
   },
   "outputs": [],
   "source": [
    "# define model\n",
    "model = PPO(\"MultiInputPolicy\", env, policy_kwargs=policy_kwargs, verbose=0, n_steps=num_rollout_steps,\n",
    "            learning_rate=lr, gamma=gamma, tensorboard_log=tensorboard_log, n_epochs=n_epochs,\n",
    "            clip_range=clip_schedule, batch_size=batch_size, seed=seed, gae_lambda=gae_lambda,)"
   ]
  },
  {
   "cell_type": "markdown",
   "id": "ea92e6f5",
   "metadata": {
    "id": "53754180",
    "tags": []
   },
   "source": [
    "### Defining Callbacks\n",
    "\n",
    "We can additionally define callbacks to save model checkpoints and evaluate models during training."
   ]
  },
  {
   "cell_type": "code",
   "execution_count": null,
   "id": "b21fdba5",
   "metadata": {
    "id": "f19803ea",
    "tags": []
   },
   "outputs": [],
   "source": [
    "callback_list = []\n",
    "hcmTz = pytz.timezone(\"Asia/Ho_Chi_Minh\") \n",
    "date = datetime.datetime.now(hcmTz).strftime(\"%d-%m-%Y_%H-%M-%S\")\n",
    "# Save Model Periodically\n",
    "save_freq = 10000\n",
    "save_path = '/workspace/datasets/sb3_results/'+ date\n",
    "# save_path = 'l5kit/logs/05-01-2023_15-12-56'\n",
    "output = 'PPO'\n",
    "checkpoint_callback = CheckpointCallback(save_freq=(save_freq // train_envs), save_path=save_path, \\\n",
    "                                         name_prefix=output)\n",
    "callback_list.append(checkpoint_callback)\n",
    "\n",
    "# Eval Model Periodically\n",
    "eval_freq = 10000\n",
    "n_eval_episodes = 1\n",
    "val_eval_callback = L5KitEvalCallback(eval_env, eval_freq=(eval_freq // train_envs), \\\n",
    "                                      n_eval_episodes=n_eval_episodes, n_eval_envs=eval_envs)\n",
    "callback_list.append(val_eval_callback)\n",
    "callback_list.append(WandbCallback(\n",
    "        gradient_save_freq=100,\n",
    "        model_save_path=f\"models/{run.id}\",\n",
    "        verbose=2,\n",
    "        model_save_freq=10,\n",
    "    ))"
   ]
  },
  {
   "cell_type": "markdown",
   "id": "af2f6d8b",
   "metadata": {
    "id": "ad3bda21",
    "tags": []
   },
   "source": [
    "### Train"
   ]
  },
  {
   "cell_type": "code",
   "execution_count": null,
   "id": "8918f085",
   "metadata": {
    "colab": {
     "base_uri": "https://localhost:8080/"
    },
    "id": "2Rcvlddp8ppQ",
    "outputId": "a13d3561-e14f-4cd4-a236-72b11d9bddd4",
    "tags": []
   },
   "outputs": [],
   "source": [
    "n_steps = 6e6\n",
    "\n",
    "model.learn(n_steps, callback=callback_list)\n",
    "\n",
    "run.finish()"
   ]
  },
  {
   "cell_type": "markdown",
   "id": "b134bd79",
   "metadata": {
    "id": "575327a2"
   },
   "source": [
    "**Voila!** We have a trained PPO policy! Train for larger number of steps for better accuracy. Typical RL algorithms require training atleast 1M steps for good convergence. You can visualize the quantitiative evaluation using tensorboard."
   ]
  },
  {
   "cell_type": "code",
   "execution_count": null,
   "id": "4f3807ba",
   "metadata": {
    "id": "CFi-_Iioi_Z7"
   },
   "outputs": [],
   "source": [
    "model = PPO.load('/content/drive/MyDrive/Colab Notebooks/l5kit/logs/2022-11-30/PPO_5410000_steps.zip', env = env, batch_size=512)\n",
    "n_steps = 6e6\n",
    "# model = PPO.load('./PPO_100000_steps.zip', env = env)\n",
    "model.learn(n_steps, callback=callback_list, reset_num_timesteps=False)\n"
   ]
  },
  {
   "cell_type": "code",
   "execution_count": null,
   "id": "7eb10ca5",
   "metadata": {
    "colab": {
     "base_uri": "https://localhost:8080/"
    },
    "id": "xk03paZgWMop",
    "outputId": "29a9b7eb-bced-4763-cf88-9ee59e9884b6"
   },
   "outputs": [],
   "source": [
    "# model = PPO.load('l5kit/logs/05-01-2023_15-12-56/PPO_9790000_steps.zip', env = env)\n",
    "model = PPO.load('/workspace/datasets/sb3_results/23-03-2023_14-51-50/PPO_1850000_steps.zip', env = env)\n",
    "\n",
    "n_steps = 6e6\n",
    "# model = PPO.load('./PPO_100000_steps.zip', env = env)\n",
    "model.learn(n_steps, callback=callback_list, reset_num_timesteps=False)\n"
   ]
  },
  {
   "cell_type": "markdown",
   "id": "5c50b644",
   "metadata": {
    "id": "d24f956c",
    "tags": []
   },
   "source": [
    "### Visualize the episode from the environment\n",
    "\n",
    "We can easily visualize the outputs obtained by rolling out episodes in the L5Kit using the Bokeh visualizer."
   ]
  },
  {
   "cell_type": "code",
   "execution_count": null,
   "id": "393652f7",
   "metadata": {
    "id": "UCLaP7ZVtKPO"
   },
   "outputs": [],
   "source": [
    "# model = PPO.load('l5kit/logs/05-01-2023_15-12-56/PPO_6000000_steps.zip', env = env)\n",
    "model = PPO.load('/workspace/datasets/logs/05-01-2023_15-12-56/PPO_15790000_steps.zip', env = env)\n"
   ]
  },
  {
   "cell_type": "code",
   "execution_count": null,
   "id": "929a8efd",
   "metadata": {
    "id": "-bp59EHAywuW",
    "tags": []
   },
   "outputs": [],
   "source": [
    "model = PPO.load('/workspace/datasets/logs/05-01-2023_15-12-56/PPO_15790000_steps.zip', env = env,  custom_objects = {\n",
    "      \"learning_rate\": 0.0,\n",
    "      \"lr_schedule\": lambda _: 0.0,\n",
    "      \"clip_range\": lambda _: 0.0,\n",
    "  })"
   ]
  },
  {
   "cell_type": "code",
   "execution_count": null,
   "id": "565c2c34",
   "metadata": {
    "id": "fcd2b424"
   },
   "outputs": [],
   "source": [
    "rollout_sim_cfg = SimulationConfigGym()\n",
    "rollout_sim_cfg.num_simulation_steps = None\n",
    "rollout_env = gym.make(\"L5-CLE-v0\", env_config_path=env_config_path, sim_cfg=rollout_sim_cfg, \\\n",
    "                       use_kinematic=True, train=False, return_info=True)\n",
    "\n",
    "from src.simulation.unrollGym import unroll\n",
    "sim_outs = unroll(model, rollout_env,100)"
   ]
  },
  {
   "cell_type": "markdown",
   "id": "9a53c513",
   "metadata": {
    "id": "DjpS1pIZJ0B-",
    "tags": []
   },
   "source": [
    "## Calculate the performance metrics from the episode outputs\n",
    "\n",
    "We can also calculate the various quantitative metrics on the rolled out episode output. "
   ]
  },
  {
   "cell_type": "code",
   "execution_count": null,
   "id": "ab8293c8-8d42-4860-bd36-7a2df9c50586",
   "metadata": {},
   "outputs": [],
   "source": [
    "from src.validate.validator import compute_ade_fde, quantify_outputs\n",
    "ades, fdes = compute_ade_fde(sim_outs)\n",
    "quantify_outputs(sim_outs)"
   ]
  },
  {
   "cell_type": "code",
   "execution_count": null,
   "id": "488f2431-e2f2-436f-a1b1-4d27b0a12f40",
   "metadata": {},
   "outputs": [],
   "source": [
    "import numpy as np\n",
    "print(round(np.mean(ades),2), round((np.std(ades)),2) ,round((np.max(ades) - np.min(ades))/2,2))\n",
    "print(round(np.mean(fdes),2), round((np.std(fdes)),2) ,round((np.max(fdes) - np.min(fdes))/2,2))\n",
    "sorted_ades_idx = sorted(range(len(ades)), key=lambda i: ades[i], reverse=True)\n",
    "sorted_fdes_idx = sorted(range(len(fdes)), key=lambda i: fdes[i], reverse=True)\n",
    "# sorted(range(len(ades)), key=lambda i: ades[i])[-10:]\n",
    "print(f'Top worst scence based on ade:{sorted_ades_idx[:10]}')\n",
    "print(f'Top best scence based on ade:{sorted_ades_idx[:-10:-1]}')\n",
    "print(f'Top worst scence based on fde:{sorted_fdes_idx[:10]}')\n",
    "print(f'Top best scence based on fde:{sorted_fdes_idx[:-10:-1]}')"
   ]
  },
  {
   "cell_type": "markdown",
   "id": "9787e996-78c7-43d4-855c-b86f346e8ba2",
   "metadata": {
    "tags": []
   },
   "source": [
    "### Best ade"
   ]
  },
  {
   "cell_type": "code",
   "execution_count": null,
   "id": "9d27ee55-5582-4efb-9ed4-f310197e9c61",
   "metadata": {},
   "outputs": [],
   "source": [
    "# might change with different rasterizer\n",
    "sim_outs_selected =  [sim_outs[i] for i in sorted_ades_idx[-5:-1]]\n",
    "output_notebook()\n",
    "visualize_outputs(sim_outs_selected)"
   ]
  },
  {
   "cell_type": "markdown",
   "id": "793a9efb-c130-406c-a822-31289c6a0263",
   "metadata": {
    "tags": []
   },
   "source": [
    "### Worst ade"
   ]
  },
  {
   "cell_type": "code",
   "execution_count": null,
   "id": "86d78446-aeac-4358-8d15-af2bb7890bf6",
   "metadata": {},
   "outputs": [],
   "source": [
    "# might change with different rasterizer\n",
    "sim_outs_selected =  [sim_outs[i] for i in sorted_ades_idx[:5]]\n",
    "output_notebook()\n",
    "visualize_outputs(sim_outs_selected)"
   ]
  },
  {
   "cell_type": "markdown",
   "id": "89df538f-aef4-489a-bfba-61f4bc1971fc",
   "metadata": {
    "tags": []
   },
   "source": [
    "## Use Validator"
   ]
  },
  {
   "cell_type": "code",
   "execution_count": null,
   "id": "9e0e2897-c7f7-44c0-b403-61db058e3b2c",
   "metadata": {
    "tags": []
   },
   "outputs": [],
   "source": [
    "from src.validate.validator import CLEValidator\n",
    "import matplotlib.pyplot as plt\n",
    "import numpy as np\n",
    "\n",
    "agg = CLEValidator(sim_outs)\n",
    "fields = [\"metric\", \"value\"]\n",
    "table = PrettyTable(field_names=fields)\n",
    "\n",
    "values = []\n",
    "names = []\n",
    "\n",
    "for metric_name in agg:\n",
    "    table.add_row([metric_name, agg[metric_name].item()])\n",
    "    values.append(agg[metric_name].item())\n",
    "    names.append(metric_name)\n",
    "\n",
    "print(table)\n",
    "\n",
    "plt.bar(np.arange(len(names)), values)\n",
    "plt.xticks(np.arange(len(names)), names, rotation=60, ha='right')\n",
    "plt.show()"
   ]
  }
 ],
 "metadata": {
  "colab": {
   "provenance": []
  },
  "gpuClass": "standard",
  "kernelspec": {
   "display_name": "Python 3 (ipykernel)",
   "language": "python",
   "name": "python3"
  },
  "language_info": {
   "codemirror_mode": {
    "name": "ipython",
    "version": 3
   },
   "file_extension": ".py",
   "mimetype": "text/x-python",
   "name": "python",
   "nbconvert_exporter": "python",
   "pygments_lexer": "ipython3",
   "version": "3.8.16"
  },
  "vscode": {
   "interpreter": {
    "hash": "6df7c2a3d813445d6b3c74a479f8d37af444dbb4628cead36b7b0d6872de20bd"
   }
  }
 },
 "nbformat": 4,
 "nbformat_minor": 5
}
